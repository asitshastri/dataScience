{
 "cells": [
  {
   "cell_type": "markdown",
   "id": "13bd255c",
   "metadata": {
    "id": "RW7RTua28iVx"
   },
   "source": [
    "## 3.1 Operators\n",
    "\n",
    "* Logical\n",
    "* Equality \n",
    "* Comparision\n",
    "* Arithmetic\n",
    "* Bitwise"
   ]
  },
  {
   "cell_type": "markdown",
   "id": "4cfac09b",
   "metadata": {
    "id": "FE7oKQVqOuXL"
   },
   "source": [
    "### 3.1.1 Logical Operators\n",
    "In python following keywords are used for boolean operations -\n",
    "\n",
    "|Keywords | Meaning|\n",
    "|-|-|\n",
    "|**not**|unary negation|\n",
    "|**and**|conditional AND|\n",
    "|**or**|conditional OR| \n",
    "\n",
    "**EXAMPLES**:"
   ]
  },
  {
   "cell_type": "code",
   "execution_count": 1,
   "id": "a42d9f33",
   "metadata": {},
   "outputs": [
    {
     "data": {
      "text/plain": [
       "True"
      ]
     },
     "execution_count": 1,
     "metadata": {},
     "output_type": "execute_result"
    }
   ],
   "source": [
    "True and True"
   ]
  },
  {
   "cell_type": "code",
   "execution_count": 2,
   "id": "e75918dc",
   "metadata": {},
   "outputs": [
    {
     "data": {
      "text/plain": [
       "True"
      ]
     },
     "execution_count": 2,
     "metadata": {},
     "output_type": "execute_result"
    }
   ],
   "source": [
    "True or False"
   ]
  },
  {
   "cell_type": "code",
   "execution_count": 4,
   "id": "10db2d2c",
   "metadata": {},
   "outputs": [
    {
     "name": "stdout",
     "output_type": "stream",
     "text": [
      "Defined value of START = True\n",
      "Defined value of STOP = False \n",
      "\n",
      "Defined value of START = True\n",
      "Value of STOP by negating START= False \n",
      "\n",
      "Value of START by negating STOP = True\n",
      "Defined value of STOP = False \n",
      "\n"
     ]
    }
   ],
   "source": [
    "# Lets define two variables having boolean values True and False-\n",
    "START = True\n",
    "STOP = False\n",
    "\n",
    "# Print the values as it is\n",
    "print(f\"Defined value of START = {START}\")\n",
    "print(f\"Defined value of STOP = {STOP} \\n\")\n",
    "\n",
    "# if can also be written as - \n",
    "print(f\"Defined value of START = {START}\")\n",
    "print(f\"Value of STOP by negating START= {not START} \\n\") #because not of True is Flase\n",
    "\n",
    "# alternatively -\n",
    "print(f\"Value of START by negating STOP = {not STOP}\")\n",
    "print(f\"Defined value of STOP = {STOP} \\n\")"
   ]
  },
  {
   "cell_type": "code",
   "execution_count": 5,
   "id": "bad95b3f",
   "metadata": {},
   "outputs": [
    {
     "name": "stdout",
     "output_type": "stream",
     "text": [
      "Defined value of START = 1\n",
      "Defined value of STOP = 0 \n",
      "\n",
      "Defined value of START = 1\n",
      "Value of STOP by negating START= 0 \n",
      "\n",
      "Value of START by negating STOP = 1\n",
      "Defined value of STOP = 0 \n",
      "\n"
     ]
    }
   ],
   "source": [
    "START = 1\n",
    "STOP = 0\n",
    "\n",
    "# Print the values as it is\n",
    "print(f\"Defined value of START = {START}\")\n",
    "print(f\"Defined value of STOP = {STOP} \\n\")\n",
    "\n",
    "# if can also be written as - \n",
    "print(f\"Defined value of START = {START}\")\n",
    "print(f\"Value of STOP by negating START= {int(not START)} \\n\")\n",
    "\n",
    "# alternatively -\n",
    "print(f\"Value of START by negating STOP = {int(not STOP)}\")\n",
    "print(f\"Defined value of STOP = {STOP} \\n\")"
   ]
  },
  {
   "cell_type": "code",
   "execution_count": 7,
   "id": "a2568f7c",
   "metadata": {},
   "outputs": [
    {
     "name": "stdout",
     "output_type": "stream",
     "text": [
      "boolean value of no. 0 is False\n",
      "boolean value of no. 1 is True\n",
      "negation of 0 is True and negation of 1 is False\n",
      "\n",
      "#------------------------#\n",
      "\n",
      "boolean value of no. -5 is True\n",
      "boolean value of no. 5 is True\n",
      "negation of -5 is False and negation of 5 is False\n",
      "\n",
      "#------------------------#\n",
      "\n",
      "boolean value of no. -5.99 is True\n",
      "boolean value of no. 5.6 is True\n",
      "negation of -5.99 is False and negation of 5.6 is False\n"
     ]
    },
    {
     "data": {
      "text/plain": [
       "'\\nConclusion\\nbool(0)=False\\nbool(1)=True\\nbool(any other no.)=True\\nint(bool(any other no.))=1\\n'"
      ]
     },
     "execution_count": 7,
     "metadata": {},
     "output_type": "execute_result"
    }
   ],
   "source": [
    "#imp example\n",
    "zero = 0\n",
    "one = 1\n",
    "\n",
    "print(f\"boolean value of no. {zero} is {bool(zero)}\")\n",
    "print(f\"boolean value of no. {one} is {bool(one)}\")\n",
    "print(f\"negation of {zero} is {not zero} and negation of {one} is {not one}\")\n",
    "print(\"\\n#------------------------#\\n\")\n",
    "\n",
    "Some_negative_integer = -5\n",
    "Some_positive_integer = 5\n",
    "\n",
    "print(f\"boolean value of no. {Some_negative_integer} is {bool(Some_negative_integer)}\")\n",
    "print(f\"boolean value of no. {Some_positive_integer} is {bool(Some_positive_integer)}\")\n",
    "print(f\"negation of {Some_negative_integer} is {not Some_negative_integer} \\\n",
    "and negation of {Some_positive_integer} is {not Some_positive_integer}\")\n",
    "\n",
    "print(\"\\n#------------------------#\\n\")\n",
    "\n",
    "Some_negative_float = -5.99\n",
    "Some_positive_float = 5.6\n",
    "\n",
    "print(f\"boolean value of no. {Some_negative_float} is {bool(Some_negative_float)}\")\n",
    "print(f\"boolean value of no. {Some_positive_float} is {bool(Some_positive_float)}\")\n",
    "print(f\"negation of {Some_negative_float} is {not Some_negative_float} \\\n",
    "and negation of {Some_positive_float} is {not Some_positive_float}\")\n",
    "\n",
    "\n",
    "\"\"\"\n",
    "Conclusion\n",
    "bool(0)=False\n",
    "bool(1)=True\n",
    "bool(any other no.)=True\n",
    "int(bool(any other no.))=1\n",
    "\"\"\""
   ]
  },
  {
   "cell_type": "code",
   "execution_count": 9,
   "id": "68caf2fe",
   "metadata": {},
   "outputs": [
    {
     "data": {
      "text/plain": [
       "0"
      ]
     },
     "execution_count": 9,
     "metadata": {},
     "output_type": "execute_result"
    }
   ],
   "source": [
    "#Observation\n",
    "False*False"
   ]
  },
  {
   "cell_type": "code",
   "execution_count": 10,
   "id": "176ef043",
   "metadata": {},
   "outputs": [
    {
     "data": {
      "text/plain": [
       "True"
      ]
     },
     "execution_count": 10,
     "metadata": {},
     "output_type": "execute_result"
    }
   ],
   "source": [
    "not False *False"
   ]
  },
  {
   "cell_type": "code",
   "execution_count": 11,
   "id": "ae35f5d3",
   "metadata": {},
   "outputs": [
    {
     "data": {
      "text/plain": [
       "True"
      ]
     },
     "execution_count": 11,
     "metadata": {},
     "output_type": "execute_result"
    }
   ],
   "source": [
    "not(False)*False"
   ]
  },
  {
   "cell_type": "code",
   "execution_count": 17,
   "id": "09caad66",
   "metadata": {},
   "outputs": [
    {
     "name": "stdout",
     "output_type": "stream",
     "text": [
      "0\n"
     ]
    }
   ],
   "source": [
    "print((not(False))*False) "
   ]
  },
  {
   "cell_type": "code",
   "execution_count": 14,
   "id": "56a21519",
   "metadata": {},
   "outputs": [
    {
     "data": {
      "text/plain": [
       "0"
      ]
     },
     "execution_count": 14,
     "metadata": {},
     "output_type": "execute_result"
    }
   ],
   "source": [
    "True * False"
   ]
  },
  {
   "cell_type": "markdown",
   "id": "12621939",
   "metadata": {},
   "source": [
    "#not is a boolian operation therefore always gives answer in True and False"
   ]
  },
  {
   "cell_type": "markdown",
   "id": "8827d722",
   "metadata": {
    "id": "3qh4HV0BD0uY"
   },
   "source": [
    "Above example in tablular format-\n",
    "\n",
    "|VEGETABLES|SALT|DISH|\n",
    "|:-:|:-:|:-:|\n",
    "|False|False|False|\n",
    "|False|True|False|\n",
    "|True|False|False|\n",
    "|True|True|True|\n",
    "\n",
    "Above table represents AND gate's Truth table-\n",
    "\n",
    "|X|Y|Z|\n",
    "|-|-|-|\n",
    "|0|0|0|\n",
    "|0|1|0|\n",
    "|1|0|0|\n",
    "|1|1|1|\n"
   ]
  },
  {
   "cell_type": "code",
   "execution_count": 23,
   "id": "62132c03",
   "metadata": {},
   "outputs": [
    {
     "name": "stdout",
     "output_type": "stream",
     "text": [
      "Dish contains VEGETABLES: True\n",
      "Dish contains SALT: False\n",
      "Hence dish prepared was good: False\n",
      "\n",
      "Dish contains VEGETABLES: True\n",
      "Dish contains SALT: True\n",
      "Hence dish prepared was good: True\n",
      "\n"
     ]
    }
   ],
   "source": [
    "VEGETABLES = True\n",
    "SALT = False\n",
    "DISH = VEGETABLES and SALT\n",
    "\n",
    "print(f\"Dish contains VEGETABLES: {VEGETABLES}\")\n",
    "print(f\"Dish contains SALT: {SALT}\")\n",
    "print(f\"Hence dish prepared was good: {DISH}\\n\")\n",
    "\n",
    "VEGETABLES = True\n",
    "SALT = True\n",
    "DISH = VEGETABLES and SALT\n",
    "\n",
    "print(f\"Dish contains VEGETABLES: {VEGETABLES}\")\n",
    "print(f\"Dish contains SALT: {SALT}\")\n",
    "print(f\"Hence dish prepared was good: {DISH}\\n\")"
   ]
  },
  {
   "cell_type": "markdown",
   "id": "302838b4",
   "metadata": {
    "id": "l1PUiMErCndW"
   },
   "source": [
    "Above example in tablular format-\n",
    "\n",
    "|BIKE|CAR|TRAVEL_100_KM|\n",
    "|:-:|:-:|:-:|\n",
    "|False|False|False|\n",
    "|False|True|True|\n",
    "|True|False|True|\n",
    "|True|True|True|\n",
    "\n",
    "Above table represents OR gates Truth table-\n",
    "\n",
    "|X|Y|Z|\n",
    "|-|-|-|\n",
    "|0|0|0|\n",
    "|0|1|1|\n",
    "|1|0|1|\n",
    "|1|1|1|\n",
    "\n",
    "---\n",
    "\n"
   ]
  },
  {
   "cell_type": "code",
   "execution_count": 24,
   "id": "73e63b31",
   "metadata": {},
   "outputs": [
    {
     "name": "stdout",
     "output_type": "stream",
     "text": [
      "You have BIKE: True\n",
      "You have CAR: True\n",
      "You can travel 100 KMs: True\n"
     ]
    }
   ],
   "source": [
    "BIKE = True\n",
    "CAR = True\n",
    "TRAVEL_100_KM = BIKE or CAR\n",
    "\n",
    "print(f\"You have BIKE: {BIKE}\")\n",
    "print(f\"You have CAR: {CAR}\")\n",
    "print(f\"You can travel 100 KMs: {TRAVEL_100_KM}\")"
   ]
  },
  {
   "cell_type": "code",
   "execution_count": 26,
   "id": "af168f50",
   "metadata": {},
   "outputs": [
    {
     "name": "stdout",
     "output_type": "stream",
     "text": [
      "You have BIKE: False\n",
      "You have CAR: True\n",
      "You can travel 100 KMs: True\n"
     ]
    }
   ],
   "source": [
    "BIKE = False\n",
    "CAR = True \n",
    "TRAVEL_100_KM = BIKE or CAR\n",
    "\n",
    "print(f\"You have BIKE: {BIKE}\")\n",
    "print(f\"You have CAR: {CAR}\")\n",
    "print(f\"You can travel 100 KMs: {TRAVEL_100_KM}\")"
   ]
  },
  {
   "cell_type": "markdown",
   "id": "249f6f40",
   "metadata": {
    "id": "x8cSdpZZNero"
   },
   "source": [
    "### 3.1.2 Equality Operators\n",
    "\n",
    "Following operations are present in python for equlity check operation-\n",
    "\n",
    "|Operators|Meaning|\n",
    "|-|-|\n",
    "|**is**|***a is b*** returns true if variable/identifiers a and b *points* to the *same object*|\n",
    "|**is not**|***a is not b*** returns true if variable/identifiers a and b *points* to the *different object*|\n",
    "|**==**|***a == b*** returns true if variable/identifiers a and b has same value|\n",
    "|**!=**|***a != b*** returns true if variable/identifiers a and b has different value|"
   ]
  },
  {
   "cell_type": "code",
   "execution_count": 28,
   "id": "f8c184b1",
   "metadata": {},
   "outputs": [
    {
     "name": "stdout",
     "output_type": "stream",
     "text": [
      "id of list_a = 2581863767296\n",
      "id of list_b = 2581829019072\n",
      "list_a is list_b = False\n",
      "list_a == list_b = True\n"
     ]
    }
   ],
   "source": [
    "list_a = [1,2,3]\n",
    "list_b = [1,2,3]\n",
    "\n",
    "print(f\"id of list_a = {id(list_a)}\")\n",
    "print(f\"id of list_b = {id(list_b)}\")\n",
    "print(f\"list_a is list_b = {list_a is list_b}\")\n",
    "print(f\"list_a == list_b = {list_a == list_b}\")\n",
    "\n"
   ]
  },
  {
   "cell_type": "markdown",
   "id": "fc241045",
   "metadata": {},
   "source": [
    "In above example we can observe that even though the values in the list are same they are stored  is different addresses that is why list_a is list_b = Flase "
   ]
  },
  {
   "cell_type": "code",
   "execution_count": 32,
   "id": "88571856",
   "metadata": {},
   "outputs": [
    {
     "name": "stdout",
     "output_type": "stream",
     "text": [
      "id of list_a = 2581863767296\n",
      "id of list_c = 2581863767296\n",
      "list_a is list_c = True\n",
      "list_a == list_c = True\n"
     ]
    }
   ],
   "source": [
    "# to solve the above problem let\n",
    "list_c = list_a\n",
    "\n",
    "print(f\"id of list_a = {id(list_a)}\")\n",
    "print(f\"id of list_c = {id(list_c)}\") \n",
    "print(f\"list_a is list_c = {list_a is list_c}\")\n",
    "print(f\"list_a == list_c = {list_a == list_c}\")\n",
    "#both lists will have same address i.e List_a is list_c = True"
   ]
  },
  {
   "cell_type": "markdown",
   "id": "c727203a",
   "metadata": {},
   "source": [
    "###### **NOTE**\n",
    "this concept does not apply to string cuz string are immutable while lists are mutable "
   ]
  },
  {
   "cell_type": "code",
   "execution_count": 36,
   "id": "442c3dea",
   "metadata": {},
   "outputs": [
    {
     "name": "stdout",
     "output_type": "stream",
     "text": [
      "2581745330640\n",
      "2581745330640\n"
     ]
    }
   ],
   "source": [
    "#example\n",
    "a =6 \n",
    "b=6\n",
    "print(id(a))\n",
    "print(id(b))"
   ]
  },
  {
   "cell_type": "code",
   "execution_count": 37,
   "id": "6b5ced11",
   "metadata": {},
   "outputs": [
    {
     "name": "stdout",
     "output_type": "stream",
     "text": [
      "2581873702448\n",
      "2581873702448\n"
     ]
    }
   ],
   "source": [
    "str1 = \"asit\"\n",
    "str2=\"asit\"\n",
    "print(id(str1))\n",
    "print(id(str2))"
   ]
  },
  {
   "cell_type": "code",
   "execution_count": 38,
   "id": "491a65f8",
   "metadata": {},
   "outputs": [
    {
     "name": "stdout",
     "output_type": "stream",
     "text": [
      "2581873702448\n",
      "2581864544240\n"
     ]
    }
   ],
   "source": [
    "str1 = \"asit\"\n",
    "str2=\"asit1\"\n",
    "print(id(str1))\n",
    "print(id(str2))\n",
    "#different attresses  "
   ]
  },
  {
   "cell_type": "code",
   "execution_count": 39,
   "id": "10962241",
   "metadata": {},
   "outputs": [
    {
     "data": {
      "text/plain": [
       "'s'"
      ]
     },
     "execution_count": 39,
     "metadata": {},
     "output_type": "execute_result"
    }
   ],
   "source": [
    "#immutability of strings\n",
    "str1[1]"
   ]
  },
  {
   "cell_type": "code",
   "execution_count": 42,
   "id": "8bc69909",
   "metadata": {},
   "outputs": [
    {
     "ename": "TypeError",
     "evalue": "'str' object does not support item assignment",
     "output_type": "error",
     "traceback": [
      "\u001b[1;31m---------------------------------------------------------------------------\u001b[0m",
      "\u001b[1;31mTypeError\u001b[0m                                 Traceback (most recent call last)",
      "\u001b[1;32m~\\AppData\\Local\\Temp\\ipykernel_6488\\3614166174.py\u001b[0m in \u001b[0;36m<module>\u001b[1;34m\u001b[0m\n\u001b[1;32m----> 1\u001b[1;33m \u001b[0mstr1\u001b[0m\u001b[1;33m[\u001b[0m\u001b[1;36m1\u001b[0m\u001b[1;33m]\u001b[0m\u001b[1;33m=\u001b[0m\u001b[1;34m'b'\u001b[0m\u001b[1;33m\u001b[0m\u001b[1;33m\u001b[0m\u001b[0m\n\u001b[0m\u001b[0;32m      2\u001b[0m \"\"\"only traversing through is allowed and changing the character \n\u001b[0;32m      3\u001b[0m of the string is not allowed therefor string is immutable\"\"\"\n",
      "\u001b[1;31mTypeError\u001b[0m: 'str' object does not support item assignment"
     ]
    }
   ],
   "source": [
    "str1[1]='b' \n",
    "\n",
    "\"\"\"only traversing through is allowed and changing the character \n",
    "of the string is not allowed therefor string is immutable\"\"\""
   ]
  },
  {
   "cell_type": "code",
   "execution_count": 45,
   "id": "f44dc6d7",
   "metadata": {},
   "outputs": [
    {
     "name": "stdout",
     "output_type": "stream",
     "text": [
      "[1, 2, 3]\n",
      "[1, 3, 3]\n"
     ]
    }
   ],
   "source": [
    "#Mutability of Lists\n",
    "print(list_a)\n",
    "list_a[1]=3\n",
    "print(list_a)"
   ]
  },
  {
   "cell_type": "markdown",
   "id": "f468a772",
   "metadata": {
    "id": "s4hW8qlWO6v3"
   },
   "source": [
    "### 3.1.3 Comparison Operators"
   ]
  },
  {
   "cell_type": "markdown",
   "id": "3a6e48f1",
   "metadata": {
    "id": "tkeM9-x3QXPI"
   },
   "source": [
    "|Operation|Meaning|\n",
    "|:-:|:-:|\n",
    "| **<** |less than|\n",
    "| **<=** |less than or equal to|\n",
    "| **>** |greater than|\n",
    "| **>=** |greater than or equal to|\n",
    "\n",
    "\n",
    "\n"
   ]
  },
  {
   "cell_type": "code",
   "execution_count": 47,
   "id": "bd6f4c4a",
   "metadata": {},
   "outputs": [
    {
     "name": "stdout",
     "output_type": "stream",
     "text": [
      "today's temperature is less than or equal to yesterday's: True\n"
     ]
    }
   ],
   "source": [
    "temp_today = 25\n",
    "temp_yesterday = 27\n",
    "predicted_temp_nextDay = 27\n",
    "\n",
    "print(f\"today's temperature is less than or equal to yesterday's: {temp_today <= temp_yesterday}\")"
   ]
  },
  {
   "cell_type": "markdown",
   "id": "944f2151",
   "metadata": {
    "id": "mQ9levVjRIJM"
   },
   "source": [
    "### 3.1.4 Arithmetic Operators"
   ]
  },
  {
   "cell_type": "markdown",
   "id": "870cc4d4",
   "metadata": {
    "id": "hcfFvuFMRQVi"
   },
   "source": [
    "|Operation|Meaning|\n",
    "|:-:|:-:|\n",
    "| **+** |addition|\n",
    "| **-** |subtraction|\n",
    "| **\\*** |multiplication|\n",
    "| **/** |true division|\n",
    "| **//** |integer division|\n",
    "| **%** |the modulo operator|"
   ]
  },
  {
   "cell_type": "markdown",
   "id": "07a1dafb",
   "metadata": {
    "id": "RMRbsMVkSA6L"
   },
   "source": [
    "### 3.1.5 Bitwise Operators"
   ]
  },
  {
   "cell_type": "markdown",
   "id": "425de797",
   "metadata": {
    "id": "drYqZiGuR-gn"
   },
   "source": [
    "|Operation|Meaning|\n",
    "|:-:|:-:|\n",
    "| **∼** |bitwise complement (prefix unary operator)|\n",
    "| **&** |bitwise and|\n",
    "| **\\|** |bitwise or|\n",
    "| **^** |bitwise exclusive-or|\n",
    "| **<<** |shift bits left, filling in with zeros|\n",
    "| **>>** |shift bits right, filling in with sign bit|\n"
   ]
  },
  {
   "cell_type": "markdown",
   "id": "9e0ee723",
   "metadata": {
    "id": "kY1kOPX9uEaz"
   },
   "source": [
    "|x|y|&|\n",
    "|:-:|:-:|:-:|\n",
    "|0|0|0|\n",
    "|0|1|0|\n",
    "|1|0|0|\n",
    "|1|1|1|\n",
    "\n",
    "\n",
    "|x|y|\\||\n",
    "|:-:|:-:|:-:|\n",
    "|0|0|0|\n",
    "|0|1|1|\n",
    "|1|0|1|\n",
    "|1|1|1|\n",
    "\n",
    "\n",
    "|x|y|^|\n",
    "|:-:|:-:|:-:|\n",
    "|0|0|0|\n",
    "|0|1|1|\n",
    "|1|0|1|\n",
    "|1|1|0|\n",
    "\n"
   ]
  },
  {
   "cell_type": "code",
   "execution_count": 52,
   "id": "c53a61b4",
   "metadata": {},
   "outputs": [
    {
     "name": "stdout",
     "output_type": "stream",
     "text": [
      "var_a: 10 binary of var_a: 0b1010\n",
      "complement of var_a: -11 binary of complement of var_a: -0b1011\n"
     ]
    }
   ],
   "source": [
    "var_a = 10\n",
    "binary_a = bin(var_a)\n",
    "\n",
    "complement_a = ~var_a\n",
    "binary_complement_a = bin(complement_a)\n",
    "\n",
    "print(f\"var_a: {var_a} binary of var_a: {binary_a}\")\n",
    "print(f\"complement of var_a: {complement_a} \\\n",
    "binary of complement of var_a: {binary_complement_a}\") # returns one's compliment"
   ]
  },
  {
   "cell_type": "code",
   "execution_count": 53,
   "id": "3e62a542",
   "metadata": {},
   "outputs": [
    {
     "name": "stdout",
     "output_type": "stream",
     "text": [
      "var_a: 10, var_b: 4\n",
      "binary of var_a: 0b1010, binary of var_b: 0b100\n",
      "bitwise_and: 0, binary_of_bitwise_and: 0b0\n"
     ]
    }
   ],
   "source": [
    "var_a = 10\n",
    "var_b = 4\n",
    "\n",
    "binary_a = bin(var_a)\n",
    "binary_b = bin(var_b)\n",
    "\n",
    "bitwise_and = var_a & var_b\n",
    "binary_bitwise_and = bin(bitwise_and)\n",
    "\n",
    "print(f\"var_a: {var_a}, var_b: {var_b}\")\n",
    "print(f\"binary of var_a: {binary_a}, binary of var_b: {binary_b}\")\n",
    "\n",
    "print(f\"bitwise_and: {bitwise_and}, binary_of_bitwise_and: {binary_bitwise_and}\")"
   ]
  },
  {
   "cell_type": "code",
   "execution_count": 54,
   "id": "0357f9b4",
   "metadata": {},
   "outputs": [
    {
     "name": "stdout",
     "output_type": "stream",
     "text": [
      "var_a: 10, var_b: 4\n",
      "binary of var_a: 0b1010, binary of var_b: 0b100\n",
      "bitwise_or: 14, binary_bitwise_or: 0b0\n"
     ]
    }
   ],
   "source": [
    "var_a = 10\n",
    "var_b = 4\n",
    "\n",
    "binary_a = bin(var_a)\n",
    "binary_b = bin(var_b)\n",
    "\n",
    "bitwise_or = var_a | var_b\n",
    "binary_bitwise_or = bin(bitwise_and)\n",
    "\n",
    "print(f\"var_a: {var_a}, var_b: {var_b}\")\n",
    "print(f\"binary of var_a: {binary_a}, binary of var_b: {binary_b}\")\n",
    "\n",
    "print(f\"bitwise_or: {bitwise_or}, binary_bitwise_or: {binary_bitwise_or}\")"
   ]
  },
  {
   "cell_type": "code",
   "execution_count": 55,
   "id": "759650a1",
   "metadata": {},
   "outputs": [
    {
     "name": "stdout",
     "output_type": "stream",
     "text": [
      "var_a: 10, var_b: 4\n",
      "binary of var_a: 0b1010, binary of var_b: 0b100\n",
      "bitwise_xor: 14, binary_bitwise_xor: 0b0\n"
     ]
    }
   ],
   "source": [
    "var_a = 10\n",
    "var_b = 4\n",
    "\n",
    "binary_a = bin(var_a)\n",
    "binary_b = bin(var_b)\n",
    "\n",
    "bitwise_xor = var_a ^ var_b\n",
    "binary_bitwise_xor = bin(bitwise_and)\n",
    "\n",
    "print(f\"var_a: {var_a}, var_b: {var_b}\")\n",
    "print(f\"binary of var_a: {binary_a}, binary of var_b: {binary_b}\")\n",
    "\n",
    "print(f\"bitwise_xor: {bitwise_xor}, binary_bitwise_xor: {binary_bitwise_xor}\")"
   ]
  },
  {
   "cell_type": "code",
   "execution_count": 56,
   "id": "996cc993",
   "metadata": {},
   "outputs": [
    {
     "name": "stdout",
     "output_type": "stream",
     "text": [
      "var_a: 50\n",
      "binary of var_a: 0b110010\n",
      "right_shift: 25\n",
      "binary_right_shift: 0b11001\n"
     ]
    }
   ],
   "source": [
    "var_a = 50\n",
    "\n",
    "binary_a = bin(var_a)\n",
    "\n",
    "right_shift = var_a >> 1\n",
    "binary_right_shift = bin(right_shift)\n",
    "\n",
    "print(f\"var_a: {var_a}\")\n",
    "print(f\"binary of var_a: {binary_a}\")\n",
    "\n",
    "print(f\"right_shift: {right_shift}\")\n",
    "print(f\"binary_right_shift: {binary_right_shift}\")"
   ]
  },
  {
   "cell_type": "code",
   "execution_count": 58,
   "id": "9317f0e0",
   "metadata": {},
   "outputs": [
    {
     "data": {
      "text/plain": [
       "True"
      ]
     },
     "execution_count": 58,
     "metadata": {},
     "output_type": "execute_result"
    }
   ],
   "source": [
    "# compare above results with interger division\n",
    "N = 1\n",
    "var_a // 2**N == var_a >> N "
   ]
  },
  {
   "cell_type": "code",
   "execution_count": 59,
   "id": "586f2ac0",
   "metadata": {},
   "outputs": [
    {
     "data": {
      "text/plain": [
       "True"
      ]
     },
     "execution_count": 59,
     "metadata": {},
     "output_type": "execute_result"
    }
   ],
   "source": [
    "N = 2\n",
    "var_a // 2**N == var_a >> N "
   ]
  },
  {
   "cell_type": "code",
   "execution_count": 60,
   "id": "f7017c71",
   "metadata": {},
   "outputs": [
    {
     "data": {
      "text/plain": [
       "True"
      ]
     },
     "execution_count": 60,
     "metadata": {},
     "output_type": "execute_result"
    }
   ],
   "source": [
    "var_a = 5\n",
    "N = 2\n",
    "var_a // 2**N == var_a >> N "
   ]
  },
  {
   "cell_type": "code",
   "execution_count": 61,
   "id": "04fce62a",
   "metadata": {},
   "outputs": [
    {
     "name": "stdout",
     "output_type": "stream",
     "text": [
      "var_a: 48\n",
      "binary of var_a: 0b110000\n",
      "left_shift: 96\n",
      "binary_left_shift: 0b1100000\n"
     ]
    }
   ],
   "source": [
    "var_a = 48\n",
    "\n",
    "binary_a = bin(var_a)\n",
    "\n",
    "left_shift = var_a << 1\n",
    "binary_left_shift = bin(left_shift)\n",
    "\n",
    "print(f\"var_a: {var_a}\")\n",
    "print(f\"binary of var_a: {binary_a}\")\n",
    "\n",
    "print(f\"left_shift: {left_shift}\")\n",
    "print(f\"binary_left_shift: {binary_left_shift}\")"
   ]
  },
  {
   "cell_type": "code",
   "execution_count": 62,
   "id": "a8a6b80d",
   "metadata": {},
   "outputs": [
    {
     "data": {
      "text/plain": [
       "True"
      ]
     },
     "execution_count": 62,
     "metadata": {},
     "output_type": "execute_result"
    }
   ],
   "source": [
    "# compare the above results with multiplication by powers of 2\n",
    "var_a = 5\n",
    "N = 2\n",
    "var_a * 2**N == var_a << N "
   ]
  },
  {
   "cell_type": "code",
   "execution_count": 63,
   "id": "f9d9ee69",
   "metadata": {},
   "outputs": [
    {
     "data": {
      "text/plain": [
       "True"
      ]
     },
     "execution_count": 63,
     "metadata": {},
     "output_type": "execute_result"
    }
   ],
   "source": [
    "# compare the above results with multiplication by powers of 2\n",
    "var_a = 25\n",
    "N = 2\n",
    "var_a * 2**N == var_a << N "
   ]
  },
  {
   "cell_type": "code",
   "execution_count": null,
   "id": "76f20580",
   "metadata": {},
   "outputs": [],
   "source": [
    " "
   ]
  },
  {
   "cell_type": "markdown",
   "id": "f2c79920",
   "metadata": {
    "id": "G0wAbxaam7dG"
   },
   "source": [
    "## 3.2 Operators for Sets and Dictionaries"
   ]
  },
  {
   "cell_type": "markdown",
   "id": "e5d8bb56",
   "metadata": {},
   "source": [
    "|Operation|Meaning|\n",
    "|:-:|:-:|\n",
    "|key in s|containment check|\n",
    "| key not in s | non-containment check |\n",
    "| s1 == s2 | s1 is equivalent to s2 |\n",
    "| s1 != s2 | s1 is not equivalent to s2 |\n",
    "| s1 <= s2 | s1 is subset of s2 |\n",
    "| s1 < s2 | s1 is proper subset of s2 | \n",
    "| s1 >= s2 | s1 is superset of s2 | \n",
    "| s1 > s2 | s1 is proper superset of s2 |\n",
    "| s1 \\| s2 | the union of s1 and s2 |\n",
    "| s1 & s2 | the intersection of s1 and s2 |\n",
    "| s1 − s2 | the set of elements in s1 but not s2 |\n",
    "| s1 ˆ s2 | the set of elements in precisely one of s1 or s2 |"
   ]
  },
  {
   "cell_type": "markdown",
   "id": "bfe60274",
   "metadata": {
    "id": "MGHXaN2P6xt_"
   },
   "source": [
    "> Operations on Dictionary"
   ]
  },
  {
   "cell_type": "code",
   "execution_count": null,
   "id": "63456dfa",
   "metadata": {
    "colab": {
     "base_uri": "https://localhost:8080/",
     "height": 35
    },
    "id": "I1h93hkVnkmY",
    "outputId": "4a0530d5-bd24-4edc-c198-0780c5d29c2e"
   },
   "outputs": [
    {
     "data": {
      "text/plain": [
       "True"
      ]
     },
     "execution_count": 38,
     "metadata": {
      "tags": []
     },
     "output_type": "execute_result"
    }
   ],
   "source": [
    "\"x\" in {\"x\":25, \"y\":34}"
   ]
  },
  {
   "cell_type": "code",
   "execution_count": null,
   "id": "55252c4a",
   "metadata": {
    "colab": {
     "base_uri": "https://localhost:8080/",
     "height": 35
    },
    "id": "GooZjXbnxyKH",
    "outputId": "5756cefd-7f6e-4b9d-80d7-6ffa71cab538"
   },
   "outputs": [
    {
     "data": {
      "text/plain": [
       "False"
      ]
     },
     "execution_count": 39,
     "metadata": {
      "tags": []
     },
     "output_type": "execute_result"
    }
   ],
   "source": [
    "\"z\" in {\"x\":25, \"y\":34}"
   ]
  },
  {
   "cell_type": "code",
   "execution_count": null,
   "id": "3510f2a1",
   "metadata": {
    "colab": {
     "base_uri": "https://localhost:8080/",
     "height": 35
    },
    "id": "D2s-ohfhx1yg",
    "outputId": "fc43a6b4-d4d8-4843-deb2-7bf960b748fb"
   },
   "outputs": [
    {
     "data": {
      "text/plain": [
       "True"
      ]
     },
     "execution_count": 40,
     "metadata": {
      "tags": []
     },
     "output_type": "execute_result"
    }
   ],
   "source": [
    "\"z\" not in {\"x\":25, \"y\":34}"
   ]
  },
  {
   "cell_type": "code",
   "execution_count": null,
   "id": "85f77a6f",
   "metadata": {},
   "outputs": [],
   "source": []
  },
  {
   "cell_type": "markdown",
   "id": "ac20bcae",
   "metadata": {
    "id": "GEcszXDd64Cs"
   },
   "source": [
    "> Operations on Sets"
   ]
  },
  {
   "cell_type": "code",
   "execution_count": null,
   "id": "6cce6a2b",
   "metadata": {
    "colab": {
     "base_uri": "https://localhost:8080/",
     "height": 35
    },
    "id": "6bNEuIu9x5F0",
    "outputId": "66a35884-01dd-4ff7-b366-b98fd817bfe1"
   },
   "outputs": [
    {
     "data": {
      "text/plain": [
       "False"
      ]
     },
     "execution_count": 41,
     "metadata": {
      "tags": []
     },
     "output_type": "execute_result"
    }
   ],
   "source": [
    "set_1 = {1,2,3}\n",
    "set_2 = {1,2,5}\n",
    "\n",
    "set_1 == set_2"
   ]
  },
  {
   "cell_type": "code",
   "execution_count": null,
   "id": "bf22af14",
   "metadata": {
    "colab": {
     "base_uri": "https://localhost:8080/",
     "height": 35
    },
    "id": "RZs90G1UyBAp",
    "outputId": "157fe534-e308-4841-9355-3578edfb1c86",
    "scrolled": true
   },
   "outputs": [
    {
     "data": {
      "text/plain": [
       "True"
      ]
     },
     "execution_count": 42,
     "metadata": {
      "tags": []
     },
     "output_type": "execute_result"
    }
   ],
   "source": [
    "set_1 == set_1"
   ]
  },
  {
   "cell_type": "code",
   "execution_count": null,
   "id": "2726b6e1",
   "metadata": {
    "colab": {
     "base_uri": "https://localhost:8080/",
     "height": 35
    },
    "id": "P3qoOl5uyEgh",
    "outputId": "76077aab-419c-4ccf-dcc9-f3b727fd1536"
   },
   "outputs": [
    {
     "data": {
      "text/plain": [
       "True"
      ]
     },
     "execution_count": 43,
     "metadata": {
      "tags": []
     },
     "output_type": "execute_result"
    }
   ],
   "source": [
    "set_1 != set_2"
   ]
  },
  {
   "cell_type": "markdown",
   "id": "e5edde64",
   "metadata": {
    "id": "A5R_RBRe7I2e"
   },
   "source": [
    "> set_1 $\\subseteq$ set_2"
   ]
  },
  {
   "cell_type": "code",
   "execution_count": null,
   "id": "93696558",
   "metadata": {
    "colab": {
     "base_uri": "https://localhost:8080/",
     "height": 35
    },
    "id": "zPW5TQ3pyGvT",
    "outputId": "090efb9c-c866-4e6b-aa67-00e82d6ff5a2"
   },
   "outputs": [
    {
     "data": {
      "text/plain": [
       "False"
      ]
     },
     "execution_count": 44,
     "metadata": {
      "tags": []
     },
     "output_type": "execute_result"
    }
   ],
   "source": [
    "set_1 <= set_2"
   ]
  },
  {
   "cell_type": "code",
   "execution_count": null,
   "id": "80f279d0",
   "metadata": {
    "colab": {
     "base_uri": "https://localhost:8080/",
     "height": 35
    },
    "id": "ySLhgqLEyL4u",
    "outputId": "f38df935-eb9b-46a1-aecc-9b48a0abfca9"
   },
   "outputs": [
    {
     "data": {
      "text/plain": [
       "True"
      ]
     },
     "execution_count": 45,
     "metadata": {
      "tags": []
     },
     "output_type": "execute_result"
    }
   ],
   "source": [
    "set_1 = {1,2,3}\n",
    "set_2 = {1,2}\n",
    "\n",
    "set_2 <= set_1"
   ]
  },
  {
   "cell_type": "markdown",
   "id": "c1516986",
   "metadata": {
    "id": "kX2cZlcj7ftJ"
   },
   "source": [
    "> set_1 $\\subset$ set_2"
   ]
  },
  {
   "cell_type": "code",
   "execution_count": null,
   "id": "716004d7",
   "metadata": {
    "colab": {
     "base_uri": "https://localhost:8080/",
     "height": 35
    },
    "id": "aR1sCz2jyRQA",
    "outputId": "025ea8c7-f92d-4ea2-b901-ec4a8781edc8",
    "scrolled": true
   },
   "outputs": [
    {
     "data": {
      "text/plain": [
       "True"
      ]
     },
     "execution_count": 46,
     "metadata": {
      "tags": []
     },
     "output_type": "execute_result"
    }
   ],
   "source": [
    "set_2 < set_1"
   ]
  },
  {
   "cell_type": "markdown",
   "id": "611830b6",
   "metadata": {
    "id": "q7h1AUpa7jtC"
   },
   "source": [
    "> set_1 $\\supseteq$ set_2"
   ]
  },
  {
   "cell_type": "code",
   "execution_count": null,
   "id": "1815e224",
   "metadata": {
    "colab": {
     "base_uri": "https://localhost:8080/",
     "height": 35
    },
    "id": "cDmOOC1tyTj_",
    "outputId": "819bb582-700f-4110-9583-d130e60ff219"
   },
   "outputs": [
    {
     "data": {
      "text/plain": [
       "False"
      ]
     },
     "execution_count": 48,
     "metadata": {
      "tags": []
     },
     "output_type": "execute_result"
    }
   ],
   "source": [
    "set_2 >= set_1"
   ]
  },
  {
   "cell_type": "code",
   "execution_count": null,
   "id": "3285c461",
   "metadata": {
    "colab": {
     "base_uri": "https://localhost:8080/",
     "height": 35
    },
    "id": "ZdiPT8W_ybXI",
    "outputId": "017dff1f-a25f-4a60-b42a-256f964b87f0"
   },
   "outputs": [
    {
     "data": {
      "text/plain": [
       "True"
      ]
     },
     "execution_count": 49,
     "metadata": {
      "tags": []
     },
     "output_type": "execute_result"
    }
   ],
   "source": [
    "set_1 >= set_2"
   ]
  },
  {
   "cell_type": "markdown",
   "id": "6a346852",
   "metadata": {
    "id": "R_Fb2nvo7y78"
   },
   "source": [
    "> set_1 $\\supset$ set_2"
   ]
  },
  {
   "cell_type": "code",
   "execution_count": null,
   "id": "adea91da",
   "metadata": {
    "colab": {
     "base_uri": "https://localhost:8080/",
     "height": 35
    },
    "id": "E_5-lxC9yeOE",
    "outputId": "803bb8ba-da55-44e5-8520-9826f22aabb9"
   },
   "outputs": [
    {
     "data": {
      "text/plain": [
       "True"
      ]
     },
     "execution_count": 50,
     "metadata": {
      "tags": []
     },
     "output_type": "execute_result"
    }
   ],
   "source": [
    "set_1 > set_2"
   ]
  },
  {
   "cell_type": "markdown",
   "id": "b8540dbf",
   "metadata": {
    "id": "xpQk7bmA72T7"
   },
   "source": [
    "> set_1 $\\cup$ set_2"
   ]
  },
  {
   "cell_type": "code",
   "execution_count": null,
   "id": "9c700bf9",
   "metadata": {
    "colab": {
     "base_uri": "https://localhost:8080/",
     "height": 35
    },
    "id": "iTli4s07yjtj",
    "outputId": "28601d36-3c57-4f00-860f-2761549f9b9e"
   },
   "outputs": [
    {
     "data": {
      "text/plain": [
       "{1, 2, 3}"
      ]
     },
     "execution_count": 51,
     "metadata": {
      "tags": []
     },
     "output_type": "execute_result"
    }
   ],
   "source": [
    "set_1 | set_2\n"
   ]
  },
  {
   "cell_type": "markdown",
   "id": "3b0bfa3a",
   "metadata": {
    "id": "ej9Bp9sF8ALF"
   },
   "source": [
    "> set_1 $\\cap$ set_2"
   ]
  },
  {
   "cell_type": "code",
   "execution_count": null,
   "id": "7324a6d6",
   "metadata": {
    "colab": {
     "base_uri": "https://localhost:8080/",
     "height": 35
    },
    "id": "_1ivequyymKA",
    "outputId": "8ffd2ae4-7a8d-4a66-8055-8a7646e11867"
   },
   "outputs": [
    {
     "data": {
      "text/plain": [
       "{1, 2}"
      ]
     },
     "execution_count": 52,
     "metadata": {
      "tags": []
     },
     "output_type": "execute_result"
    }
   ],
   "source": [
    "set_1 & set_2\n"
   ]
  },
  {
   "cell_type": "markdown",
   "id": "b4e7d2aa",
   "metadata": {
    "id": "fhoX3VNo8DHc"
   },
   "source": [
    "> set_1 - set_2"
   ]
  },
  {
   "cell_type": "code",
   "execution_count": null,
   "id": "76391338",
   "metadata": {
    "colab": {
     "base_uri": "https://localhost:8080/",
     "height": 35
    },
    "id": "o0LMmLdWyvEl",
    "outputId": "76ab22b4-2cc6-4c28-9938-9dfbe9514005"
   },
   "outputs": [
    {
     "data": {
      "text/plain": [
       "{3}"
      ]
     },
     "execution_count": 53,
     "metadata": {
      "tags": []
     },
     "output_type": "execute_result"
    }
   ],
   "source": [
    "set_1 - set_2"
   ]
  },
  {
   "cell_type": "markdown",
   "id": "78988faf",
   "metadata": {
    "id": "BqKZLu9p8GRM"
   },
   "source": [
    "> set_1 ^ set_2"
   ]
  },
  {
   "cell_type": "code",
   "execution_count": null,
   "id": "53737061",
   "metadata": {
    "colab": {
     "base_uri": "https://localhost:8080/",
     "height": 35
    },
    "id": "NPV1oryAyyuW",
    "outputId": "7a5c0988-7ada-40a6-cb40-fdac06d3a329"
   },
   "outputs": [
    {
     "data": {
      "text/plain": [
       "{3}"
      ]
     },
     "execution_count": 54,
     "metadata": {
      "tags": []
     },
     "output_type": "execute_result"
    }
   ],
   "source": [
    "set_1 ^ set_2"
   ]
  },
  {
   "cell_type": "markdown",
   "id": "ed92c9a9",
   "metadata": {
    "id": "9v_X5cgRnsDH"
   },
   "source": [
    "## 3.3 Extended Assignment Operators\n",
    "\n"
   ]
  },
  {
   "cell_type": "code",
   "execution_count": null,
   "id": "380783a2",
   "metadata": {
    "id": "zWC-PFJinxa6"
   },
   "outputs": [],
   "source": [
    "alpha = [1, 2, 3]\n",
    "beta = alpha # an alias for alpha\n",
    "beta += [4, 5] # extends the original list with two more elements\n",
    "beta = beta + [6, 7] # reassigns beta to a new\n",
    "print(alpha)"
   ]
  },
  {
   "cell_type": "markdown",
   "id": "1a46320a",
   "metadata": {
    "id": "hsoSRaYHoA5f"
   },
   "source": [
    "## 3.4 Operator Precedence\n",
    "\n",
    "Following table represents operators from highest to the lowest precedence -"
   ]
  },
  {
   "cell_type": "markdown",
   "id": "7ff0b864",
   "metadata": {
    "id": "rKrpCbJZoD-l"
   },
   "source": [
    "| Operator Precedence |\n",
    "|: - :|\n",
    "\n",
    "|Precedence| Type | Symbols |\n",
    "|:-:|:-:|:-:|\n",
    "|1| member access | expr.member |\n",
    "|2| function/method calls | expr(...) |\n",
    "|3| container subscripts/slices | expr[...] | \n",
    "|4| exponentiation | ** |\n",
    "|5| unary operators | +expr, −expr, ~expr |\n",
    "|6| multiplication, division | *, /, //, % |\n",
    "|7| addition, subtraction | +, − |\n",
    "|8| bitwise shifting | <<, >> |\n",
    "|9| bitwise-and | & |\n",
    "|10| bitwise-xor | ˆ |\n",
    "|11| bitwise-or |\\| | \n",
    "|12| comparisons | is, is not, ==, !=, <, <=, >, >= |\n",
    "|13| containment | in, not in |\n",
    "|14| logical-not | not expr |\n",
    "|15| logical-and | and |\n",
    "|16| logical-or | or |\n",
    "|17| conditional | val1 if condition else val2 |\n",
    "|18| assignments | =, +=, −=, =, etc. |"
   ]
  },
  {
   "cell_type": "markdown",
   "id": "ba98a7cc",
   "metadata": {
    "id": "zBy1q3245XHV"
   },
   "source": [
    "Reference:-\n",
    "```\n",
    "@book{goodrich2013data,\n",
    "  title={Data Structures and Algorithms in Python},\n",
    "  author={Goodrich, M.T. and Tamassia, R. and Goldwasser, M.H.},\n",
    "  isbn={9788126562176},\n",
    "  url={https://books.google.co.in/books?id=IbCOzQEACAAJ},\n",
    "  year={2013},\n",
    "  publisher={J. Wiley \\& Sons}\n",
    "}\n",
    "```\n"
   ]
  }
 ],
 "metadata": {
  "kernelspec": {
   "display_name": "Python 3 (ipykernel)",
   "language": "python",
   "name": "python3"
  },
  "language_info": {
   "codemirror_mode": {
    "name": "ipython",
    "version": 3
   },
   "file_extension": ".py",
   "mimetype": "text/x-python",
   "name": "python",
   "nbconvert_exporter": "python",
   "pygments_lexer": "ipython3",
   "version": "3.9.13"
  }
 },
 "nbformat": 4,
 "nbformat_minor": 5
}
