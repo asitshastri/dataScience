{
 "cells": [
  {
   "cell_type": "markdown",
   "id": "9875e698",
   "metadata": {},
   "source": [
    "# 6.1) Tuples\n",
    "-  Built-in immutable sequence.\n",
    "\n",
    "-  If no argument is given, the constructor returns an empty tuple.\n",
    "-  If iterable is specified the tuple is initialized from iterable's items.\n",
    "\n",
    "-  If the argument is a tuple, the return value is the same object"
   ]
  },
  {
   "cell_type": "code",
   "execution_count": 40,
   "id": "e3f8acc3",
   "metadata": {},
   "outputs": [
    {
     "name": "stdout",
     "output_type": "stream",
     "text": [
      "<class 'tuple'>\n",
      "asit\n",
      "(True, 'asit', (4+88j), 45.45, 45, 2, 1)\n",
      "(45, 45.45, (4+88j))\n",
      "0\n",
      "1\n",
      "4\n",
      "2\n",
      "2\n",
      "4\n",
      "1\n",
      "((1, 2, 45, 45.45, (4+88j), 'asit', True), (1, 2, 3, 3, 4))\n",
      "3\n",
      "2\n",
      "7\n",
      "True\n",
      "False\n",
      "((1, 2, 3, 4, 5), [1, 3, 5, 6, 7, 8])\n"
     ]
    }
   ],
   "source": [
    "t=()\n",
    "print(type(t))\n",
    "\n",
    "#tuple\n",
    "t1 = (1,2,45,45.45 , 4+88j , \"asit\" , True)\n",
    "\n",
    "print(t1[5])\n",
    "\n",
    "#reversing tuple\n",
    "t1 = (1,2,45,45.45 , 4+88j , \"asit\" , True) \n",
    "print(t1[::-1])\n",
    "\n",
    "\n",
    "#slicing tuple\n",
    "print(t1[2:5])\n",
    "\n",
    "#counting\n",
    "print(t1.count(4))\n",
    "print(t1.count('asit'))\n",
    "print(t1.index(4+88j))\n",
    "#imp\n",
    "print(t1.count(True)) #here no of True values inside tuple is 2 becasue system reads 1 as true also and visa vera\n",
    "print(t1.count(1))\n",
    "\n",
    "# max and min of tuple\n",
    "t2=(1, 2, 3, 3, 4)\n",
    "print(max(t2))\n",
    "print(min(t2))\n",
    "\n",
    "#nested tuple\n",
    "print((t1,t2))\n",
    "# nested tuple manipulation\n",
    "t3=(t1,t2)\n",
    "print(t3[1][2])\n",
    "\n",
    "#length of a tuple\n",
    "print(len(t3))\n",
    "print(len(t1))\n",
    "\n",
    "#checking elements in a tuple\n",
    "print(\"asit\" in t3[0])\n",
    "print(\"asit\"in t3) #imp-slicing does not work in tuple\n",
    "\n",
    "#list inside a tuple\n",
    "t4 = ((1,2,3,4,5) , [1,3,5,6,7,8]) #possible\n",
    "print(t4)"
   ]
  },
  {
   "cell_type": "code",
   "execution_count": 41,
   "id": "7bffc17f",
   "metadata": {},
   "outputs": [
    {
     "name": "stdout",
     "output_type": "stream",
     "text": [
      "((1, 2, 32, 4), (4, 5, 6, 7, 8))\n"
     ]
    },
    {
     "ename": "NameError",
     "evalue": "name 't5' is not defined",
     "output_type": "error",
     "traceback": [
      "\u001b[1;31m---------------------------------------------------------------------------\u001b[0m",
      "\u001b[1;31mNameError\u001b[0m                                 Traceback (most recent call last)",
      "\u001b[1;32m~\\AppData\\Local\\Temp\\ipykernel_3132\\2433328342.py\u001b[0m in \u001b[0;36m<module>\u001b[1;34m\u001b[0m\n\u001b[0;32m      4\u001b[0m \u001b[0mprint\u001b[0m\u001b[1;33m(\u001b[0m\u001b[0mt5\u001b[0m\u001b[1;33m)\u001b[0m\u001b[1;33m\u001b[0m\u001b[1;33m\u001b[0m\u001b[0m\n\u001b[0;32m      5\u001b[0m \u001b[1;32mdel\u001b[0m \u001b[0mt5\u001b[0m\u001b[1;33m\u001b[0m\u001b[1;33m\u001b[0m\u001b[0m\n\u001b[1;32m----> 6\u001b[1;33m \u001b[0mprint\u001b[0m\u001b[1;33m(\u001b[0m\u001b[0mt5\u001b[0m\u001b[1;33m)\u001b[0m\u001b[1;33m\u001b[0m\u001b[1;33m\u001b[0m\u001b[0m\n\u001b[0m",
      "\u001b[1;31mNameError\u001b[0m: name 't5' is not defined"
     ]
    }
   ],
   "source": [
    "#deleating a tuple \n",
    "#as tuple can not be manipulated there for use del function to delete it from memory\n",
    "t5 = ((1, 2, 32, 4), (4, 5, 6, 7, 8))\n",
    "print(t5)\n",
    "del t5\n",
    "print(t5)"
   ]
  },
  {
   "cell_type": "markdown",
   "id": "4155bbec",
   "metadata": {},
   "source": [
    "Tuple are basically follows  Immutability concepts where it is not going to allow to change any element at a perticular index\n",
    "\n",
    "- they are use for holding password generally cuz they are immutable"
   ]
  },
  {
   "cell_type": "code",
   "execution_count": 42,
   "id": "80a627e8",
   "metadata": {},
   "outputs": [
    {
     "ename": "TypeError",
     "evalue": "'tuple' object does not support item assignment",
     "output_type": "error",
     "traceback": [
      "\u001b[1;31m---------------------------------------------------------------------------\u001b[0m",
      "\u001b[1;31mTypeError\u001b[0m                                 Traceback (most recent call last)",
      "\u001b[1;32m~\\AppData\\Local\\Temp\\ipykernel_3132\\2838540288.py\u001b[0m in \u001b[0;36m<module>\u001b[1;34m\u001b[0m\n\u001b[0;32m      1\u001b[0m \u001b[1;31m#immutability of tuples\u001b[0m\u001b[1;33m\u001b[0m\u001b[1;33m\u001b[0m\u001b[0m\n\u001b[1;32m----> 2\u001b[1;33m \u001b[0mt1\u001b[0m\u001b[1;33m[\u001b[0m\u001b[1;36m0\u001b[0m\u001b[1;33m]\u001b[0m\u001b[1;33m=\u001b[0m\u001b[1;36m67\u001b[0m\u001b[1;33m\u001b[0m\u001b[1;33m\u001b[0m\u001b[0m\n\u001b[0m",
      "\u001b[1;31mTypeError\u001b[0m: 'tuple' object does not support item assignment"
     ]
    }
   ],
   "source": [
    "#immutability of tuples\n",
    "t1[0]=67"
   ]
  },
  {
   "cell_type": "code",
   "execution_count": 43,
   "id": "0f4e6711",
   "metadata": {},
   "outputs": [],
   "source": [
    "#iterrating over tuple\n",
    "#same as a list"
   ]
  },
  {
   "cell_type": "raw",
   "id": "9ad59758",
   "metadata": {},
   "source": []
  },
  {
   "cell_type": "raw",
   "id": "c8f2b1b6",
   "metadata": {},
   "source": []
  },
  {
   "cell_type": "markdown",
   "id": "37b3e236",
   "metadata": {},
   "source": [
    "# 6.2) Sets\n",
    "set is a collection of unique elements.\n",
    "-  How set is different from list and tuples?\n",
    ">set always try to store unique elements by removing all the duplicate ele ments"
   ]
  },
  {
   "cell_type": "code",
   "execution_count": 59,
   "id": "590d8358",
   "metadata": {},
   "outputs": [
    {
     "name": "stdout",
     "output_type": "stream",
     "text": [
      "1  {1, 34, 3, 4, 5, 6, 67, 523, 12, 45, 55}\n",
      "2  <class 'set'>\n",
      "3  <class 'dict'>\n",
      "4  [1, 34, 3, 4, 5, 6, 67, 523, 12, 45, 55]\n"
     ]
    }
   ],
   "source": [
    "#proof- that only contains unique elements\n",
    "s2 = {1,1,12,12,3,3,3,4,5,5,5,55,523,34,3,45,6,67}\n",
    "print(\"1 \",s2)\n",
    "print(\"2 \",type(s2))\n",
    "\n",
    "#empty curly bracket is a dectionary\n",
    "s={}\n",
    "print(\"3 \",type(s))\n",
    "\n",
    "# List to Set conversion\n",
    "print(\"4 \",list(s2))"
   ]
  },
  {
   "cell_type": "markdown",
   "id": "7b88c315",
   "metadata": {},
   "source": [
    "**Note:-** Set do does not allow to store lists cuz lists are mutable and only hashable type elements can be stored in a set"
   ]
  },
  {
   "cell_type": "code",
   "execution_count": 62,
   "id": "06eb6a67",
   "metadata": {},
   "outputs": [
    {
     "ename": "TypeError",
     "evalue": "unhashable type: 'list'",
     "output_type": "error",
     "traceback": [
      "\u001b[1;31m---------------------------------------------------------------------------\u001b[0m",
      "\u001b[1;31mTypeError\u001b[0m                                 Traceback (most recent call last)",
      "\u001b[1;32m~\\AppData\\Local\\Temp\\ipykernel_3132\\846577679.py\u001b[0m in \u001b[0;36m<module>\u001b[1;34m\u001b[0m\n\u001b[1;32m----> 1\u001b[1;33m \u001b[0ms4\u001b[0m \u001b[1;33m=\u001b[0m \u001b[1;33m{\u001b[0m\u001b[1;36m1\u001b[0m\u001b[1;33m,\u001b[0m\u001b[1;36m2\u001b[0m\u001b[1;33m,\u001b[0m\u001b[1;36m3\u001b[0m\u001b[1;33m,\u001b[0m\u001b[1;36m4\u001b[0m\u001b[1;33m,\u001b[0m\u001b[1;33m[\u001b[0m\u001b[1;36m1\u001b[0m\u001b[1;33m,\u001b[0m\u001b[1;36m2\u001b[0m\u001b[1;33m,\u001b[0m\u001b[1;36m3\u001b[0m\u001b[1;33m,\u001b[0m\u001b[1;36m4\u001b[0m\u001b[1;33m]\u001b[0m\u001b[1;33m}\u001b[0m\u001b[1;33m\u001b[0m\u001b[1;33m\u001b[0m\u001b[0m\n\u001b[0m",
      "\u001b[1;31mTypeError\u001b[0m: unhashable type: 'list'"
     ]
    }
   ],
   "source": [
    "s4 = {1,2,3,4,[1,2,3,4]}\n"
   ]
  },
  {
   "cell_type": "markdown",
   "id": "79e4553a",
   "metadata": {},
   "source": [
    "Note:- Set do does allow to store tuples cuz lists are hashable and immutable."
   ]
  },
  {
   "cell_type": "code",
   "execution_count": 64,
   "id": "6a5563e7",
   "metadata": {},
   "outputs": [
    {
     "name": "stdout",
     "output_type": "stream",
     "text": [
      "{(1, 2, 3, 4), 1, 2, 3, 4}\n"
     ]
    }
   ],
   "source": [
    "s4 = {1,2,3,4,(1,2,3,4)}\n",
    "print(s4)"
   ]
  },
  {
   "cell_type": "markdown",
   "id": "072556df",
   "metadata": {},
   "source": [
    "  **sets are not subscriptable i.e slicing or indexing operation can't be done in a set**"
   ]
  },
  {
   "cell_type": "code",
   "execution_count": 66,
   "id": "7ea97165",
   "metadata": {},
   "outputs": [
    {
     "ename": "TypeError",
     "evalue": "'set' object is not subscriptable",
     "output_type": "error",
     "traceback": [
      "\u001b[1;31m---------------------------------------------------------------------------\u001b[0m",
      "\u001b[1;31mTypeError\u001b[0m                                 Traceback (most recent call last)",
      "\u001b[1;32m~\\AppData\\Local\\Temp\\ipykernel_3132\\309790300.py\u001b[0m in \u001b[0;36m<module>\u001b[1;34m\u001b[0m\n\u001b[0;32m      1\u001b[0m \u001b[0ms7\u001b[0m  \u001b[1;33m=\u001b[0m \u001b[1;33m{\u001b[0m\u001b[1;34m\"sudh\"\u001b[0m \u001b[1;33m,\u001b[0m \u001b[1;34m\"sudh\"\u001b[0m \u001b[1;33m,\u001b[0m \u001b[1;36m2\u001b[0m\u001b[1;33m,\u001b[0m\u001b[1;36m3\u001b[0m\u001b[1;33m,\u001b[0m\u001b[1;36m4\u001b[0m\u001b[1;33m,\u001b[0m\u001b[1;36m5\u001b[0m\u001b[1;33m}\u001b[0m\u001b[1;33m\u001b[0m\u001b[1;33m\u001b[0m\u001b[0m\n\u001b[1;32m----> 2\u001b[1;33m \u001b[0ms7\u001b[0m\u001b[1;33m[\u001b[0m\u001b[1;36m2\u001b[0m\u001b[1;33m]\u001b[0m\u001b[1;33m\u001b[0m\u001b[1;33m\u001b[0m\u001b[0m\n\u001b[0m\u001b[0;32m      3\u001b[0m \u001b[1;31m#only subsscriptable only if converted to list or a tuple\u001b[0m\u001b[1;33m\u001b[0m\u001b[1;33m\u001b[0m\u001b[0m\n",
      "\u001b[1;31mTypeError\u001b[0m: 'set' object is not subscriptable"
     ]
    }
   ],
   "source": [
    "s7  = {\"sudh\" , \"sudh\" , 2,3,4,5}\n",
    "s7[2]\n",
    "#only subsscriptable only if converted to list or a tuple"
   ]
  },
  {
   "cell_type": "code",
   "execution_count": 67,
   "id": "8b58f16d",
   "metadata": {},
   "outputs": [],
   "source": [
    "#iterability of Sets"
   ]
  },
  {
   "cell_type": "code",
   "execution_count": 68,
   "id": "89f0a597",
   "metadata": {},
   "outputs": [
    {
     "name": "stdout",
     "output_type": "stream",
     "text": [
      "2\n",
      "3\n",
      "4\n",
      "5\n",
      "sudh\n"
     ]
    }
   ],
   "source": [
    "for i in s7 :\n",
    "    print(i)"
   ]
  },
  {
   "cell_type": "code",
   "execution_count": 93,
   "id": "f27d42a8",
   "metadata": {},
   "outputs": [
    {
     "name": "stdout",
     "output_type": "stream",
     "text": [
      "{2, 3, 4, 5, 7, 'sudh'}\n",
      "2\n",
      "4\n",
      "23\n",
      "{8, 'sudh'}\n"
     ]
    }
   ],
   "source": [
    "#Built in functions\n",
    "\n",
    "# .add()\n",
    "s7  = {\"sudh\" , \"sudh\" , 2,3,4,5}\n",
    "s7.add(7)\n",
    "print(s7)\n",
    "\n",
    "# .pop()\n",
    "s7  = {\"sudh\" , \"sudh\" , 2,8,4,23}\n",
    "#removes an arbitrary element\n",
    "print(s7.pop())\n",
    "print(s7.pop())\n",
    "print(s7.pop())\n",
    "print(s7)"
   ]
  },
  {
   "cell_type": "code",
   "execution_count": 95,
   "id": "7236a2b9",
   "metadata": {},
   "outputs": [
    {
     "name": "stdout",
     "output_type": "stream",
     "text": [
      "{4}\n",
      "{5}\n"
     ]
    }
   ],
   "source": [
    "#set difference\n",
    "s8 = {1,2,3,4}\n",
    "s9 = {1,2,3,5}\n",
    "print(s8.difference(s9))\n",
    "print(s9.difference(s8))"
   ]
  },
  {
   "cell_type": "code",
   "execution_count": 96,
   "id": "bc4aee13",
   "metadata": {},
   "outputs": [
    {
     "data": {
      "text/plain": [
       "set()"
      ]
     },
     "execution_count": 96,
     "metadata": {},
     "output_type": "execute_result"
    }
   ],
   "source": [
    "#creating an empty set\n",
    "s8.clear()\n",
    "s8"
   ]
  },
  {
   "cell_type": "code",
   "execution_count": 4,
   "id": "c881300b",
   "metadata": {},
   "outputs": [
    {
     "name": "stdout",
     "output_type": "stream",
     "text": [
      "{1, 2, 3, 4, 5}\n",
      "{1, 2, 3, 4, 5}\n",
      "{1, 2, 3, 4, 5, 6}\n"
     ]
    }
   ],
   "source": [
    "#Set union and Update methods\n",
    "\n",
    "#set.union(): creates a new set.the return value of set.union() is a set.\n",
    "#set.update(): adds all missing elements to the set on which it is called.return value of set.update() is None.\n",
    "\n",
    "a={1,2,3,3,2,1}\n",
    "\n",
    "a.update({4,5}) #updates the existing set\n",
    "print(a)\n",
    "\n",
    "b=a.union({5,6}) #returns a new set\n",
    "print(a)\n",
    "print(b)"
   ]
  },
  {
   "cell_type": "raw",
   "id": "eb31af0f",
   "metadata": {},
   "source": []
  },
  {
   "cell_type": "markdown",
   "id": "9741a847",
   "metadata": {},
   "source": [
    "# 6.3) Dictionary"
   ]
  },
  {
   "cell_type": "code",
   "execution_count": 132,
   "id": "ecab92e9",
   "metadata": {},
   "outputs": [
    {
     "name": "stdout",
     "output_type": "stream",
     "text": [
      "1  <class 'dict'>\n",
      "2  {'name': 'sudh', 'emiil_id': 'ss@gmail.com', 'number': 234324}\n",
      "3  {'name': 2, 'id': 45}\n",
      "4  {234234: 'abc'}\n",
      "5  {234.45: 'abc'}\n",
      "6  {True: 'abc'}\n",
      "7  {@:24}- special char key is not possible\n",
      "8  {[1,2,3]:24}- list as a key is not possible because it is unhashable\n",
      "9  {(1, 2, 3): 'abc'}\n",
      "10  {{1,2,3}:24}- set as a key is not possible\n",
      "11  -{{}:24} - Dictionary as a key is not possible\n",
      "\n",
      "12  {'batch_name': ['data science masters', 'web dev', 'JDS'], 'start_date': (28, 14, 21), 'mentor_name': {'anurag', 'hitesh', 'hayder', 'krish naik', 'sudhanshu', 'navin'}}\n",
      "\n",
      "13  {'batch_name': ['data science masters', 'web dev', 'JDS'], 'start_date': (28, 14, 21), 'mentor_name': {'anurag', 'hitesh', 'hayder', 'krish naik', 'sudhanshu', 'navin'}, 'timing': (8, 8, 8)}\n",
      "\n",
      "14  dict_keys(['batch_name', 'start_date', 'mentor_name', 'timing'])\n"
     ]
    }
   ],
   "source": [
    "# empty dictionary\n",
    "d={}\n",
    "print(\"1 \", type(d))\n",
    "\n",
    "#dictionary contains keys and values such as dict = {\"key\":\"value\"}\n",
    "d1 = {\"name\" : \"sudh\" , \"emiil_id\" : \"ss@gmail.com\" , \"number\" :234324}\n",
    "print(\"2 \",d1)\n",
    "\n",
    "#Multiple Keys are not allowed\n",
    "d2 = {\"name\" : 1 ,\"id\":45, \"name\" :2}\n",
    "print(\"3 \",d2) #dictionary takes the highest index key and removes the rest\n",
    "#**************************************************************#\n",
    "\n",
    "\n",
    "\n",
    "#**************************************************************#\n",
    "#key can be string,integer,float or bool but i can't be a special character\n",
    "#integer key\n",
    "d3 = {234234 : \"abc\"}\n",
    "print(\"4 \",d3)\n",
    "\n",
    "#floating pt key\n",
    "d4 = {234.45 : \"abc\"}\n",
    "print(\"5 \",d4)\n",
    "\n",
    "#boolian key\n",
    "d5 = {True : \"abc\"}\n",
    "print(\"6 \",d5)\n",
    "\n",
    "#special character key (not possible)\n",
    "print(\"7 \",\"{@:24}- special char key is not possible\")\n",
    "\n",
    "#list as a key (not possible)\n",
    "print(\"8 \",\"{[1,2,3]:24}- list as a key is not possible because it is unhashable\")\n",
    "\n",
    "#tupleas a key(possible)\n",
    "d9 = {(1,2,3) : \"abc\"}\n",
    "print(\"9 \",d9)\n",
    "\n",
    "#set as a key (not possible)\n",
    "print(\"10 \",\"{{1,2,3}:24}- set as a key is not possible\")\n",
    "\n",
    "#dictionary as a key (not possible)\n",
    "print(\"11 \",\"-{{}:24} - Dictionary as a key is not possible\")\n",
    "#**************************************************************#\n",
    "\n",
    "#**************************************************************#\n",
    "#Values can be be a list,dictionary,string,integer,float\n",
    "d16 = {\"batch_name\" :[\"data science masters\" , \"web dev\" , \"JDS\"] \n",
    "       , \"start_date\": (28,14,21),\n",
    "       \"mentor_name\" : {\"krish naik\", \"sudhanshu\" , \"hitesh\",\n",
    "                        \"anurag\" , \"navin\",\"hayder\"}}\n",
    "print()\n",
    "print(\"12 \",d16)\n",
    "#**************************************************************#\n",
    "\n",
    "\n",
    "#**************************************************************#\n",
    "print()\n",
    "#dictionary Manipulation\n",
    "\n",
    "#adding ney key value pair to the dictionary\n",
    "d16 = {\"batch_name\" :[\"data science masters\" , \"web dev\" , \"JDS\"] \n",
    "       , \"start_date\": (28,14,21),\n",
    "       \"mentor_name\" : {\"krish naik\", \"sudhanshu\" , \"hitesh\",\n",
    "                        \"anurag\" , \"navin\",\"hayder\"}}\n",
    "d16[\"timing\"] = (8 , 8 ,8)\n",
    "print(\"13 \", d16)\n",
    "print()\n",
    "\n",
    "#to know keys inside the dictionatry\n",
    "print(\"14 \",d16.keys())\n",
    "\n",
    "\n"
   ]
  },
  {
   "cell_type": "markdown",
   "id": "0e1adac3",
   "metadata": {},
   "source": [
    "### slicing\n"
   ]
  },
  {
   "cell_type": "code",
   "execution_count": 136,
   "id": "e0cf0cc5",
   "metadata": {},
   "outputs": [
    {
     "data": {
      "text/plain": [
       "'DSM'"
      ]
     },
     "execution_count": 136,
     "metadata": {},
     "output_type": "execute_result"
    }
   ],
   "source": [
    "d15 = {\"key\" : {\"name\" : \"sudhanshu\" , \"class\" : \"DSM\"}}\n",
    "#extracting class\n",
    "d15[\"key\"][\"class\"]"
   ]
  },
  {
   "cell_type": "code",
   "execution_count": 137,
   "id": "b7fe66c5",
   "metadata": {},
   "outputs": [
    {
     "data": {
      "text/plain": [
       "{'key': {'name': 'sudhanshu', 'class': 'DSM'}, 'key1': [15]}"
      ]
     },
     "execution_count": 137,
     "metadata": {},
     "output_type": "execute_result"
    }
   ],
   "source": [
    "#adding and deleting a key\n",
    "d15[\"key1\"]=[15]\n",
    "d15"
   ]
  },
  {
   "cell_type": "code",
   "execution_count": 138,
   "id": "941d3fcf",
   "metadata": {},
   "outputs": [
    {
     "data": {
      "text/plain": [
       "{'key': {'name': 'sudhanshu', 'class': 'DSM'}}"
      ]
     },
     "execution_count": 138,
     "metadata": {},
     "output_type": "execute_result"
    }
   ],
   "source": [
    "del d15[\"key1\"]\n",
    "d15"
   ]
  },
  {
   "cell_type": "code",
   "execution_count": 139,
   "id": "dd61ce79",
   "metadata": {},
   "outputs": [
    {
     "data": {
      "text/plain": [
       "4"
      ]
     },
     "execution_count": 139,
     "metadata": {},
     "output_type": "execute_result"
    }
   ],
   "source": [
    "#length of dictionary- gives no of key value pairs\n",
    "len(d16)"
   ]
  },
  {
   "cell_type": "code",
   "execution_count": 145,
   "id": "adf3e151",
   "metadata": {},
   "outputs": [
    {
     "name": "stdout",
     "output_type": "stream",
     "text": [
      "1  dict_values([['data science masters', 'web dev', 'JDS'], (28, 14, 21), {'anurag', 'hitesh', 'hayder', 'krish naik', 'sudhanshu', 'navin'}, (8, 8, 8)])\n",
      "\n",
      "2  [['data science masters', 'web dev', 'JDS'], (28, 14, 21), {'anurag', 'hitesh', 'hayder', 'krish naik', 'sudhanshu', 'navin'}, (8, 8, 8)]\n"
     ]
    }
   ],
   "source": [
    "#getting all values in a dict.\n",
    "print(\"1 \",d16.values())\n",
    "print()\n",
    "\n",
    "#converting above into a list\n",
    "print(\"2 \",list(d16.values()))"
   ]
  },
  {
   "cell_type": "code",
   "execution_count": 146,
   "id": "908e6da9",
   "metadata": {},
   "outputs": [
    {
     "data": {
      "text/plain": [
       "[('batch_name', ['data science masters', 'web dev', 'JDS']),\n",
       " ('start_date', (28, 14, 21)),\n",
       " ('mentor_name',\n",
       "  {'anurag', 'hayder', 'hitesh', 'krish naik', 'navin', 'sudhanshu'}),\n",
       " ('timing', (8, 8, 8))]"
      ]
     },
     "execution_count": 146,
     "metadata": {},
     "output_type": "execute_result"
    }
   ],
   "source": [
    "#fetching list of key and values both\n",
    "list(d16.items())\n",
    "#here key and value pairs are inside tuples"
   ]
  },
  {
   "cell_type": "code",
   "execution_count": 148,
   "id": "dca2711f",
   "metadata": {
    "scrolled": true
   },
   "outputs": [
    {
     "name": "stdout",
     "output_type": "stream",
     "text": [
      "{'batch_name': ['data science masters', 'web dev', 'JDS'], 'start_date': (28, 14, 21), 'mentor_name': {'anurag', 'hitesh', 'hayder', 'krish naik', 'sudhanshu', 'navin'}, 'timing': (8, 8, 8)}\n"
     ]
    }
   ],
   "source": [
    "#building replica of d16\n",
    "d17=d16.copy()\n",
    "print(d17)"
   ]
  },
  {
   "cell_type": "markdown",
   "id": "267b90c1",
   "metadata": {},
   "source": [
    "**note** in .copy method the value is stored in another address so any change in d17 does not affect d16 and visa versa. it is also called **deep copying**\n",
    "\n",
    "**note** this method is different than d17=d16 cu is assigns same address to the value c/a **swollow copy**"
   ]
  },
  {
   "cell_type": "code",
   "execution_count": 152,
   "id": "0a4a2e73",
   "metadata": {},
   "outputs": [
    {
     "name": "stdout",
     "output_type": "stream",
     "text": [
      "2086896165376\n",
      "2086896165376\n",
      "2086896166976\n"
     ]
    }
   ],
   "source": [
    "d18 = d16\n",
    "print(id(d16))\n",
    "print(id(d18))\n",
    "print(id(d17))"
   ]
  },
  {
   "cell_type": "code",
   "execution_count": 161,
   "id": "7a287d44",
   "metadata": {},
   "outputs": [
    {
     "name": "stdout",
     "output_type": "stream",
     "text": [
      "{'batch_name': ['data science masters', 'web dev', 'JDS'], 'start_date': (28, 14, 21), 'mentor_name': {'anurag', 'hitesh', 'hayder', 'krish naik', 'sudhanshu', 'navin'}}\n",
      "\n",
      "(8, 8, 8)\n"
     ]
    }
   ],
   "source": [
    "#removing value using POP()\n",
    "#.pop() method also returns removed key-value \n",
    "d19 = {\"batch_name\" :[\"data science masters\" , \"web dev\" , \"JDS\"] \n",
    "       , \"start_date\": (28,14,21),\n",
    "       \"mentor_name\" : {\"krish naik\", \"sudhanshu\" , \"hitesh\",\n",
    "                        \"anurag\" , \"navin\",\"hayder\"},\"timing\":(8,8,8)}\n",
    "a=d19.pop(\"timing\")\n",
    "print(d19)\n",
    "print()\n",
    "print(a)"
   ]
  },
  {
   "cell_type": "code",
   "execution_count": 162,
   "id": "e4a1cb7e",
   "metadata": {},
   "outputs": [
    {
     "data": {
      "text/plain": [
       "{1: ('a', 'b', 'c'), 2: ('a', 'b', 'c'), 3: ('a', 'b', 'c')}"
      ]
     },
     "execution_count": 162,
     "metadata": {},
     "output_type": "execute_result"
    }
   ],
   "source": [
    "#.fromkeys\n",
    "d.fromkeys((1,2,3) , ('a','b','c'))"
   ]
  },
  {
   "cell_type": "code",
   "execution_count": 164,
   "id": "19b0cd83",
   "metadata": {},
   "outputs": [
    {
     "data": {
      "text/plain": [
       "({'key1': 'value', 'key2': 'value2'}, {'key3': 'value3', 'key4': 'value4'})"
      ]
     },
     "execution_count": 164,
     "metadata": {},
     "output_type": "execute_result"
    }
   ],
   "source": [
    "#dictionary inside a tuple\n",
    "d19 = {\"key1\" : \"value\" , \"key2\" : \"value2\"}\n",
    "d20 = {\"key3\" : \"value3\" , \"key4\" :\"value4\"}\n",
    "(d19,d20)"
   ]
  },
  {
   "cell_type": "code",
   "execution_count": 167,
   "id": "10193685",
   "metadata": {},
   "outputs": [
    {
     "data": {
      "text/plain": [
       "{'key1': 'value', 'key2': 'value3', 'key3': 'value3', 'key4': 'value4'}"
      ]
     },
     "execution_count": 167,
     "metadata": {},
     "output_type": "execute_result"
    }
   ],
   "source": [
    "#.update()- use it to update any unique key-value pair from another dictionary\n",
    "d19 = {\"key1\" : \"value\" , \"key2\" : \"value2\"}\n",
    "d20 = {\"key3\" : \"value3\" , \"key4\" :\"value4\", \"key2\" : \"value3\"}\n",
    "d19.update(d20)\n",
    "d19\n",
    "#if same key is available in d20 they d19 will be updated with the new value"
   ]
  },
  {
   "cell_type": "code",
   "execution_count": 170,
   "id": "e0e153e2",
   "metadata": {},
   "outputs": [],
   "source": [
    "#.get()- function\n",
    "\n",
    "d20.get(\"asit\")"
   ]
  },
  {
   "cell_type": "code",
   "execution_count": 171,
   "id": "ab7d3305",
   "metadata": {},
   "outputs": [
    {
     "data": {
      "text/plain": [
       "'value3'"
      ]
     },
     "execution_count": 171,
     "metadata": {},
     "output_type": "execute_result"
    }
   ],
   "source": [
    "d20.get(\"key3\")"
   ]
  },
  {
   "cell_type": "raw",
   "id": "596c8ae4",
   "metadata": {},
   "source": [
    ".get() has con as it does not give an keyerror"
   ]
  },
  {
   "cell_type": "code",
   "execution_count": 173,
   "id": "4c68f6ee",
   "metadata": {},
   "outputs": [
    {
     "ename": "KeyError",
     "evalue": "'asit'",
     "output_type": "error",
     "traceback": [
      "\u001b[1;31m---------------------------------------------------------------------------\u001b[0m",
      "\u001b[1;31mKeyError\u001b[0m                                  Traceback (most recent call last)",
      "\u001b[1;32m~\\AppData\\Local\\Temp\\ipykernel_3132\\4289294648.py\u001b[0m in \u001b[0;36m<module>\u001b[1;34m\u001b[0m\n\u001b[1;32m----> 1\u001b[1;33m \u001b[0md20\u001b[0m\u001b[1;33m[\u001b[0m\u001b[1;34m\"asit\"\u001b[0m\u001b[1;33m]\u001b[0m\u001b[1;33m\u001b[0m\u001b[1;33m\u001b[0m\u001b[0m\n\u001b[0m",
      "\u001b[1;31mKeyError\u001b[0m: 'asit'"
     ]
    }
   ],
   "source": [
    "d20[\"asit\"]"
   ]
  },
  {
   "cell_type": "raw",
   "id": "7a4a2684",
   "metadata": {},
   "source": []
  },
  {
   "cell_type": "raw",
   "id": "18d07573",
   "metadata": {},
   "source": []
  },
  {
   "cell_type": "markdown",
   "id": "cd12b4b7",
   "metadata": {},
   "source": [
    "### Dictionary Comprehenion"
   ]
  },
  {
   "cell_type": "code",
   "execution_count": 174,
   "id": "ddd8edb5",
   "metadata": {},
   "outputs": [
    {
     "data": {
      "text/plain": [
       "{1: 1, 2: 4, 3: 9, 4: 16, 5: 25, 6: 36, 7: 49, 8: 64, 9: 81, 10: 100}"
      ]
     },
     "execution_count": 174,
     "metadata": {},
     "output_type": "execute_result"
    }
   ],
   "source": [
    "{i : i**2 for i in range(1,11)}"
   ]
  },
  {
   "cell_type": "code",
   "execution_count": 190,
   "id": "f94cb4c6",
   "metadata": {},
   "outputs": [
    {
     "name": "stdout",
     "output_type": "stream",
     "text": [
      "{1: 0.0, 2: 0.3010299956639812, 3: 0.47712125471966244, 4: 0.6020599913279624, 5: 0.6989700043360189, 6: 0.7781512503836436, 7: 0.8450980400142568, 8: 0.9030899869919435, 9: 0.9542425094393249, 10: 1.0}\n"
     ]
    }
   ],
   "source": [
    "#Q- Create a dictionary containing log values b/w 1 and 10\n",
    "import math as m\n",
    "d22= {i :m.log10(i) for i in range(1,11)}\n",
    "print(d22)"
   ]
  },
  {
   "cell_type": "code",
   "execution_count": 191,
   "id": "83477812",
   "metadata": {},
   "outputs": [
    {
     "data": {
      "text/plain": [
       "dict_keys([1, 2, 3, 4, 5, 6, 7, 8, 9, 10])"
      ]
     },
     "execution_count": 191,
     "metadata": {},
     "output_type": "execute_result"
    }
   ],
   "source": [
    "d22.keys()"
   ]
  },
  {
   "cell_type": "code",
   "execution_count": 192,
   "id": "76442cef",
   "metadata": {},
   "outputs": [
    {
     "data": {
      "text/plain": [
       "{1: 0.0,\n",
       " 2: 0.3010299956639812,\n",
       " 3: 0.47712125471966244,\n",
       " 4: 0.6020599913279624,\n",
       " 5: 0.6989700043360189,\n",
       " 6: 0.7781512503836436,\n",
       " 7: 0.8450980400142568,\n",
       " 8: 0.9030899869919435,\n",
       " 9: 0.9542425094393249,\n",
       " 10: 1.0}"
      ]
     },
     "execution_count": 192,
     "metadata": {},
     "output_type": "execute_result"
    }
   ],
   "source": [
    "d22"
   ]
  },
  {
   "cell_type": "code",
   "execution_count": 195,
   "id": "42f71105",
   "metadata": {},
   "outputs": [
    {
     "name": "stdout",
     "output_type": "stream",
     "text": [
      "0.3010299956639812\n",
      "0.6020599913279624\n",
      "0.7781512503836436\n",
      "0.9030899869919435\n",
      "1.0\n"
     ]
    }
   ],
   "source": [
    "for i in d22.keys():\n",
    "    if i%2==0:\n",
    "        print(d22[i])\n"
   ]
  },
  {
   "cell_type": "code",
   "execution_count": null,
   "id": "a3ca5692",
   "metadata": {},
   "outputs": [],
   "source": []
  },
  {
   "cell_type": "code",
   "execution_count": null,
   "id": "693359ca",
   "metadata": {},
   "outputs": [],
   "source": []
  },
  {
   "cell_type": "markdown",
   "id": "292d4c75",
   "metadata": {},
   "source": [
    "#### dict.setdefault(key, default value) method\n",
    ">key – Key to be searched in the dictionary. \n",
    ">default_value (optional) – Key with a value default_value is inserted to the ->dictionary if key is not in the dictionary. If not provided, the default_value >will be None. <br>\n",
    "\n",
    ">Returns:\n",
    "\n",
    ">Value of the key if it is in the dictionary. \n",
    ">None if key is not in the dictionary and default_value is not specified. \n",
    ">default_value if key is not in the dictionary and default_value is specified."
   ]
  },
  {
   "cell_type": "code",
   "execution_count": 5,
   "id": "facce435",
   "metadata": {},
   "outputs": [
    {
     "name": "stdout",
     "output_type": "stream",
     "text": [
      "{'a': 97, 'b': 98, 'c': 99, 'd': 100, ' ': 32}\n"
     ]
    }
   ],
   "source": [
    "\n",
    "d = {'a': 97, 'b': 98, 'c': 99, 'd': 100}\n",
    "# space key added using setdefault() method\n",
    "d.setdefault(' ', 32)\n",
    "print(d)"
   ]
  },
  {
   "cell_type": "code",
   "execution_count": 6,
   "id": "37f1c1bd",
   "metadata": {},
   "outputs": [
    {
     "name": "stdout",
     "output_type": "stream",
     "text": [
      "setdefault() returned: 98\n",
      "After using setdefault(): {'a': 97, 'b': 98}\n"
     ]
    }
   ],
   "source": [
    "\n",
    "d = {'a': 97, 'b': 98}\n",
    "print(\"setdefault() returned:\", d.setdefault('b', 99))\n",
    "print(\"After using setdefault():\", d)"
   ]
  },
  {
   "cell_type": "code",
   "execution_count": 7,
   "id": "a3af4f94",
   "metadata": {},
   "outputs": [
    {
     "name": "stdout",
     "output_type": "stream",
     "text": [
      "Dictionary before using setdefault(): {'A': 'Geeks', 'B': 'For'}\n",
      "Return value of setdefault(): Geeks\n",
      "Dictionary after using setdefault(): {'A': 'Geeks', 'B': 'For', 'C': 'Geeks'}\n"
     ]
    }
   ],
   "source": [
    "\n",
    "Dictionary1 = { 'A': 'Geeks', 'B': 'For'}\n",
    "print(\"Dictionary before using setdefault():\", Dictionary1)\n",
    "  \n",
    "# using setdefault() when key is non-existing\n",
    "ret_value = Dictionary1.setdefault('C', \"Geeks\")\n",
    "print(\"Return value of setdefault():\", ret_value)\n",
    "  \n",
    "print(\"Dictionary after using setdefault():\", Dictionary1)"
   ]
  },
  {
   "cell_type": "code",
   "execution_count": null,
   "id": "ad477b22",
   "metadata": {},
   "outputs": [],
   "source": []
  }
 ],
 "metadata": {
  "kernelspec": {
   "display_name": "Python 3 (ipykernel)",
   "language": "python",
   "name": "python3"
  },
  "language_info": {
   "codemirror_mode": {
    "name": "ipython",
    "version": 3
   },
   "file_extension": ".py",
   "mimetype": "text/x-python",
   "name": "python",
   "nbconvert_exporter": "python",
   "pygments_lexer": "ipython3",
   "version": "3.9.13"
  }
 },
 "nbformat": 4,
 "nbformat_minor": 5
}
