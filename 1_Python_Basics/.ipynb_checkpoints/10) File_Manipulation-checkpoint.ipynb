{
 "cells": [
  {
   "cell_type": "markdown",
   "metadata": {},
   "source": [
    "Use \"pwd\" command to Know the present working directory"
   ]
  },
  {
   "cell_type": "code",
   "execution_count": 3,
   "metadata": {},
   "outputs": [
    {
     "data": {
      "text/plain": [
       "'c:\\\\Users\\\\Euphor\\\\Documents\\\\Data_Science\\\\1_Python_Basics'"
      ]
     },
     "execution_count": 3,
     "metadata": {},
     "output_type": "execute_result"
    }
   ],
   "source": [
    "pwd"
   ]
  },
  {
   "cell_type": "markdown",
   "metadata": {},
   "source": [
    "Use \"ls\" To list all the files in present working directory"
   ]
  },
  {
   "cell_type": "code",
   "execution_count": 19,
   "metadata": {},
   "outputs": [
    {
     "name": "stdout",
     "output_type": "stream",
     "text": [
      " Volume in drive C has no label.\n",
      " Volume Serial Number is 5A56-FF5E\n",
      "\n",
      " Directory of c:\\Users\\Euphor\\Documents\\Data_Science\\1_Python_Basics\n",
      "\n",
      "11-03-2023  19:57    <DIR>          .\n",
      "23-02-2023  14:55    <DIR>          ..\n",
      "11-03-2023  19:55    <DIR>          .ipynb_checkpoints\n",
      "21-02-2023  10:50            10,659 1) Basics.ipynb\n",
      "11-03-2023  19:53                 0 10) File_Manipulation.ipynb\n",
      "23-02-2023  13:40            19,260 2) Control_Flow.ipynb\n",
      "23-02-2023  13:42            40,313 3) Operators.ipynb\n",
      "23-02-2023  13:43            24,798 4) String Manupilation.ipynb\n",
      "23-02-2023  13:44            22,562 5) List.ipynb\n",
      "23-02-2023  14:23            28,876 6) Tuples, Sets and Dictionaries.ipynb\n",
      "23-02-2023  13:38            32,109 7) Functions.ipynb\n",
      "03-03-2023  11:20           403,836 8) OPPS.ipynb\n",
      "06-03-2023  13:28            39,216 9) Opps_concepts.ipynb\n",
      "06-03-2023  14:26                21 File_Extension.py\n",
      "11-03-2023  19:57               605 Untitled.ipynb\n",
      "              12 File(s)        622,255 bytes\n",
      "               3 Dir(s)  70,805,352,448 bytes free\n"
     ]
    }
   ],
   "source": [
    "ls"
   ]
  },
  {
   "cell_type": "code",
   "execution_count": 20,
   "metadata": {},
   "outputs": [
    {
     "data": {
      "text/plain": [
       "['.ipynb_checkpoints',\n",
       " '1) Basics.ipynb',\n",
       " '10) File_Manipulation.ipynb',\n",
       " '2) Control_Flow.ipynb',\n",
       " '3) Operators.ipynb',\n",
       " '4) String Manupilation.ipynb',\n",
       " '5) List.ipynb',\n",
       " '6) Tuples, Sets and Dictionaries.ipynb',\n",
       " '7) Functions.ipynb',\n",
       " '8) OPPS.ipynb',\n",
       " '9) Opps_concepts.ipynb',\n",
       " 'File_Extension.py',\n",
       " 'Untitled.ipynb']"
      ]
     },
     "execution_count": 20,
     "metadata": {},
     "output_type": "execute_result"
    }
   ],
   "source": [
    "#or\n",
    "import os \n",
    "os.listdir()"
   ]
  },
  {
   "cell_type": "code",
   "execution_count": null,
   "metadata": {},
   "outputs": [],
   "source": []
  }
 ],
 "metadata": {
  "kernelspec": {
   "display_name": "Python 3 (ipykernel)",
   "language": "python",
   "name": "python3"
  },
  "language_info": {
   "codemirror_mode": {
    "name": "ipython",
    "version": 3
   },
   "file_extension": ".py",
   "mimetype": "text/x-python",
   "name": "python",
   "nbconvert_exporter": "python",
   "pygments_lexer": "ipython3",
   "version": "3.9.13"
  }
 },
 "nbformat": 4,
 "nbformat_minor": 2
}
