{
 "cells": [
  {
   "cell_type": "markdown",
   "id": "41d49862",
   "metadata": {},
   "source": [
    "# 9.1) Decorators"
   ]
  },
  {
   "cell_type": "markdown",
   "id": "2132659a",
   "metadata": {},
   "source": [
    "**Decorators are a very powerful and useful tool in Python since it allows programmers to modify the behaviour of a function or class. Decorators allow us to wrap another function in order to extend the behaviour of the wrapped function, without permanently modifying it. But before diving deep into decorators let us understand some concepts that will come in handy in learning the decorators.**"
   ]
  },
  {
   "cell_type": "markdown",
   "id": "4a38dcb0",
   "metadata": {},
   "source": [
    "**First Class Objects<br>\n",
    "In Python, functions are first class objects which means that functions in Python can be used or passed as arguments.\n",
    "Properties of first class functions:**\n",
    "> A function is an instance of the Object type.\n",
    "\n",
    "> You can store the function in a variable.\n",
    "\n",
    "> You can pass the function as a parameter to another function.\n",
    "\n",
    "> You can return the function from a function.\n",
    "\n",
    "> You can store them in data structures such as hash tables, lists, …"
   ]
  },
  {
   "cell_type": "code",
   "execution_count": 9,
   "id": "95f0c303",
   "metadata": {},
   "outputs": [
    {
     "name": "stdout",
     "output_type": "stream",
     "text": [
      "HELLO\n",
      "HELLO\n"
     ]
    }
   ],
   "source": [
    "# Python program to illustrate functions\n",
    "# can be treated as objects\n",
    "def shout(text):\n",
    "    return text.upper()\n",
    " \n",
    "print(shout('Hello'))\n",
    " \n",
    "yell = shout\n",
    " \n",
    "print(yell('Hello'))"
   ]
  },
  {
   "cell_type": "code",
   "execution_count": 10,
   "id": "40a5a9ac",
   "metadata": {},
   "outputs": [
    {
     "name": "stdout",
     "output_type": "stream",
     "text": [
      "HI, I AM CREATED BY A FUNCTION PASSED AS AN ARGUMENT.\n",
      "hi, i am created by a function passed as an argument.\n"
     ]
    }
   ],
   "source": [
    "# Python program to illustrate functions\n",
    "# can be passed as arguments to other functions\n",
    "def shout(text):\n",
    "    return text.upper()\n",
    " \n",
    "def whisper(text):\n",
    "    return text.lower()\n",
    " \n",
    "def greet(func):\n",
    "    # storing the function in a variable\n",
    "    greeting = func(\"\"\"Hi, I am created by a function passed as an argument.\"\"\")\n",
    "    print (greeting)\n",
    " \n",
    "greet(shout)\n",
    "greet(whisper)"
   ]
  },
  {
   "cell_type": "code",
   "execution_count": 8,
   "id": "a5555d22",
   "metadata": {},
   "outputs": [
    {
     "name": "stdout",
     "output_type": "stream",
     "text": [
      "25\n"
     ]
    }
   ],
   "source": [
    "# Python program to illustrate functions\n",
    "# Functions can return another function\n",
    " \n",
    "def create_adder(x):\n",
    "    def adder(y):\n",
    "        return x+y\n",
    " \n",
    "    return adder\n",
    " \n",
    "add_15 = create_adder(15)\n",
    " \n",
    "print(add_15(10))"
   ]
  },
  {
   "cell_type": "raw",
   "id": "55e3680f",
   "metadata": {},
   "source": [
    "Syntax for Decorator: \n",
    "\n",
    "@gfg_decorator\n",
    "def hello_decorator():\n",
    "    print(\"Gfg\")\n",
    "\n",
    "'''Above code is equivalent to -\n",
    "\n",
    "def hello_decorator():\n",
    "    print(\"Gfg\")"
   ]
  },
  {
   "cell_type": "markdown",
   "id": "b2b0ee52",
   "metadata": {},
   "source": [
    "simply decorators decorate a function just like we decorate our house without permenantle changing the house\n"
   ]
  },
  {
   "cell_type": "markdown",
   "id": "5ad09315",
   "metadata": {},
   "source": [
    "example1): Create a decorate that claculates the time taken to execute any function."
   ]
  },
  {
   "cell_type": "code",
   "execution_count": 2,
   "id": "6c71a281",
   "metadata": {},
   "outputs": [],
   "source": [
    "import time \n",
    "def timer(func):  #timer function with a function as an argument\n",
    "    def timer_inner():\n",
    "        start = time.time()\n",
    "        func()\n",
    "        end = time.time()\n",
    "        print(end-start)\n",
    "    return timer_inner\n"
   ]
  },
  {
   "cell_type": "code",
   "execution_count": 3,
   "id": "4af83e96",
   "metadata": {},
   "outputs": [],
   "source": [
    "def test1():\n",
    "    import time\n",
    "    start = time.time()\n",
    "    print(88+46)\n",
    "    end = time.time()\n",
    "    print(end-start)"
   ]
  },
  {
   "cell_type": "code",
   "execution_count": 4,
   "id": "224219a6",
   "metadata": {},
   "outputs": [],
   "source": [
    "#Suppose we have to calculate the execution time for each \n",
    "#function so instead of writing a code every time we can\n",
    "# use a decorator\n",
    "@timer\n",
    "def test2():  #function test2() decorated with test timer\n",
    "    print(88+46)"
   ]
  },
  {
   "cell_type": "code",
   "execution_count": 5,
   "id": "e35ce689",
   "metadata": {},
   "outputs": [
    {
     "name": "stdout",
     "output_type": "stream",
     "text": [
      "134\n",
      "0.0\n"
     ]
    }
   ],
   "source": [
    "test1()"
   ]
  },
  {
   "cell_type": "code",
   "execution_count": 6,
   "id": "8bc0fb63",
   "metadata": {
    "scrolled": true
   },
   "outputs": [
    {
     "name": "stdout",
     "output_type": "stream",
     "text": [
      "134\n",
      "0.0\n"
     ]
    }
   ],
   "source": [
    "test2()"
   ]
  },
  {
   "cell_type": "code",
   "execution_count": null,
   "id": "d74b0c26",
   "metadata": {},
   "outputs": [],
   "source": []
  },
  {
   "cell_type": "markdown",
   "id": "fd47fcd5",
   "metadata": {},
   "source": [
    "### Chaining Decorators\n",
    "**In simpler terms chaining decorators means decorating a function with multiple decorators.**\n",
    "\n",
    "**Example:**"
   ]
  },
  {
   "cell_type": "code",
   "execution_count": 7,
   "id": "71718265",
   "metadata": {},
   "outputs": [
    {
     "name": "stdout",
     "output_type": "stream",
     "text": [
      "400\n",
      "200\n"
     ]
    }
   ],
   "source": [
    "# code for testing decorator chaining\n",
    "def decor1(func):\n",
    "    def inner():\n",
    "        x = func()\n",
    "        return x * x\n",
    "    return inner\n",
    " \n",
    "def decor(func):\n",
    "    def inner():\n",
    "        x = func()\n",
    "        return 2 * x\n",
    "    return inner\n",
    " \n",
    "@decor1\n",
    "@decor\n",
    "def num():\n",
    "    return 10\n",
    " \n",
    "@decor\n",
    "@decor1 #1st decorator to be executed\n",
    "def num2():\n",
    "    return 10\n",
    "   \n",
    "print(num())\n",
    "print(num2())"
   ]
  },
  {
   "cell_type": "code",
   "execution_count": null,
   "id": "6e60eddf",
   "metadata": {},
   "outputs": [],
   "source": []
  },
  {
   "cell_type": "code",
   "execution_count": null,
   "id": "a3b34584",
   "metadata": {},
   "outputs": [],
   "source": []
  },
  {
   "cell_type": "markdown",
   "id": "8ba74d32",
   "metadata": {},
   "source": [
    "# 9.2)  Class Method"
   ]
  },
  {
   "cell_type": "markdown",
   "id": "081be09f",
   "metadata": {},
   "source": [
    "### The **classmethod** is an inbuilt function in Python, which returns a class method for a given function.;\n",
    "> Syntax: classmethod(function)\n",
    "\n",
    "> accepts the function name as a parameter\n",
    "\n",
    "> function returns the converted class method.\n",
    "<br>\n",
    "\n",
    "**You can also use @classmethod decorator for classmethod definition.**\n",
    "> "
   ]
  },
  {
   "cell_type": "code",
   "execution_count": 21,
   "id": "4b5572cd",
   "metadata": {},
   "outputs": [],
   "source": [
    "#python program to demonstrate \n",
    "# use of a class method and static method.\n",
    "\n",
    "from datetime import date\n",
    "\n",
    "class person:\n",
    "    def __init__(self,name,age):\n",
    "        self.name = name\n",
    "        self.age = age\n",
    "    def student_details(self):\n",
    "        print(self.name,self.age)\n",
    "    \n",
    "    #a class method to create a \n",
    "    #person object by birth year.\n",
    "    \n",
    "    "
   ]
  },
  {
   "cell_type": "code",
   "execution_count": 22,
   "id": "933fdd61",
   "metadata": {},
   "outputs": [],
   "source": [
    "obj = person('asit', 'asit@gmail.com')"
   ]
  },
  {
   "cell_type": "code",
   "execution_count": 23,
   "id": "927280ca",
   "metadata": {},
   "outputs": [
    {
     "data": {
      "text/plain": [
       "<bound method person.student_details of <__main__.person object at 0x000002A08A1B0D00>>"
      ]
     },
     "execution_count": 23,
     "metadata": {},
     "output_type": "execute_result"
    }
   ],
   "source": [
    "obj.student_details\n",
    "#this shows that the method can be sccessed as a parameter"
   ]
  },
  {
   "cell_type": "code",
   "execution_count": 24,
   "id": "be72910a",
   "metadata": {},
   "outputs": [
    {
     "data": {
      "text/plain": [
       "'asit'"
      ]
     },
     "execution_count": 24,
     "metadata": {},
     "output_type": "execute_result"
    }
   ],
   "source": [
    "obj.name #name parater"
   ]
  },
  {
   "cell_type": "code",
   "execution_count": 25,
   "id": "0a046150",
   "metadata": {},
   "outputs": [
    {
     "data": {
      "text/plain": [
       "'asit@gmail.com'"
      ]
     },
     "execution_count": 25,
     "metadata": {},
     "output_type": "execute_result"
    }
   ],
   "source": [
    "obj.age"
   ]
  },
  {
   "cell_type": "markdown",
   "id": "b414eee8",
   "metadata": {},
   "source": [
    "From above we can see both name and age can be accessed directly but for method we have to apply ()\n",
    "example"
   ]
  },
  {
   "cell_type": "code",
   "execution_count": 26,
   "id": "4b10c969",
   "metadata": {},
   "outputs": [
    {
     "name": "stdout",
     "output_type": "stream",
     "text": [
      "asit asit@gmail.com\n"
     ]
    }
   ],
   "source": [
    "obj.student_details()"
   ]
  },
  {
   "cell_type": "markdown",
   "id": "e8200731",
   "metadata": {},
   "source": [
    "### To avoid using object and directly access function/method using class name we use @classmethod"
   ]
  },
  {
   "cell_type": "code",
   "execution_count": 42,
   "id": "415d51a5",
   "metadata": {},
   "outputs": [],
   "source": [
    "#example\n",
    "class person:\n",
    "    def __init__(self,name,email):\n",
    "        self.naam = name\n",
    "        self.khat = email\n",
    "        \n",
    "    @classmethod\n",
    "    def details (cls,name1,email1): #here cls is binding our entire dataset to the class\n",
    "        return cls(name1,email1)\n",
    "    \n",
    "    def student_details(self):\n",
    "        print(self.naam,self.khat)"
   ]
  },
  {
   "cell_type": "code",
   "execution_count": 43,
   "id": "27666c70",
   "metadata": {
    "scrolled": true
   },
   "outputs": [],
   "source": [
    "#now we can access details method directly using class name \n",
    "#without making an object\n",
    "obj = person.details('asit','asit@gmail.com')"
   ]
  },
  {
   "cell_type": "code",
   "execution_count": 44,
   "id": "07575e67",
   "metadata": {},
   "outputs": [
    {
     "data": {
      "text/plain": [
       "'asit'"
      ]
     },
     "execution_count": 44,
     "metadata": {},
     "output_type": "execute_result"
    }
   ],
   "source": [
    "obj.naam"
   ]
  },
  {
   "cell_type": "code",
   "execution_count": 45,
   "id": "4bb5c54d",
   "metadata": {},
   "outputs": [
    {
     "data": {
      "text/plain": [
       "'asit@gmail.com'"
      ]
     },
     "execution_count": 45,
     "metadata": {},
     "output_type": "execute_result"
    }
   ],
   "source": [
    "obj.khat"
   ]
  },
  {
   "cell_type": "code",
   "execution_count": 46,
   "id": "fa552ccd",
   "metadata": {},
   "outputs": [
    {
     "name": "stdout",
     "output_type": "stream",
     "text": [
      "asit asit@gmail.com\n"
     ]
    }
   ],
   "source": [
    "obj.student_details()"
   ]
  },
  {
   "cell_type": "markdown",
   "id": "1be023d4",
   "metadata": {},
   "source": [
    "### Here we achieved Function overloading i.e this class method is able to assign the name1 and email1 arguments to the __init__ function.\n",
    "\n",
    "### So Classmethod works as an alternative for __intit__ method"
   ]
  },
  {
   "cell_type": "code",
   "execution_count": null,
   "id": "710f7514",
   "metadata": {},
   "outputs": [],
   "source": []
  },
  {
   "cell_type": "code",
   "execution_count": 104,
   "id": "3ac0cb77",
   "metadata": {},
   "outputs": [],
   "source": [
    "class person:\n",
    "    \n",
    "    mobile_number = 9134534535 #class variable can be accessed without creating an object\n",
    "    \n",
    "    def __init__(self, name , email):\n",
    "        \n",
    "        self.name = name\n",
    "        self.email = email\n",
    "    \n",
    "    @classmethod  #ClassMethod\n",
    "    def change_number(cls, mobile):\n",
    "        person.mobile_number = mobile\n",
    "    \n",
    "    @classmethod  #ClassMethod\n",
    "    def details(cls , name1 , email1):\n",
    "        return cls(name1 , email1)\n",
    "    \n",
    "    def student_details(self): #instance method\n",
    "        print(self.name , self.email,person.mobile_number)"
   ]
  },
  {
   "cell_type": "code",
   "execution_count": 105,
   "id": "65b9da5a",
   "metadata": {},
   "outputs": [
    {
     "data": {
      "text/plain": [
       "9134534535"
      ]
     },
     "execution_count": 105,
     "metadata": {},
     "output_type": "execute_result"
    }
   ],
   "source": [
    "#Class veriable can be accessed without mking a class object\n",
    "#example\n",
    "person.mobile_number"
   ]
  },
  {
   "cell_type": "markdown",
   "id": "3fb3c156",
   "metadata": {},
   "source": [
    "student_details() can be accessed in 2 ways:-"
   ]
  },
  {
   "cell_type": "code",
   "execution_count": 108,
   "id": "430f93eb",
   "metadata": {},
   "outputs": [
    {
     "name": "stdout",
     "output_type": "stream",
     "text": [
      "asit asit@gmail 9134534535\n"
     ]
    }
   ],
   "source": [
    "#1 By creating veriable of Classmethod\n",
    "\n",
    "a = person.details('asit','asit@gmail')\n",
    "a.student_details()"
   ]
  },
  {
   "cell_type": "code",
   "execution_count": 111,
   "id": "dc3ca39e",
   "metadata": {},
   "outputs": [
    {
     "name": "stdout",
     "output_type": "stream",
     "text": [
      "asit gmail.com 9134534535\n"
     ]
    }
   ],
   "source": [
    "#2 By creating a class object(for __init__ method):\n",
    "\n",
    "class_obj = person(\"asit\",\"gmail.com\")\n",
    "class_obj.student_details()"
   ]
  },
  {
   "cell_type": "code",
   "execution_count": 112,
   "id": "c7f63d6d",
   "metadata": {},
   "outputs": [
    {
     "data": {
      "text/plain": [
       "'99889988'"
      ]
     },
     "execution_count": 112,
     "metadata": {},
     "output_type": "execute_result"
    }
   ],
   "source": [
    "#Accessing and changing Mobilbe no. using ClassMethod  \n",
    "person.change_number(\"99889988\")\n",
    "person.mobile_number"
   ]
  },
  {
   "cell_type": "markdown",
   "id": "c67c7344",
   "metadata": {},
   "source": [
    "### Class method\n",
    "> Class method is a global method which will be accessable by all the object.It only tries to create one instances. \n",
    "\n",
    "### Instance/__init__ method\n",
    "> Creates multiple insatance for multiple objects. Therefore takes lot of memory."
   ]
  },
  {
   "cell_type": "code",
   "execution_count": 127,
   "id": "073093bd",
   "metadata": {},
   "outputs": [],
   "source": [
    "#example\n",
    "class person2:\n",
    "    \n",
    "    mobile_number = 9134534535 #class variable can be accessed without creating an object\n",
    "    \n",
    "    def __init__(self, name , email):\n",
    "        \n",
    "        self.name = name\n",
    "        self.email = email\n",
    "    \n",
    "    @classmethod  #ClassMethod\n",
    "    def change_number(cls, mobile):\n",
    "        person2.mobile_number = mobile\n",
    "    \n",
    "    @classmethod  #ClassMethod\n",
    "    def details(cls , name1 , email1):\n",
    "        return cls(name1 , email1)\n",
    "    \n",
    "    def student_details(self): #instance method\n",
    "        print(self.name , self.email,person2.mobile_number)"
   ]
  },
  {
   "cell_type": "code",
   "execution_count": 135,
   "id": "db668bd4",
   "metadata": {},
   "outputs": [],
   "source": [
    "#passing details through instance method\n",
    "person2_obj = person2('asit','asit@gmail')"
   ]
  },
  {
   "cell_type": "code",
   "execution_count": 136,
   "id": "1ff24b34",
   "metadata": {},
   "outputs": [],
   "source": [
    "#passing details using classmethod\n",
    "a = person2_obj.details(\"Euphor\",\"Euphor@gmail\")"
   ]
  },
  {
   "cell_type": "code",
   "execution_count": 137,
   "id": "59c6b884",
   "metadata": {},
   "outputs": [
    {
     "name": "stdout",
     "output_type": "stream",
     "text": [
      "Euphor Euphor@gmail 9134534535\n"
     ]
    }
   ],
   "source": [
    "#Now lets see the above passed data\n",
    "a.student_details()\n",
    "#only once instance created"
   ]
  },
  {
   "cell_type": "code",
   "execution_count": 138,
   "id": "c325df6c",
   "metadata": {},
   "outputs": [
    {
     "name": "stdout",
     "output_type": "stream",
     "text": [
      "asit asit@gmail 9134534535\n"
     ]
    }
   ],
   "source": [
    "person2_obj.student_details()\n",
    "#multiple objects there fore multiple instance"
   ]
  },
  {
   "cell_type": "code",
   "execution_count": null,
   "id": "e9428934",
   "metadata": {},
   "outputs": [],
   "source": []
  },
  {
   "cell_type": "markdown",
   "id": "a48809ff",
   "metadata": {},
   "source": [
    "### Adding an External Function to a class"
   ]
  },
  {
   "cell_type": "code",
   "execution_count": 154,
   "id": "49b9a122",
   "metadata": {},
   "outputs": [],
   "source": [
    "class person3:\n",
    "    \n",
    "    mobile_number = 9134534535 #class variable can be accessed without creating an object\n",
    "    \n",
    "    def __init__(self, name , email):\n",
    "        \n",
    "        self.name = name\n",
    "        self.email = email\n",
    "    \n",
    "    @classmethod  #ClassMethod\n",
    "    def change_number(cls, mobile):\n",
    "        person3.mobile_number = mobile\n",
    "    \n",
    "    @classmethod  #ClassMethod\n",
    "    def details(cls , name1 , email1):\n",
    "        return cls(name1 , email1)\n",
    "    \n",
    "    def student_details(self): #instance method\n",
    "        print(self.name , self.email,person3.mobile_number)"
   ]
  },
  {
   "cell_type": "code",
   "execution_count": 155,
   "id": "2a573092",
   "metadata": {},
   "outputs": [],
   "source": [
    "#Function to be added\n",
    "def course_details(cls, cousre_name):\n",
    "    print(\"course details:- \", cousre_name)"
   ]
  },
  {
   "cell_type": "code",
   "execution_count": 156,
   "id": "4b904d4b",
   "metadata": {},
   "outputs": [],
   "source": [
    "#adding Function\n",
    "person3.course_details = classmethod(course_details)"
   ]
  },
  {
   "cell_type": "code",
   "execution_count": 157,
   "id": "9337751f",
   "metadata": {},
   "outputs": [
    {
     "name": "stdout",
     "output_type": "stream",
     "text": [
      "course details:-  data science\n"
     ]
    }
   ],
   "source": [
    "#now course deatail is added:\n",
    "person3.course_details(\"data science\")"
   ]
  },
  {
   "cell_type": "code",
   "execution_count": 159,
   "id": "646a3a7d",
   "metadata": {},
   "outputs": [],
   "source": [
    "#accessing course details using object\n",
    "person3_obj = person3(\"asit\",\"asit2gmail\")"
   ]
  },
  {
   "cell_type": "code",
   "execution_count": 163,
   "id": "b4327a10",
   "metadata": {},
   "outputs": [
    {
     "name": "stdout",
     "output_type": "stream",
     "text": [
      "course details:-  Big Data\n"
     ]
    }
   ],
   "source": [
    "person3_obj.course_details(\"Big Data\")"
   ]
  },
  {
   "cell_type": "code",
   "execution_count": null,
   "id": "fd8ab70d",
   "metadata": {},
   "outputs": [],
   "source": []
  },
  {
   "cell_type": "markdown",
   "id": "1759a539",
   "metadata": {},
   "source": [
    "### Deleting Function inside Class"
   ]
  },
  {
   "cell_type": "code",
   "execution_count": 165,
   "id": "043b1927",
   "metadata": {},
   "outputs": [],
   "source": [
    "#Deleting Change no Classmethod\n",
    "class person4:\n",
    "    \n",
    "    mobile_number = 9134534535 #class variable can be accessed without creating an object\n",
    "    \n",
    "    def __init__(self, name , email):\n",
    "        \n",
    "        self.name = name\n",
    "        self.email = email\n",
    "    \n",
    "    @classmethod  #ClassMethod\n",
    "    def change_number(cls, mobile):\n",
    "        person4.mobile_number = mobile\n",
    "    \n",
    "    @classmethod  #ClassMethod\n",
    "    def details(cls , name1 , email1):\n",
    "        return cls(name1 , email1)\n",
    "    \n",
    "    def student_details(self): #instance method\n",
    "        print(self.name , self.email,person4.mobile_number)"
   ]
  },
  {
   "cell_type": "code",
   "execution_count": 167,
   "id": "bc52b3c1",
   "metadata": {},
   "outputs": [
    {
     "ename": "AttributeError",
     "evalue": "change_number",
     "output_type": "error",
     "traceback": [
      "\u001b[1;31m---------------------------------------------------------------------------\u001b[0m",
      "\u001b[1;31mAttributeError\u001b[0m                            Traceback (most recent call last)",
      "\u001b[1;32m~\\AppData\\Local\\Temp\\ipykernel_17316\\1056426125.py\u001b[0m in \u001b[0;36m<module>\u001b[1;34m\u001b[0m\n\u001b[0;32m      1\u001b[0m \u001b[1;31m#1st method\u001b[0m\u001b[1;33m\u001b[0m\u001b[1;33m\u001b[0m\u001b[0m\n\u001b[1;32m----> 2\u001b[1;33m \u001b[1;32mdel\u001b[0m \u001b[0mperson4\u001b[0m\u001b[1;33m.\u001b[0m\u001b[0mchange_number\u001b[0m\u001b[1;33m\u001b[0m\u001b[1;33m\u001b[0m\u001b[0m\n\u001b[0m\u001b[0;32m      3\u001b[0m \u001b[0mperson4\u001b[0m\u001b[1;33m.\u001b[0m\u001b[0mchange_number\u001b[0m\u001b[1;33m(\u001b[0m\u001b[1;33m)\u001b[0m\u001b[1;33m\u001b[0m\u001b[1;33m\u001b[0m\u001b[0m\n",
      "\u001b[1;31mAttributeError\u001b[0m: change_number"
     ]
    }
   ],
   "source": [
    "#1st method\n",
    "del person4.change_number\n",
    "person4.change_number()"
   ]
  },
  {
   "cell_type": "code",
   "execution_count": 171,
   "id": "f82f1d07",
   "metadata": {},
   "outputs": [
    {
     "data": {
      "text/plain": [
       "<__main__.person4 at 0x2a08a889760>"
      ]
     },
     "execution_count": 171,
     "metadata": {},
     "output_type": "execute_result"
    }
   ],
   "source": [
    "#2nd Method\n",
    "#delattr(\"class name\",\"method/variable\")\n",
    "person4.details(\"asit\",\"@gmail\")"
   ]
  },
  {
   "cell_type": "code",
   "execution_count": 172,
   "id": "63bb44e2",
   "metadata": {},
   "outputs": [],
   "source": [
    "delattr(person4,\"details\")"
   ]
  },
  {
   "cell_type": "code",
   "execution_count": 173,
   "id": "378b2ef6",
   "metadata": {},
   "outputs": [
    {
     "ename": "AttributeError",
     "evalue": "type object 'person4' has no attribute 'details'",
     "output_type": "error",
     "traceback": [
      "\u001b[1;31m---------------------------------------------------------------------------\u001b[0m",
      "\u001b[1;31mAttributeError\u001b[0m                            Traceback (most recent call last)",
      "\u001b[1;32m~\\AppData\\Local\\Temp\\ipykernel_17316\\3240978607.py\u001b[0m in \u001b[0;36m<module>\u001b[1;34m\u001b[0m\n\u001b[1;32m----> 1\u001b[1;33m \u001b[0mperson4\u001b[0m\u001b[1;33m.\u001b[0m\u001b[0mdetails\u001b[0m\u001b[1;33m(\u001b[0m\u001b[1;33m)\u001b[0m\u001b[1;33m\u001b[0m\u001b[1;33m\u001b[0m\u001b[0m\n\u001b[0m",
      "\u001b[1;31mAttributeError\u001b[0m: type object 'person4' has no attribute 'details'"
     ]
    }
   ],
   "source": [
    "person4.details()"
   ]
  },
  {
   "cell_type": "code",
   "execution_count": null,
   "id": "820b8fe9",
   "metadata": {},
   "outputs": [],
   "source": []
  },
  {
   "cell_type": "code",
   "execution_count": 174,
   "id": "049acf4b",
   "metadata": {},
   "outputs": [
    {
     "data": {
      "text/plain": [
       "9134534535"
      ]
     },
     "execution_count": 174,
     "metadata": {},
     "output_type": "execute_result"
    }
   ],
   "source": [
    "#deleting varible\n",
    "person4.mobile_number"
   ]
  },
  {
   "cell_type": "code",
   "execution_count": 175,
   "id": "1148877f",
   "metadata": {},
   "outputs": [],
   "source": [
    "delattr(person4,\"mobile_number\")"
   ]
  },
  {
   "cell_type": "code",
   "execution_count": 176,
   "id": "665e5946",
   "metadata": {},
   "outputs": [
    {
     "ename": "AttributeError",
     "evalue": "type object 'person4' has no attribute 'mobile_number'",
     "output_type": "error",
     "traceback": [
      "\u001b[1;31m---------------------------------------------------------------------------\u001b[0m",
      "\u001b[1;31mAttributeError\u001b[0m                            Traceback (most recent call last)",
      "\u001b[1;32m~\\AppData\\Local\\Temp\\ipykernel_17316\\2283090502.py\u001b[0m in \u001b[0;36m<module>\u001b[1;34m\u001b[0m\n\u001b[1;32m----> 1\u001b[1;33m \u001b[0mperson4\u001b[0m\u001b[1;33m.\u001b[0m\u001b[0mmobile_number\u001b[0m\u001b[1;33m\u001b[0m\u001b[1;33m\u001b[0m\u001b[0m\n\u001b[0m",
      "\u001b[1;31mAttributeError\u001b[0m: type object 'person4' has no attribute 'mobile_number'"
     ]
    }
   ],
   "source": [
    "person4.mobile_number"
   ]
  },
  {
   "cell_type": "code",
   "execution_count": null,
   "id": "a0127442",
   "metadata": {},
   "outputs": [],
   "source": []
  },
  {
   "cell_type": "code",
   "execution_count": 178,
   "id": "d45dfc1b",
   "metadata": {},
   "outputs": [],
   "source": [
    "#deleting Instance method\n",
    "delattr(person4,\"student_details\")"
   ]
  },
  {
   "cell_type": "code",
   "execution_count": 179,
   "id": "8a4721b3",
   "metadata": {},
   "outputs": [
    {
     "ename": "AttributeError",
     "evalue": "type object 'person4' has no attribute 'student_details'",
     "output_type": "error",
     "traceback": [
      "\u001b[1;31m---------------------------------------------------------------------------\u001b[0m",
      "\u001b[1;31mAttributeError\u001b[0m                            Traceback (most recent call last)",
      "\u001b[1;32m~\\AppData\\Local\\Temp\\ipykernel_17316\\5600445.py\u001b[0m in \u001b[0;36m<module>\u001b[1;34m\u001b[0m\n\u001b[1;32m----> 1\u001b[1;33m \u001b[0mperson4\u001b[0m\u001b[1;33m.\u001b[0m\u001b[0mstudent_details\u001b[0m\u001b[1;33m\u001b[0m\u001b[1;33m\u001b[0m\u001b[0m\n\u001b[0m",
      "\u001b[1;31mAttributeError\u001b[0m: type object 'person4' has no attribute 'student_details'"
     ]
    }
   ],
   "source": [
    "person4.student_details"
   ]
  },
  {
   "cell_type": "code",
   "execution_count": null,
   "id": "a195df7d",
   "metadata": {},
   "outputs": [],
   "source": []
  }
 ],
 "metadata": {
  "kernelspec": {
   "display_name": "Python 3 (ipykernel)",
   "language": "python",
   "name": "python3"
  },
  "language_info": {
   "codemirror_mode": {
    "name": "ipython",
    "version": 3
   },
   "file_extension": ".py",
   "mimetype": "text/x-python",
   "name": "python",
   "nbconvert_exporter": "python",
   "pygments_lexer": "ipython3",
   "version": "3.9.13"
  }
 },
 "nbformat": 4,
 "nbformat_minor": 5
}
