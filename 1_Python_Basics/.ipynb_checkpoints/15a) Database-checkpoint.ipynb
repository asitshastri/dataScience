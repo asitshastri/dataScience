{
 "cells": [
  {
   "cell_type": "code",
   "execution_count": 1,
   "id": "9857a9aa",
   "metadata": {},
   "outputs": [
    {
     "name": "stdout",
     "output_type": "stream",
     "text": [
      "Collecting mysql-connector-python\n",
      "  Downloading mysql_connector_python-8.0.32-cp39-cp39-win_amd64.whl (7.9 MB)\n",
      "     ---------------------------------------- 7.9/7.9 MB 7.1 MB/s eta 0:00:00\n",
      "Collecting protobuf<=3.20.3,>=3.11.0\n",
      "  Downloading protobuf-3.20.3-cp39-cp39-win_amd64.whl (904 kB)\n",
      "     -------------------------------------- 904.2/904.2 kB 7.2 MB/s eta 0:00:00\n",
      "Installing collected packages: protobuf, mysql-connector-python\n",
      "Successfully installed mysql-connector-python-8.0.32 protobuf-3.20.3\n"
     ]
    }
   ],
   "source": [
    "!pip install mysql-connector-python"
   ]
  },
  {
   "cell_type": "code",
   "execution_count": 2,
   "id": "63691776",
   "metadata": {},
   "outputs": [],
   "source": [
    "import mysql.connector"
   ]
  },
  {
   "cell_type": "markdown",
   "id": "502b1b87",
   "metadata": {},
   "source": [
    "### creating connection"
   ]
  },
  {
   "cell_type": "code",
   "execution_count": 15,
   "id": "ecdb3650",
   "metadata": {},
   "outputs": [],
   "source": [
    "# creating connection\n",
    "import mysql.connector\n",
    "\n",
    "mydb = mysql.connector.connect(\n",
    "  host=\"localhost\",\n",
    "  user=\"root\",\n",
    "  password=\"Root@9868\"\n",
    ")"
   ]
  },
  {
   "cell_type": "code",
   "execution_count": 16,
   "id": "01415216",
   "metadata": {},
   "outputs": [
    {
     "name": "stdout",
     "output_type": "stream",
     "text": [
      "<mysql.connector.connection_cext.CMySQLConnection object at 0x00000228A0E4F3A0>\n"
     ]
    }
   ],
   "source": [
    "print(mydb)"
   ]
  },
  {
   "cell_type": "markdown",
   "id": "7d885663",
   "metadata": {},
   "source": [
    "### CREATING DATABASE"
   ]
  },
  {
   "cell_type": "code",
   "execution_count": 22,
   "id": "f1d091db",
   "metadata": {},
   "outputs": [],
   "source": [
    "#CREATING DATABASE\n",
    "mycursor= mydb.cursor()\n",
    "mycursor.execute(\"CREATE DATABASE asitdb\")"
   ]
  },
  {
   "cell_type": "markdown",
   "id": "605fc578",
   "metadata": {},
   "source": [
    "### Check if Database Exists"
   ]
  },
  {
   "cell_type": "code",
   "execution_count": 24,
   "id": "27a581e8",
   "metadata": {},
   "outputs": [
    {
     "name": "stdout",
     "output_type": "stream",
     "text": [
      "('asitdb',)\n",
      "('information_schema',)\n",
      "('mysql',)\n",
      "('performance_schema',)\n",
      "('sys',)\n"
     ]
    }
   ],
   "source": [
    "#Check if Database Exists\n",
    "mycursor.execute(\"SHOW DATABASES\")\n",
    "for x in mycursor:\n",
    "    print(x)"
   ]
  },
  {
   "cell_type": "markdown",
   "id": "c123b380",
   "metadata": {},
   "source": [
    " ### Use \"if not exists\""
   ]
  },
  {
   "cell_type": "code",
   "execution_count": 31,
   "id": "1ec07d66",
   "metadata": {},
   "outputs": [],
   "source": [
    "#Use \"if not exists\"\n",
    "mycursor= mydb.cursor()\n",
    "mycursor.execute(\"CREATE DATABAsE IF NOT EXISTS asitdb\")\n",
    "mydb.close()"
   ]
  },
  {
   "cell_type": "markdown",
   "id": "82805855",
   "metadata": {},
   "source": [
    "### Creating a Table\n",
    "#### To create a table in MySQL, use the \"CREATE TABLE\" statement."
   ]
  },
  {
   "cell_type": "code",
   "execution_count": 47,
   "id": "66ab09b7",
   "metadata": {},
   "outputs": [],
   "source": [
    "#Creating a Table\n",
    "#To create a table in MySQL, use the \"CREATE TABLE\" statement.\n",
    "import mysql.connector\n",
    "mydb = mysql.connector.connect(\n",
    "  host=\"localhost\",\n",
    "  user=\"root\",\n",
    "  password=\"Root@9868\",\n",
    ")\n",
    "mycursor= mydb.cursor()\n",
    "mycursor.execute(\"CREATE DATABAsE IF NOT EXISTS asitdb\")\n",
    "mycursor.execute(\"CREATE TABLE IF NOT EXISTS asitdb.Tanble_Name(coolumn1 VARCHAR(255), column2 int, column3 TEXT)\")\n",
    "#stntax: mycursor.execute(CREATE TABLE DB_NAME.TABLE_NAME(COLUMN_NAME DATATYPE, COULMN_NAME DATATYPE))"
   ]
  },
  {
   "cell_type": "markdown",
   "id": "35fd1a93",
   "metadata": {},
   "source": [
    "### Entering values inside table\n",
    "#### use:- insert into asit.db.Tanble_name values(\" \",\" \",\" \")"
   ]
  },
  {
   "cell_type": "code",
   "execution_count": 63,
   "id": "002b511c",
   "metadata": {
    "scrolled": true
   },
   "outputs": [
    {
     "name": "stdout",
     "output_type": "stream",
     "text": [
      "1 record inserted.\n"
     ]
    }
   ],
   "source": [
    "import mysql.connector\n",
    "\n",
    "mydb = mysql.connector.connect(\n",
    "  host=\"localhost\",\n",
    "  user=\"root\",\n",
    "  password=\"Root@9868\",\n",
    "  database=\"ASITDB\"\n",
    ")\n",
    "\n",
    "mycursor = mydb.cursor()\n",
    "\n",
    "#use single inverted commas inside double inverted ones\n",
    "mycursor.execute(\"insert into Tanble_name values('this',45,'this and this')\")\n",
    "mycursor.execute(\"insert into Tanble_name values('this',45,'this and this')\")\n",
    "mycursor.execute(\"insert into Tanble_name values('this',45,'this and this')\")\n",
    "mycursor.execute(\"insert into Tanble_name values('this',45,'this and this')\")\n",
    "mycursor.execute(\"insert into Tanble_name values('this',45,'this and this')\")\n",
    "mycursor.execute(\"insert into Tanble_name values('this',45,'this and this')\")\n",
    "mycursor.execute(\"insert into Tanble_name values('this',45,'this and this')\")\n",
    "mydb.commit() #also call this whenever we try to perform insert operation\n",
    "print(mycursor.rowcount, \"record inserted.\")"
   ]
  },
  {
   "cell_type": "code",
   "execution_count": 32,
   "id": "76e06ab9",
   "metadata": {},
   "outputs": [],
   "source": [
    "#inserting data method2\n",
    "import mysql.connector\n",
    "mydb=mysql.connector.connect(\n",
    "    host = 'localhost',\n",
    "    user='root',\n",
    "    password='Root@9868'\n",
    "    \n",
    ")\n",
    "mycursor=mydb.cursor()\n",
    "mycursor.execute(\"CREATE DATABASE if not exists Tabledb\")\n",
    "mycursor.execute(\"CREATE TABLE IF NOT EXISTS Tabledb.customers(id INT AUTO_INCREMENT PRIMARY KEY,name VARCHAR(255), address TEXT)\")"
   ]
  },
  {
   "cell_type": "code",
   "execution_count": 33,
   "id": "90db37ba",
   "metadata": {},
   "outputs": [],
   "source": [
    "#inserting values\n",
    "sql =\"insert into Tabledb.customers(name,address) values(%s,%s)\""
   ]
  },
  {
   "cell_type": "code",
   "execution_count": 34,
   "id": "336ef052",
   "metadata": {},
   "outputs": [],
   "source": [
    "val = [\n",
    "  ('Peter', 'Lowstreet 4'),\n",
    "  ('Amy', 'Apple st 652'),\n",
    "  ('Hannah', 'Mountain 21'),\n",
    "  ('Michael', 'Valley 345'),\n",
    "  ('Sandy', 'Ocean blvd 2'),\n",
    "  ('Betty', 'Green Grass 1'),\n",
    "  ('Richard', 'Sky st 331'),\n",
    "  ('Susan', 'One way 98'),\n",
    "  ('Vicky', 'Yellow Garden 2'),\n",
    "  ('Ben', 'Park Lane 38'),\n",
    "  ('William', 'Central st 954'),\n",
    "  ('Chuck', 'Main Road 989'),\n",
    "  ('Viola', 'Sideway 1633')\n",
    "]"
   ]
  },
  {
   "cell_type": "code",
   "execution_count": 37,
   "id": "c81a17d1",
   "metadata": {},
   "outputs": [
    {
     "name": "stdout",
     "output_type": "stream",
     "text": [
      "13 was inserted.\n"
     ]
    }
   ],
   "source": [
    "mycursor.executemany(sql, val)\n",
    "mydb.commit()\n",
    "\n",
    "print(mycursor.rowcount, \"was inserted.\")\n"
   ]
  },
  {
   "cell_type": "markdown",
   "id": "ca29bbaf",
   "metadata": {},
   "source": [
    "### Check if Table Exists\n",
    "#### You can check if a table exist by listing all tables in your database with the \"SHOW TABLES\" statement:"
   ]
  },
  {
   "cell_type": "code",
   "execution_count": 70,
   "id": "0cee3a4b",
   "metadata": {},
   "outputs": [
    {
     "name": "stdout",
     "output_type": "stream",
     "text": [
      "('tanble_name',)\n"
     ]
    }
   ],
   "source": [
    "import mysql.connector\n",
    "\n",
    "mydb = mysql.connector.connect(\n",
    "  host=\"localhost\",\n",
    "  user=\"root\",\n",
    "  password=\"Root@9868\",\n",
    ")\n",
    "\n",
    "mycursor = mydb.cursor()\n",
    "\n",
    "mycursor.execute(\"SHOW TABLES from asitdb\")\n",
    "\n",
    "for x in mycursor:\n",
    "  print(x)"
   ]
  },
  {
   "cell_type": "markdown",
   "id": "3160a93d",
   "metadata": {},
   "source": [
    "### Checking data inside a table\n",
    "#### use:- select * from asitdb.Tanble_name"
   ]
  },
  {
   "cell_type": "code",
   "execution_count": 64,
   "id": "6d38d68d",
   "metadata": {},
   "outputs": [
    {
     "name": "stdout",
     "output_type": "stream",
     "text": [
      "('ASIT SHASTRI', 25, 'THIS IS ASIT SHASTRI')\n",
      "('ASIT SHASTRI', 25, 'THIS IS ASIT SHASTRI')\n",
      "('Bidu', 79, 'this is bidu')\n",
      "('Bidu', 79, 'this is bidu')\n",
      "('Bidu', 79, 'this is bidu')\n",
      "('qwerty', 32, 'this is qwerty')\n",
      "('Bidu', 79, 'this is bidu')\n",
      "('qwerty', 32, 'this is qwerty')\n",
      "('Bidu', 79, 'this is bidu')\n",
      "('qwerty', 32, 'this is qwerty')\n",
      "('this', 45, 'this and this')\n",
      "('this', 45, 'this and this')\n",
      "('this', 45, 'this and this')\n",
      "('this', 45, 'this and this')\n",
      "('this', 45, 'this and this')\n",
      "('this', 45, 'this and this')\n",
      "('this', 45, 'this and this')\n",
      "('this', 45, 'this and this')\n"
     ]
    }
   ],
   "source": [
    "mycursor.execute(\"select * from asitdb.Tanble_name\")\n",
    "for i in mycursor.fetchall():\n",
    "    print(i)"
   ]
  },
  {
   "cell_type": "markdown",
   "id": "7afa249e",
   "metadata": {},
   "source": [
    "### Select only perticular columns\n",
    "#### use:- select colunm1 column 2 from asitdb.Tanble_name"
   ]
  },
  {
   "cell_type": "code",
   "execution_count": 72,
   "id": "9bde3a9c",
   "metadata": {},
   "outputs": [
    {
     "name": "stdout",
     "output_type": "stream",
     "text": [
      "(25, 'THIS IS ASIT SHASTRI')\n",
      "(25, 'THIS IS ASIT SHASTRI')\n",
      "(79, 'this is bidu')\n",
      "(79, 'this is bidu')\n",
      "(79, 'this is bidu')\n",
      "(32, 'this is qwerty')\n",
      "(79, 'this is bidu')\n",
      "(32, 'this is qwerty')\n",
      "(79, 'this is bidu')\n",
      "(32, 'this is qwerty')\n",
      "(45, 'this and this')\n",
      "(45, 'this and this')\n",
      "(45, 'this and this')\n",
      "(45, 'this and this')\n",
      "(45, 'this and this')\n",
      "(45, 'this and this')\n",
      "(45, 'this and this')\n",
      "(45, 'this and this')\n"
     ]
    }
   ],
   "source": [
    "mycursor.execute(\"select column2,column3 from asitdb.Tanble_name\")\n",
    "for i in mycursor.fetchall():\n",
    "    print(i)"
   ]
  },
  {
   "cell_type": "markdown",
   "id": "77fe5255",
   "metadata": {},
   "source": [
    "### Primary Key\n",
    "When creating a table, you should also create a column with a unique key for each record.\n",
    "\n",
    "This can be done by defining a PRIMARY KEY.<br>\n",
    "<br>\n",
    "\n",
    "We use the statement **\"INT AUTO_INCREMENT PRIMARY KEY\"** which will insert a unique number for each record. Starting at 1, and increased by one for each record."
   ]
  },
  {
   "cell_type": "code",
   "execution_count": 18,
   "id": "9f9ff73a",
   "metadata": {},
   "outputs": [
    {
     "name": "stdout",
     "output_type": "stream",
     "text": [
      "(1, 'asit', 'addresses')\n",
      "(2, 'asit', 'addresses')\n",
      "(3, 'asit', 'addresses')\n",
      "(4, 'asit', 'addresses')\n",
      "(5, 'asit', 'addresses')\n",
      "(11, 'qwerty', 'this is the address')\n",
      "(12, 'qwerty', 'this is the address')\n",
      "(13, 'qwerty', 'this is the address')\n",
      "(14, 'qwerty', 'this is the address')\n",
      "(15, 'qwerty', 'this is the address')\n",
      "(16, 'qwerty', 'this is the address')\n",
      "(17, 'qwerty', 'this is the address')\n",
      "(18, 'qwerty', 'this is the address')\n",
      "(19, 'qwerty', 'this is the address')\n",
      "(20, 'qwerty', 'this is the address')\n"
     ]
    }
   ],
   "source": [
    "import mysql.connector\n",
    "mydb= mysql.connector.connect(\n",
    "    host=\"localhost\",\n",
    "    user=\"root\",\n",
    "    password=\"Root@9868\",\n",
    ")\n",
    "mycursor = mydb.cursor()\n",
    "mycursor.execute(\"CREATE TABLE if not exists asitdb.customers (id INT AUTO_INCREMENT PRIMARY KEY, name VARCHAR(255), address VARCHAR(255))\")    \n",
    "mycursor.execute(\"insert  into asitdb.customers values(id,'qwerty','this is the address')\")\n",
    "mycursor.execute(\"insert  into asitdb.customers values(id,'qwerty','this is the address')\")\n",
    "mycursor.execute(\"insert  into asitdb.customers values(id,'qwerty','this is the address')\")\n",
    "mycursor.execute(\"insert  into asitdb.customers values(id,'qwerty','this is the address')\")\n",
    "mycursor.execute(\"insert  into asitdb.customers values(id,'qwerty','this is the address')\")\n",
    "mydb.commit()\n",
    "mycursor.execute(\"select * from asitdb.customers\")\n",
    "for i in mycursor.fetchall():\n",
    "    print(i)\n",
    "mydb.close()"
   ]
  },
  {
   "cell_type": "markdown",
   "id": "bca4a5ca",
   "metadata": {},
   "source": [
    "### Insert Keys into already existing table:\n",
    "#### use the 'ALTER TABLE'"
   ]
  },
  {
   "cell_type": "code",
   "execution_count": null,
   "id": "a7975184",
   "metadata": {},
   "outputs": [],
   "source": [
    "import mysql.connector\n",
    "mydb= mysql.connector.connect(\n",
    "    host=\"localhost\",\n",
    "    user=\"root\",\n",
    "    password=\"Root@9868\",\n",
    ")\n",
    "mycursor = mydb.cursor()\n",
    "mycursor.execute(\"alter table asitdb.tanble_name add column id INT AUTO_INCREMENT PRIMARY KEY\")"
   ]
  },
  {
   "cell_type": "code",
   "execution_count": 22,
   "id": "69000421",
   "metadata": {},
   "outputs": [
    {
     "name": "stdout",
     "output_type": "stream",
     "text": [
      "('ASIT SHASTRI', 25, 'THIS IS ASIT SHASTRI', 1)\n",
      "('ASIT SHASTRI', 25, 'THIS IS ASIT SHASTRI', 2)\n",
      "('Bidu', 79, 'this is bidu', 3)\n",
      "('Bidu', 79, 'this is bidu', 4)\n",
      "('Bidu', 79, 'this is bidu', 5)\n",
      "('qwerty', 32, 'this is qwerty', 6)\n",
      "('Bidu', 79, 'this is bidu', 7)\n",
      "('qwerty', 32, 'this is qwerty', 8)\n",
      "('Bidu', 79, 'this is bidu', 9)\n",
      "('qwerty', 32, 'this is qwerty', 10)\n",
      "('this', 45, 'this and this', 11)\n",
      "('this', 45, 'this and this', 12)\n",
      "('this', 45, 'this and this', 13)\n",
      "('this', 45, 'this and this', 14)\n",
      "('this', 45, 'this and this', 15)\n",
      "('this', 45, 'this and this', 16)\n",
      "('this', 45, 'this and this', 17)\n",
      "('this', 45, 'this and this', 18)\n"
     ]
    }
   ],
   "source": [
    "mycursor.execute(\"select * from asitdb.tanble_name\")\n",
    "for i in mycursor.fetchall():\n",
    "    print(i)"
   ]
  },
  {
   "cell_type": "code",
   "execution_count": null,
   "id": "1e4f38ec",
   "metadata": {},
   "outputs": [],
   "source": []
  },
  {
   "cell_type": "markdown",
   "id": "c0bf2163",
   "metadata": {},
   "source": [
    "# Python MySQL Select"
   ]
  },
  {
   "cell_type": "markdown",
   "id": "4c399cdc",
   "metadata": {},
   "source": [
    "### Selecting All Columns"
   ]
  },
  {
   "cell_type": "code",
   "execution_count": 39,
   "id": "2dee9333",
   "metadata": {},
   "outputs": [
    {
     "name": "stdout",
     "output_type": "stream",
     "text": [
      "(1, 'Peter', 'Lowstreet 4')\n",
      "(2, 'Amy', 'Apple st 652')\n",
      "(3, 'Hannah', 'Mountain 21')\n",
      "(4, 'Michael', 'Valley 345')\n",
      "(5, 'Sandy', 'Ocean blvd 2')\n",
      "(6, 'Betty', 'Green Grass 1')\n",
      "(7, 'Richard', 'Sky st 331')\n",
      "(8, 'Susan', 'One way 98')\n",
      "(9, 'Vicky', 'Yellow Garden 2')\n",
      "(10, 'Ben', 'Park Lane 38')\n",
      "(11, 'William', 'Central st 954')\n",
      "(12, 'Chuck', 'Main Road 989')\n",
      "(13, 'Viola', 'Sideway 1633')\n",
      "(14, 'Peter', 'Lowstreet 4')\n",
      "(15, 'Amy', 'Apple st 652')\n",
      "(16, 'Hannah', 'Mountain 21')\n",
      "(17, 'Michael', 'Valley 345')\n",
      "(18, 'Sandy', 'Ocean blvd 2')\n",
      "(19, 'Betty', 'Green Grass 1')\n",
      "(20, 'Richard', 'Sky st 331')\n",
      "(21, 'Susan', 'One way 98')\n",
      "(22, 'Vicky', 'Yellow Garden 2')\n",
      "(23, 'Ben', 'Park Lane 38')\n",
      "(24, 'William', 'Central st 954')\n",
      "(25, 'Chuck', 'Main Road 989')\n",
      "(26, 'Viola', 'Sideway 1633')\n",
      "(27, 'Peter', 'Lowstreet 4')\n",
      "(28, 'Amy', 'Apple st 652')\n",
      "(29, 'Hannah', 'Mountain 21')\n",
      "(30, 'Michael', 'Valley 345')\n",
      "(31, 'Sandy', 'Ocean blvd 2')\n",
      "(32, 'Betty', 'Green Grass 1')\n",
      "(33, 'Richard', 'Sky st 331')\n",
      "(34, 'Susan', 'One way 98')\n",
      "(35, 'Vicky', 'Yellow Garden 2')\n",
      "(36, 'Ben', 'Park Lane 38')\n",
      "(37, 'William', 'Central st 954')\n",
      "(38, 'Chuck', 'Main Road 989')\n",
      "(39, 'Viola', 'Sideway 1633')\n"
     ]
    }
   ],
   "source": [
    "import mysql.connector\n",
    "\n",
    "mydb = mysql.connector.connect(\n",
    "  host=\"localhost\",\n",
    "  user=\"root\",\n",
    "  password=\"Root@9868\",\n",
    "  database=\"Tabledb\"\n",
    ")\n",
    "\n",
    "mycursor = mydb.cursor()\n",
    "\n",
    "mycursor.execute(\"SELECT * FROM customers\")\n",
    "\n",
    "myresult = mycursor.fetchall()\n",
    "\n",
    "for x in myresult:\n",
    "  print(x)"
   ]
  },
  {
   "cell_type": "markdown",
   "id": "c65207e1",
   "metadata": {},
   "source": [
    "### Selecting Columns"
   ]
  },
  {
   "cell_type": "code",
   "execution_count": 41,
   "id": "93566a8c",
   "metadata": {},
   "outputs": [
    {
     "name": "stdout",
     "output_type": "stream",
     "text": [
      "(1, 'Peter')\n",
      "(2, 'Amy')\n",
      "(3, 'Hannah')\n",
      "(4, 'Michael')\n",
      "(5, 'Sandy')\n",
      "(6, 'Betty')\n",
      "(7, 'Richard')\n",
      "(8, 'Susan')\n",
      "(9, 'Vicky')\n",
      "(10, 'Ben')\n",
      "(11, 'William')\n",
      "(12, 'Chuck')\n",
      "(13, 'Viola')\n",
      "(14, 'Peter')\n",
      "(15, 'Amy')\n",
      "(16, 'Hannah')\n",
      "(17, 'Michael')\n",
      "(18, 'Sandy')\n",
      "(19, 'Betty')\n",
      "(20, 'Richard')\n",
      "(21, 'Susan')\n",
      "(22, 'Vicky')\n",
      "(23, 'Ben')\n",
      "(24, 'William')\n",
      "(25, 'Chuck')\n",
      "(26, 'Viola')\n",
      "(27, 'Peter')\n",
      "(28, 'Amy')\n",
      "(29, 'Hannah')\n",
      "(30, 'Michael')\n",
      "(31, 'Sandy')\n",
      "(32, 'Betty')\n",
      "(33, 'Richard')\n",
      "(34, 'Susan')\n",
      "(35, 'Vicky')\n",
      "(36, 'Ben')\n",
      "(37, 'William')\n",
      "(38, 'Chuck')\n",
      "(39, 'Viola')\n"
     ]
    }
   ],
   "source": [
    "mycursor = mydb.cursor()\n",
    "\n",
    "mycursor.execute(\"SELECT id,name FROM customers\")\n",
    "\n",
    "myresult = mycursor.fetchall()\n",
    "\n",
    "for x in myresult:\n",
    "  print(x)"
   ]
  },
  {
   "cell_type": "markdown",
   "id": "3b1db170",
   "metadata": {},
   "source": [
    "### Using the fetchone() Method"
   ]
  },
  {
   "cell_type": "code",
   "execution_count": 42,
   "id": "73810c49",
   "metadata": {},
   "outputs": [
    {
     "name": "stdout",
     "output_type": "stream",
     "text": [
      "(1, 'Peter', 'Lowstreet 4')\n"
     ]
    }
   ],
   "source": [
    "mycursor = mydb.cursor()\n",
    "\n",
    "mycursor.execute(\"SELECT * FROM customers\")\n",
    "\n",
    "myresult = mycursor.fetchone()\n",
    "\n",
    "print(myresult)"
   ]
  },
  {
   "cell_type": "code",
   "execution_count": null,
   "id": "e685506a",
   "metadata": {},
   "outputs": [],
   "source": []
  },
  {
   "cell_type": "code",
   "execution_count": null,
   "id": "e938b851",
   "metadata": {},
   "outputs": [],
   "source": []
  }
 ],
 "metadata": {
  "kernelspec": {
   "display_name": "Python 3 (ipykernel)",
   "language": "python",
   "name": "python3"
  },
  "language_info": {
   "codemirror_mode": {
    "name": "ipython",
    "version": 3
   },
   "file_extension": ".py",
   "mimetype": "text/x-python",
   "name": "python",
   "nbconvert_exporter": "python",
   "pygments_lexer": "ipython3",
   "version": "3.9.13"
  }
 },
 "nbformat": 4,
 "nbformat_minor": 5
}
