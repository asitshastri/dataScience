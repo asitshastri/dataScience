{
 "cells": [
  {
   "cell_type": "markdown",
   "id": "e05550fb-85d5-4956-9fa9-5d5b79434a03",
   "metadata": {},
   "source": [
    "Flask"
   ]
  },
  {
   "cell_type": "code",
   "execution_count": 2,
   "id": "9d418794-cd63-4972-9c89-a5727d282ab4",
   "metadata": {},
   "outputs": [
    {
     "name": "stdout",
     "output_type": "stream",
     "text": [
      "Collecting flask\n",
      "  Downloading Flask-2.2.3-py3-none-any.whl (101 kB)\n",
      "\u001b[2K     \u001b[90m━━━━━━━━━━━━━━━━━━━━━━━━━━━━━━━━━━━━━━━\u001b[0m \u001b[32m101.8/101.8 kB\u001b[0m \u001b[31m1.8 MB/s\u001b[0m eta \u001b[36m0:00:00\u001b[0ma \u001b[36m0:00:01\u001b[0m\n",
      "\u001b[?25hCollecting itsdangerous>=2.0\n",
      "  Downloading itsdangerous-2.1.2-py3-none-any.whl (15 kB)\n",
      "Requirement already satisfied: Jinja2>=3.0 in /opt/conda/lib/python3.10/site-packages (from flask) (3.1.2)\n",
      "Requirement already satisfied: click>=8.0 in /opt/conda/lib/python3.10/site-packages (from flask) (8.1.3)\n",
      "Collecting Werkzeug>=2.2.2\n",
      "  Downloading Werkzeug-2.2.3-py3-none-any.whl (233 kB)\n",
      "\u001b[2K     \u001b[90m━━━━━━━━━━━━━━━━━━━━━━━━━━━━━━━━━━━━━━━\u001b[0m \u001b[32m233.6/233.6 kB\u001b[0m \u001b[31m4.9 MB/s\u001b[0m eta \u001b[36m0:00:00\u001b[0ma \u001b[36m0:00:01\u001b[0m\n",
      "\u001b[?25hRequirement already satisfied: MarkupSafe>=2.0 in /opt/conda/lib/python3.10/site-packages (from Jinja2>=3.0->flask) (2.1.1)\n",
      "Installing collected packages: Werkzeug, itsdangerous, flask\n",
      "Successfully installed Werkzeug-2.2.3 flask-2.2.3 itsdangerous-2.1.2\n"
     ]
    }
   ],
   "source": [
    "!pip install flask"
   ]
  },
  {
   "cell_type": "code",
   "execution_count": null,
   "id": "88ccc7b3-9eb5-45dd-bf99-16fb0995752b",
   "metadata": {},
   "outputs": [
    {
     "name": "stdout",
     "output_type": "stream",
     "text": [
      " * Serving Flask app '__main__'\n",
      " * Debug mode: off\n"
     ]
    },
    {
     "name": "stderr",
     "output_type": "stream",
     "text": [
      "WARNING: This is a development server. Do not use it in a production deployment. Use a production WSGI server instead.\n",
      " * Running on all addresses (0.0.0.0)\n",
      " * Running on http://127.0.0.1:5000\n",
      " * Running on http://172.18.0.21:5000\n",
      "Press CTRL+C to quit\n",
      "172.18.0.2 - - [23/Mar/2023 15:49:24] \"GET / HTTP/1.1\" 200 -\n",
      "172.18.0.2 - - [23/Mar/2023 15:49:25] \"GET /favicon.ico HTTP/1.1\" 404 -\n",
      "172.18.0.2 - - [23/Mar/2023 15:51:10] \"GET /input_url HTTP/1.1\" 200 -\n",
      "172.18.0.2 - - [23/Mar/2023 15:51:27] \"GET /test_fun HTTP/1.1\" 200 -\n"
     ]
    }
   ],
   "source": [
    "from flask import Flask\n",
    "\n",
    "\n",
    "from flask import request #this request something from a url\n",
    "\n",
    "\n",
    "#creating object of flask\n",
    "app = Flask(__name__)\n",
    "\n",
    "\n",
    "#below @app.route() decorator is used to expose the function below to the outer world\n",
    "#creating a server running these functions below\n",
    "@app.route(\"/\")\n",
    "def hello_world():\n",
    "    return \"Hello, World!\"\n",
    "\n",
    "@app.route(\"/hello1\")\n",
    "def hello_world1():\n",
    "    return \"Hello, World!1\"\n",
    "\n",
    "@app.route(\"/hello2\")\n",
    "def hello_world2():\n",
    "    return \"Hello, World!2\"\n",
    "\n",
    "@app.route('/test_fun')\n",
    "def test():\n",
    "    a = 5+6\n",
    "    return \"this my first fun in flask {}\".format(a)\n",
    "\n",
    "\n",
    "#flask function that takes input and returns a value\n",
    "@app.route('/input_url')\n",
    "def request_input():\n",
    "    data = request.args.get('x') #request an argument and get 'x' from url\n",
    "    return \"this is my input from url {}\".format(data)\n",
    "\n",
    "if __name__==\"__main__\":\n",
    "    app.run(host=\"0.0.0.0\")"
   ]
  },
  {
   "cell_type": "markdown",
   "id": "6138b579-a131-482e-bee7-8808508ba1ba",
   "metadata": {},
   "source": [
    "### Why do we use routew decorator\n",
    "> As the function hello_world is a python function and is language dependent. So to expose this function as a URL and make it language independent we use this decorator.\n",
    "\n",
    "### How to access the server through URL?\n",
    "> To access the server use URL: 'https://green-intern-yjvtp.pwskills.app:<port number>/decorator url'\n",
    "    \n",
    "### How to access Fles input function from the url\n",
    "> use: https://green-intern-yjvtp.pwskills.app:<port number>/<function name>?x=asit   \n",
    " > mention input after the question mark(?)"
   ]
  },
  {
   "cell_type": "markdown",
   "id": "c72e9743",
   "metadata": {},
   "source": [
    "# HTTP Methods\n",
    "- The Hypertext Transfer Protocol(HTTP) is an application protocol for distributed,collaborative, hypermedia informatrion systems.\n",
    "- HTTP is the foundation of data communication for the world wide web.\n",
    "- Hypertext is structured text that uses logical links between nodes containing text.\n",
    "- Http is the protocol to exchange or transfer hypertext\n",
    "- HTTP defines methods to indicate the desired action to be performed on the identified resource\n",
    "- Resource corresponds to a file or the output of an executable residing on the server\n",
    "- The HTTP/1.0 specification defined the GET,POST and HEAD methods.\n",
    "- HTTP/1.1 specification added 5 new mwthods: OPTIONS,PUT,DELETE,TRACE and CONNECT."
   ]
  },
  {
   "cell_type": "markdown",
   "id": "a6a8e258",
   "metadata": {},
   "source": [
    "| Method | Used For |\n",
    "| --- | --- |\n",
    "| **GET** | Send data in unencrypted form to the server. Most common method(has a response bodyi.e server upon receiving the info have to send the response|\n",
    "| --- | --- |\n",
    "| **HEAD** | Same as GET, but without response body(i.e server does not need to send a renponse back |\n",
    "| --- | --- |\n",
    "| **POST** | Used to send HTML form data to server. Data received by POST method is not cached by the server. |\n",
    "| --- | --- |\n",
    "| **PUT** | Replaces all the current representations of the target resource with the uploaded contentL |\n",
    "| --- | --- |\n",
    "| **DELETE** | Removes all the current representations of the target resource given by a URr |\n",
    "| --- | --- |\n",
    "| **TERACE** | Echoes the received request so that a client can seee what (if any) changes or additions have been made by intermediate server |\n",
    "| --- | --- |\n",
    "| **CONNECT** | Converts the request connection to a transparent TCP/IP tunnel to facilitate SSL-encrypted communication |\n"
   ]
  },
  {
   "cell_type": "code",
   "execution_count": null,
   "id": "ef1bcbe1",
   "metadata": {},
   "outputs": [],
   "source": []
  },
  {
   "cell_type": "code",
   "execution_count": null,
   "id": "7796c640",
   "metadata": {},
   "outputs": [],
   "source": [
    "from flask import Flask,request ,render_template , jsonify\n",
    "\n",
    "app = Flask(__name__)\n",
    "\n",
    "\n",
    "@app.route('/')\n",
    "def home_page():\n",
    "    return render_template('index.html')\n",
    "\n",
    "\n",
    "@app.route('/math',methods=['POST'])\n",
    "def math_ops():\n",
    "    if(request.method == 'POST'):\n",
    "        ops = request.form['operation']\n",
    "        num1 = int(request.form['num1'])\n",
    "        num2 = int(request.form['num2'])\n",
    "        if ops == 'add':\n",
    "            r = num1+num2\n",
    "            result = \"The sum of \" + str(num1) + 'and ' + str(num2) + \"is \" + str(r)\n",
    "        if ops == 'subtract':\n",
    "            r = num1-num2\n",
    "            result = \"The subtract of \" + str(num1) + 'and ' + str(num2) + \"is \" + str(r)\n",
    "        if ops == 'multiply':\n",
    "            r = num1*num2\n",
    "            result = \"The multiply of \" + str(num1) + 'and ' + str(num2) + \"is \" + str(r)\n",
    "        if ops == 'divide':\n",
    "            r = num1/num2\n",
    "            result = \"The divide of \" + str(num1) + 'and ' + str(num2) + \"is \" + str(r)\n",
    "            \n",
    "        return render_template('results.html' , result = result)\n",
    "\n",
    "\n",
    "\n",
    "\n",
    "@app.route('/postman_action',methods=['POST'])\n",
    "def math_ops1():\n",
    "    if(request.method == 'POST'):\n",
    "        ops = request.json['operation']\n",
    "        num1 = int(request.json['num1'])\n",
    "        num2 = int(request.json['num2'])\n",
    "        if ops == 'add':\n",
    "            r = num1+num2\n",
    "            result = \"The sum of \" + str(num1) + 'and ' + str(num2) + \"is \" + str(r)\n",
    "        if ops == 'subtract':\n",
    "            r = num1-num2\n",
    "            result = \"The subtract of \" + str(num1) + 'and ' + str(num2) + \"is \" + str(r)\n",
    "        if ops == 'multiply':\n",
    "            r = num1*num2\n",
    "            result = \"The multiply of \" + str(num1) + 'and ' + str(num2) + \"is \" + str(r)\n",
    "        if ops == 'divide':\n",
    "            r = num1/num2\n",
    "            result = \"The divide of \" + str(num1) + 'and ' + str(num2) + \"is \" + str(r)\n",
    "            \n",
    "        return jsonify(result)\n",
    "\n",
    "if __name__==\"__main__\":\n",
    "    app.run(host=\"0.0.0.0\")"
   ]
  },
  {
   "cell_type": "code",
   "execution_count": null,
   "id": "e629b887",
   "metadata": {},
   "outputs": [],
   "source": []
  },
  {
   "cell_type": "code",
   "execution_count": null,
   "id": "2c5da117",
   "metadata": {},
   "outputs": [],
   "source": []
  },
  {
   "cell_type": "code",
   "execution_count": null,
   "id": "b0974071",
   "metadata": {},
   "outputs": [],
   "source": []
  },
  {
   "cell_type": "code",
   "execution_count": null,
   "id": "bbb9efdc",
   "metadata": {},
   "outputs": [],
   "source": []
  },
  {
   "cell_type": "code",
   "execution_count": null,
   "id": "9485edc2",
   "metadata": {},
   "outputs": [],
   "source": []
  }
 ],
 "metadata": {
  "kernelspec": {
   "display_name": "Python 3 (ipykernel)",
   "language": "python",
   "name": "python3"
  },
  "language_info": {
   "codemirror_mode": {
    "name": "ipython",
    "version": 3
   },
   "file_extension": ".py",
   "mimetype": "text/x-python",
   "name": "python",
   "nbconvert_exporter": "python",
   "pygments_lexer": "ipython3",
   "version": "3.11.2"
  }
 },
 "nbformat": 4,
 "nbformat_minor": 5
}
