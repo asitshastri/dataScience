{
 "cells": [
  {
   "cell_type": "markdown",
   "metadata": {},
   "source": [
    "# 10.1) Basics"
   ]
  },
  {
   "cell_type": "markdown",
   "metadata": {},
   "source": [
    "#### Use \"pwd\" command to Know the present working directory"
   ]
  },
  {
   "cell_type": "code",
   "execution_count": 13,
   "metadata": {},
   "outputs": [
    {
     "data": {
      "text/plain": [
       "'C:\\\\Users\\\\Euphor\\\\Documents\\\\Data_Science\\\\1_Python_Basics'"
      ]
     },
     "execution_count": 13,
     "metadata": {},
     "output_type": "execute_result"
    }
   ],
   "source": [
    "pwd"
   ]
  },
  {
   "cell_type": "markdown",
   "metadata": {},
   "source": [
    "#### Use \"ls\" To list all the files in present working directory"
   ]
  },
  {
   "cell_type": "code",
   "execution_count": 14,
   "metadata": {},
   "outputs": [
    {
     "name": "stdout",
     "output_type": "stream",
     "text": [
      " Volume in drive C has no label.\n",
      " Volume Serial Number is 5A56-FF5E\n",
      "\n",
      " Directory of C:\\Users\\Euphor\\Documents\\Data_Science\\1_Python_Basics\n",
      "\n",
      "12-03-2023  08:56    <DIR>          .\n",
      "23-02-2023  14:55    <DIR>          ..\n",
      "11-03-2023  20:09    <DIR>          .ipynb_checkpoints\n",
      "21-02-2023  10:50            10,659 1) Basics.ipynb\n",
      "12-03-2023  08:56             4,257 10) File_Manipulation.ipynb\n",
      "23-02-2023  13:40            19,260 2) Control_Flow.ipynb\n",
      "23-02-2023  13:42            40,313 3) Operators.ipynb\n",
      "23-02-2023  13:43            24,798 4) String Manupilation.ipynb\n",
      "23-02-2023  13:44            22,562 5) List.ipynb\n",
      "23-02-2023  14:23            28,876 6) Tuples, Sets and Dictionaries.ipynb\n",
      "23-02-2023  13:38            32,109 7) Functions.ipynb\n",
      "03-03-2023  11:20           403,836 8) OPPS.ipynb\n",
      "06-03-2023  13:28            39,216 9) Opps_concepts.ipynb\n",
      "06-03-2023  14:26                21 File_Extension.py\n",
      "12-03-2023  08:54    <DIR>          Resources\n",
      "12-03-2023  08:50                 0 text.txt\n",
      "11-03-2023  19:57               605 Untitled.ipynb\n",
      "              13 File(s)        626,512 bytes\n",
      "               4 Dir(s)  69,521,715,200 bytes free\n"
     ]
    }
   ],
   "source": [
    "ls"
   ]
  },
  {
   "cell_type": "code",
   "execution_count": 15,
   "metadata": {},
   "outputs": [
    {
     "data": {
      "text/plain": [
       "['.ipynb_checkpoints',\n",
       " '1) Basics.ipynb',\n",
       " '10) File_Manipulation.ipynb',\n",
       " '2) Control_Flow.ipynb',\n",
       " '3) Operators.ipynb',\n",
       " '4) String Manupilation.ipynb',\n",
       " '5) List.ipynb',\n",
       " '6) Tuples, Sets and Dictionaries.ipynb',\n",
       " '7) Functions.ipynb',\n",
       " '8) OPPS.ipynb',\n",
       " '9) Opps_concepts.ipynb',\n",
       " 'File_Extension.py',\n",
       " 'Resources',\n",
       " 'text.txt',\n",
       " 'Untitled.ipynb']"
      ]
     },
     "execution_count": 15,
     "metadata": {},
     "output_type": "execute_result"
    }
   ],
   "source": [
    "#or\n",
    "import os \n",
    "os.listdir()"
   ]
  },
  {
   "cell_type": "markdown",
   "metadata": {},
   "source": [
    "### 10.1.2) Reading the File "
   ]
  },
  {
   "cell_type": "code",
   "execution_count": 18,
   "metadata": {},
   "outputs": [],
   "source": [
    "f = open('text.txt','rt') \n",
    "#'r'- for reading \n",
    "#'t'- for text file"
   ]
  },
  {
   "cell_type": "code",
   "execution_count": 19,
   "metadata": {
    "scrolled": true
   },
   "outputs": [
    {
     "data": {
      "text/plain": [
       "'What is data science?\\nData science is the study of data to extract meaningful insights for business. It is a multidisciplinary approach that combines principles and practices from the fields of mathematics, statistics, artificial intelligence, and computer engineering to analyze large amounts of data. This analysis helps data scientists to ask and answer questions like what happened, why it happened, what will happen, and what can be done with the results.\\n\\nWhy is data science important?\\nData science is important because it combines tools, methods, and technology to generate meaning from data. Modern organizations are inundated with data; there is a proliferation of devices that can automatically collect and store information. Online systems and payment portals capture more data in the fields of e-commerce, medicine, finance, and every other aspect of human life. We have text, audio, video, and image data available in vast quantities.  '"
      ]
     },
     "execution_count": 19,
     "metadata": {},
     "output_type": "execute_result"
    }
   ],
   "source": [
    "#reading the file \n",
    "f.read()\n",
    "#file is empty"
   ]
  },
  {
   "cell_type": "code",
   "execution_count": 20,
   "metadata": {},
   "outputs": [
    {
     "data": {
      "text/plain": [
       "''"
      ]
     },
     "execution_count": 20,
     "metadata": {},
     "output_type": "execute_result"
    }
   ],
   "source": [
    "f.read()\n",
    "#this time the read function comes out to be empty because the courser is on the end of the line and\n",
    "#there is no text to read.\n",
    "#to solve this we need to close the file first."
   ]
  },
  {
   "cell_type": "code",
   "execution_count": 21,
   "metadata": {},
   "outputs": [],
   "source": [
    "f.close()"
   ]
  },
  {
   "cell_type": "code",
   "execution_count": 24,
   "metadata": {},
   "outputs": [
    {
     "name": "stdout",
     "output_type": "stream",
     "text": [
      "What is data science?\n",
      "\n",
      "Data science is the study of data to extract meaningful insights for business. It is a multidisciplinary approach that combines principles and practices from the fields of mathematics, statistics, artificial intelligence, and computer engineering to analyze large amounts of data. This analysis helps data scientists to ask and answer questions like what happened, why it happened, what will happen, and what can be done with the results.\n",
      "\n",
      "\n",
      "\n",
      "Why is data science important?\n",
      "\n",
      "Data science is important because it combines tools, methods, and technology to generate meaning from data. Modern organizations are inundated with data; there is a proliferation of devices that can automatically collect and store information. Online systems and payment portals capture more data in the fields of e-commerce, medicine, finance, and every other aspect of human life. We have text, audio, video, and image data available in vast quantities.  \n"
     ]
    }
   ],
   "source": [
    "#another method to read\n",
    "f =open(\"text.txt\",'r')\n",
    "for i in f:\n",
    "    print(i)\n",
    "f.close() #must remember to close the file"
   ]
  },
  {
   "cell_type": "markdown",
   "metadata": {},
   "source": [
    "#### readline()"
   ]
  },
  {
   "cell_type": "code",
   "execution_count": 40,
   "metadata": {},
   "outputs": [
    {
     "data": {
      "text/plain": [
       "'What is data science?\\n'"
      ]
     },
     "execution_count": 40,
     "metadata": {},
     "output_type": "execute_result"
    }
   ],
   "source": [
    "f = open(\"text.txt\",'r')\n",
    "f.readline()  #Helps in reading line "
   ]
  },
  {
   "cell_type": "code",
   "execution_count": 41,
   "metadata": {},
   "outputs": [
    {
     "data": {
      "text/plain": [
       "'Data science is important because it combines tools, methods, and technology to generate meaning from data. Modern organizations are inundated with data; there is a proliferation of devices that can automatically collect and store information. Online systems and payment portals capture more data in the fields of e-commerce, medicine, finance, and every other aspect of human life. We have text, audio, video, and image data available in vast quantities.  '"
      ]
     },
     "execution_count": 41,
     "metadata": {},
     "output_type": "execute_result"
    }
   ],
   "source": [
    "f.readline()\n",
    "f.readline()\n",
    "f.readline()\n",
    "f.readline()\n",
    "# By calling 'readline()' n no. of times the function read n no. of lines."
   ]
  },
  {
   "cell_type": "code",
   "execution_count": null,
   "metadata": {},
   "outputs": [],
   "source": []
  },
  {
   "cell_type": "markdown",
   "metadata": {},
   "source": [
    "### 10.1.2) Writing/Creating Files"
   ]
  },
  {
   "cell_type": "markdown",
   "metadata": {},
   "source": [
    "'a'- Will append the end of the line\n",
    "'w'- Will overwrite the existing file"
   ]
  },
  {
   "cell_type": "code",
   "execution_count": 43,
   "metadata": {},
   "outputs": [
    {
     "name": "stdout",
     "output_type": "stream",
     "text": [
      "What is data science?\n",
      "\n",
      "Data science is the study of data to extract meaningful insights for business. It is a multidisciplinary approach that combines principles and practices from the fields of mathematics, statistics, artificial intelligence, and computer engineering to analyze large amounts of data. This analysis helps data scientists to ask and answer questions like what happened, why it happened, what will happen, and what can be done with the results.\n",
      "\n",
      "\n",
      "\n",
      "Why is data science important?\n",
      "\n",
      "Data science is important because it combines tools, methods, and technology to generate meaning from data. Modern organizations are inundated with data; there is a proliferation of devices that can automatically collect and store information. Online systems and payment portals capture more data in the fields of e-commerce, medicine, finance, and every other aspect of human life. We have text, audio, video, and image data available in vast quantities.  \n"
     ]
    }
   ],
   "source": [
    "#copying file\n",
    "import shutil\n",
    "shutil.copy('text.txt','Resources/File_Handeling.txt')\n",
    "f = open('Resources/File_Handeling.txt','r')\n",
    "for i in f:\n",
    "    print(i)\n",
    "f.close()"
   ]
  },
  {
   "cell_type": "markdown",
   "metadata": {},
   "source": [
    "#### Writing Content"
   ]
  },
  {
   "cell_type": "code",
   "execution_count": 54,
   "metadata": {},
   "outputs": [],
   "source": [
    "#openinf file in write mode\n",
    "f = open(\"Resources/File_Handeling.txt\",'w')\n",
    "f.write(\"This file is opened on write mode due to which the content is overwritten\")\n",
    "f.close()"
   ]
  },
  {
   "cell_type": "code",
   "execution_count": 55,
   "metadata": {},
   "outputs": [
    {
     "name": "stdout",
     "output_type": "stream",
     "text": [
      "This file is opened on write mode due to which the content is overwritten\n"
     ]
    }
   ],
   "source": [
    "f = open(\"Resources/File_Handeling.txt\",'r')\n",
    "print(f.read())\n",
    "f.close()"
   ]
  },
  {
   "cell_type": "markdown",
   "metadata": {},
   "source": [
    "#### Appending content"
   ]
  },
  {
   "cell_type": "code",
   "execution_count": 56,
   "metadata": {},
   "outputs": [],
   "source": [
    "#appending\n",
    "f=open('Resources/File_Handeling.txt','a')\n",
    "f.write(\"this is the content added at the end of the line because the file is onpened in append mode('a')\")\n",
    "f.close()"
   ]
  },
  {
   "cell_type": "code",
   "execution_count": 57,
   "metadata": {},
   "outputs": [
    {
     "name": "stdout",
     "output_type": "stream",
     "text": [
      "This file is opened on write mode due to which the content is overwrittenthis is the content added at the end of the line because the file is onpened in append mode('a')\n"
     ]
    }
   ],
   "source": [
    "#now reading\n",
    "f = open(\"Resources/File_Handeling.txt\",'r')\n",
    "print(f.read())\n",
    "f.close()"
   ]
  },
  {
   "cell_type": "markdown",
   "metadata": {},
   "source": [
    "#### Create a New File"
   ]
  },
  {
   "cell_type": "markdown",
   "metadata": {},
   "source": [
    "Files can be created using following modes\n",
    "> 'a'-  Append - will create a file if the specified file does not exist\n",
    "\n",
    "> 'w'-  Write - will create a file if the specified file does not exist\n",
    "\n",
    "> 'x'-  Create - will create a file, returns an error if the file exist"
   ]
  },
  {
   "cell_type": "code",
   "execution_count": 58,
   "metadata": {},
   "outputs": [],
   "source": [
    "#creating file using different modes\n",
    "f1 = open(\"Resources/Crea5ted_using_x.txt\",'x')\n",
    "f2 = open(\"Resources/Crea5ted_using_a.txt\",'a')\n",
    "f3 = open(\"Resources/Crea5ted_using_w.txt\",'w')"
   ]
  },
  {
   "cell_type": "code",
   "execution_count": 60,
   "metadata": {},
   "outputs": [
    {
     "data": {
      "text/plain": [
       "['.ipynb_checkpoints',\n",
       " 'Crea5ted_using_a.txt',\n",
       " 'Crea5ted_using_w.txt',\n",
       " 'Crea5ted_using_x.txt',\n",
       " 'File_Handeling.txt']"
      ]
     },
     "execution_count": 60,
     "metadata": {},
     "output_type": "execute_result"
    }
   ],
   "source": [
    "os.listdir('Resources')\n",
    "#we can can see that the abouve 3 files have bee created"
   ]
  },
  {
   "cell_type": "markdown",
   "metadata": {},
   "source": [
    "### 10.1.3) Removing file"
   ]
  },
  {
   "cell_type": "code",
   "execution_count": 2,
   "metadata": {},
   "outputs": [
    {
     "data": {
      "text/plain": [
       "['.ipynb_checkpoints',\n",
       " '1) Basics.ipynb',\n",
       " '10) File_Manipulation.ipynb',\n",
       " '2) Control_Flow.ipynb',\n",
       " '3) Operators.ipynb',\n",
       " '4) String Manupilation.ipynb',\n",
       " '5) List.ipynb',\n",
       " '6) Tuples, Sets and Dictionaries.ipynb',\n",
       " '7) Functions.ipynb',\n",
       " '8) OPPS.ipynb',\n",
       " '9) Opps_concepts.ipynb',\n",
       " 'File_Extension.py',\n",
       " 'Resources',\n",
       " 'text.txt',\n",
       " 'Untitled.ipynb']"
      ]
     },
     "execution_count": 2,
     "metadata": {},
     "output_type": "execute_result"
    }
   ],
   "source": [
    "import os \n",
    "os.listdir()"
   ]
  },
  {
   "cell_type": "code",
   "execution_count": 3,
   "metadata": {},
   "outputs": [],
   "source": [
    "#removing a file\n",
    "os.remove(\"File_Extension.py\")"
   ]
  },
  {
   "cell_type": "code",
   "execution_count": 4,
   "metadata": {},
   "outputs": [],
   "source": [
    "#creating a folder/directory in python\n",
    "os.mkdir('Resources/Folder_created_using_py')"
   ]
  },
  {
   "cell_type": "code",
   "execution_count": null,
   "metadata": {},
   "outputs": [],
   "source": []
  },
  {
   "cell_type": "code",
   "execution_count": null,
   "metadata": {},
   "outputs": [],
   "source": []
  },
  {
   "cell_type": "markdown",
   "metadata": {},
   "source": [
    "## 10.2) Reading and Writing files"
   ]
  },
  {
   "cell_type": "markdown",
   "metadata": {},
   "source": [
    "#### JSON file - Java-Script Object Notation \n",
    "> Stores data as a key and value pair(similar to a dictionary)"
   ]
  },
  {
   "cell_type": "code",
   "execution_count": 17,
   "metadata": {},
   "outputs": [],
   "source": [
    "#creating a json file\n",
    "data = {\n",
    "    'name':'asit',\n",
    "    \"mail_id\" : \"mail@mail.com\",\n",
    "    \"phone_number\":999995566,\n",
    "    \"subject\":[\"Data science\",\"DSA\"]\n",
    "}"
   ]
  },
  {
   "cell_type": "code",
   "execution_count": 18,
   "metadata": {},
   "outputs": [],
   "source": [
    "import json"
   ]
  },
  {
   "cell_type": "code",
   "execution_count": 19,
   "metadata": {},
   "outputs": [],
   "source": [
    "#\"json.dump\"- for write operation\n",
    "with open(\"test.json\",\"w\") as f:\n",
    "    json.dump(data,f)"
   ]
  },
  {
   "cell_type": "code",
   "execution_count": 20,
   "metadata": {},
   "outputs": [],
   "source": [
    "#\"json.load operation for write operation\"\n",
    "with open(\"test.json\",\"r\") as f:\n",
    "    data1 =json.load(f)"
   ]
  },
  {
   "cell_type": "code",
   "execution_count": 21,
   "metadata": {},
   "outputs": [
    {
     "data": {
      "text/plain": [
       "{'name': 'asit',\n",
       " 'mail_id': 'mail@mail.com',\n",
       " 'phone_number': 999995566,\n",
       " 'subject': ['Data science', 'DSA']}"
      ]
     },
     "execution_count": 21,
     "metadata": {},
     "output_type": "execute_result"
    }
   ],
   "source": [
    "data1"
   ]
  },
  {
   "cell_type": "code",
   "execution_count": 23,
   "metadata": {},
   "outputs": [
    {
     "data": {
      "text/plain": [
       "'DSA'"
      ]
     },
     "execution_count": 23,
     "metadata": {},
     "output_type": "execute_result"
    }
   ],
   "source": [
    "#extracting DSA\n",
    "data1[\"subject\"][1]"
   ]
  },
  {
   "cell_type": "code",
   "execution_count": null,
   "metadata": {},
   "outputs": [],
   "source": []
  },
  {
   "cell_type": "markdown",
   "metadata": {},
   "source": [
    "#### CSV File- Comma Seperated Value File"
   ]
  },
  {
   "cell_type": "code",
   "execution_count": 24,
   "metadata": {},
   "outputs": [],
   "source": [
    "dtat_csv = [\n",
    "    [\"name\",\"emil\",\"number\"],\n",
    "    [\"asit\",\"mail@mail.com\",\"9988776655\"],\n",
    "    [\"pra\",\"pra@buura.com\",\"5544112233\"],\n",
    "    [\"din\",\"din@shin.com\",\"5566442288\"]\n",
    "]"
   ]
  },
  {
   "cell_type": "code",
   "execution_count": 25,
   "metadata": {},
   "outputs": [],
   "source": [
    "import csv"
   ]
  },
  {
   "cell_type": "code",
   "execution_count": 26,
   "metadata": {},
   "outputs": [],
   "source": [
    "with open (\"test.csv\",\"w\") as f:\n",
    "    w = csv.writer(f)\n",
    "    for i in dtat_csv:\n",
    "        w.writerow(i)"
   ]
  },
  {
   "cell_type": "code",
   "execution_count": 27,
   "metadata": {},
   "outputs": [
    {
     "name": "stdout",
     "output_type": "stream",
     "text": [
      "['name', 'emil', 'number']\n",
      "[]\n",
      "['asit', 'mail@mail.com', '9988776655']\n",
      "[]\n",
      "['pra', 'pra@buura.com', '5544112233']\n",
      "[]\n",
      "['din', 'din@shin.com', '5566442288']\n",
      "[]\n"
     ]
    }
   ],
   "source": [
    "with open('test.csv',\"r\") as f:\n",
    "    read = csv.reader(f)\n",
    "    for i in read:\n",
    "        print(i)"
   ]
  },
  {
   "cell_type": "code",
   "execution_count": null,
   "metadata": {},
   "outputs": [],
   "source": []
  },
  {
   "cell_type": "markdown",
   "metadata": {},
   "source": [
    "#### Binary Data- \".bin\" file extension"
   ]
  },
  {
   "cell_type": "code",
   "execution_count": 28,
   "metadata": {},
   "outputs": [],
   "source": [
    "with open(\"test.bin\",\"wb\") as f:   #\"wb\"- write binary mode\n",
    "    f.write(b\"\\x01\\x02\\x03\")\n",
    "    "
   ]
  },
  {
   "cell_type": "code",
   "execution_count": 30,
   "metadata": {},
   "outputs": [
    {
     "name": "stdout",
     "output_type": "stream",
     "text": [
      "b'\\x01\\x02\\x03'\n"
     ]
    }
   ],
   "source": [
    "with open(\"test.bin\",\"rb\") as f:\n",
    "    print(f.read())"
   ]
  },
  {
   "cell_type": "code",
   "execution_count": null,
   "metadata": {},
   "outputs": [],
   "source": []
  },
  {
   "cell_type": "code",
   "execution_count": null,
   "metadata": {},
   "outputs": [],
   "source": []
  },
  {
   "cell_type": "markdown",
   "metadata": {},
   "source": [
    "## 10.3) Buffer read and write Operation\n",
    "> Suppose we have to read a big file (gb or tb), we can't read it at a time we have read it in a small chuncks."
   ]
  },
  {
   "cell_type": "code",
   "execution_count": 35,
   "metadata": {},
   "outputs": [],
   "source": [
    "import io"
   ]
  },
  {
   "cell_type": "code",
   "execution_count": 39,
   "metadata": {},
   "outputs": [],
   "source": [
    "#io.bufferwriter\n",
    "with open(\"text_buffer.txt\",\"wb\") as f:\n",
    "    file= io.BufferedWriter(f) #press shift+tab:- we can see that by diffault this burrefwriter in 8192 byte i.e 8192 byte of info is written at a time\n",
    "    file.write(b\"this is my buffer write\")\n",
    "    file.write(b\"this is my second line that i'm trying to write\")\n",
    "    file.flush() #closes file\n",
    "#until we close the file there will be nothing written in it"
   ]
  },
  {
   "cell_type": "code",
   "execution_count": 43,
   "metadata": {},
   "outputs": [
    {
     "name": "stdout",
     "output_type": "stream",
     "text": [
      "b'this is my'\n"
     ]
    }
   ],
   "source": [
    "with open(\"text_buffer.txt\",\"rb\") as f:\n",
    "    file = io.BufferedReader(f)\n",
    "    data= file.read(10) #reads only 10 bytes\n",
    "    print(data)"
   ]
  },
  {
   "cell_type": "code",
   "execution_count": null,
   "metadata": {},
   "outputs": [],
   "source": []
  },
  {
   "cell_type": "code",
   "execution_count": null,
   "metadata": {},
   "outputs": [],
   "source": []
  },
  {
   "cell_type": "markdown",
   "metadata": {},
   "source": [
    "## 10.4) Logging and Debugging "
   ]
  },
  {
   "cell_type": "markdown",
   "metadata": {},
   "source": [
    "**Logging**\n",
    "> In a prduction grade code we are not suppose to use a print statement, as print sta5tement will always try to print something inside our console and once we shut-down our entire machine this will be gone.\n",
    "\n",
    "> So we require a permanent storatge where we can log each and every information."
   ]
  },
  {
   "cell_type": "code",
   "execution_count": 116,
   "metadata": {},
   "outputs": [],
   "source": [
    "import logging"
   ]
  },
  {
   "cell_type": "markdown",
   "metadata": {},
   "source": [
    "**Logging Level Hierarchy**\n",
    "> 1- noset    (no longer in python)\n",
    "\n",
    "> 2- DEBUG\n",
    "\n",
    "> 3- INFO\n",
    "\n",
    "> 4- WARNING\n",
    "\n",
    "> 5- ERROR\n",
    "\n",
    "> 6- CRITICAL\n",
    "\n",
    "if loggin level is set to warning then only warning and its lower levels wiull be logged in the file.\n"
   ]
  },
  {
   "cell_type": "code",
   "execution_count": 1,
   "metadata": {},
   "outputs": [],
   "source": [
    "import logging\n",
    "logging.basicConfig(filename=\"test.log\", level= logging.INFO, format= \"%(asctime)s %(name)s %(levelname)s %(message)s\" )"
   ]
  },
  {
   "cell_type": "code",
   "execution_count": 2,
   "metadata": {},
   "outputs": [],
   "source": [
    "logging.info(\"this is an info\")\n",
    "logging.debug(\"this is a debug\") #this will not print as debug's hierarchy is higher than INFO\n",
    "logging.critical(\"this is critical\")\n",
    "logging.warning(\"this is warning\")"
   ]
  },
  {
   "cell_type": "code",
   "execution_count": null,
   "metadata": {},
   "outputs": [],
   "source": []
  },
  {
   "cell_type": "code",
   "execution_count": 10,
   "metadata": {},
   "outputs": [],
   "source": [
    "#Create a function to seperate the integers and string from the following list\n",
    "#Create a log of every step of the program\n",
    "lst = [11,3,5,7,[2,4,6],\"asit\",'shastri']\n",
    "lst_int=[]\n",
    "lst_str=[]\n",
    "logging.info(\"---------------------------------------------------------------------------------------------\")\n",
    "for i in lst:\n",
    "    logging.info(\"this is the start of my first for loop {}\".format(lst))\n",
    "    logging.info(\"this is the value i am logging {}\".format(i))\n",
    "    if type(i) == list:\n",
    "        for j in i:\n",
    "            logging.info(\"logging my j {j} and i is {i}\".format(j=j,i=i))\n",
    "            if type(j)==int:\n",
    "                lst_int.append(j)\n",
    "    elif type(i)==int:\n",
    "        lst_int.append(i)\n",
    "    else:\n",
    "        lst_str.append(i)\n",
    "logging.info(\"this is my final result with all int:-{} and with all string:-{}\".format(lst_int, lst_str))\n",
    "\n",
    "#So logging method help us know at what point the program has crashed \n"
   ]
  },
  {
   "cell_type": "markdown",
   "metadata": {},
   "source": [
    "#### Always try to use logging in a production grade code"
   ]
  },
  {
   "cell_type": "code",
   "execution_count": null,
   "metadata": {},
   "outputs": [],
   "source": []
  },
  {
   "cell_type": "code",
   "execution_count": null,
   "metadata": {},
   "outputs": [],
   "source": [
    "\n"
   ]
  }
 ],
 "metadata": {
  "kernelspec": {
   "display_name": "Python 3 (ipykernel)",
   "language": "python",
   "name": "python3"
  },
  "language_info": {
   "codemirror_mode": {
    "name": "ipython",
    "version": 3
   },
   "file_extension": ".py",
   "mimetype": "text/x-python",
   "name": "python",
   "nbconvert_exporter": "python",
   "pygments_lexer": "ipython3",
   "version": "3.9.13"
  }
 },
 "nbformat": 4,
 "nbformat_minor": 2
}
