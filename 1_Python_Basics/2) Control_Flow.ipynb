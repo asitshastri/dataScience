{
 "cells": [
  {
   "cell_type": "markdown",
   "id": "ab3e1a94",
   "metadata": {
    "id": "6_RS7yJf0mG8"
   },
   "source": [
    "# 2) Control Flow\n",
    "   **Here, we are going to review and learn the most fundamentals of Python control flow: Decision making statement and loops.**\n"
   ]
  },
  {
   "cell_type": "markdown",
   "id": "9761b2cc",
   "metadata": {
    "id": "O0-HJUJu6Tce"
   },
   "source": [
    "## 2.1 Decision Making Statement\n",
    "   * It is kind of making decision during occurred situation of program execution and action can be taken according to specified conditions.\n",
    "   * Structure of decision making evaluate several expressions that provide True or False as a result.\n",
    "   * It is up to you to decide which type of action want to take and execute the statements based upon True and False.\n",
    "   \n",
    "**These are several topics of decision making which going to be discussed below:**\n",
    "   1. **if**\n",
    "   2. **if else** \n",
    "   3. **if elif else**\n",
    "   4. **Nested if**\n",
    "   5. **Single Statement Suites**"
   ]
  },
  {
   "cell_type": "markdown",
   "id": "8fe1591f",
   "metadata": {
    "id": "cBDBiRPp0mG_"
   },
   "source": [
    "### 2.1.1 If statement\n",
    "   - In python `if` statement is same as other languages.\n",
    "   - It is having a logical expression where data is getting compared and based upon comparison result a decision is made.\n",
    "   \n",
    "**Examples**"
   ]
  },
  {
   "cell_type": "code",
   "execution_count": 2,
   "id": "d342b3cc",
   "metadata": {},
   "outputs": [
    {
     "name": "stdout",
     "output_type": "stream",
     "text": [
      "Enter the age66\n",
      "Sorry only Young bloods are allowed\n"
     ]
    }
   ],
   "source": [
    "## if else satetements\n",
    "age=int(input(\"Enter the age\"))\n",
    "if  age>=18 and age <=45:\n",
    "    print(\"You are young blood\")\n",
    "else:\n",
    "    print(\"Sorry only Young bloods are allowed\")"
   ]
  },
  {
   "cell_type": "markdown",
   "id": "fdcd0da5",
   "metadata": {
    "id": "jRlk740R0mHV"
   },
   "source": [
    "### 2.1.2 If-else statement\n",
    "\n",
    "   - With `if` statement an `else` statement is combined.\n",
    "   - `if-else` statement have a block of code, where `if` is executed when it is `1` or `True` and `else` when `if` is `0` or `False` \n",
    "   >**Note:** The `else` statement is consider to be an optional statement, so there could be only one `else` statement in block of code.\n",
    "   \n",
    "**Examples**"
   ]
  },
  {
   "cell_type": "markdown",
   "id": "359d34e8",
   "metadata": {
    "id": "vTC_imVx0mHl"
   },
   "source": [
    "### 2.1.3 If-elif-else statement\n",
    "\n",
    "   - The `elif` statement is used to check for the multiple `True` expressions and so on if the condition is `True` it execute a block of code.\n",
    "   - Similar `elif` statement is consider to be an optional like `else` statement. \n",
    "   - Though, we can use `elif` statement multiple times in a block of code, but `else` statement can be used only ones\n",
    "   \n",
    "**Examples**"
   ]
  },
  {
   "cell_type": "code",
   "execution_count": 3,
   "id": "2ec72bb0",
   "metadata": {},
   "outputs": [],
   "source": [
    "## mall - input the product price\n",
    "## product >3000 rs 20% off\n",
    "## price is ==4000 you get a trip to Goa\n",
    "## print the product price after removing the discount\n",
    "## product >=2000 rs and <=3000 30% off\n",
    "## print the product price after removing the discount\n",
    "## price ==2999  u will get adiitional gift\n",
    "## product 100 rs and <=2000 40% off\n",
    "## print the product price after removing the discount### 4.1.2 If-else statement\n",
    "\n",
    "   - With `if` statement an `else` statement is combined.\n",
    "   - `if-else` statement have a block of code, where `if` is executed when it is `1` or `True` and `else` when `if` is `0` or `False` \n",
    "   >**Note:** The `else` statement is consider to be an optional statement, so there could be only one `else` statement in block of code.\n",
    "   \n",
    "**Examples**### 4.1.3 If-elif-else statement\n",
    "\n",
    "   - The `elif` statement is used to check for the multiple `True` expressions and so on if the condition is `True` it execute a block of code.\n",
    "   - Similar `elif` statement is consider to be an optional like `else` statement. \n",
    "   - Though, we can use `elif` statement multiple times in a block of code, but `else` statement can be used only ones\n",
    "   \n",
    "**Examples**"
   ]
  },
  {
   "cell_type": "code",
   "execution_count": 8,
   "id": "3028bb07",
   "metadata": {},
   "outputs": [
    {
     "name": "stdout",
     "output_type": "stream",
     "text": [
      "What's the price of the Product2999\n",
      "You get an additional gift!!!\n",
      "please pay:2099.2999999999997 at the counter.\n"
     ]
    }
   ],
   "source": [
    "price=int(input(\"What's the price of the Product\"))\n",
    "if price>=3000:\n",
    "    if price==4000:\n",
    "        print(\"You are Going to Goa!!!\")\n",
    "    print(f\"please pay:{price*0.8} at the counter.\")\n",
    "    \n",
    "elif price>=2000 and price<3000:\n",
    "    if price==2999 :\n",
    "        print(\"You get an additional gift!!!\")\n",
    "    print(f\"please pay:{price*0.7} at the counter.\")\n",
    "elif price>=100 and price<2000:\n",
    "    print(f\"please pay:{price*0.6} at the counter.\")"
   ]
  },
  {
   "cell_type": "code",
   "execution_count": null,
   "id": "f0b327ca",
   "metadata": {},
   "outputs": [],
   "source": [
    "#"
   ]
  },
  {
   "cell_type": "markdown",
   "id": "ce5cd964",
   "metadata": {
    "id": "L_eG2cDA0mH-"
   },
   "source": [
    "### 2.1.4 Nested If statement\n",
    "\n",
    "   - In some of the cases, it is required to have other check condition inside a check condition (when it `True`)\n",
    "   - Such type of scenarios required to have a nested arrangement.\n",
    "   - Under a nested if arrangement, an `if-elif-else` can be construct inside an another `if-elif-else` construct.\n",
    "   \n",
    "**Examples**"
   ]
  },
  {
   "cell_type": "code",
   "execution_count": 9,
   "id": "59eaf14f",
   "metadata": {},
   "outputs": [
    {
     "name": "stdout",
     "output_type": "stream",
     "text": [
      "Enter a number: -42\n",
      "Entered number is Negative\n"
     ]
    }
   ],
   "source": [
    "'''Its a simple example to check whether \n",
    "a number is zero or positive or negative \n",
    "using nested if-else statement'''\n",
    "\n",
    "val = float(input(\"Enter a number: \"))\n",
    "if val >= 0:\n",
    "    if val == 0:\n",
    "        print(\"Zero\")\n",
    "    else:\n",
    "        print(\"Entered number is Positive\")\n",
    "else:\n",
    "    print(\"Entered number is Negative\")"
   ]
  },
  {
   "cell_type": "markdown",
   "id": "7ea7379f",
   "metadata": {
    "id": "V85eLfOq0mIP"
   },
   "source": [
    "### 2.1.5 Single Statement Suites\n",
    "\n",
    "   - If the suite of `if` section have only a single line, then the header statement may go at same line.\n",
    "\n",
    "**Examples**"
   ]
  },
  {
   "cell_type": "code",
   "execution_count": 12,
   "id": "55d189de",
   "metadata": {},
   "outputs": [
    {
     "name": "stdout",
     "output_type": "stream",
     "text": [
      "Enter a number less than 1000:- 1000\n",
      "I said less than 1000....GoodBye!\n"
     ]
    }
   ],
   "source": [
    "val = int(input(\"Enter a number less than 1000:- \"))\n",
    "if (val <= 999 ): print (\"Value is less than equal to 999\") #whole statement in a single suit\n",
    "else:print (\"I said less than 1000....GoodBye!\")"
   ]
  },
  {
   "cell_type": "markdown",
   "id": "25728161",
   "metadata": {
    "id": "0WfQoKMZ6bjo"
   },
   "source": [
    "## 2.2 Loops Statements \n",
    "   * In loop, the statements are sequentially executed, execution of first function statement is done first, then second and so on.\n",
    "   * In situation where you need to perform a block of code many times then loop statement will come in to picture. \n",
    "   * It allows to execute/run group of statements or a statement multiple time.\n",
    "   \n",
    "**These are several topics of loop statements which going to be discussed below:**\n",
    "   1. **while Loop** \n",
    "   2. **for Loop**\n",
    "   3. **Nested loops**\n",
    "   4. **Loop Control**\n",
    "      * **break**\n",
    "      * **continue**\n",
    "      * **pass**"
   ]
  },
  {
   "cell_type": "markdown",
   "id": "db967ec7",
   "metadata": {
    "id": "HChDjhwK0mId"
   },
   "source": [
    "### 2.2.1 While Loop\n",
    "\n",
    "   * It repeats a statement or multiple statements when a provided condition is `True`.\n",
    "   * Before performing a loop body it check for a condition\n",
    "   \n",
    "**Examples**"
   ]
  },
  {
   "cell_type": "code",
   "execution_count": 13,
   "id": "a87c5e50",
   "metadata": {},
   "outputs": [
    {
     "name": "stdout",
     "output_type": "stream",
     "text": [
      "26\n",
      "27\n",
      "28\n",
      "29\n",
      "30\n",
      "31\n",
      "32\n",
      "33\n",
      "34\n",
      "35\n",
      "36\n",
      "37\n",
      "38\n",
      "39\n",
      "40\n",
      "41\n",
      "42\n",
      "43\n",
      "44\n",
      "45\n",
      "46\n",
      "47\n",
      "48\n",
      "49\n",
      "50\n",
      "51\n",
      "52\n",
      "53\n",
      "54\n",
      "55\n",
      "56\n",
      "57\n",
      "58\n",
      "59\n",
      "60\n",
      "61\n",
      "Its time for retirement\n"
     ]
    }
   ],
   "source": [
    "# while loop while-else\n",
    "joining_age=25\n",
    "while joining_age<=60:\n",
    "    \n",
    "    joining_age=joining_age+1\n",
    "    print(joining_age)\n",
    "    \n",
    "else:\n",
    "    print(\"Its time for retirement\")\n",
    "### in this case the loop tops after 61. "
   ]
  },
  {
   "cell_type": "code",
   "execution_count": 14,
   "id": "3c989007",
   "metadata": {},
   "outputs": [
    {
     "name": "stdout",
     "output_type": "stream",
     "text": [
      "25\n",
      "26\n",
      "27\n",
      "28\n",
      "29\n",
      "30\n",
      "31\n",
      "32\n",
      "33\n",
      "34\n",
      "35\n",
      "36\n",
      "37\n",
      "38\n",
      "39\n",
      "40\n",
      "41\n",
      "42\n",
      "43\n",
      "44\n",
      "45\n",
      "46\n",
      "47\n",
      "48\n",
      "49\n",
      "50\n",
      "51\n",
      "52\n",
      "53\n",
      "54\n",
      "55\n",
      "56\n",
      "57\n",
      "58\n",
      "59\n",
      "60\n",
      "Its time for retirement\n"
     ]
    }
   ],
   "source": [
    "#to solve the above problem write print statement befor condition\n",
    "# while loop while-else\n",
    "joining_age=25\n",
    "while joining_age<=60:\n",
    "    print(joining_age)\n",
    "    joining_age=joining_age+1\n",
    "    \n",
    "else:\n",
    "    print(\"Its time for retirement\")\n",
    "\n"
   ]
  },
  {
   "cell_type": "markdown",
   "id": "53d366ea",
   "metadata": {
    "id": "UHyodZzR0mIv"
   },
   "source": [
    "### 2.2.2 For Loop\n",
    "\n",
    "   * Here `for` loop statement is used to iterates over an item at any order, items can be a `string` or a `list`.\n",
    "   \n",
    "**Examples**"
   ]
  },
  {
   "cell_type": "code",
   "execution_count": 20,
   "id": "46bed939",
   "metadata": {},
   "outputs": [
    {
     "name": "stdout",
     "output_type": "stream",
     "text": [
      "Mango\n",
      "Cherry\n",
      "Apple\n",
      "Papaya\n",
      "Banana\n",
      "List has no fruit left!\n"
     ]
    }
   ],
   "source": [
    "fruits_list = [\"Mango\",\"Cherry\",\"Apple\",\"Papaya\",\"Banana\"] ## List containing friuts name\n",
    "for x in fruits_list:\n",
    "    print(x)\n",
    "else:\n",
    "    print(\"List has no fruit left!\")"
   ]
  },
  {
   "cell_type": "code",
   "execution_count": 15,
   "id": "be3bae27",
   "metadata": {},
   "outputs": [
    {
     "name": "stdout",
     "output_type": "stream",
     "text": [
      "m\n",
      "a\n",
      "n\n",
      "g\n",
      "o\n"
     ]
    }
   ],
   "source": [
    "fruit='mango'\n",
    "for x in fruit:\n",
    "    print(x)\n",
    "#this show that string is also lis(i.e is basically a collection of characters)t by default"
   ]
  },
  {
   "cell_type": "code",
   "execution_count": 17,
   "id": "ffbd7425",
   "metadata": {},
   "outputs": [
    {
     "data": {
      "text/plain": [
       "'n'"
      ]
     },
     "execution_count": 17,
     "metadata": {},
     "output_type": "execute_result"
    }
   ],
   "source": [
    "#so we can use slicing in a string for example\n",
    "fruit[2]"
   ]
  },
  {
   "cell_type": "code",
   "execution_count": 19,
   "id": "76b311f3",
   "metadata": {},
   "outputs": [
    {
     "data": {
      "text/plain": [
       "'\\nrange(): range(start, stop[, step]) -> range object Return an object that produces a sequence of integers from start (inclusive)\\nto stop (exclusive) by step.  range(i, j)\\n'"
      ]
     },
     "execution_count": 19,
     "metadata": {},
     "output_type": "execute_result"
    }
   ],
   "source": [
    "\"\"\"\n",
    "range(): range(start, stop[, step]) -> range object Return an object that produces a sequence of integers from start (inclusive)\n",
    "to stop (exclusive) by step.  range(i, j)\n",
    "\"\"\" "
   ]
  },
  {
   "cell_type": "markdown",
   "id": "9b9584e7",
   "metadata": {
    "id": "qYDgjZMx0mJK"
   },
   "source": [
    "### 2.2.3 Nested Loops\n",
    "\n",
    "   * Nested loops is used to create one and more number of loop inside an existing `for` or `while` loop.\n",
    "   \n",
    "**Examples**"
   ]
  },
  {
   "cell_type": "raw",
   "id": "1d1102d0",
   "metadata": {},
   "source": [
    "Q1)- Create a right angle triangle as shown below using loop\n",
    "  \n",
    "* \n",
    "* * \n",
    "* * * \n",
    "* * * * \n",
    "* * * * * \n",
    "* * * * * * \n",
    "* * * * * * * "
   ]
  },
  {
   "cell_type": "code",
   "execution_count": 25,
   "id": "97f47536",
   "metadata": {},
   "outputs": [
    {
     "name": "stdout",
     "output_type": "stream",
     "text": [
      "* \n",
      "* \n",
      "* \n",
      "* \n",
      "* \n",
      "* \n",
      "* \n",
      "* \n",
      "* \n",
      "* \n",
      "* \n",
      "* \n",
      "* \n",
      "* \n",
      "* \n",
      "* \n",
      "* \n",
      "* \n",
      "* \n",
      "* \n",
      "* \n",
      "* \n",
      "* \n",
      "* \n",
      "* \n",
      "* \n",
      "* \n",
      "* \n"
     ]
    }
   ],
   "source": [
    "#concept-1\n",
    "##with every iteration the print statement execute on a new line\n",
    "#example\n",
    "n=7\n",
    "for i in range(0,n):\n",
    "    for j in range (0,i+1):\n",
    "        print(\"* \")\n",
    "    "
   ]
  },
  {
   "cell_type": "code",
   "execution_count": 26,
   "id": "b1f43380",
   "metadata": {},
   "outputs": [
    {
     "name": "stdout",
     "output_type": "stream",
     "text": [
      "* * * * * * * * * * * * * * * * * * * * * * * * * * * * "
     ]
    }
   ],
   "source": [
    "#to solve this proble use print(\"\",end\")\n",
    "n=7\n",
    "for i in range(0,n):\n",
    "    for j in range (0,i+1):\n",
    "        print(\"* \",end=\"\")\n",
    "\n",
    "    "
   ]
  },
  {
   "cell_type": "code",
   "execution_count": null,
   "id": "caa3f63c",
   "metadata": {},
   "outputs": [],
   "source": [
    "#concept-2\n",
    "#use \"\\r\" instead of \"\\n\" because in \\n a new line is added below which we do not want."
   ]
  },
  {
   "cell_type": "code",
   "execution_count": 28,
   "id": "c0b318ec",
   "metadata": {},
   "outputs": [
    {
     "name": "stdout",
     "output_type": "stream",
     "text": [
      "* \r\n",
      "* * \r\n",
      "* * * \r\n",
      "* * * * \r\n",
      "* * * * * \r\n",
      "* * * * * * \r\n",
      "* * * * * * * \r\n",
      "* * * * * * * * \r\n",
      "* * * * * * * * * \r\n",
      "* * * * * * * * * * \r\n"
     ]
    }
   ],
   "source": [
    "n=10 #n is length and width of triangle\n",
    "for i in range(0, n): #loop to handle the rows \n",
    "\n",
    "    for j in range(0, i+1): #loop to handle the columns \n",
    "\n",
    "        print(\"* \",end=\"\") #printing the stars \n",
    "\n",
    "    print(\"\\r\") #after each row line will end"
   ]
  },
  {
   "cell_type": "raw",
   "id": "1f5d0171",
   "metadata": {},
   "source": [
    "Q2)- Create a equilateral triangle as shown below using loop\n",
    "\n",
    "    *\n",
    "   ***\n",
    "  *****\n",
    " *******\n",
    "*********"
   ]
  },
  {
   "cell_type": "code",
   "execution_count": 44,
   "id": "e0032074",
   "metadata": {},
   "outputs": [
    {
     "name": "stdout",
     "output_type": "stream",
     "text": [
      "    *\n",
      "   ***\n",
      "  *****\n",
      " *******\n",
      "*********\n"
     ]
    }
   ],
   "source": [
    "num_rows = 5\n",
    "row = 0 #row intialize\n",
    "while(row < num_rows):\n",
    "    row += 1 #Rows count increase\n",
    "    s = num_rows - row #Spaces\n",
    "\n",
    "    sc = 0 #Space counter intialize\n",
    "    while(sc < s):\n",
    "        print(\" \", end='')\n",
    "        sc += 1\n",
    "\n",
    "    stars = 2*row-1 #Number of stars\n",
    "    while(stars > 0):\n",
    "        print(\"*\", end='')\n",
    "        stars -= 1\n",
    "\n",
    "    print()"
   ]
  },
  {
   "cell_type": "code",
   "execution_count": 49,
   "id": "0f34be63",
   "metadata": {},
   "outputs": [
    {
     "name": "stdout",
     "output_type": "stream",
     "text": [
      "Enter number of rows10\n",
      "         *\n",
      "        ***\n",
      "       *****\n",
      "      *******\n",
      "     *********\n",
      "    ***********\n",
      "   *************\n",
      "  ***************\n",
      " *****************\n",
      "*******************\n"
     ]
    }
   ],
   "source": [
    "nbr_rows=int(input(\"Enter number of rows\"))\n",
    "row =0\n",
    "for row in range (1,nbr_rows+1):\n",
    "    sc=0\n",
    "    s = nbr_rows-row\n",
    "    while (sc<s):\n",
    "        print(\" \",end='')\n",
    "        sc+=1\n",
    "    strs=2*row-1\n",
    "    str_count = strs\n",
    "    while(str_count>0):\n",
    "        print(\"*\",end='')\n",
    "        str_count-=1\n",
    "    print(\"\\r\")\n",
    "            \n",
    "        "
   ]
  },
  {
   "cell_type": "code",
   "execution_count": null,
   "id": "ad5f1f52",
   "metadata": {},
   "outputs": [],
   "source": []
  }
 ],
 "metadata": {
  "kernelspec": {
   "display_name": "Python 3 (ipykernel)",
   "language": "python",
   "name": "python3"
  },
  "language_info": {
   "codemirror_mode": {
    "name": "ipython",
    "version": 3
   },
   "file_extension": ".py",
   "mimetype": "text/x-python",
   "name": "python",
   "nbconvert_exporter": "python",
   "pygments_lexer": "ipython3",
   "version": "3.9.13"
  }
 },
 "nbformat": 4,
 "nbformat_minor": 5
}
