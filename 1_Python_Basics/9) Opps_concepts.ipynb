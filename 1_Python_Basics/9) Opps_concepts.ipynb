{
 "cells": [
  {
   "cell_type": "markdown",
   "id": "41d49862",
   "metadata": {},
   "source": [
    "# 9.1) Decorators"
   ]
  },
  {
   "cell_type": "markdown",
   "id": "2132659a",
   "metadata": {},
   "source": [
    "**Decorators are a very powerful and useful tool in Python since it allows programmers to modify the behaviour of a function or class. Decorators allow us to wrap another function in order to extend the behaviour of the wrapped function, without permanently modifying it. But before diving deep into decorators let us understand some concepts that will come in handy in learning the decorators.**"
   ]
  },
  {
   "cell_type": "markdown",
   "id": "4a38dcb0",
   "metadata": {},
   "source": [
    "**First Class Objects<br>\n",
    "In Python, functions are first class objects which means that functions in Python can be used or passed as arguments.\n",
    "Properties of first class functions:**\n",
    "> A function is an instance of the Object type.\n",
    "\n",
    "> You can store the function in a variable.\n",
    "\n",
    "> You can pass the function as a parameter to another function.\n",
    "\n",
    "> You can return the function from a function.\n",
    "\n",
    "> You can store them in data structures such as hash tables, lists, …"
   ]
  },
  {
   "cell_type": "code",
   "execution_count": 9,
   "id": "95f0c303",
   "metadata": {},
   "outputs": [
    {
     "name": "stdout",
     "output_type": "stream",
     "text": [
      "HELLO\n",
      "HELLO\n"
     ]
    }
   ],
   "source": [
    "# Python program to illustrate functions\n",
    "# can be treated as objects\n",
    "def shout(text):\n",
    "    return text.upper()\n",
    " \n",
    "print(shout('Hello'))\n",
    " \n",
    "yell = shout\n",
    " \n",
    "print(yell('Hello'))"
   ]
  },
  {
   "cell_type": "code",
   "execution_count": 10,
   "id": "40a5a9ac",
   "metadata": {},
   "outputs": [
    {
     "name": "stdout",
     "output_type": "stream",
     "text": [
      "HI, I AM CREATED BY A FUNCTION PASSED AS AN ARGUMENT.\n",
      "hi, i am created by a function passed as an argument.\n"
     ]
    }
   ],
   "source": [
    "# Python program to illustrate functions\n",
    "# can be passed as arguments to other functions\n",
    "def shout(text):\n",
    "    return text.upper()\n",
    " \n",
    "def whisper(text):\n",
    "    return text.lower()\n",
    " \n",
    "def greet(func):\n",
    "    # storing the function in a variable\n",
    "    greeting = func(\"\"\"Hi, I am created by a function passed as an argument.\"\"\")\n",
    "    print (greeting)\n",
    " \n",
    "greet(shout)\n",
    "greet(whisper)"
   ]
  },
  {
   "cell_type": "code",
   "execution_count": 8,
   "id": "a5555d22",
   "metadata": {},
   "outputs": [
    {
     "name": "stdout",
     "output_type": "stream",
     "text": [
      "25\n"
     ]
    }
   ],
   "source": [
    "# Python program to illustrate functions\n",
    "# Functions can return another function\n",
    " \n",
    "def create_adder(x):\n",
    "    def adder(y):\n",
    "        return x+y\n",
    " \n",
    "    return adder\n",
    " \n",
    "add_15 = create_adder(15)\n",
    " \n",
    "print(add_15(10))"
   ]
  },
  {
   "cell_type": "raw",
   "id": "55e3680f",
   "metadata": {},
   "source": [
    "Syntax for Decorator: \n",
    "\n",
    "@gfg_decorator\n",
    "def hello_decorator():\n",
    "    print(\"Gfg\")\n",
    "\n",
    "'''Above code is equivalent to -\n",
    "\n",
    "def hello_decorator():\n",
    "    print(\"Gfg\")"
   ]
  },
  {
   "cell_type": "markdown",
   "id": "b2b0ee52",
   "metadata": {},
   "source": [
    "simply decorators decorate a function just like we decorate our house without permenantle changing the house\n"
   ]
  },
  {
   "cell_type": "markdown",
   "id": "5ad09315",
   "metadata": {},
   "source": [
    "example1): Create a decorate that claculates the time taken to execute any function."
   ]
  },
  {
   "cell_type": "code",
   "execution_count": 2,
   "id": "6c71a281",
   "metadata": {},
   "outputs": [],
   "source": [
    "import time \n",
    "def timer(func):  #timer function with a function as an argument\n",
    "    def timer_inner():\n",
    "        start = time.time()\n",
    "        func()\n",
    "        end = time.time()\n",
    "        print(end-start)\n",
    "    return timer_inner\n"
   ]
  },
  {
   "cell_type": "code",
   "execution_count": 3,
   "id": "4af83e96",
   "metadata": {},
   "outputs": [],
   "source": [
    "def test1():\n",
    "    import time\n",
    "    start = time.time()\n",
    "    print(88+46)\n",
    "    end = time.time()\n",
    "    print(end-start)"
   ]
  },
  {
   "cell_type": "code",
   "execution_count": 4,
   "id": "224219a6",
   "metadata": {},
   "outputs": [],
   "source": [
    "#Suppose we have to calculate the execution time for each \n",
    "#function so instead of writing a code every time we can\n",
    "# use a decorator\n",
    "@timer\n",
    "def test2():  #function test2() decorated with test timer\n",
    "    print(88+46)"
   ]
  },
  {
   "cell_type": "code",
   "execution_count": 5,
   "id": "e35ce689",
   "metadata": {},
   "outputs": [
    {
     "name": "stdout",
     "output_type": "stream",
     "text": [
      "134\n",
      "0.0\n"
     ]
    }
   ],
   "source": [
    "test1()"
   ]
  },
  {
   "cell_type": "code",
   "execution_count": 6,
   "id": "8bc0fb63",
   "metadata": {
    "scrolled": true
   },
   "outputs": [
    {
     "name": "stdout",
     "output_type": "stream",
     "text": [
      "134\n",
      "0.0\n"
     ]
    }
   ],
   "source": [
    "test2()"
   ]
  },
  {
   "cell_type": "code",
   "execution_count": null,
   "id": "d74b0c26",
   "metadata": {},
   "outputs": [],
   "source": []
  },
  {
   "cell_type": "markdown",
   "id": "fd47fcd5",
   "metadata": {},
   "source": [
    "### Chaining Decorators\n",
    "**In simpler terms chaining decorators means decorating a function with multiple decorators.**\n",
    "\n",
    "**Example:**"
   ]
  },
  {
   "cell_type": "code",
   "execution_count": 7,
   "id": "71718265",
   "metadata": {},
   "outputs": [
    {
     "name": "stdout",
     "output_type": "stream",
     "text": [
      "400\n",
      "200\n"
     ]
    }
   ],
   "source": [
    "# code for testing decorator chaining\n",
    "def decor1(func):\n",
    "    def inner():\n",
    "        x = func()\n",
    "        return x * x\n",
    "    return inner\n",
    " \n",
    "def decor(func):\n",
    "    def inner():\n",
    "        x = func()\n",
    "        return 2 * x\n",
    "    return inner\n",
    " \n",
    "@decor1\n",
    "@decor\n",
    "def num():\n",
    "    return 10\n",
    " \n",
    "@decor\n",
    "@decor1 #1st decorator to be executed\n",
    "def num2():\n",
    "    return 10\n",
    "   \n",
    "print(num())\n",
    "print(num2())"
   ]
  },
  {
   "cell_type": "code",
   "execution_count": null,
   "id": "6e60eddf",
   "metadata": {},
   "outputs": [],
   "source": []
  },
  {
   "cell_type": "code",
   "execution_count": null,
   "id": "a3b34584",
   "metadata": {},
   "outputs": [],
   "source": []
  },
  {
   "cell_type": "markdown",
   "id": "8ba74d32",
   "metadata": {},
   "source": [
    "# 9.2)  Class Method"
   ]
  },
  {
   "cell_type": "markdown",
   "id": "081be09f",
   "metadata": {},
   "source": [
    "### The **classmethod** is an inbuilt function in Python, which returns a class method for a given function.;\n",
    "> Syntax: classmethod(function)\n",
    "\n",
    "> accepts the function name as a parameter\n",
    "\n",
    "> function returns the converted class method.\n",
    "<br>\n",
    "\n",
    "**You can also use @classmethod decorator for classmethod definition.**\n",
    "> "
   ]
  },
  {
   "cell_type": "code",
   "execution_count": 21,
   "id": "4b5572cd",
   "metadata": {},
   "outputs": [],
   "source": [
    "#python program to demonstrate \n",
    "# use of a class method and static method.\n",
    "\n",
    "from datetime import date\n",
    "\n",
    "class person:\n",
    "    def __init__(self,name,age):\n",
    "        self.name = name\n",
    "        self.age = age\n",
    "    def student_details(self):\n",
    "        print(self.name,self.age)\n",
    "    \n",
    "    #a class method to create a \n",
    "    #person object by birth year.\n",
    "    \n",
    "    "
   ]
  },
  {
   "cell_type": "code",
   "execution_count": 22,
   "id": "f23988e4",
   "metadata": {},
   "outputs": [],
   "source": [
    "obj = person('asit', 'asit@gmail.com')"
   ]
  },
  {
   "cell_type": "code",
   "execution_count": 23,
   "id": "3bf34ccf",
   "metadata": {},
   "outputs": [
    {
     "data": {
      "text/plain": [
       "<bound method person.student_details of <__main__.person object at 0x000002A08A1B0D00>>"
      ]
     },
     "execution_count": 23,
     "metadata": {},
     "output_type": "execute_result"
    }
   ],
   "source": [
    "obj.student_details\n",
    "#this shows that the method can be sccessed as a parameter"
   ]
  },
  {
   "cell_type": "code",
   "execution_count": 24,
   "id": "7b5ff8a5",
   "metadata": {},
   "outputs": [
    {
     "data": {
      "text/plain": [
       "'asit'"
      ]
     },
     "execution_count": 24,
     "metadata": {},
     "output_type": "execute_result"
    }
   ],
   "source": [
    "obj.name #name parater"
   ]
  },
  {
   "cell_type": "code",
   "execution_count": 25,
   "id": "6461d8f0",
   "metadata": {},
   "outputs": [
    {
     "data": {
      "text/plain": [
       "'asit@gmail.com'"
      ]
     },
     "execution_count": 25,
     "metadata": {},
     "output_type": "execute_result"
    }
   ],
   "source": [
    "obj.age"
   ]
  },
  {
   "cell_type": "markdown",
   "id": "03ebd30e",
   "metadata": {},
   "source": [
    "From above we can see both name and age can be accessed directly but for method we have to apply ()\n",
    "example"
   ]
  },
  {
   "cell_type": "code",
   "execution_count": 26,
   "id": "a07b22ce",
   "metadata": {},
   "outputs": [
    {
     "name": "stdout",
     "output_type": "stream",
     "text": [
      "asit asit@gmail.com\n"
     ]
    }
   ],
   "source": [
    "obj.student_details()"
   ]
  },
  {
   "cell_type": "markdown",
   "id": "30279b6e",
   "metadata": {},
   "source": [
    "### To avoid using object and directly access function/method using class name we use @classmethod"
   ]
  },
  {
   "cell_type": "code",
   "execution_count": 42,
   "id": "a7011c82",
   "metadata": {},
   "outputs": [],
   "source": [
    "#example\n",
    "class person:\n",
    "    def __init__(self,name,email):\n",
    "        self.naam = name\n",
    "        self.khat = email\n",
    "        \n",
    "    @classmethod\n",
    "    def details (cls,name1,email1): #here cls is binding our entire dataset to the class\n",
    "        return cls(name1,email1)\n",
    "    \n",
    "    def student_details(self):\n",
    "        print(self.naam,self.khat)"
   ]
  },
  {
   "cell_type": "code",
   "execution_count": 43,
   "id": "4077370b",
   "metadata": {
    "scrolled": true
   },
   "outputs": [],
   "source": [
    "#now we can access details method directly using class name \n",
    "#without making an object\n",
    "obj = person.details('asit','asit@gmail.com')"
   ]
  },
  {
   "cell_type": "code",
   "execution_count": 44,
   "id": "a2eaa207",
   "metadata": {},
   "outputs": [
    {
     "data": {
      "text/plain": [
       "'asit'"
      ]
     },
     "execution_count": 44,
     "metadata": {},
     "output_type": "execute_result"
    }
   ],
   "source": [
    "obj.naam"
   ]
  },
  {
   "cell_type": "code",
   "execution_count": 45,
   "id": "ac4f5bed",
   "metadata": {},
   "outputs": [
    {
     "data": {
      "text/plain": [
       "'asit@gmail.com'"
      ]
     },
     "execution_count": 45,
     "metadata": {},
     "output_type": "execute_result"
    }
   ],
   "source": [
    "obj.khat"
   ]
  },
  {
   "cell_type": "code",
   "execution_count": 46,
   "id": "9f22e2a6",
   "metadata": {},
   "outputs": [
    {
     "name": "stdout",
     "output_type": "stream",
     "text": [
      "asit asit@gmail.com\n"
     ]
    }
   ],
   "source": [
    "obj.student_details()"
   ]
  },
  {
   "cell_type": "markdown",
   "id": "1eab0076",
   "metadata": {},
   "source": [
    "### Here we achieved Function overloading i.e this class method is able to assign the name1 and email1 arguments to the __init__ function.\n",
    "\n",
    "### So Classmethod works as an alternative for __intit__ method"
   ]
  },
  {
   "cell_type": "code",
   "execution_count": null,
   "id": "690c2bfd",
   "metadata": {},
   "outputs": [],
   "source": []
  },
  {
   "cell_type": "code",
   "execution_count": 104,
   "id": "222a7762",
   "metadata": {},
   "outputs": [],
   "source": [
    "class person:\n",
    "    \n",
    "    mobile_number = 9134534535 #class variable can be accessed without creating an object\n",
    "    \n",
    "    def __init__(self, name , email):\n",
    "        \n",
    "        self.name = name\n",
    "        self.email = email\n",
    "    \n",
    "    @classmethod  #ClassMethod\n",
    "    def change_number(cls, mobile):\n",
    "        person.mobile_number = mobile\n",
    "    \n",
    "    @classmethod  #ClassMethod\n",
    "    def details(cls , name1 , email1):\n",
    "        return cls(name1 , email1)\n",
    "    \n",
    "    def student_details(self): #instance method\n",
    "        print(self.name , self.email,person.mobile_number)"
   ]
  },
  {
   "cell_type": "code",
   "execution_count": 105,
   "id": "61cbaaa4",
   "metadata": {},
   "outputs": [
    {
     "data": {
      "text/plain": [
       "9134534535"
      ]
     },
     "execution_count": 105,
     "metadata": {},
     "output_type": "execute_result"
    }
   ],
   "source": [
    "#Class veriable can be accessed without mking a class object\n",
    "#example\n",
    "person.mobile_number"
   ]
  },
  {
   "cell_type": "markdown",
   "id": "15375d62",
   "metadata": {},
   "source": [
    "student_details() can be accessed in 2 ways:-"
   ]
  },
  {
   "cell_type": "code",
   "execution_count": 108,
   "id": "f682f34c",
   "metadata": {},
   "outputs": [
    {
     "name": "stdout",
     "output_type": "stream",
     "text": [
      "asit asit@gmail 9134534535\n"
     ]
    }
   ],
   "source": [
    "#1 By creating veriable of Classmethod\n",
    "\n",
    "a = person.details('asit','asit@gmail')\n",
    "a.student_details()"
   ]
  },
  {
   "cell_type": "code",
   "execution_count": 111,
   "id": "730667d4",
   "metadata": {},
   "outputs": [
    {
     "name": "stdout",
     "output_type": "stream",
     "text": [
      "asit gmail.com 9134534535\n"
     ]
    }
   ],
   "source": [
    "#2 By creating a class object(for __init__ method):\n",
    "\n",
    "class_obj = person(\"asit\",\"gmail.com\")\n",
    "class_obj.student_details()"
   ]
  },
  {
   "cell_type": "code",
   "execution_count": 112,
   "id": "858f6717",
   "metadata": {},
   "outputs": [
    {
     "data": {
      "text/plain": [
       "'99889988'"
      ]
     },
     "execution_count": 112,
     "metadata": {},
     "output_type": "execute_result"
    }
   ],
   "source": [
    "#Accessing and changing Mobilbe no. using ClassMethod  \n",
    "person.change_number(\"99889988\")\n",
    "person.mobile_number"
   ]
  },
  {
   "cell_type": "markdown",
   "id": "3d2a0191",
   "metadata": {},
   "source": [
    "### Class method\n",
    "> Class method is a global method which will be accessable by all the object.It only tries to create one instances. \n",
    "\n",
    "### Instance/__init__ method\n",
    "> Creates multiple insatance for multiple objects. Therefore takes lot of memory."
   ]
  },
  {
   "cell_type": "code",
   "execution_count": 127,
   "id": "31a3d662",
   "metadata": {},
   "outputs": [],
   "source": [
    "#example\n",
    "class person2:\n",
    "    \n",
    "    mobile_number = 9134534535 #class variable can be accessed without creating an object\n",
    "    \n",
    "    def __init__(self, name , email):\n",
    "        \n",
    "        self.name = name\n",
    "        self.email = email\n",
    "    \n",
    "    @classmethod  #ClassMethod\n",
    "    def change_number(cls, mobile):\n",
    "        person2.mobile_number = mobile\n",
    "    \n",
    "    @classmethod  #ClassMethod\n",
    "    def details(cls , name1 , email1):\n",
    "        return cls(name1 , email1)\n",
    "    \n",
    "    def student_details(self): #instance method\n",
    "        print(self.name , self.email,person2.mobile_number)"
   ]
  },
  {
   "cell_type": "code",
   "execution_count": 135,
   "id": "e3c105fb",
   "metadata": {},
   "outputs": [],
   "source": [
    "#passing details through instance method\n",
    "person2_obj = person2('asit','asit@gmail')"
   ]
  },
  {
   "cell_type": "code",
   "execution_count": 136,
   "id": "56057578",
   "metadata": {},
   "outputs": [],
   "source": [
    "#passing details using classmethod\n",
    "a = person2_obj.details(\"Euphor\",\"Euphor@gmail\")"
   ]
  },
  {
   "cell_type": "code",
   "execution_count": 137,
   "id": "939962dc",
   "metadata": {},
   "outputs": [
    {
     "name": "stdout",
     "output_type": "stream",
     "text": [
      "Euphor Euphor@gmail 9134534535\n"
     ]
    }
   ],
   "source": [
    "#Now lets see the above passed data\n",
    "a.student_details()\n",
    "#only once instance created"
   ]
  },
  {
   "cell_type": "code",
   "execution_count": 138,
   "id": "4b9b7f5e",
   "metadata": {},
   "outputs": [
    {
     "name": "stdout",
     "output_type": "stream",
     "text": [
      "asit asit@gmail 9134534535\n"
     ]
    }
   ],
   "source": [
    "person2_obj.student_details()\n",
    "#multiple objects there fore multiple instance"
   ]
  },
  {
   "cell_type": "code",
   "execution_count": null,
   "id": "2d3773ce",
   "metadata": {},
   "outputs": [],
   "source": []
  },
  {
   "cell_type": "markdown",
   "id": "cb388715",
   "metadata": {},
   "source": [
    "### Adding an External Function to a class"
   ]
  },
  {
   "cell_type": "code",
   "execution_count": 154,
   "id": "1a2e68b1",
   "metadata": {},
   "outputs": [],
   "source": [
    "class person3:\n",
    "    \n",
    "    mobile_number = 9134534535 #class variable can be accessed without creating an object\n",
    "    \n",
    "    def __init__(self, name , email):\n",
    "        \n",
    "        self.name = name\n",
    "        self.email = email\n",
    "    \n",
    "    @classmethod  #ClassMethod\n",
    "    def change_number(cls, mobile):\n",
    "        person3.mobile_number = mobile\n",
    "    \n",
    "    @classmethod  #ClassMethod\n",
    "    def details(cls , name1 , email1):\n",
    "        return cls(name1 , email1)\n",
    "    \n",
    "    def student_details(self): #instance method\n",
    "        print(self.name , self.email,person3.mobile_number)"
   ]
  },
  {
   "cell_type": "code",
   "execution_count": 155,
   "id": "41b3556f",
   "metadata": {},
   "outputs": [],
   "source": [
    "#Function to be added\n",
    "def course_details(cls, cousre_name):\n",
    "    print(\"course details:- \", cousre_name)"
   ]
  },
  {
   "cell_type": "code",
   "execution_count": 156,
   "id": "9ee53105",
   "metadata": {},
   "outputs": [],
   "source": [
    "#adding Function\n",
    "person3.course_details = classmethod(course_details)"
   ]
  },
  {
   "cell_type": "code",
   "execution_count": 157,
   "id": "3de6e25b",
   "metadata": {},
   "outputs": [
    {
     "name": "stdout",
     "output_type": "stream",
     "text": [
      "course details:-  data science\n"
     ]
    }
   ],
   "source": [
    "#now course deatail is added:\n",
    "person3.course_details(\"data science\")"
   ]
  },
  {
   "cell_type": "code",
   "execution_count": 159,
   "id": "07e78a72",
   "metadata": {},
   "outputs": [],
   "source": [
    "#accessing course details using object\n",
    "person3_obj = person3(\"asit\",\"asit2gmail\")"
   ]
  },
  {
   "cell_type": "code",
   "execution_count": 163,
   "id": "ebd39977",
   "metadata": {},
   "outputs": [
    {
     "name": "stdout",
     "output_type": "stream",
     "text": [
      "course details:-  Big Data\n"
     ]
    }
   ],
   "source": [
    "person3_obj.course_details(\"Big Data\")"
   ]
  },
  {
   "cell_type": "code",
   "execution_count": null,
   "id": "384f9307",
   "metadata": {},
   "outputs": [],
   "source": []
  },
  {
   "cell_type": "markdown",
   "id": "cf1b3a61",
   "metadata": {},
   "source": [
    "### Deleting Function inside Class"
   ]
  },
  {
   "cell_type": "code",
   "execution_count": 165,
   "id": "9195b4e1",
   "metadata": {},
   "outputs": [],
   "source": [
    "#Deleting Change no Classmethod\n",
    "class person4:\n",
    "    \n",
    "    mobile_number = 9134534535 #class variable can be accessed without creating an object\n",
    "    \n",
    "    def __init__(self, name , email):\n",
    "        \n",
    "        self.name = name\n",
    "        self.email = email\n",
    "    \n",
    "    @classmethod  #ClassMethod\n",
    "    def change_number(cls, mobile):\n",
    "        person4.mobile_number = mobile\n",
    "    \n",
    "    @classmethod  #ClassMethod\n",
    "    def details(cls , name1 , email1):\n",
    "        return cls(name1 , email1)\n",
    "    \n",
    "    def student_details(self): #instance method\n",
    "        print(self.name , self.email,person4.mobile_number)"
   ]
  },
  {
   "cell_type": "code",
   "execution_count": 167,
   "id": "a2d7ee93",
   "metadata": {},
   "outputs": [
    {
     "ename": "AttributeError",
     "evalue": "change_number",
     "output_type": "error",
     "traceback": [
      "\u001b[1;31m---------------------------------------------------------------------------\u001b[0m",
      "\u001b[1;31mAttributeError\u001b[0m                            Traceback (most recent call last)",
      "\u001b[1;32m~\\AppData\\Local\\Temp\\ipykernel_17316\\1056426125.py\u001b[0m in \u001b[0;36m<module>\u001b[1;34m\u001b[0m\n\u001b[0;32m      1\u001b[0m \u001b[1;31m#1st method\u001b[0m\u001b[1;33m\u001b[0m\u001b[1;33m\u001b[0m\u001b[0m\n\u001b[1;32m----> 2\u001b[1;33m \u001b[1;32mdel\u001b[0m \u001b[0mperson4\u001b[0m\u001b[1;33m.\u001b[0m\u001b[0mchange_number\u001b[0m\u001b[1;33m\u001b[0m\u001b[1;33m\u001b[0m\u001b[0m\n\u001b[0m\u001b[0;32m      3\u001b[0m \u001b[0mperson4\u001b[0m\u001b[1;33m.\u001b[0m\u001b[0mchange_number\u001b[0m\u001b[1;33m(\u001b[0m\u001b[1;33m)\u001b[0m\u001b[1;33m\u001b[0m\u001b[1;33m\u001b[0m\u001b[0m\n",
      "\u001b[1;31mAttributeError\u001b[0m: change_number"
     ]
    }
   ],
   "source": [
    "#1st method\n",
    "del person4.change_number\n",
    "person4.change_number()"
   ]
  },
  {
   "cell_type": "code",
   "execution_count": 171,
   "id": "a9c2edb0",
   "metadata": {},
   "outputs": [
    {
     "data": {
      "text/plain": [
       "<__main__.person4 at 0x2a08a889760>"
      ]
     },
     "execution_count": 171,
     "metadata": {},
     "output_type": "execute_result"
    }
   ],
   "source": [
    "#2nd Method\n",
    "#delattr(\"class name\",\"method/variable\")\n",
    "person4.details(\"asit\",\"@gmail\")"
   ]
  },
  {
   "cell_type": "code",
   "execution_count": 172,
   "id": "22fb4f11",
   "metadata": {},
   "outputs": [],
   "source": [
    "delattr(person4,\"details\")"
   ]
  },
  {
   "cell_type": "code",
   "execution_count": 173,
   "id": "e1acdb80",
   "metadata": {},
   "outputs": [
    {
     "ename": "AttributeError",
     "evalue": "type object 'person4' has no attribute 'details'",
     "output_type": "error",
     "traceback": [
      "\u001b[1;31m---------------------------------------------------------------------------\u001b[0m",
      "\u001b[1;31mAttributeError\u001b[0m                            Traceback (most recent call last)",
      "\u001b[1;32m~\\AppData\\Local\\Temp\\ipykernel_17316\\3240978607.py\u001b[0m in \u001b[0;36m<module>\u001b[1;34m\u001b[0m\n\u001b[1;32m----> 1\u001b[1;33m \u001b[0mperson4\u001b[0m\u001b[1;33m.\u001b[0m\u001b[0mdetails\u001b[0m\u001b[1;33m(\u001b[0m\u001b[1;33m)\u001b[0m\u001b[1;33m\u001b[0m\u001b[1;33m\u001b[0m\u001b[0m\n\u001b[0m",
      "\u001b[1;31mAttributeError\u001b[0m: type object 'person4' has no attribute 'details'"
     ]
    }
   ],
   "source": [
    "person4.details()"
   ]
  },
  {
   "cell_type": "code",
   "execution_count": null,
   "id": "f9a3422d",
   "metadata": {},
   "outputs": [],
   "source": []
  },
  {
   "cell_type": "code",
   "execution_count": 174,
   "id": "9700192a",
   "metadata": {},
   "outputs": [
    {
     "data": {
      "text/plain": [
       "9134534535"
      ]
     },
     "execution_count": 174,
     "metadata": {},
     "output_type": "execute_result"
    }
   ],
   "source": [
    "#deleting varible\n",
    "person4.mobile_number"
   ]
  },
  {
   "cell_type": "code",
   "execution_count": 175,
   "id": "e439ca69",
   "metadata": {},
   "outputs": [],
   "source": [
    "delattr(person4,\"mobile_number\")"
   ]
  },
  {
   "cell_type": "code",
   "execution_count": 176,
   "id": "ff612815",
   "metadata": {},
   "outputs": [
    {
     "ename": "AttributeError",
     "evalue": "type object 'person4' has no attribute 'mobile_number'",
     "output_type": "error",
     "traceback": [
      "\u001b[1;31m---------------------------------------------------------------------------\u001b[0m",
      "\u001b[1;31mAttributeError\u001b[0m                            Traceback (most recent call last)",
      "\u001b[1;32m~\\AppData\\Local\\Temp\\ipykernel_17316\\2283090502.py\u001b[0m in \u001b[0;36m<module>\u001b[1;34m\u001b[0m\n\u001b[1;32m----> 1\u001b[1;33m \u001b[0mperson4\u001b[0m\u001b[1;33m.\u001b[0m\u001b[0mmobile_number\u001b[0m\u001b[1;33m\u001b[0m\u001b[1;33m\u001b[0m\u001b[0m\n\u001b[0m",
      "\u001b[1;31mAttributeError\u001b[0m: type object 'person4' has no attribute 'mobile_number'"
     ]
    }
   ],
   "source": [
    "person4.mobile_number"
   ]
  },
  {
   "cell_type": "code",
   "execution_count": null,
   "id": "59e53021",
   "metadata": {},
   "outputs": [],
   "source": []
  },
  {
   "cell_type": "code",
   "execution_count": 178,
   "id": "9f05d002",
   "metadata": {},
   "outputs": [],
   "source": [
    "#deleting Instance method\n",
    "delattr(person4,\"student_details\")"
   ]
  },
  {
   "cell_type": "code",
   "execution_count": 179,
   "id": "6a347969",
   "metadata": {},
   "outputs": [
    {
     "ename": "AttributeError",
     "evalue": "type object 'person4' has no attribute 'student_details'",
     "output_type": "error",
     "traceback": [
      "\u001b[1;31m---------------------------------------------------------------------------\u001b[0m",
      "\u001b[1;31mAttributeError\u001b[0m                            Traceback (most recent call last)",
      "\u001b[1;32m~\\AppData\\Local\\Temp\\ipykernel_17316\\5600445.py\u001b[0m in \u001b[0;36m<module>\u001b[1;34m\u001b[0m\n\u001b[1;32m----> 1\u001b[1;33m \u001b[0mperson4\u001b[0m\u001b[1;33m.\u001b[0m\u001b[0mstudent_details\u001b[0m\u001b[1;33m\u001b[0m\u001b[1;33m\u001b[0m\u001b[0m\n\u001b[0m",
      "\u001b[1;31mAttributeError\u001b[0m: type object 'person4' has no attribute 'student_details'"
     ]
    }
   ],
   "source": [
    "person4.student_details"
   ]
  },
  {
   "cell_type": "code",
   "execution_count": null,
   "id": "714ebbbb",
   "metadata": {},
   "outputs": [],
   "source": []
  },
  {
   "cell_type": "code",
   "execution_count": null,
   "id": "ffa43b09",
   "metadata": {},
   "outputs": [],
   "source": []
  },
  {
   "cell_type": "markdown",
   "id": "96328a71",
   "metadata": {},
   "source": [
    "## 9.3) Static Method"
   ]
  },
  {
   "cell_type": "markdown",
   "id": "2973dfed",
   "metadata": {},
   "source": [
    "### Static Vs Class method\n",
    "\n",
    "\n",
    "| **Static Method** | **Class Method**   |\n",
    "|------|------|\n",
    "|  needs no specific parameters   | class method takes cls as the first parameter|\n",
    "| | |\n",
    "| static methods know nothing about the class state | class methods must have class as a parameter |\n",
    "| use @staticmethod decorator to create a static method in python | use @classmethod decorator in python to create a class method |\n",
    "| | |\n",
    "| **Static method always reduces memory utilization at any instance of time** | **Class method helps to overload __init__ method and gives us an access tu a variable to perform any operatioin** |"
   ]
  },
  {
   "cell_type": "code",
   "execution_count": 189,
   "id": "221feea8",
   "metadata": {},
   "outputs": [],
   "source": [
    "class information:\n",
    "    def student_details(self , name , mail_id , number) : \n",
    "        print(name , mail_id, number)\n",
    "    #the above function depends on an object \n",
    "    #So if we have millions of object then we have to create \n",
    "    #millions of object which increases memory utilisation\n",
    "    \n",
    "    \n",
    "    \n",
    "    @staticmethod\n",
    "    def mentor_mail_id(mail_id):\n",
    "        print(mail_id)\n",
    "        \n",
    "    @staticmethod \n",
    "    def mentor_class(list_mentor) : #no self/cls is claaed in @staticmethod\n",
    "        print(list_mentor)\n",
    "        information.mentor_mail_id([\"krish@gmail.com\" , \"sudh@gmail.com\"])\n",
    "        \n",
    "    @classmethod\n",
    "    def class_name(cls,class_name):\n",
    "        cls.mentor_class([\"sudh\" , \"krish\"])\n",
    "        \n",
    "    def mentor(self , mentor_list) : #can only be accessed htrough an onject\n",
    "        print(mentor_list)\n",
    "        self.mentor_class([\"krish\" , \"sudh\"])"
   ]
  },
  {
   "cell_type": "code",
   "execution_count": 190,
   "id": "49114623",
   "metadata": {},
   "outputs": [
    {
     "name": "stdout",
     "output_type": "stream",
     "text": [
      "asit mail@mail 1769\n"
     ]
    }
   ],
   "source": [
    "#Object Creation\n",
    "info_obj = information()\n",
    "info_obj.student_details('asit','mail@mail',1769)\n",
    "\n",
    "#the above function depends on an object \n",
    "#So if we have millions of object then we have to create  \n",
    "#millions of object which increases memory utilisation"
   ]
  },
  {
   "cell_type": "code",
   "execution_count": 194,
   "id": "58bef721",
   "metadata": {},
   "outputs": [
    {
     "name": "stdout",
     "output_type": "stream",
     "text": [
      "['asit', 'krish', 'another sir']\n",
      "['krish@gmail.com', 'sudh@gmail.com']\n"
     ]
    }
   ],
   "source": [
    "# calling mentor class\n",
    "information.mentor_class([\"asit\",\"krish\",\"another sir\"])\n",
    "#shows that static method can be called directly"
   ]
  },
  {
   "cell_type": "code",
   "execution_count": 198,
   "id": "6da56054",
   "metadata": {},
   "outputs": [
    {
     "name": "stdout",
     "output_type": "stream",
     "text": [
      "['asit', 'krish', 'sudh']\n",
      "['krish', 'sudh']\n",
      "['krish@gmail.com', 'sudh@gmail.com']\n"
     ]
    }
   ],
   "source": [
    "#Accessing mentro():\n",
    "info_obj_mentor = information()\n",
    "info_obj_mentor.mentor([\"asit\",\"krish\",\"sudh\"])"
   ]
  },
  {
   "cell_type": "raw",
   "id": "a87a7256",
   "metadata": {},
   "source": []
  },
  {
   "cell_type": "raw",
   "id": "264bde3c",
   "metadata": {},
   "source": []
  },
  {
   "cell_type": "markdown",
   "id": "2d7de6e8",
   "metadata": {},
   "source": [
    "## 9.4) Magic/Dunder Method"
   ]
  },
  {
   "cell_type": "markdown",
   "id": "e26541cb",
   "metadata": {},
   "source": [
    "Its is not adviciable to use this method directly"
   ]
  },
  {
   "cell_type": "code",
   "execution_count": 199,
   "id": "e6256582",
   "metadata": {},
   "outputs": [
    {
     "data": {
      "text/plain": [
       "['__add__',\n",
       " '__class__',\n",
       " '__contains__',\n",
       " '__delattr__',\n",
       " '__dir__',\n",
       " '__doc__',\n",
       " '__eq__',\n",
       " '__format__',\n",
       " '__ge__',\n",
       " '__getattribute__',\n",
       " '__getitem__',\n",
       " '__getnewargs__',\n",
       " '__gt__',\n",
       " '__hash__',\n",
       " '__init__',\n",
       " '__init_subclass__',\n",
       " '__iter__',\n",
       " '__le__',\n",
       " '__len__',\n",
       " '__lt__',\n",
       " '__mod__',\n",
       " '__mul__',\n",
       " '__ne__',\n",
       " '__new__',\n",
       " '__reduce__',\n",
       " '__reduce_ex__',\n",
       " '__repr__',\n",
       " '__rmod__',\n",
       " '__rmul__',\n",
       " '__setattr__',\n",
       " '__sizeof__',\n",
       " '__str__',\n",
       " '__subclasshook__',\n",
       " 'capitalize',\n",
       " 'casefold',\n",
       " 'center',\n",
       " 'count',\n",
       " 'encode',\n",
       " 'endswith',\n",
       " 'expandtabs',\n",
       " 'find',\n",
       " 'format',\n",
       " 'format_map',\n",
       " 'index',\n",
       " 'isalnum',\n",
       " 'isalpha',\n",
       " 'isascii',\n",
       " 'isdecimal',\n",
       " 'isdigit',\n",
       " 'isidentifier',\n",
       " 'islower',\n",
       " 'isnumeric',\n",
       " 'isprintable',\n",
       " 'isspace',\n",
       " 'istitle',\n",
       " 'isupper',\n",
       " 'join',\n",
       " 'ljust',\n",
       " 'lower',\n",
       " 'lstrip',\n",
       " 'maketrans',\n",
       " 'partition',\n",
       " 'removeprefix',\n",
       " 'removesuffix',\n",
       " 'replace',\n",
       " 'rfind',\n",
       " 'rindex',\n",
       " 'rjust',\n",
       " 'rpartition',\n",
       " 'rsplit',\n",
       " 'rstrip',\n",
       " 'split',\n",
       " 'splitlines',\n",
       " 'startswith',\n",
       " 'strip',\n",
       " 'swapcase',\n",
       " 'title',\n",
       " 'translate',\n",
       " 'upper',\n",
       " 'zfill']"
      ]
     },
     "execution_count": 199,
     "metadata": {},
     "output_type": "execute_result"
    }
   ],
   "source": [
    "#How to Know Dunder methods?\n",
    "dir(str)"
   ]
  },
  {
   "cell_type": "code",
   "execution_count": 200,
   "id": "4daaee7e",
   "metadata": {},
   "outputs": [
    {
     "data": {
      "text/plain": [
       "16"
      ]
     },
     "execution_count": 200,
     "metadata": {},
     "output_type": "execute_result"
    }
   ],
   "source": [
    "#using dunder methods.\n",
    "a = 10\n",
    "a.__add__(6)"
   ]
  },
  {
   "cell_type": "code",
   "execution_count": 201,
   "id": "42132744",
   "metadata": {},
   "outputs": [],
   "source": [
    "#Getting an output from a class object"
   ]
  },
  {
   "cell_type": "code",
   "execution_count": 205,
   "id": "3217a023",
   "metadata": {},
   "outputs": [],
   "source": [
    "# by default a class objects does print an output\n",
    "#example\n",
    "\n",
    "class phone():\n",
    "    def __init__(self):\n",
    "        self.phone_no = 9944668834\n",
    "        #return self.phone_no- not possible as __init__ should return none"
   ]
  },
  {
   "cell_type": "code",
   "execution_count": 207,
   "id": "11f4e6d4",
   "metadata": {},
   "outputs": [
    {
     "name": "stdout",
     "output_type": "stream",
     "text": [
      "<__main__.phone object at 0x000002A0861A6CA0>\n"
     ]
    }
   ],
   "source": [
    "a = phone()\n",
    "print(a)"
   ]
  },
  {
   "cell_type": "code",
   "execution_count": 209,
   "id": "688d9e4b",
   "metadata": {},
   "outputs": [],
   "source": [
    "class phone1():\n",
    "    def __init__(self):\n",
    "        self.phone_no = 9946843218\n",
    "    def __str__(self):\n",
    "        return \"This is method which will print something for object\""
   ]
  },
  {
   "cell_type": "code",
   "execution_count": 211,
   "id": "41d8cf2e",
   "metadata": {},
   "outputs": [
    {
     "name": "stdout",
     "output_type": "stream",
     "text": [
      "This is method which will print something for object\n"
     ]
    }
   ],
   "source": [
    "obj = phone1()\n",
    "print(obj)"
   ]
  },
  {
   "cell_type": "code",
   "execution_count": null,
   "id": "883d79fa",
   "metadata": {},
   "outputs": [],
   "source": []
  },
  {
   "cell_type": "code",
   "execution_count": null,
   "id": "e6f28288",
   "metadata": {},
   "outputs": [],
   "source": []
  },
  {
   "cell_type": "markdown",
   "id": "ffca8988",
   "metadata": {},
   "source": [
    "## 9.5) Property Decorators"
   ]
  },
  {
   "cell_type": "code",
   "execution_count": 241,
   "id": "9ec8faa9",
   "metadata": {},
   "outputs": [],
   "source": [
    "class property_access():\n",
    "    \n",
    "    def __init__(self, course_price , course_name):\n",
    "        self.__course_price = course_price\n",
    "        self.course_name = course_name\n",
    "        \n",
    "    #helps in exposing our class property (i.e private veriable) to outer world. \n",
    "    def course_price_access(self):\n",
    "        return self.__course_price\n",
    "    \n",
    "    \n",
    "    def course_price_set(self , price):\n",
    "        if price <= 3500:\n",
    "            pass\n",
    "        else :\n",
    "            self.__course_price = price\n",
    "            \n",
    "    \n",
    "    def course_price_del(self):\n",
    "        del  self.__course_price\n",
    "    \n",
    "        \n",
    "    \n",
    "    "
   ]
  },
  {
   "cell_type": "code",
   "execution_count": 242,
   "id": "2efb9c44",
   "metadata": {},
   "outputs": [],
   "source": [
    "p_obj = property_access(3500,'Data')"
   ]
  },
  {
   "cell_type": "code",
   "execution_count": 243,
   "id": "12672294",
   "metadata": {},
   "outputs": [
    {
     "data": {
      "text/plain": [
       "3500"
      ]
     },
     "execution_count": 243,
     "metadata": {},
     "output_type": "execute_result"
    }
   ],
   "source": [
    "p_obj.course_price_access()"
   ]
  },
  {
   "cell_type": "code",
   "execution_count": 244,
   "id": "07c741b5",
   "metadata": {},
   "outputs": [],
   "source": [
    "p_obj.course_price_set(3600)"
   ]
  },
  {
   "cell_type": "code",
   "execution_count": 245,
   "id": "f04d69bb",
   "metadata": {},
   "outputs": [
    {
     "data": {
      "text/plain": [
       "3600"
      ]
     },
     "execution_count": 245,
     "metadata": {},
     "output_type": "execute_result"
    }
   ],
   "source": [
    "p_obj.course_price_access()\n",
    "#Here we can see we can't change the value of the Private veriable"
   ]
  },
  {
   "cell_type": "code",
   "execution_count": null,
   "id": "158afd2f",
   "metadata": {},
   "outputs": [],
   "source": []
  }
 ],
 "metadata": {
  "kernelspec": {
   "display_name": "Python 3 (ipykernel)",
   "language": "python",
   "name": "python3"
  },
  "language_info": {
   "codemirror_mode": {
    "name": "ipython",
    "version": 3
   },
   "file_extension": ".py",
   "mimetype": "text/x-python",
   "name": "python",
   "nbconvert_exporter": "python",
   "pygments_lexer": "ipython3",
   "version": "3.9.13"
  }
 },
 "nbformat": 4,
 "nbformat_minor": 5
}
