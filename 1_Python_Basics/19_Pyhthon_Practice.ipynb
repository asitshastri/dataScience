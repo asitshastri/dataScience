{
 "cells": [
  {
   "cell_type": "markdown",
   "id": "af445e8c",
   "metadata": {},
   "source": [
    "### <a href=\"../PDFs/Python%20Practice%20Set%201.pdf\">Practice set 1</a> | <a href=\"../PDFs/Python%20Practice%20Set%202.pdf\">Practice set 2</a> | <a href=\"../PDFs/Python%20Practice%20Set%203.pdf\">Practice set 3</a> | <a href=\"../PDFs/Python%20Practice%20Set%204.pdf\">Practice set 4</a> | <a href=\"../PDFs/Python%20Practice%20Set%205.pdf\">Practice set 5</a>\n",
    "### <a href=\"../PDFs/Python%20Practice%20Set%206.pdf\">Practice set 6</a> | <a href=\"../PDFs/Python%20Practice%20Set%207.pdf\">Practice set 7</a> | <a href=\"../PDFs/Copy%20of%20Python%20Practice%20Set8.ipynb\">Practice set 8</a> | <a href=\"../PDFs/Copy%20of%20Python%20Practice%20Set9.ipynb\">Practice set 9</a> | <a href=\"../PDFs/Python%20Practice%20Set%2010.pdf\">Practice set 10</a>\n",
    "### <a href=\"../PDFs/Python%20Practice%20Set%2011.pdf\">Practice set 11</a>"
   ]
  },
  {
   "cell_type": "markdown",
   "id": "df32cbb6",
   "metadata": {},
   "source": [
    "## Practice set 1"
   ]
  },
  {
   "cell_type": "code",
   "execution_count": 57,
   "id": "6f27ec96",
   "metadata": {},
   "outputs": [
    {
     "name": "stdout",
     "output_type": "stream",
     "text": [
      "11\n",
      "25\n",
      "2\n",
      "3\n",
      "5\n",
      "7\n",
      "11\n",
      "13\n",
      "17\n",
      "19\n",
      "23\n",
      "29\n",
      "31\n",
      "37\n",
      "41\n",
      "43\n",
      "47\n",
      "53\n",
      "59\n",
      "61\n",
      "67\n",
      "71\n",
      "73\n",
      "79\n",
      "83\n",
      "89\n",
      "97\n",
      "101\n",
      "103\n",
      "107\n",
      "109\n",
      "113\n",
      "127\n",
      "131\n",
      "137\n",
      "139\n",
      "149\n",
      "151\n",
      "157\n",
      "163\n",
      "167\n",
      "173\n",
      "179\n",
      "181\n",
      "191\n",
      "193\n",
      "197\n",
      "199\n",
      "211\n",
      "223\n",
      "227\n",
      "229\n"
     ]
    }
   ],
   "source": [
    "import math\n",
    "##Q1\n",
    "def add_numbers(x,y):\n",
    "    return x+y\n",
    "print(add_numbers(5,6))\n",
    "\n",
    "##Q2\n",
    "print(int(math.sqrt(625)))\n",
    "\n",
    "##Q3-print prime\n",
    "\n",
    "def is_prime(n):\n",
    "    if (n <= 1):\n",
    "        return False\n",
    "    if (n == 2):\n",
    "        return True\n",
    "    if (n % 2 == 0):\n",
    "        return False\n",
    "\n",
    "    i = 3\n",
    "    while i <= math.sqrt(n):\n",
    "        if n % i == 0:\n",
    "            return False\n",
    "        i = i + 2\n",
    "\n",
    "    return True\n",
    "def generatePrime():\n",
    "    n = 1\n",
    "    while True:\n",
    "        n += 1\n",
    "        if is_prime(n):\n",
    "            yield n\n",
    "generator = generatePrime()\n",
    "for i in range(0,50):\n",
    "    print(next(generator))"
   ]
  },
  {
   "cell_type": "code",
   "execution_count": 64,
   "id": "4a136f61",
   "metadata": {},
   "outputs": [
    {
     "name": "stdout",
     "output_type": "stream",
     "text": [
      "Enter year: 2000\n",
      "2000 is a leap year\n"
     ]
    }
   ],
   "source": [
    "#10. Write a program the given year is 1996  a leap year.\n",
    "year = int(input(\"Enter year: \"))\n",
    "if(year%4==0 and year%100!=0) or (year%400==0):\n",
    "    print(f\"{year} is a leap year\")\n",
    "else:\n",
    "    print(f\"{year} is not leap year\")"
   ]
  },
  {
   "cell_type": "code",
   "execution_count": 74,
   "id": "73516012",
   "metadata": {},
   "outputs": [
    {
     "name": "stdout",
     "output_type": "stream",
     "text": [
      "Enter a num:153\n",
      "153 is an armstrong number\n"
     ]
    }
   ],
   "source": [
    "#9.Write a program to check a given number 371 is an Armstrong number?\n",
    "def isArmstrong(num):\n",
    "    numstr = str(num)\n",
    "    digitnum = len(numstr)\n",
    "    \n",
    "    cubeSum = sum([int(digit)**digitnum for digit in numstr])\n",
    "    if cubeSum ==num:\n",
    "        return True\n",
    "    else:\n",
    "        return False\n",
    "num = int(input(\"Enter a num:\"))\n",
    "if isArmstrong(num):\n",
    "    print(f\"{num} is an armstrong number\")\n",
    "else:\n",
    "    print(f\"{num} is not an Armstrong no.\")"
   ]
  },
  {
   "cell_type": "code",
   "execution_count": 78,
   "id": "fd9a82dd",
   "metadata": {},
   "outputs": [
    {
     "name": "stdout",
     "output_type": "stream",
     "text": [
      "reverse of 5436 is 6345\n"
     ]
    }
   ],
   "source": [
    "#*8*. Write a program for reversing the given number  5436 and the output  should be 6345.\n",
    "#reversing a number\n",
    "def reverseNum(num):\n",
    "    digit = num\n",
    "    reverse =0\n",
    "    while num>0:\n",
    "        digit = num%10\n",
    "        reverse = (reverse*10)+digit\n",
    "        num//=10\n",
    "    return reverse\n",
    "print(f\"reverse of 5436 is {reverseNum(5436)}\")"
   ]
  },
  {
   "cell_type": "code",
   "execution_count": 81,
   "id": "ad1819a8",
   "metadata": {},
   "outputs": [
    {
     "name": "stdout",
     "output_type": "stream",
     "text": [
      "Enter a num: 76543\n",
      "Sum of digits in 76543 is: 25\n"
     ]
    }
   ],
   "source": [
    "#7. Write a program for sum of digits.the digits are 76543 and the output should be  25.\n",
    "def digitSum(num):\n",
    "    Sum = 0\n",
    "    while num>0:\n",
    "        digit = num%10\n",
    "        Sum+=digit\n",
    "        num//=10\n",
    "    return Sum\n",
    "num = int(input(\"Enter a num: \"))\n",
    "print(f\"Sum of digits in {num} is: {digitSum(num)}\")"
   ]
  },
  {
   "cell_type": "code",
   "execution_count": null,
   "id": "fd6dafcb",
   "metadata": {},
   "outputs": [],
   "source": []
  },
  {
   "cell_type": "markdown",
   "id": "4299e6f3",
   "metadata": {},
   "source": [
    "# Python Practice 2"
   ]
  },
  {
   "cell_type": "markdown",
   "id": "964e854f",
   "metadata": {},
   "source": [
    "#Q1.Create a list in python using the followings: 2,3,4,5,6,7 with variable ‘a’Add ‘mango to the above listAlso add banana, grapes & orange in the list insert apple in the 5th position of a variable ‘a’ Remove last item from the list"
   ]
  },
  {
   "cell_type": "code",
   "execution_count": 88,
   "id": "9c4a8f62",
   "metadata": {},
   "outputs": [
    {
     "data": {
      "text/plain": [
       "[2, 3, 4, 5, 'apple', 6, 7, 'mango', 'banana', 'grapes']"
      ]
     },
     "execution_count": 88,
     "metadata": {},
     "output_type": "execute_result"
    }
   ],
   "source": [
    "l = [2, 3, 4, 5, 6, 7]  \n",
    "l.append(\"mango\")\n",
    "l.extend(['banana', 'grapes', 'orange'])\n",
    "l.insert(4,\"apple\")\n",
    "l.pop() #removes last element\n",
    "l"
   ]
  },
  {
   "cell_type": "markdown",
   "id": "7e09de2d",
   "metadata": {},
   "source": [
    "Q4.Use list comprehension to square the given list L=[2,4,7,3,6,8]\n"
   ]
  },
  {
   "cell_type": "code",
   "execution_count": 92,
   "id": "0df98ce8",
   "metadata": {},
   "outputs": [
    {
     "name": "stdout",
     "output_type": "stream",
     "text": [
      "[4, 16, 49, 9, 36, 64]\n",
      "[4, 16, 49, 9, 36, 64]\n"
     ]
    }
   ],
   "source": [
    "L = [2, 4, 7, 3, 6, 8]\n",
    "l2 = list(map(lambda x:x**2,L))\n",
    "print(l2)\n",
    "\n",
    "##or\n",
    "print([x**2 for x in L]) ##list comprehension"
   ]
  },
  {
   "cell_type": "markdown",
   "id": "95f66b38",
   "metadata": {},
   "source": [
    "Q5.Create a function that takes in a tuple of integers and returns the sum of the integers. Test the function with a tuple of your choice."
   ]
  },
  {
   "cell_type": "code",
   "execution_count": 94,
   "id": "a16ccc6d",
   "metadata": {},
   "outputs": [
    {
     "name": "stdout",
     "output_type": "stream",
     "text": [
      "24\n"
     ]
    }
   ],
   "source": [
    "def tupleSum(t):\n",
    "    return sum(t)\n",
    "mytuple = (1,9,2,5,3,4)\n",
    "print(tupleSum(mytuple))"
   ]
  },
  {
   "cell_type": "markdown",
   "id": "96c99115",
   "metadata": {},
   "source": [
    "Q6.Create two sets of your favorite fruits, and use the union() method to combine them into a single set. Print the resulting set to the console."
   ]
  },
  {
   "cell_type": "code",
   "execution_count": 95,
   "id": "9854c902",
   "metadata": {},
   "outputs": [
    {
     "name": "stdout",
     "output_type": "stream",
     "text": [
      "{'orange', 'pineapple', 'banana', 'kiwi', 'mango', 'apple'}\n"
     ]
    }
   ],
   "source": [
    "set1 = {\"apple\", \"banana\", \"orange\"}\n",
    "set2 = {\"mango\", \"pineapple\", \"kiwi\"}\n",
    "combined_set = set1.union(set2)\n",
    "print(combined_set)"
   ]
  },
  {
   "cell_type": "markdown",
   "id": "2743b36c",
   "metadata": {},
   "source": [
    "Q7.Create a set of random words, and use the add() method to add a new word to the set. Print the resulting set to the console."
   ]
  },
  {
   "cell_type": "code",
   "execution_count": 96,
   "id": "babdb617",
   "metadata": {},
   "outputs": [
    {
     "name": "stdout",
     "output_type": "stream",
     "text": [
      "{'orange', 'cherry', 'apple', 'banana'}\n"
     ]
    }
   ],
   "source": [
    "# Create a set of random words\n",
    "my_set = {\"apple\", \"banana\", \"cherry\"}\n",
    "\n",
    "# Add a new word to the set using the add() method\n",
    "my_set.add(\"orange\")\n",
    "\n",
    "# Print the resulting set\n",
    "print(my_set)"
   ]
  },
  {
   "cell_type": "markdown",
   "id": "024e5bdf",
   "metadata": {},
   "source": [
    "Q8.Create a set of your favorite animals, and use the remove() method to remove one animal from the set. Print the resulting set to the console."
   ]
  },
  {
   "cell_type": "code",
   "execution_count": 97,
   "id": "02be95d4",
   "metadata": {},
   "outputs": [
    {
     "name": "stdout",
     "output_type": "stream",
     "text": [
      "{'tiger', 'elephant', 'lion'}\n"
     ]
    }
   ],
   "source": [
    "# Create a set of favorite animals\n",
    "my_set = {\"lion\", \"tiger\", \"bear\", \"elephant\"}\n",
    "\n",
    "# Remove one animal from the set using the remove() method\n",
    "my_set.remove(\"bear\")\n",
    "\n",
    "# Print the resulting set\n",
    "print(my_set)"
   ]
  },
  {
   "cell_type": "markdown",
   "id": "3e57b88d",
   "metadata": {},
   "source": [
    "Q9.favorite_books = {\"1984\", \"To Kill a Mockingbird\", \"Pride and Prejudice\"} favorite_movies = [\"The Shawshank Redemption\", \"The Godfather\", \"The Dark Knight\"] Use the zip() function to combine the book set and movie list into a list of tuples representing book/movie pairs. Print the resulting list."
   ]
  },
  {
   "cell_type": "code",
   "execution_count": 100,
   "id": "3c0c8159",
   "metadata": {},
   "outputs": [
    {
     "name": "stdout",
     "output_type": "stream",
     "text": [
      "(('1984', 'The Shawshank Redemption'), ('To Kill a Mockingbird', 'The Godfather'), ('Pride and Prejudice', 'The Dark Knight'))\n"
     ]
    }
   ],
   "source": [
    "# Create a set of favorite books and a list of favorite movies\n",
    "favorite_books = {\"1984\", \"To Kill a Mockingbird\", \"Pride and Prejudice\"}\n",
    "favorite_movies = [\"The Shawshank Redemption\", \"The Godfather\", \"The Dark Knight\"]\n",
    "\n",
    "pair = tuple(zip(favorite_books,favorite_movies))\n",
    "print(pair)"
   ]
  },
  {
   "cell_type": "markdown",
   "id": "8eb2b64a",
   "metadata": {},
   "source": [
    "Q10.Write a Python program to find the difference between consecutive numbers in a list."
   ]
  },
  {
   "cell_type": "code",
   "execution_count": 101,
   "id": "a99bf8b2",
   "metadata": {},
   "outputs": [
    {
     "name": "stdout",
     "output_type": "stream",
     "text": [
      "[1, 1, 4, 1, 3]\n"
     ]
    }
   ],
   "source": [
    "def consec_diff(l):\n",
    "    result = []\n",
    "    for i in range(len(l)-1):\n",
    "        result.append(abs(l[i]-l[i+1]))\n",
    "    return result\n",
    "my_list = [3,4,3,7,6,9]\n",
    "diff = consec_diff(my_list)\n",
    "print(diff)"
   ]
  },
  {
   "cell_type": "code",
   "execution_count": null,
   "id": "9b794b0b",
   "metadata": {},
   "outputs": [],
   "source": []
  },
  {
   "cell_type": "markdown",
   "id": "7e838fc0",
   "metadata": {},
   "source": [
    "# Practice set 3"
   ]
  },
  {
   "cell_type": "markdown",
   "id": "63be59c0",
   "metadata": {},
   "source": [
    "Q3.Write a function called word_count(text) that takes a string as input and returns a dictionary where each key is a word in the text and its value is the number of times that word appears in the text. For example, word_count(\"hello world hello\") should return {\"hello\": 2, \"world\": 1}."
   ]
  },
  {
   "cell_type": "code",
   "execution_count": 106,
   "id": "e2688b06",
   "metadata": {},
   "outputs": [
    {
     "name": "stdout",
     "output_type": "stream",
     "text": [
      "{'hello': 2, 'world': 1}\n"
     ]
    }
   ],
   "source": [
    "string = \"hello world hello\"\n",
    "def extractWords(string):\n",
    "    ##conver to lower case and split with spaces\n",
    "    words_list = string.lower().split()\n",
    "    \n",
    "    count = {}\n",
    "    for word in words_list:\n",
    "        if word in count:\n",
    "            count[word] +=1\n",
    "        else:\n",
    "            count[word] = 1\n",
    "    return count\n",
    "dic = extractWords(\"hello world hello\")\n",
    "print(dic)"
   ]
  },
  {
   "cell_type": "markdown",
   "id": "d030052c",
   "metadata": {},
   "source": [
    "Q4.Create a dictionary called phone_book with the following key-value pairs: \"Alice\": \"555-1234\" \"Bob\": \"555-5678\" \"Charlie\": \"555-9012\" Then, prompt the user to enter a name and print out the corresponding phone number. If the name is not in the phone book, print out a message saying that the name was not found."
   ]
  },
  {
   "cell_type": "code",
   "execution_count": 139,
   "id": "e0c371e4",
   "metadata": {},
   "outputs": [
    {
     "name": "stdout",
     "output_type": "stream",
     "text": [
      "['ALICE', 'BOB', 'CHARLIE']\n",
      "{'ALICE': '555-1234', 'BOB': '555-5678', 'CHARLIE': '555-9012'}\n",
      "enter a name: alice\n",
      "ALICE's phone no. is: 555-1234'\n"
     ]
    }
   ],
   "source": [
    "# create phone_book dictionary\n",
    "phone_book = {\n",
    "    \"Alice\": \"555-1234\",\n",
    "    \"Bob\": \"555-5678\",\n",
    "    \"Charlie\": \"555-9012\"\n",
    "}\n",
    "#imp. converting dict key to upr case\n",
    "newkeys = list(phone_book.keys())\n",
    "toupr = list(map(lambda i:i.upper(),newkeys))\n",
    "print(toupr)\n",
    "final_dict = dict(zip(toupr,list(phone_book.values())))\n",
    "print(final_dict)\n",
    "\n",
    "##asking for input\n",
    "inputstring = input(\"enter a name: \").upper()\n",
    "\n",
    "#\n",
    "if inputstring in final_dict:\n",
    "    phone_nu = final_dict[inputstring]\n",
    "    print(f\"{inputstring}'s phone no. is: {phone_nu}'\")\n",
    "else:\n",
    "    print(f\"no person with name {inputstring} in the phonebook\")"
   ]
  },
  {
   "cell_type": "markdown",
   "id": "787e0fbe",
   "metadata": {},
   "source": [
    "#Q8.Write a program that generates a random number between 1 and 100 and then prompts the user to guess the number. If the user's guess is too low, print out \"Too low!\", if the guess is too high, print out \"Too high!\", and if the guess is correct, print out \"You win!\"."
   ]
  },
  {
   "cell_type": "code",
   "execution_count": 147,
   "id": "4ccdf570",
   "metadata": {},
   "outputs": [
    {
     "name": "stdout",
     "output_type": "stream",
     "text": [
      "46\n",
      "Guess a no. between 0 and 100: 20\n",
      "guess high\n",
      "Guess a no. between 0 and 100: 80\n",
      "gueess low\n",
      "Guess a no. between 0 and 100: 50\n",
      "gueess low\n",
      "Guess a no. between 0 and 100: 40\n",
      "guess high\n",
      "Guess a no. between 0 and 100: 45\n",
      "guess high\n",
      "Guess a no. between 0 and 100: 47\n",
      "gueess low\n",
      "Guess a no. between 0 and 100: 46\n",
      "you Win!\n"
     ]
    }
   ],
   "source": [
    "import random\n",
    "secret = random.randint(1,100)\n",
    "print(secret)\n",
    "\n",
    "guess = int((input(\"Guess a no. between 0 and 100: \")))\n",
    "\n",
    "\n",
    "while guess!=secret:\n",
    "    if guess<secret:\n",
    "        print(\"guess high\")\n",
    "    if guess>secret:\n",
    "        print(\"gueess low\")\n",
    "    guess = int((input(\"Guess a no. between 0 and 100: \")))\n",
    "print(\"you Win!\")"
   ]
  },
  {
   "cell_type": "markdown",
   "id": "b23c4179",
   "metadata": {},
   "source": [
    "Q9.Write a program that generates a random number between 1 and 10 and then prompts the user to guess the number. The user has three attempts to guess the number. If the user guesses correctly within three attempts, print out \"You win!\", otherwise print out \"You lose!\"."
   ]
  },
  {
   "cell_type": "code",
   "execution_count": 150,
   "id": "f20fcd20",
   "metadata": {},
   "outputs": [
    {
     "name": "stdout",
     "output_type": "stream",
     "text": [
      "Guess a no. between 0 and 10: 20\n",
      "Guess Lower\n",
      "Only 2 attempts left\n",
      "Guess a no. between 0 and 10: 5\n",
      "Guess Higher\n",
      "Only 1 attempts left\n",
      "Guess a no. between 0 and 10: 8\n",
      "You Win\n"
     ]
    }
   ],
   "source": [
    "sec = random.randint(0,10)\n",
    "attempts = 3\n",
    "while attempts>0:\n",
    "    guess = int((input(\"Guess a no. between 0 and 10: \")))\n",
    "    if (guess==sec):\n",
    "        print(\"You Win\")\n",
    "        break\n",
    "    elif guess<sec:\n",
    "        print(\"Guess Higher\")\n",
    "    else:\n",
    "        print(\"Guess Lower\")\n",
    "    attempts -=1\n",
    "    print(f\"Only {attempts} attempts left\")\n",
    "if attempts ==0:\n",
    "    print(\"You exhausted all your attempts, You Lose!\")"
   ]
  },
  {
   "cell_type": "code",
   "execution_count": null,
   "id": "4bf36f3d",
   "metadata": {},
   "outputs": [],
   "source": []
  },
  {
   "cell_type": "markdown",
   "id": "f634948f",
   "metadata": {},
   "source": [
    "# Practice set 4"
   ]
  },
  {
   "cell_type": "code",
   "execution_count": 1,
   "id": "be7ba331",
   "metadata": {},
   "outputs": [
    {
     "name": "stdout",
     "output_type": "stream",
     "text": [
      "NAME: asit, AGE: 30, GENDER: male\n"
     ]
    }
   ],
   "source": [
    "#Q1.Create a class called \"Person\" with properties for \"name\", \"age\", and \"gender\". Create an object of this class and print out its properties.\n",
    "class Person:\n",
    "    def __init__(self, name=\"NA\",age=0,gender=\"NA\"): #default value \n",
    "        self.name = name\n",
    "        self.age = age\n",
    "        self.gender = gender\n",
    "person1 = Person(\"asit\",30,\"male\")\n",
    "\n",
    "print(f\"NAME: {person1.name}, AGE: {person1.age}, GENDER: {person1.gender}\")"
   ]
  },
  {
   "cell_type": "code",
   "execution_count": 155,
   "id": "87f29e9c",
   "metadata": {},
   "outputs": [
    {
     "name": "stdout",
     "output_type": "stream",
     "text": [
      "Area: 50\n",
      "Perimeter: 30\n"
     ]
    }
   ],
   "source": [
    "\"\"\"\n",
    "Q2. Write a Python class called \"Rectangle\" with attributes for \n",
    "\"width\" and \"height\". Implement methods to calculate the area \n",
    "and perimeter of the rectangle. Create an instance of this class\n",
    "and use it to print out the rectangle's area and perimeter.\n",
    "\"\"\"\n",
    "# Define the Rectangle class\n",
    "class Rectangle:\n",
    "    # Constructor method to initialize the width and height properties\n",
    "    def __init__(self, width, height):\n",
    "        self.width = width\n",
    "        self.height = height\n",
    "    \n",
    "    # Method to calculate the area of the rectangle\n",
    "    def area(self):\n",
    "        return self.width * self.height\n",
    "    \n",
    "    # Method to calculate the perimeter of the rectangle\n",
    "    def perimeter(self):\n",
    "        return 2 * (self.width + self.height)\n",
    "\n",
    "# Create an object of the Rectangle class\n",
    "rect1 = Rectangle(5, 10)\n",
    "\n",
    "# Print out the area and perimeter of the rectangle object\n",
    "print(\"Area:\", rect1.area())\n",
    "print(\"Perimeter:\", rect1.perimeter())"
   ]
  },
  {
   "cell_type": "code",
   "execution_count": 5,
   "id": "2bc4e8c8",
   "metadata": {
    "scrolled": true
   },
   "outputs": [
    {
     "name": "stdout",
     "output_type": "stream",
     "text": [
      "NA\n"
     ]
    }
   ],
   "source": [
    "#default value \n",
    "person2 = Person()\n",
    "print(person2.name)"
   ]
  },
  {
   "cell_type": "code",
   "execution_count": 6,
   "id": "41be9e54",
   "metadata": {},
   "outputs": [
    {
     "name": "stdout",
     "output_type": "stream",
     "text": [
      " No. of Objects created of class test = 3\n"
     ]
    }
   ],
   "source": [
    "##counting no. of object in a class\n",
    "class test:\n",
    "    count = 0\n",
    "    def __init__(self,name=\"NA\",age=10):\n",
    "        test.count +=1\n",
    "        self.name = name\n",
    "        self.age = age\n",
    "t1 = test()\n",
    "t2 = test(\"name\",20)\n",
    "t3 = test(\"asit\",40)\n",
    "print(f\" No. of Objects created of class test = {test.count}\")"
   ]
  },
  {
   "cell_type": "code",
   "execution_count": 14,
   "id": "f502e0b5",
   "metadata": {
    "scrolled": true
   },
   "outputs": [
    {
     "name": "stdout",
     "output_type": "stream",
     "text": [
      "Second Constructor\n",
      "{'__module__': '__main__', '__init__': <function Person.__init__ at 0x7fab3f0dd7e0>, '__dict__': <attribute '__dict__' of 'Person' objects>, '__weakref__': <attribute '__weakref__' of 'Person' objects>, '__doc__': None, '__annotations__': {}}\n"
     ]
    }
   ],
   "source": [
    "class test2:\n",
    "    def __init__(self):\n",
    "        print(\"First Constructor\")\n",
    "    def __init__(self,name):\n",
    "        print(\"constructor with parameter\")\n",
    "    def __init__(self):\n",
    "        print(\"Second Constructor\")\n",
    "obj = test2()\n",
    "##internally the objet will always the last constructor\n"
   ]
  },
  {
   "cell_type": "code",
   "execution_count": 20,
   "id": "4c6e9a89",
   "metadata": {},
   "outputs": [
    {
     "name": "stdout",
     "output_type": "stream",
     "text": [
      "asit False\n",
      "asit True\n"
     ]
    }
   ],
   "source": [
    "class Person():\n",
    "    def __init__(self,name):\n",
    "        self.name = name\n",
    "    def getName(self):\n",
    "        return self.name\n",
    "    def isStudent(self):\n",
    "        return False\n",
    "class Student(Person):\n",
    "    def isStudent(self):\n",
    "        return True\n",
    "obj = Person(\"asit\")\n",
    "print(obj.getName(), obj.isStudent())\n",
    "\n",
    "obj2 = Student(\"asit\")\n",
    "print(obj2.getName(),obj2.isStudent())"
   ]
  },
  {
   "cell_type": "code",
   "execution_count": 27,
   "id": "1873d5c1",
   "metadata": {},
   "outputs": [
    {
     "name": "stdout",
     "output_type": "stream",
     "text": [
      "must invoke parent class __init__() in the child class\n"
     ]
    }
   ],
   "source": [
    "##must invoke parent class __init__() in the child class\n",
    "class Parent:\n",
    "    def __init__(self, name):\n",
    "        self.name = name\n",
    "class child(Parent):\n",
    "    def __init__(self, roll):\n",
    "        self.roll = roll\n",
    "obj = child(10)\n",
    "try:\n",
    "    obj.name\n",
    "except Exception as e:\n",
    "    print(\"must invoke parent class __init__() in the child class\")"
   ]
  },
  {
   "cell_type": "code",
   "execution_count": 40,
   "id": "1d41e666",
   "metadata": {},
   "outputs": [
    {
     "name": "stdout",
     "output_type": "stream",
     "text": [
      "Child name: asit, roll no: 10, Parent name: parent\n"
     ]
    }
   ],
   "source": [
    "class Parent1:\n",
    "    def __init__(self, Pname):\n",
    "        self.Pname = Pname\n",
    "class Child1(Parent):\n",
    "    def __init__(self, roll,Cname,Pname):\n",
    "        self.roll = roll\n",
    "        self.Cname = Cname\n",
    "        self.Pname = Pname\n",
    "o = Child1(10,\"asit\",\"parent\")\n",
    "print(f\"Child name: {o.Cname}, roll no: {o.roll}, Parent name: {o.Pname}\")"
   ]
  },
  {
   "cell_type": "code",
   "execution_count": 42,
   "id": "a9282c60",
   "metadata": {},
   "outputs": [
    {
     "name": "stdout",
     "output_type": "stream",
     "text": [
      "I have a Tesla model S.Its a Sedan\n"
     ]
    }
   ],
   "source": [
    "# Parent Class\n",
    "class Vehicle:\n",
    "  def __init__(self, company, model, year, color):\n",
    "    self.company = company\n",
    "    self.model = model\n",
    "    self.year = year\n",
    "    self.color = color\n",
    "\n",
    "# Child Class\n",
    "class Car(Vehicle):\n",
    "  def __init__(self, company, model, year, color, car_type):\n",
    "    # Using super to access __init__ method of Parent Class\n",
    "    super().__init__(company, model, year, color)\n",
    "    self.car_type = car_type\n",
    "\n",
    "# Creating an object of Car\n",
    "my_car = Car(\"Tesla\", \"S\", 2021, \"Silver\", \"Sedan\")\n",
    "print(f\"I have a {my_car.company} model {my_car.model}.Its a {my_car.car_type}\")\n"
   ]
  },
  {
   "cell_type": "code",
   "execution_count": 61,
   "id": "dd42f09a",
   "metadata": {},
   "outputs": [
    {
     "name": "stdout",
     "output_type": "stream",
     "text": [
      "I can walk and run\n"
     ]
    }
   ],
   "source": [
    "#abstract class\n",
    "from abc import *\n",
    "class Animal(ABC):\n",
    "    @abstractmethod\n",
    "    def move(self,name):\n",
    "        pass\n",
    "class Human(Animal):\n",
    "    def move(self,name):\n",
    "        print(\"I can walk and run\")\n",
    "obj = Human()\n",
    "obj.move(\"Human\")"
   ]
  },
  {
   "cell_type": "code",
   "execution_count": 71,
   "id": "3893bd47",
   "metadata": {},
   "outputs": [
    {
     "name": "stdout",
     "output_type": "stream",
     "text": [
      "3628800\n",
      "Total time taken in :  factorial 2.001081943511963\n"
     ]
    }
   ],
   "source": [
    "\n",
    "# importing libraries\n",
    "import time\n",
    "import math\n",
    " \n",
    "# decorator to calculate duration\n",
    "# taken by any function.\n",
    "def calculate_time(func):\n",
    "     \n",
    "    # added arguments inside the inner1,\n",
    "    # if function takes any arguments,\n",
    "    # can be added like this.\n",
    "    def inner1(*args, **kwargs):\n",
    " \n",
    "        # storing time before function execution\n",
    "        begin = time.time()\n",
    "         \n",
    "        func(*args, **kwargs)\n",
    " \n",
    "        # storing time after function execution\n",
    "        end = time.time()\n",
    "        print(\"Total time taken in : \", func.__name__, end - begin)\n",
    " \n",
    "    return inner1\n",
    " \n",
    " \n",
    " \n",
    "# this can be added to any function present,\n",
    "# in this case to calculate a factorial\n",
    "@calculate_time\n",
    "def factorial(num):\n",
    " \n",
    "    # sleep 2 seconds because it takes very less time\n",
    "    # so that you can see the actual difference\n",
    "    time.sleep(2)\n",
    "    print(math.factorial(num))\n",
    " \n",
    "# calling the function.\n",
    "factorial(10)"
   ]
  },
  {
   "cell_type": "code",
   "execution_count": 77,
   "id": "647bee71",
   "metadata": {},
   "outputs": [
    {
     "name": "stdout",
     "output_type": "stream",
     "text": [
      "before Execution\n",
      "Inside the function\n",
      "after Execution\n"
     ]
    },
    {
     "data": {
      "text/plain": [
       "30"
      ]
     },
     "execution_count": 77,
     "metadata": {},
     "output_type": "execute_result"
    }
   ],
   "source": [
    "\n",
    "def hello_decorator(func):\n",
    "    def inner1(*args, **kwargs):\n",
    "         \n",
    "        print(\"before Execution\")\n",
    "         \n",
    "        # getting the returned value\n",
    "        returned_value = func(*args, **kwargs)\n",
    "        print(\"after Execution\")\n",
    "         \n",
    "        # returning the value to the original frame\n",
    "        return returned_value\n",
    "         \n",
    "    return inner1\n",
    "\n",
    "@hello_decorator\n",
    "def sum_two_numbers(a, b):\n",
    "    print(\"Inside the function\")\n",
    "    return a + b\n",
    "\n",
    "sum_two_numbers(10,20)"
   ]
  },
  {
   "cell_type": "code",
   "execution_count": 99,
   "id": "9237a730",
   "metadata": {},
   "outputs": [
    {
     "name": "stdout",
     "output_type": "stream",
     "text": [
      "start\n",
      "executing\n",
      "30\n",
      "end\n",
      "2.0032224655151367\n",
      "None\n"
     ]
    }
   ],
   "source": [
    "import time\n",
    "def timeit(func):\n",
    "    def intime(*args, **kwargs):\n",
    "        print(\"start\")\n",
    "        sy = time.time()\n",
    "        print(func(*args, **kwargs))\n",
    "        ey = time.time()\n",
    "        print(\"end\")\n",
    "        print(ey-sy)\n",
    "    return intime\n",
    "@timeit\n",
    "def sumit(a,b):\n",
    "    time.sleep(2)\n",
    "    print(\"executing\")\n",
    "    return a+b\n",
    "\n",
    "print(sumit(10,20))"
   ]
  },
  {
   "cell_type": "code",
   "execution_count": 67,
   "id": "a2ec408d",
   "metadata": {},
   "outputs": [
    {
     "data": {
      "text/plain": [
       "'result:1881676377413297425320704533203867, time taken:2.0021889209747314'"
      ]
     },
     "execution_count": 67,
     "metadata": {},
     "output_type": "execute_result"
    }
   ],
   "source": [
    "import time\n",
    "def timeit(func):\n",
    "    def innertime(*args,**kwargs):\n",
    "        s = time.time()\n",
    "        func_value = func(*args,**kwargs)\n",
    "        e = time.time()\n",
    "        timetaken = e-s\n",
    "        return f\"result:{func_value}, time taken:{timetaken}\"\n",
    "    return innertime\n",
    "@timeit\n",
    "def cube(n):\n",
    "    time.sleep(2)\n",
    "    return n*n*n\n",
    "cube(123456789123)"
   ]
  },
  {
   "cell_type": "code",
   "execution_count": 100,
   "id": "e013c188",
   "metadata": {},
   "outputs": [
    {
     "data": {
      "text/plain": [
       "'cse'"
      ]
     },
     "execution_count": 100,
     "metadata": {},
     "output_type": "execute_result"
    }
   ],
   "source": [
    "class CSStudent:\n",
    "    stream = 'cse'                  # Class Variable\n",
    "    def __init__(self,name,roll):\n",
    "        self.name = name            # Instance Variable\n",
    "        self.roll = roll            # Instance Variable\n",
    "CSStudent.stream ## can be accessed without obj creation"
   ]
  },
  {
   "cell_type": "code",
   "execution_count": 102,
   "id": "cfbd06bb",
   "metadata": {},
   "outputs": [
    {
     "name": "stdout",
     "output_type": "stream",
     "text": [
      "25\n"
     ]
    }
   ],
   "source": [
    "#class method\n",
    "#Python program to demonstrate\n",
    "# use of class method and static method.\n",
    "from datetime import date\n",
    "\n",
    "class Person:\n",
    "    def __init__(self, name, age):\n",
    "        self.name = name\n",
    "        self.age = age\n",
    " \n",
    "    # a class method to create a Person object by birth year.\n",
    "    @classmethod\n",
    "    def fromBirthYear(cls, name, year):\n",
    "        return cls(name, date.today().year - year)\n",
    " \n",
    "    # a static method to check if a Person is adult or not.\n",
    "    @staticmethod\n",
    "    def isAdult(age):\n",
    "        return age > 18\n",
    "p1 = Person.fromBirthYear(\"asit\",1998)\n",
    "print(p1.age)"
   ]
  },
  {
   "cell_type": "code",
   "execution_count": 105,
   "id": "265206ec",
   "metadata": {},
   "outputs": [
    {
     "name": "stdout",
     "output_type": "stream",
     "text": [
      "21\n",
      "27\n",
      "True\n"
     ]
    }
   ],
   "source": [
    "\n",
    "# Python program to demonstrate\n",
    "# use of a class method and static method.\n",
    "from datetime import date\n",
    " \n",
    "class Person:\n",
    "    def __init__(self, name, age):\n",
    "        self.name = name\n",
    "        self.age = age\n",
    " \n",
    "    # a class method to create a\n",
    "    # Person object by birth year.\n",
    "    @classmethod\n",
    "    def fromBirthYear(cls, name, year):\n",
    "        return cls(name, date.today().year - year)\n",
    " \n",
    "    # a static method to check if a\n",
    "    # Person is adult or not.\n",
    "    @staticmethod\n",
    "    def isAdult(age):\n",
    "        return age > 18\n",
    " \n",
    "person1 = Person('mayank', 21)\n",
    "person2 = Person.fromBirthYear('mayank', 1996)\n",
    " \n",
    "print(person1.age)\n",
    "print(person2.age)\n",
    " \n",
    "# print the result\n",
    "print(Person.isAdult(22))"
   ]
  },
  {
   "cell_type": "code",
   "execution_count": 107,
   "id": "dfe41729",
   "metadata": {},
   "outputs": [
    {
     "data": {
      "text/plain": [
       "{'name': 'mayank', 'age': 21}"
      ]
     },
     "execution_count": 107,
     "metadata": {},
     "output_type": "execute_result"
    }
   ],
   "source": [
    "person1.__dict__"
   ]
  },
  {
   "cell_type": "code",
   "execution_count": 121,
   "id": "7782bba7",
   "metadata": {},
   "outputs": [
    {
     "name": "stdout",
     "output_type": "stream",
     "text": [
      "object: 1\n",
      "19.5\n",
      "1300\n"
     ]
    }
   ],
   "source": [
    "\"\"\"\n",
    "Q3. Write a Python class called \"BankAccount\" with attributes \n",
    "for \"balance\" and \"interest_rate\". Implement methods to deposit \n",
    "and withdraw money from the account, as well as to calculate the \n",
    "interest earned on the balance based on the interest rate. Create \n",
    "an instance of this class and use it to test out the implemented \n",
    "methods for deposit, withdrawal, and interest calculation.\n",
    "\"\"\"\n",
    "class BankAccount:\n",
    "    obj_count = 0\n",
    "    def __init__(self,balance,interest_rate):\n",
    "        self.__balance = balance\n",
    "        self.interest_rate = interest_rate\n",
    "        BankAccount.obj_count+=1\n",
    "    def getBalance(self):\n",
    "        return self.__balance\n",
    "    def deposit(self,amount):\n",
    "        self.__balance+=amount\n",
    "    def withdraw(self,amount):\n",
    "        self.__balance-=amount\n",
    "    def calculate_interest(self):\n",
    "        return self.__balance*self.interest_rate/100\n",
    "acc1 = BankAccount(1000,1.5)\n",
    "print(f\"object: {BankAccount.obj_count}\")\n",
    "acc1.deposit(500)\n",
    "acc1.withdraw(200)\n",
    "interest_earned = acc1.calculate_interest()\n",
    "print(interest_earned)\n",
    "print(acc1.getBalance())"
   ]
  },
  {
   "cell_type": "code",
   "execution_count": 129,
   "id": "fe0adada",
   "metadata": {},
   "outputs": [
    {
     "name": "stdout",
     "output_type": "stream",
     "text": [
      "Animal name: Tiger\n",
      "Animal species: Feline\n",
      "Dog name: Max\n",
      "Dog species: Canine\n",
      "Dog breed: Labrador Retriever\n",
      "Dog owner: John\n",
      "2\n",
      "{'name': 'Max', 'species': 'Canine', 'breed': 'Labrador Retriever', 'owner': 'John'}\n"
     ]
    }
   ],
   "source": [
    "\"\"\"\n",
    "Q4. Write a Python class called \"Animal\" with attributes \n",
    "for \"name\" and \"species\". Create a subclass of \"Animal\" \n",
    "called \"Dog\" with additional attributes for \"breed\" and \n",
    "\"owner\". Implement both classes with appropriate methods \n",
    "and constructors to initialise their properties. Create \n",
    "instances of both classes and use them to print out the \n",
    "various properties of the animals and dogs, such as their \n",
    "names, species, breeds, and owners.\n",
    "\"\"\"\n",
    "class Animal:\n",
    "    count = 0\n",
    "    def __init__(self,name,species):\n",
    "        Animal.count+=1\n",
    "        self.name = name\n",
    "        self.species = species\n",
    "class Dog(Animal):\n",
    "    def __init__(self,name,species,breed,owner):\n",
    "        super().__init__(name,species)\n",
    "        self.breed = breed\n",
    "        self.owner = owner\n",
    "animal1 = Animal\n",
    "# Create an object of the Animal class\n",
    "animal1 = Animal(\"Tiger\", \"Feline\")\n",
    "\n",
    "# Create an object of the Dog class\n",
    "dog1 = Dog(\"Max\", \"Canine\", \"Labrador Retriever\", \"John\")\n",
    "\n",
    "# Print out the properties of the animal1 object\n",
    "print(\"Animal name:\", animal1.name)\n",
    "print(\"Animal species:\", animal1.species)\n",
    "\n",
    "# Print out the properties of the dog1 object\n",
    "print(\"Dog name:\", dog1.name)\n",
    "print(\"Dog species:\", dog1.species)\n",
    "print(\"Dog breed:\", dog1.breed)\n",
    "print(\"Dog owner:\", dog1.owner)\n",
    "print(Animal.count)\n",
    "print(dog1.__dict__)"
   ]
  },
  {
   "cell_type": "code",
   "execution_count": 130,
   "id": "9d5102bb",
   "metadata": {},
   "outputs": [
    {
     "data": {
      "text/plain": [
       "'\\nQ5.Create a class called \"Car\" with properties for \\n\"make\", \"model\", and \"year\". Create a subclass of \\n\"Car\" called \"ElectricCar\" with additional properties \\nfor \"battery_size\" and \"range\". Create objects of both\\nclasses and print out their properties.\\n'"
      ]
     },
     "execution_count": 130,
     "metadata": {},
     "output_type": "execute_result"
    }
   ],
   "source": [
    "\"\"\"\n",
    "Q5.Create a class called \"Car\" with properties for \n",
    "\"make\", \"model\", and \"year\". Create a subclass of \n",
    "\"Car\" called \"ElectricCar\" with additional properties \n",
    "for \"battery_size\" and \"range\". Create objects of both\n",
    "classes and print out their properties.\n",
    "\"\"\""
   ]
  },
  {
   "cell_type": "code",
   "execution_count": 131,
   "id": "d96d7729",
   "metadata": {},
   "outputs": [
    {
     "data": {
      "text/plain": [
       "'\\nQ6.Create a class called \"Student\" with properties \\nfor \"name\" and \"id\". Create a subclass of \"Student\" \\ncalled \"GraduateStudent\" with additional properties \\nfor \"advisor\" and \"research_area\". Create objects of\\nboth classes and print out their properties.\\n'"
      ]
     },
     "execution_count": 131,
     "metadata": {},
     "output_type": "execute_result"
    }
   ],
   "source": [
    "\"\"\"\n",
    "Q6.Create a class called \"Student\" with properties \n",
    "for \"name\" and \"id\". Create a subclass of \"Student\" \n",
    "called \"GraduateStudent\" with additional properties \n",
    "for \"advisor\" and \"research_area\". Create objects of\n",
    "both classes and print out their properties.\n",
    "\"\"\""
   ]
  },
  {
   "cell_type": "code",
   "execution_count": 133,
   "id": "dcb4f40b",
   "metadata": {},
   "outputs": [
    {
     "name": "stdout",
     "output_type": "stream",
     "text": [
      "Rectangle area: 15\n",
      "Rectangle perimeter: 16\n",
      "Circle area: 50.26548245743669\n",
      "Circle perimeter: 25.132741228718345\n",
      "Triangle area: 6.0\n",
      "Triangle perimeter: 12\n"
     ]
    }
   ],
   "source": [
    "\"\"\"\n",
    "Q7. Create a class called \"Shape\" with methods to \n",
    "calculate the area and perimeter of the shape. \n",
    "Create subclasses of \"Shape\" for \"Rectangle\", \"Circle\"\n",
    ", and \"Triangle\" with their own methods for calculating\n",
    "area and perimeter. Create objects of each class and \n",
    "print out their area and perimeter.\n",
    "\"\"\"\n",
    "import abc,math\n",
    "class Shape:\n",
    "    @abc.abstractmethod\n",
    "    def calculate_area(self):\n",
    "        pass\n",
    "    \n",
    "    @abc.abstractmethod\n",
    "    def calculate_perimeter(self):\n",
    "        pass\n",
    "\n",
    "# Define the Rectangle class, which inherits from Shape\n",
    "class Rectangle(Shape):\n",
    "    def __init__(self, width, height):\n",
    "        self.width = width\n",
    "        self.height = height\n",
    "    \n",
    "    def calculate_area(self):\n",
    "        return self.width * self.height\n",
    "    \n",
    "    def calculate_perimeter(self):\n",
    "        return 2 * (self.width + self.height)\n",
    "\n",
    "# Define the Circle class, which inherits from Shape\n",
    "class Circle(Shape):\n",
    "    def __init__(self, radius):\n",
    "        self.radius = radius\n",
    "    \n",
    "    def calculate_area(self):\n",
    "        return math.pi * self.radius ** 2\n",
    "    \n",
    "    def calculate_perimeter(self):\n",
    "        return 2 * math.pi * self.radius\n",
    "\n",
    "# Define the Triangle class, which inherits from Shape\n",
    "class Triangle(Shape):\n",
    "    def __init__(self, a, b, c):\n",
    "        self.a = a\n",
    "        self.b = b\n",
    "        self.c = c\n",
    "    \n",
    "    def calculate_area(self):\n",
    "        s = (self.a + self.b + self.c) / 2\n",
    "        return math.sqrt(s * (s - self.a) * (s - self.b) * (s - self.c))\n",
    "    \n",
    "    def calculate_perimeter(self):\n",
    "        return self.a + self.b + self.c\n",
    "\n",
    "# Create objects of each class and print out their area and perimeter\n",
    "rectangle = Rectangle(5, 3)\n",
    "print(\"Rectangle area:\", rectangle.calculate_area())\n",
    "print(\"Rectangle perimeter:\", rectangle.calculate_perimeter())\n",
    "\n",
    "circle = Circle(4)\n",
    "print(\"Circle area:\", circle.calculate_area())\n",
    "print(\"Circle perimeter:\", circle.calculate_perimeter())\n",
    "\n",
    "triangle = Triangle(3, 4, 5)\n",
    "print(\"Triangle area:\", triangle.calculate_area())\n",
    "print(\"Triangle perimeter:\", triangle.calculate_perimeter())"
   ]
  },
  {
   "cell_type": "markdown",
   "id": "a5183d7e",
   "metadata": {},
   "source": [
    "# Practice Set 5"
   ]
  },
  {
   "cell_type": "code",
   "execution_count": 8,
   "id": "77fd5cef",
   "metadata": {},
   "outputs": [
    {
     "name": "stdout",
     "output_type": "stream",
     "text": [
      "What is data science?\n",
      "Data science is the study of data to extract meaningful insights for business. It is a multidisciplinary approach that combines principles and practices from the fields of mathematics, statistics, artificial intelligence, and computer engineering to analyze large amounts of data. This analysis helps data scientists to ask and answer questions like what happened, why it happened, what will happen, and what can be done with the results.\n",
      "\n",
      "Why is data science important?\n",
      "Data science is important because it combines tools, methods, and technology to generate meaning from data. Modern organizations are inundated with data; there is a proliferation of devices that can automatically collect and store information. Online systems and payment portals capture more data in the fields of e-commerce, medicine, finance, and every other aspect of human life. We have text, audio, video, and image data available in vast quantities.\n"
     ]
    }
   ],
   "source": [
    "##basiics\n",
    "## creating a file\n",
    "f = open(\"Resources/file2text.txt\",\"w\")\n",
    "f.write(\"What is data science?\\nData science is the study of data to extract meaningful insights for business. It is a multidisciplinary approach that combines principles and practices from the fields of mathematics, statistics, artificial intelligence, and computer engineering to analyze large amounts of data. This analysis helps data scientists to ask and answer questions like what happened, why it happened, what will happen, and what can be done with the results.\\n\\nWhy is data science important?\\nData science is important because it combines tools, methods, and technology to generate meaning from data. Modern organizations are inundated with data; there is a proliferation of devices that can automatically collect and store information. Online systems and payment portals capture more data in the fields of e-commerce, medicine, finance, and every other aspect of human life. We have text, audio, video, and image data available in vast quantities.\")\n",
    "f.close()\n",
    "\n",
    "#reading a file\n",
    "with open(\"Resources/file2text.txt\",\"r\") as file:\n",
    "    print(file.read())"
   ]
  },
  {
   "cell_type": "code",
   "execution_count": 10,
   "id": "728c0951",
   "metadata": {},
   "outputs": [
    {
     "name": "stdout",
     "output_type": "stream",
     "text": [
      "What is data science?\n",
      "\n",
      "Data science is the study of data to extract meaningful insights for business. It is a multidisciplinary approach that combines principles and practices from the fields of mathematics, statistics, artificial intelligence, and computer engineering to analyze large amounts of data. This analysis helps data scientists to ask and answer questions like what happened, why it happened, what will happen, and what can be done with the results.\n",
      "\n",
      "\n",
      "\n",
      "Why is data science important?\n",
      "\n",
      "Data science is important because it combines tools, methods, and technology to generate meaning from data. Modern organizations are inundated with data; there is a proliferation of devices that can automatically collect and store information. Online systems and payment portals capture more data in the fields of e-commerce, medicine, finance, and every other aspect of human life. We have text, audio, video, and image data available in vast quantities.\n"
     ]
    }
   ],
   "source": [
    "#another method to read\n",
    "f =open(\"Resources/file2text.txt\",'r')\n",
    "for i in f:\n",
    "    print(i)\n",
    "f.close() #must remember to close the file"
   ]
  },
  {
   "cell_type": "code",
   "execution_count": 13,
   "id": "8e6244cd",
   "metadata": {},
   "outputs": [
    {
     "name": "stdout",
     "output_type": "stream",
     "text": [
      "What is data science?\n",
      "\n",
      "Data science is the study of data to extract meaningful insights for business. It is a multidisciplinary approach that combines principles and practices from the fields of mathematics, statistics, artificial intelligence, and computer engineering to analyze large amounts of data. This analysis helps data scientists to ask and answer questions like what happened, why it happened, what will happen, and what can be done with the results.\n",
      "\n",
      "\n",
      "\n",
      "Why is data science important?\n",
      "\n",
      "Data science is important because it combines tools, methods, and technology to generate meaning from data. Modern organizations are inundated with data; there is a proliferation of devices that can automatically collect and store information. Online systems and payment portals capture more data in the fields of e-commerce, medicine, finance, and every other aspect of human life. We have text, audio, video, and image data available in vast quantities.  \n"
     ]
    }
   ],
   "source": [
    "#copying file\n",
    "import shutil\n",
    "shutil.copy('text.txt','Resources/copiedtext.txt')\n",
    "f = open('Resources/copiedtext.txt','r')\n",
    "for i in f:\n",
    "    print(i)\n",
    "f.close()"
   ]
  },
  {
   "attachments": {
    "Screenshot%20from%202023-07-04%2021-14-11.png": {
     "image/png": "[encoded data removed]"
    }
   },
   "cell_type": "markdown",
   "id": "c653e4bb",
   "metadata": {},
   "source": [
    "![Screenshot%20from%202023-07-04%2021-14-11.png](attachment:Screenshot%20from%202023-07-04%2021-14-11.png)"
   ]
  },
  {
   "cell_type": "code",
   "execution_count": 20,
   "id": "081aced8",
   "metadata": {
    "scrolled": true
   },
   "outputs": [
    {
     "name": "stdout",
     "output_type": "stream",
     "text": [
      "['2) FLASK_APP_AWS_DEPLOYMENT.ipynb', '14) Multi_Processing.ipynb', '11) Modules and Import statement in Python.ipynb', 'test', '15a) Database.ipynb']\n"
     ]
    }
   ],
   "source": [
    "## removing file\n",
    "import os\n",
    "print(os.listdir()[0:5])\n",
    "os.remove(\"Resources/file2text.txt\")\n",
    "os.mkdir(\"Resources/Created_using_os\")"
   ]
  },
  {
   "cell_type": "code",
   "execution_count": 25,
   "id": "0a55425e",
   "metadata": {},
   "outputs": [
    {
     "name": "stdout",
     "output_type": "stream",
     "text": [
      "{'name': 'asit', 'mail_id': 'mail@mail.com', 'phone_number': 999995566, 'subject': ['Data science', 'DSA']}\n",
      "DSA\n"
     ]
    }
   ],
   "source": [
    "##reading Json File\n",
    "#JSON File: has key-value pair\n",
    "import json\n",
    "data = {\n",
    "    'name':'asit',\n",
    "    \"mail_id\" : \"mail@mail.com\",\n",
    "    \"phone_number\":999995566,\n",
    "    \"subject\":[\"Data science\",\"DSA\"]\n",
    "}\n",
    "with open(\"test1.json\",\"w\") as f:  #no need to cload file if using with open\n",
    "    json.dump(data,f)\n",
    "    \n",
    "with open(\"test1.json\",\"r\") as f:\n",
    "    data = json.load(f)\n",
    "print(data)\n",
    "print(data['subject'][1])"
   ]
  },
  {
   "cell_type": "code",
   "execution_count": 4,
   "id": "be2eb4c0",
   "metadata": {},
   "outputs": [
    {
     "name": "stdout",
     "output_type": "stream",
     "text": [
      "['name', 'emil', 'number']\n",
      "['asit', 'mail@mail.com', '9988776655']\n",
      "['pra', 'pra@buura.com', '5544112233']\n",
      "['din', 'din@shin.com', '5566442288']\n"
     ]
    }
   ],
   "source": [
    "## csv data\n",
    "dtat_csv = [\n",
    "    [\"name\",\"emil\",\"number\"],\n",
    "    [\"asit\",\"mail@mail.com\",\"9988776655\"],\n",
    "    [\"pra\",\"pra@buura.com\",\"5544112233\"],\n",
    "    [\"din\",\"din@shin.com\",\"5566442288\"]\n",
    "]\n",
    "## creating CSV file\n",
    "import csv\n",
    "with open(\"Resources/csv_practice.csv\",\"w\") as f:\n",
    "    w = csv.writer(f)\n",
    "    for i in dtat_csv:\n",
    "        w.writerow(i)\n",
    "### reading csv file\n",
    "with open(\"Resources/csv_practice.csv\",\"r\") as f:\n",
    "    read = csv.reader(f)\n",
    "    for i in read:\n",
    "        print(i)"
   ]
  },
  {
   "cell_type": "code",
   "execution_count": 5,
   "id": "19ced8e8",
   "metadata": {},
   "outputs": [
    {
     "name": "stdout",
     "output_type": "stream",
     "text": [
      "Number of words: 145\n"
     ]
    }
   ],
   "source": [
    "\"\"\"\n",
    "Q1.Can you create a Python program that reads a text file and counts the \n",
    "number of words contained within it? The program should be designed to read \n",
    "the file and break it down into individual words, using spaces, punctuation \n",
    "marks, and other delimiters to separate the words. It should then count the \n",
    "number of words found in the file and display this count as output. The program\n",
    "should be flexible enough to work with different text files and should be able\n",
    "to handle a variety of formatting and punctuation styles.\n",
    "\"\"\"\n",
    "# Open the file in read mode\n",
    "with open(\"text.txt\", \"r\") as file:\n",
    "    # Read the content of the file and split it into words\n",
    "    words = file.read().split()\n",
    "\n",
    "# Count the number of words\n",
    "num_words = len(words)\n",
    "\n",
    "# Print the number of words in the file\n",
    "print(\"Number of words:\", num_words)\n",
    "\n",
    "##NOTE:\n",
    "#Make sure to replace filename.txt with the name of the text file you want to read. \n",
    "#This program reads the entire contents of the file, splits it into words using whitespace as the separator, \n",
    "#counts the number of words, and prints the result."
   ]
  },
  {
   "cell_type": "code",
   "execution_count": 6,
   "id": "f5bf8f06",
   "metadata": {},
   "outputs": [
    {
     "name": "stdout",
     "output_type": "stream",
     "text": [
      "multidisciplinary\n"
     ]
    }
   ],
   "source": [
    "\"\"\"\n",
    "Q2. Could you help me create a Python program that can find and \n",
    "display the longest word in a text file? The program should be \n",
    "able to read any text file and separate its contents into individual\n",
    "words, taking into account various delimiters like spaces, punctuation\n",
    "marks, and other characters. Then, it should compare the length of each\n",
    "word and determine which one is the longest, and finally, print that word\n",
    "as output. The program should be versatile enough to work with various \n",
    "text files and be able to handle different formatting styles and punctuation.\n",
    "\"\"\"\n",
    "with open(\"text.txt\",\"r\") as f:\n",
    "    words = f.read().split()\n",
    "    \n",
    "longest_word = max(words, key=len)\n",
    "print(longest_word)"
   ]
  },
  {
   "cell_type": "code",
   "execution_count": 17,
   "id": "1a1d6a56",
   "metadata": {},
   "outputs": [
    {
     "name": "stdout",
     "output_type": "stream",
     "text": [
      "<class 'list'>\n",
      "9\n",
      "and:9\n"
     ]
    }
   ],
   "source": [
    "\"\"\"Q3.Write a Python program to read a text file and print out the most frequent word(s) in the file.\"\"\"\n",
    "from collections import Counter\n",
    "\n",
    "with open(\"text.txt\",\"r\") as f:\n",
    "    text = f.read().lower().replace('\\n', \" \").split()\n",
    "\n",
    "word_count = Counter(text)\n",
    "most_common_word = word_count.most_common()  #return list of tuples\n",
    "print(type(most_common_word))\n",
    "max_count = most_common_word[0][1]\n",
    "print(max_count)\n",
    "\n",
    "##printing all the words with count 9\n",
    "for word,count in most_common_word:\n",
    "    if count==max_count:\n",
    "        print(f\"{word}:{count}\")\n",
    "    else:\n",
    "        break"
   ]
  },
  {
   "cell_type": "code",
   "execution_count": 22,
   "id": "0a1fdb43",
   "metadata": {},
   "outputs": [
    {
     "name": "stdout",
     "output_type": "stream",
     "text": [
      "The number of rows in test.csv is 8\n"
     ]
    }
   ],
   "source": [
    "\"\"\"Q4. How can you use Python to count the number of rows in a CSV file?\"\"\"\n",
    "import csv\n",
    "filepath = \"test.csv\"\n",
    "count =0\n",
    "with open(filepath) as f:\n",
    "        read = csv.reader(f)\n",
    "        num_rows = sum(1 for row in read)\n",
    "print(f\"The number of rows in {filepath} is {num_rows}\")"
   ]
  },
  {
   "cell_type": "code",
   "execution_count": 25,
   "id": "7f917eb3",
   "metadata": {},
   "outputs": [],
   "source": [
    "\"\"\" removing blank rows in csv file\"\"\"\n",
    "with open(\"test.csv\",\"r\") as f:\n",
    "    reader = csv.reader(f)\n",
    "    \n",
    "    with open(\"Resources/csv_blancRowsRemoved.csv\",\"w\") as outfile:\n",
    "        writer = csv.writer(outfile)\n",
    "        \n",
    "        for row in reader:\n",
    "            if any(row):\n",
    "                writer.writerow(row)\n",
    "        "
   ]
  },
  {
   "cell_type": "code",
   "execution_count": 33,
   "id": "13f59809",
   "metadata": {},
   "outputs": [
    {
     "name": "stdout",
     "output_type": "stream",
     "text": [
      "The average of column 4 in test.csv is 22.48\n"
     ]
    }
   ],
   "source": [
    "\"\"\"Q5. How can you use Python to calculate the average of a specific column in a CSV file?\"\"\"\n",
    "import csv\n",
    "filaname = \"Resources/freshman_kgs.csv\"\n",
    "with open(filaname,\"r\") as f:\n",
    "    reader = csv.reader(f)\n",
    "    next(reader) #skips the header row\n",
    " #     for row in reader:\n",
    "#         print(row[4] \n",
    "    values = [float(row[4]) for row in reader]\n",
    "#     print(values)\n",
    "average = sum(values)/len(values)\n",
    "print(f\"The average of column 4 in {filepath} is {round(average,2)}\")"
   ]
  },
  {
   "cell_type": "code",
   "execution_count": 36,
   "id": "809f28f2",
   "metadata": {},
   "outputs": [],
   "source": [
    "\"\"\"Q7. Can you provide a Python code snippet to write a list of strings into a text file where each string is written on a new line?\"\"\"\n",
    "strings = [\"Hello\", \"world\", \"how\", \"are\", \"you\"]\n",
    "filename = \"Resources/ex1.txt\"\n",
    "with open(filename,\"w\") as f:\n",
    "    for s in strings:\n",
    "        f.write(s+'\\n')"
   ]
  },
  {
   "cell_type": "code",
   "execution_count": 38,
   "id": "50f42a9e",
   "metadata": {},
   "outputs": [
    {
     "ename": "NameError",
     "evalue": "name 'binascii' is not defined",
     "output_type": "error",
     "traceback": [
      "\u001b[0;31m---------------------------------------------------------------------------\u001b[0m",
      "\u001b[0;31mNameError\u001b[0m                                 Traceback (most recent call last)",
      "Cell \u001b[0;32mIn[38], line 4\u001b[0m\n\u001b[1;32m      2\u001b[0m \u001b[38;5;28;01mwith\u001b[39;00m \u001b[38;5;28mopen\u001b[39m(\u001b[38;5;124m\"\u001b[39m\u001b[38;5;124mResources/test.bin\u001b[39m\u001b[38;5;124m\"\u001b[39m,\u001b[38;5;124m\"\u001b[39m\u001b[38;5;124mrb\u001b[39m\u001b[38;5;124m\"\u001b[39m) \u001b[38;5;28;01mas\u001b[39;00m binaryfile:\n\u001b[1;32m      3\u001b[0m     binary_data \u001b[38;5;241m=\u001b[39m binaryfile\u001b[38;5;241m.\u001b[39mread()\n\u001b[0;32m----> 4\u001b[0m     hex_data \u001b[38;5;241m=\u001b[39m \u001b[43mbinascii\u001b[49m\u001b[38;5;241m.\u001b[39mhexlify(binary_data)\u001b[38;5;241m.\u001b[39mdecode()\n\u001b[1;32m      5\u001b[0m \u001b[38;5;28mprint\u001b[39m(\u001b[38;5;124mf\u001b[39m\u001b[38;5;124m\"\u001b[39m\u001b[38;5;124mThe hexadecimal representation of the binary data in \u001b[39m\u001b[38;5;124m'\u001b[39m\u001b[38;5;124mbinary.bin\u001b[39m\u001b[38;5;124m'\u001b[39m\u001b[38;5;124m is:\u001b[39m\u001b[38;5;130;01m\\n\u001b[39;00m\u001b[38;5;132;01m{\u001b[39;00mhex_data\u001b[38;5;132;01m}\u001b[39;00m\u001b[38;5;124m\"\u001b[39m)\n",
      "\u001b[0;31mNameError\u001b[0m: name 'binascii' is not defined"
     ]
    }
   ],
   "source": [
    "\"\"\"Q8. Can you provide a Python code to read a binary file and display the data in hexadecimal format\"\"\"\n",
    "with open(\"Resources/test.bin\",\"rb\") as binaryfile:\n",
    "    binary_data = binaryfile.read()\n",
    "    hex_data = binascii.hexlify(binary_data).decode()\n",
    "print(f\"The hexadecimal representation of the binary data in 'binary.bin' is:\\n{hex_data}\")"
   ]
  },
  {
   "cell_type": "code",
   "execution_count": 80,
   "id": "2f761a13",
   "metadata": {},
   "outputs": [
    {
     "name": "stdout",
     "output_type": "stream",
     "text": [
      "counter=10\n",
      "counter=20\n",
      "The final counter is 20\n"
     ]
    }
   ],
   "source": [
    "from threading import Thread\n",
    "from time import sleep\n",
    "\n",
    "\n",
    "counter = 0\n",
    "\n",
    "def increase(by):\n",
    "    global counter\n",
    "\n",
    "    local_counter = counter\n",
    "    local_counter += by\n",
    "\n",
    "    sleep(0.1)\n",
    "\n",
    "    counter = local_counter\n",
    "    print(f'counter={counter}')\n",
    "\n",
    "\n",
    "# create threads\n",
    "t1 = Thread(target=increase, args=(10,))\n",
    "t2 = Thread(target=increase, args=(20,))\n",
    "\n",
    "# start the threads\n",
    "t1.start()\n",
    "t2.start()\n",
    "\n",
    "\n",
    "# wait for the threads to complete\n",
    "t1.join()\n",
    "t2.join()\n",
    "\n",
    "\n",
    "print(f'The final counter is {counter}')"
   ]
  },
  {
   "cell_type": "code",
   "execution_count": 82,
   "id": "618c4ee6",
   "metadata": {},
   "outputs": [
    {
     "name": "stdout",
     "output_type": "stream",
     "text": [
      "counter=10\n",
      "counter=30\n",
      "The final counter is 30\n"
     ]
    }
   ],
   "source": [
    "from threading import Thread, Lock\n",
    "from time import sleep\n",
    "\n",
    "\n",
    "counter = 0\n",
    "\n",
    "\n",
    "def increase(by, lock):\n",
    "    global counter\n",
    "\n",
    "    lock.acquire()\n",
    "\n",
    "    local_counter = counter\n",
    "    local_counter += by\n",
    "\n",
    "    sleep(0.1)\n",
    "\n",
    "    counter = local_counter\n",
    "    print(f'counter={counter}')\n",
    "\n",
    "    lock.release()\n",
    "\n",
    "\n",
    "lock = Lock()\n",
    "\n",
    "# create threads\n",
    "t1 = Thread(target=increase, args=(10, lock))\n",
    "t2 = Thread(target=increase, args=(20, lock))\n",
    "\n",
    "# start the threads\n",
    "t1.start()\n",
    "t2.start()\n",
    "\n",
    "\n",
    "# wait for the threads to complete\n",
    "t1.join()\n",
    "t2.join()\n",
    "\n",
    "\n",
    "print(f'The final counter is {counter}')"
   ]
  },
  {
   "cell_type": "code",
   "execution_count": 81,
   "id": "724ae584",
   "metadata": {},
   "outputs": [
    {
     "name": "stdout",
     "output_type": "stream",
     "text": [
      "counter=10\n",
      "counter=30\n",
      "The final counter is 30\n"
     ]
    }
   ],
   "source": [
    "from threading import Thread, Lock\n",
    "from time import sleep\n",
    "\n",
    "\n",
    "class Counter:\n",
    "    def __init__(self):\n",
    "        self.value = 0\n",
    "        self.lock = Lock()\n",
    "\n",
    "    def increase(self, by):\n",
    "        with self.lock:\n",
    "            current_value = self.value\n",
    "            current_value += by\n",
    "\n",
    "            sleep(0.1)\n",
    "\n",
    "            self.value = current_value\n",
    "            print(f'counter={self.value}')\n",
    "\n",
    "def main():\n",
    "    counter = Counter()\n",
    "    # create threads\n",
    "    t1 = Thread(target=counter.increase, args=(10, ))\n",
    "    t2 = Thread(target=counter.increase, args=(20, ))\n",
    "\n",
    "    # start the threads\n",
    "    t1.start()\n",
    "    t2.start()\n",
    "\n",
    "\n",
    "    # wait for the threads to complete\n",
    "    t1.join()\n",
    "    t2.join()\n",
    "\n",
    "\n",
    "    print(f'The final counter is {counter.value}')\n",
    "\n",
    "if __name__ == '__main__':\n",
    "    main()\n"
   ]
  },
  {
   "cell_type": "code",
   "execution_count": null,
   "id": "b6ceff9b",
   "metadata": {},
   "outputs": [],
   "source": []
  }
 ],
 "metadata": {
  "kernelspec": {
   "display_name": "Python 3 (ipykernel)",
   "language": "python",
   "name": "python3"
  },
  "language_info": {
   "codemirror_mode": {
    "name": "ipython",
    "version": 3
   },
   "file_extension": ".py",
   "mimetype": "text/x-python",
   "name": "python",
   "nbconvert_exporter": "python",
   "pygments_lexer": "ipython3",
   "version": "3.10.6"
  }
 },
 "nbformat": 4,
 "nbformat_minor": 5
}
