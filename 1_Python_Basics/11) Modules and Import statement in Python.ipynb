{
 "cells": [
  {
   "cell_type": "markdown",
   "id": "56bb1d45",
   "metadata": {},
   "source": [
    "# Packages\n",
    "> ### Packages are noothin but a directory or a folder which contains n no. of files/modules\n",
    "<br>\n",
    "# Modules\n",
    "> ### Modules are the pythons files inside the package/directory"
   ]
  },
  {
   "cell_type": "code",
   "execution_count": 2,
   "id": "d0c59a48",
   "metadata": {},
   "outputs": [],
   "source": [
    "import os\n",
    "os.mkdir(\"Resources/details_package\")\n",
    "os.mkdir(\"Resources/payment_package\")"
   ]
  },
  {
   "cell_type": "code",
   "execution_count": 7,
   "id": "04a2b758",
   "metadata": {},
   "outputs": [
    {
     "ename": "ModuleNotFoundError",
     "evalue": "No module named 'payment_package'",
     "output_type": "error",
     "traceback": [
      "\u001b[1;31m---------------------------------------------------------------------------\u001b[0m",
      "\u001b[1;31mModuleNotFoundError\u001b[0m                       Traceback (most recent call last)",
      "\u001b[1;32m~\\AppData\\Local\\Temp\\ipykernel_13752\\3290339580.py\u001b[0m in \u001b[0;36m<module>\u001b[1;34m\u001b[0m\n\u001b[0;32m      1\u001b[0m \u001b[1;31m#objective is to import one module inside another\u001b[0m\u001b[1;33m\u001b[0m\u001b[1;33m\u001b[0m\u001b[0m\n\u001b[1;32m----> 2\u001b[1;33m \u001b[1;32mfrom\u001b[0m \u001b[0mpayment_package\u001b[0m \u001b[1;32mimport\u001b[0m \u001b[0mpayment_details\u001b[0m\u001b[1;33m\u001b[0m\u001b[1;33m\u001b[0m\u001b[0m\n\u001b[0m\u001b[0;32m      3\u001b[0m \u001b[1;31m#this will not work as due to many folders the file can not be accessed by the module\u001b[0m\u001b[1;33m\u001b[0m\u001b[1;33m\u001b[0m\u001b[0m\n",
      "\u001b[1;31mModuleNotFoundError\u001b[0m: No module named 'payment_package'"
     ]
    }
   ],
   "source": [
    "#objective is to import one module inside another\n",
    "from payment_package import payment_details\n",
    "#this will not work as due to many folders the file can not be accessed by the module"
   ]
  },
  {
   "cell_type": "code",
   "execution_count": 12,
   "id": "271d86b8",
   "metadata": {},
   "outputs": [],
   "source": [
    "#to solve this problem- We have to collapse all the file path(i.r creating a cache)\n",
    "f = open(file=\"Resources/payment_package/payment_details.py\")"
   ]
  },
  {
   "cell_type": "code",
   "execution_count": null,
   "id": "699f97d9",
   "metadata": {},
   "outputs": [],
   "source": []
  }
 ],
 "metadata": {
  "kernelspec": {
   "display_name": "Python 3 (ipykernel)",
   "language": "python",
   "name": "python3"
  },
  "language_info": {
   "codemirror_mode": {
    "name": "ipython",
    "version": 3
   },
   "file_extension": ".py",
   "mimetype": "text/x-python",
   "name": "python",
   "nbconvert_exporter": "python",
   "pygments_lexer": "ipython3",
   "version": "3.9.13"
  }
 },
 "nbformat": 4,
 "nbformat_minor": 5
}
