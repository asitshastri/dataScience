{
 "cells": [
  {
   "cell_type": "markdown",
   "id": "4950d92e",
   "metadata": {},
   "source": [
    "**Exception handeling and Logging is a convention that we  all are suppose to follow.**\n",
    "-  Blocks included in try-Exception\n",
    " - Try:\n",
    " - except:\n",
    " - else:\n",
    " - finally:"
   ]
  },
  {
   "cell_type": "code",
   "execution_count": 6,
   "id": "4a143aee",
   "metadata": {},
   "outputs": [
    {
     "name": "stdout",
     "output_type": "stream",
     "text": [
      "There is some issue with the code [Errno 2] No such file or directory: 'Resources/text_try.txt'\n"
     ]
    }
   ],
   "source": [
    "import logging\n",
    "logging.basicConfig(filename=\"Resources/logging.log\", level=logging.DEBUG,format=\"%(asctime)s %(levelname)s %(message)s\")\n",
    "try:\n",
    "    logging.info(\"this is where the file is opened to be read\")\n",
    "    f= open(\"Resources/text_try.txt\",\"r\")\n",
    "except Exception as e:\n",
    "    logging.error(\"File did not open there is some error\")\n",
    "    print(\"There is some issue with the code\",e)\n",
    "else:\n",
    "    logging.info(\"else block executing as try block executed\")\n",
    "    print(\"this block will execute once try itself without exception\")"
   ]
  },
  {
   "cell_type": "code",
   "execution_count": 7,
   "id": "22686b72",
   "metadata": {},
   "outputs": [
    {
     "name": "stdout",
     "output_type": "stream",
     "text": [
      "this block will execute once try itself without exception\n",
      "thi9s block will always run\n"
     ]
    }
   ],
   "source": [
    "try:\n",
    "    logging.info(\"this is where the file is opened to be read\")\n",
    "    f= open(\"Resources/text_try.txt\",\"w\")\n",
    "except Exception as e: \n",
    "    logging.error(\"File did not open there is some error\")\n",
    "    print(\"There is some issue with the code\",e)\n",
    "else:  #only work if try block executes\n",
    "    logging.info(\"else block executing as try block executed\")\n",
    "    print(\"this block will execute once try itself without exception\")\n",
    "finally:  #will always execute\n",
    "    logging.info(\"this is finally block which execute any code which should execute at any cost\")\n",
    "    f.close()\n",
    "    print(\"thi9s block will always run\")\n",
    "    "
   ]
  },
  {
   "cell_type": "code",
   "execution_count": null,
   "id": "45068ccf",
   "metadata": {},
   "outputs": [],
   "source": []
  },
  {
   "cell_type": "markdown",
   "id": "7fced64a",
   "metadata": {},
   "source": [
    "## Custom Exception Handeling"
   ]
  },
  {
   "cell_type": "code",
   "execution_count": 9,
   "id": "666ac557",
   "metadata": {},
   "outputs": [
    {
     "ename": "ZeroDivisionError",
     "evalue": "division by zero",
     "output_type": "error",
     "traceback": [
      "\u001b[1;31m---------------------------------------------------------------------------\u001b[0m",
      "\u001b[1;31mZeroDivisionError\u001b[0m                         Traceback (most recent call last)",
      "\u001b[1;32m~\\AppData\\Local\\Temp\\ipykernel_17228\\1760181836.py\u001b[0m in \u001b[0;36m<module>\u001b[1;34m\u001b[0m\n\u001b[0;32m      1\u001b[0m \u001b[1;31m#example\u001b[0m\u001b[1;33m\u001b[0m\u001b[1;33m\u001b[0m\u001b[0m\n\u001b[0;32m      2\u001b[0m \u001b[0ma\u001b[0m\u001b[1;33m=\u001b[0m\u001b[1;36m10\u001b[0m\u001b[1;33m\u001b[0m\u001b[1;33m\u001b[0m\u001b[0m\n\u001b[1;32m----> 3\u001b[1;33m \u001b[0ma\u001b[0m\u001b[1;33m/\u001b[0m\u001b[1;36m0\u001b[0m\u001b[1;33m\u001b[0m\u001b[1;33m\u001b[0m\u001b[0m\n\u001b[0m",
      "\u001b[1;31mZeroDivisionError\u001b[0m: division by zero"
     ]
    }
   ],
   "source": [
    "#example\n",
    "a=10\n",
    "a/0  #division by zero is an exception for the computer."
   ]
  },
  {
   "cell_type": "code",
   "execution_count": 10,
   "id": "80add220",
   "metadata": {},
   "outputs": [
    {
     "name": "stdout",
     "output_type": "stream",
     "text": [
      "Enter Your Age:- -25\n"
     ]
    }
   ],
   "source": [
    "#example: Custom Exception\n",
    "age =int(input(\"Enter Your Age:- \"))\n",
    "#in this case -ve age is not an exception for the user but an custom exception for us"
   ]
  },
  {
   "cell_type": "code",
   "execution_count": 11,
   "id": "e3cac422",
   "metadata": {},
   "outputs": [],
   "source": [
    "#Solution\n",
    "#writing a custom exceptions class- use for printing exception message\n",
    "class validate_age(Exception):\n",
    "    def __init__(self,msg):\n",
    "        self.msg = msg"
   ]
  },
  {
   "cell_type": "code",
   "execution_count": 12,
   "id": "db8745df",
   "metadata": {},
   "outputs": [],
   "source": [
    "#creating a velidate function- for checking validation\n",
    "def validateage(age):\n",
    "    if age <0:\n",
    "        raise validate_age(\"age should be more them 0\") #class object \n",
    "    elif age>200:\n",
    "        raise validate_age(\"age is too high\")  #class object \n",
    "    else:\n",
    "        print(\"age\")"
   ]
  },
  {
   "cell_type": "code",
   "execution_count": 14,
   "id": "5b8020c0",
   "metadata": {},
   "outputs": [
    {
     "name": "stdout",
     "output_type": "stream",
     "text": [
      "Enter You Age:- 2222\n",
      "age is too high\n"
     ]
    }
   ],
   "source": [
    "try:\n",
    "    age = int(input(\"Enter You Age:- \"))\n",
    "    validateage(age)\n",
    "except validate_age as e:\n",
    "    print(e)"
   ]
  },
  {
   "cell_type": "code",
   "execution_count": null,
   "id": "ad3fcdff",
   "metadata": {},
   "outputs": [],
   "source": []
  },
  {
   "cell_type": "markdown",
   "id": "06e31659",
   "metadata": {},
   "source": [
    "## List of some General Exceptions"
   ]
  },
  {
   "cell_type": "code",
   "execution_count": 26,
   "id": "74642171",
   "metadata": {},
   "outputs": [
    {
     "name": "stdout",
     "output_type": "stream",
     "text": [
      "division by zero\n"
     ]
    }
   ],
   "source": [
    "try:\n",
    "    a=10\n",
    "    a/0\n",
    "except ZeroDivisionError as e:\n",
    "    print(e)"
   ]
  },
  {
   "cell_type": "code",
   "execution_count": 27,
   "id": "f88726e3",
   "metadata": {},
   "outputs": [
    {
     "name": "stdout",
     "output_type": "stream",
     "text": [
      "invalid literal for int() with base 10: 'asit'\n"
     ]
    }
   ],
   "source": [
    "try:\n",
    "    int(\"asit\")\n",
    "except(ValueError, TypeError) as e:\n",
    "    print(e)"
   ]
  },
  {
   "cell_type": "code",
   "execution_count": 30,
   "id": "d6f5a100",
   "metadata": {},
   "outputs": [
    {
     "name": "stdout",
     "output_type": "stream",
     "text": [
      "there is an error\n"
     ]
    }
   ],
   "source": [
    "try:\n",
    "    int(\"asit\")\n",
    "except : #Do not do this we are suppose to mention the type of error specifically\n",
    "    print(\"there is an error\")"
   ]
  },
  {
   "cell_type": "code",
   "execution_count": 31,
   "id": "9345bf28",
   "metadata": {},
   "outputs": [
    {
     "name": "stdout",
     "output_type": "stream",
     "text": [
      "No module named 'asit'\n"
     ]
    }
   ],
   "source": [
    "try:\n",
    "    import asit\n",
    "except ImportError as e:\n",
    "    print(e)"
   ]
  },
  {
   "cell_type": "code",
   "execution_count": 33,
   "id": "20f7aeb1",
   "metadata": {},
   "outputs": [
    {
     "name": "stdout",
     "output_type": "stream",
     "text": [
      "'key10'\n"
     ]
    }
   ],
   "source": [
    "try:\n",
    "    d = {\"key1\":[1,2,3],\"key2\":\"asit000\"}\n",
    "    d[\"key10\"]\n",
    "except KeyError as e:\n",
    "    print(e)"
   ]
  },
  {
   "cell_type": "code",
   "execution_count": 34,
   "id": "9fc26e0a",
   "metadata": {},
   "outputs": [
    {
     "name": "stdout",
     "output_type": "stream",
     "text": [
      "'str' object has no attribute 'test'\n"
     ]
    }
   ],
   "source": [
    "try:\n",
    "    \"asit\".test()\n",
    "except AttributeError as e:\n",
    "    print(e)"
   ]
  },
  {
   "cell_type": "code",
   "execution_count": 36,
   "id": "06ee8279",
   "metadata": {},
   "outputs": [
    {
     "name": "stdout",
     "output_type": "stream",
     "text": [
      "list index out of range\n"
     ]
    }
   ],
   "source": [
    "try:\n",
    "    lst=[1,2,3,4]\n",
    "    lst[10]\n",
    "except IndexError as e:\n",
    "    print(e)"
   ]
  },
  {
   "cell_type": "code",
   "execution_count": 37,
   "id": "9b6b18b4",
   "metadata": {},
   "outputs": [
    {
     "name": "stdout",
     "output_type": "stream",
     "text": [
      "unsupported operand type(s) for +: 'int' and 'str'\n"
     ]
    }
   ],
   "source": [
    "try:\n",
    "    123+\"asit\"\n",
    "except TypeError as e:\n",
    "    print(e)"
   ]
  },
  {
   "cell_type": "code",
   "execution_count": 39,
   "id": "d1db3f97",
   "metadata": {},
   "outputs": [
    {
     "name": "stdout",
     "output_type": "stream",
     "text": [
      "[Errno 2] No such file or directory: 'test_error.txt'\n"
     ]
    }
   ],
   "source": [
    "try:\n",
    "    with open(\"test_error.txt\",\"r\") as f:\n",
    "        f,read()\n",
    "except FileNotFoundError as e:print(e)"
   ]
  },
  {
   "cell_type": "code",
   "execution_count": 45,
   "id": "8ab6e58b",
   "metadata": {},
   "outputs": [
    {
     "name": "stdout",
     "output_type": "stream",
     "text": [
      "this is my Exception block [Errno 2] No such file or directory: 'test_error.txt'\n"
     ]
    }
   ],
   "source": [
    "try:\n",
    "    with open(\"test_error.txt\",\"r\") as f:\n",
    "        f,read()\n",
    "except Exception as e: \n",
    "    print(\"this is my Exception block\",e)\n",
    "except FileNotFoundError as e:\n",
    "    print(\"this is my File not found Error block\",e)\n",
    "\n",
    "#In above case Exception class itself predicts the error type and print the error before FileNotFound, Thus its a Super Class."
   ]
  },
  {
   "cell_type": "markdown",
   "id": "1a5d5119",
   "metadata": {},
   "source": [
    "**Never try to write a super class(i.e Exception) in first place always try to write generic/ specific error class**"
   ]
  },
  {
   "cell_type": "markdown",
   "id": "403307df",
   "metadata": {},
   "source": [
    "#### Best Practices for Exception Handeling"
   ]
  },
  {
   "cell_type": "markdown",
   "id": "00ceabce",
   "metadata": {},
   "source": [
    "##### 1- Always use specific exceptions"
   ]
  },
  {
   "cell_type": "code",
   "execution_count": 46,
   "id": "12efe6ab",
   "metadata": {},
   "outputs": [
    {
     "name": "stdout",
     "output_type": "stream",
     "text": [
      "division by zero\n"
     ]
    }
   ],
   "source": [
    "try:\n",
    "    a=10\n",
    "    a/0\n",
    "except ZeroDivisionError as e:\n",
    "    print(e)"
   ]
  },
  {
   "cell_type": "markdown",
   "id": "048c3e00",
   "metadata": {},
   "source": [
    "##### 2- always print a valid message"
   ]
  },
  {
   "cell_type": "code",
   "execution_count": 47,
   "id": "db922c2e",
   "metadata": {},
   "outputs": [
    {
     "name": "stdout",
     "output_type": "stream",
     "text": [
      "this is my error division by zero\n"
     ]
    }
   ],
   "source": [
    "try:\n",
    "    a=10\n",
    "    a/0\n",
    "except ZeroDivisionError as e:\n",
    "    print(\"this is my error:- \",e)"
   ]
  },
  {
   "cell_type": "markdown",
   "id": "0ec6f8c1",
   "metadata": {},
   "source": [
    "##### 3- Always log your error"
   ]
  },
  {
   "cell_type": "code",
   "execution_count": 50,
   "id": "bb66ad97",
   "metadata": {},
   "outputs": [],
   "source": [
    "import logging\n",
    "logging.basicConfig(filename=\"Resources/logging.log\", level=logging.ERROR, format=\"%(asctime)s %(levelname)s %(message)s\")\n",
    "try:\n",
    "    a=10\n",
    "    a/0\n",
    "except ZeroDivisionError as e:\n",
    "    logging.error(\"this is my error:- {}\".format(e))"
   ]
  },
  {
   "cell_type": "markdown",
   "id": "85dca3f2",
   "metadata": {},
   "source": [
    "##### 4- Always avoid to write multiple exception handeling"
   ]
  },
  {
   "cell_type": "code",
   "execution_count": 51,
   "id": "bc1e9a1f",
   "metadata": {},
   "outputs": [],
   "source": [
    "try:\n",
    "    a=10\n",
    "    a/0\n",
    "except ZeroDivisionError as e:\n",
    "    logging.error(\"this is my error:- {}\".format(e))\n",
    "except TypeError as e:\n",
    "    print(e)\n",
    "except AttributeError as e:\n",
    "    print(e)"
   ]
  },
  {
   "cell_type": "markdown",
   "id": "8258f3de",
   "metadata": {},
   "source": [
    "##### 5- Prepare a proper documentations\n",
    "avoid incerting or avoid creating anything which may give a 0problem to a future developer whois going to check you code or do a modification. Proper Documentation with proper validatioin is very important."
   ]
  },
  {
   "cell_type": "markdown",
   "id": "19c92990",
   "metadata": {},
   "source": [
    "##### 5- Cleanup all the resources\n",
    "example a file opened must be closed as it is taking up our memory."
   ]
  },
  {
   "cell_type": "code",
   "execution_count": 53,
   "id": "50b137d6",
   "metadata": {},
   "outputs": [],
   "source": [
    "try:\n",
    "    with open (\"Resources/cleanup.txt\",\"w\")as f:\n",
    "        f.write(\"this is written statement\")\n",
    "except FileNotFoundError as e:\n",
    "    logging.error(\"This is my error:- {}\".format(e))\n",
    "finally:\n",
    "    f.close()"
   ]
  },
  {
   "cell_type": "code",
   "execution_count": null,
   "id": "61348b33",
   "metadata": {},
   "outputs": [],
   "source": []
  }
 ],
 "metadata": {
  "kernelspec": {
   "display_name": "Python 3 (ipykernel)",
   "language": "python",
   "name": "python3"
  },
  "language_info": {
   "codemirror_mode": {
    "name": "ipython",
    "version": 3
   },
   "file_extension": ".py",
   "mimetype": "text/x-python",
   "name": "python",
   "nbconvert_exporter": "python",
   "pygments_lexer": "ipython3",
   "version": "3.9.13"
  }
 },
 "nbformat": 4,
 "nbformat_minor": 5
}
