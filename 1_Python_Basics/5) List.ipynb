{
 "cells": [
  {
   "cell_type": "markdown",
   "id": "d93e3ad6",
   "metadata": {},
   "source": [
    "# List\n",
    "Built-in mutable sequence.\n",
    "<br> or\n",
    "<br>List is an **ordered**  collection of elements<br><br>\n",
    "***note*** lists are mutable"
   ]
  },
  {
   "cell_type": "code",
   "execution_count": 13,
   "id": "729e29d4",
   "metadata": {},
   "outputs": [
    {
     "data": {
      "text/plain": [
       "list"
      ]
     },
     "execution_count": 13,
     "metadata": {},
     "output_type": "execute_result"
    }
   ],
   "source": [
    "type([])"
   ]
  },
  {
   "cell_type": "code",
   "execution_count": 7,
   "id": "6c57ca54",
   "metadata": {},
   "outputs": [],
   "source": [
    "list_1=[\"asit\",1,234,\"2233\"]"
   ]
  },
  {
   "cell_type": "code",
   "execution_count": 10,
   "id": "5146cc83",
   "metadata": {},
   "outputs": [
    {
     "name": "stdout",
     "output_type": "stream",
     "text": [
      "<class 'str'>\n",
      "<class 'int'>\n"
     ]
    }
   ],
   "source": [
    "print(type(list_1[3]))\n",
    "print(type(list_1[2]))"
   ]
  },
  {
   "cell_type": "code",
   "execution_count": 19,
   "id": "3caf3101",
   "metadata": {},
   "outputs": [
    {
     "data": {
      "text/plain": [
       "['s', 't', 'r', 'i', 'n', 'g']"
      ]
     },
     "execution_count": 19,
     "metadata": {},
     "output_type": "execute_result"
    }
   ],
   "source": [
    "#list function iterate over all the characters of the sttring\n",
    "str_1=\"string\"\n",
    "str_2=\"this is a string\"\n",
    "\n",
    "list(str_1)"
   ]
  },
  {
   "cell_type": "code",
   "execution_count": 20,
   "id": "c1e58b21",
   "metadata": {},
   "outputs": [
    {
     "name": "stdout",
     "output_type": "stream",
     "text": [
      "['this', 'is', 'a', 'string']\n",
      "<class 'list'>\n"
     ]
    }
   ],
   "source": [
    "#return type os .split function is a list \n",
    "print(str_2.split(\" \"))\n",
    "print(type(str_2.split(\" \")))"
   ]
  },
  {
   "cell_type": "code",
   "execution_count": 42,
   "id": "9df647f3",
   "metadata": {},
   "outputs": [
    {
     "name": "stdout",
     "output_type": "stream",
     "text": [
      "string\n",
      "['this', 'is']\n",
      "['this', 'is', 'a', 'string']\n",
      "['string', 'a', 'is', 'this']\n",
      "['this']\n",
      "['a', 'this']\n"
     ]
    }
   ],
   "source": [
    "#Slicing of list\n",
    "lst1= str_2.split(\" \")\n",
    "\n",
    "#[]\n",
    "print(lst1[3])\n",
    "\n",
    "#[:] list slicing\n",
    "print(lst1[:2]) \n",
    "print(lst1[:]) #prints all elements\n",
    "print(lst1[::-1]) #prints reverse list\n",
    "print(lst1[-4::-2])\n",
    "print(lst1[-2::-2])\n"
   ]
  },
  {
   "cell_type": "code",
   "execution_count": null,
   "id": "b1bca4ad",
   "metadata": {},
   "outputs": [],
   "source": []
  },
  {
   "cell_type": "code",
   "execution_count": null,
   "id": "54e82403",
   "metadata": {},
   "outputs": [],
   "source": []
  },
  {
   "cell_type": "code",
   "execution_count": 43,
   "id": "e9341003",
   "metadata": {},
   "outputs": [
    {
     "data": {
      "text/plain": [
       "['this', 'is', 'a', 'string', 'concatination', 5]"
      ]
     },
     "execution_count": 43,
     "metadata": {},
     "output_type": "execute_result"
    }
   ],
   "source": [
    "## concatenation operation\n",
    "lst1+[\"concatination\",5]"
   ]
  },
  {
   "cell_type": "code",
   "execution_count": 44,
   "id": "45711270",
   "metadata": {},
   "outputs": [
    {
     "name": "stdout",
     "output_type": "stream",
     "text": [
      "['this', 'is', 'a', 'string', ['new element', 3]]\n"
     ]
    }
   ],
   "source": [
    "#concatination of nested list\n",
    "## concatenation operation\n",
    "lst2=lst1 + [['new element',3]]\n",
    "print(lst2)"
   ]
  },
  {
   "cell_type": "raw",
   "id": "ec11afe1",
   "metadata": {},
   "source": []
  },
  {
   "cell_type": "raw",
   "id": "6a460d49",
   "metadata": {},
   "source": []
  },
  {
   "cell_type": "code",
   "execution_count": 45,
   "id": "f5d23bf0",
   "metadata": {},
   "outputs": [
    {
     "data": {
      "text/plain": [
       "['this', 'is', 'a', 'string', 'this', 'is', 'a', 'string']"
      ]
     },
     "execution_count": 45,
     "metadata": {},
     "output_type": "execute_result"
    }
   ],
   "source": [
    "#Arithmatic operation on a list\n",
    "lst1*2\n"
   ]
  },
  {
   "cell_type": "raw",
   "id": "d153a287",
   "metadata": {},
   "source": []
  },
  {
   "cell_type": "raw",
   "id": "4f481f74",
   "metadata": {},
   "source": []
  },
  {
   "cell_type": "code",
   "execution_count": 48,
   "id": "f9afbf6d",
   "metadata": {},
   "outputs": [
    {
     "name": "stdout",
     "output_type": "stream",
     "text": [
      "['this', 'is', 'a', 'string', 'manipulation']\n"
     ]
    }
   ],
   "source": [
    "#mutability of list\n",
    "lst2[4]=\"manipulation\"\n",
    "print(lst2)"
   ]
  },
  {
   "cell_type": "raw",
   "id": "0b06f9ee",
   "metadata": {},
   "source": []
  },
  {
   "cell_type": "raw",
   "id": "ace3009b",
   "metadata": {},
   "source": []
  },
  {
   "cell_type": "code",
   "execution_count": 54,
   "id": "1f161436",
   "metadata": {},
   "outputs": [
    {
     "name": "stdout",
     "output_type": "stream",
     "text": [
      "preent\n"
     ]
    }
   ],
   "source": [
    "#finding element in a string\n",
    "if \"string\" in lst1:\n",
    "    print(\"preent\")\n",
    "#prefer this solution"
   ]
  },
  {
   "cell_type": "code",
   "execution_count": 55,
   "id": "73825972",
   "metadata": {},
   "outputs": [
    {
     "name": "stdout",
     "output_type": "stream",
     "text": [
      "present\n"
     ]
    }
   ],
   "source": [
    "for i in lst2:\n",
    "    if i==\"string\":\n",
    "        print(\"present\")\n",
    "        break"
   ]
  },
  {
   "cell_type": "markdown",
   "id": "7a36079d",
   "metadata": {},
   "source": [
    "**note** avoid iteration by using if statement"
   ]
  },
  {
   "cell_type": "code",
   "execution_count": null,
   "id": "6d9cf722",
   "metadata": {},
   "outputs": [],
   "source": []
  },
  {
   "cell_type": "code",
   "execution_count": null,
   "id": "fa6b1302",
   "metadata": {},
   "outputs": [],
   "source": []
  },
  {
   "cell_type": "code",
   "execution_count": 56,
   "id": "8df96b6e",
   "metadata": {},
   "outputs": [
    {
     "data": {
      "text/plain": [
       "True"
      ]
     },
     "execution_count": 56,
     "metadata": {},
     "output_type": "execute_result"
    }
   ],
   "source": [
    "## check elements inside a list\n",
    "\"string\"in lst2"
   ]
  },
  {
   "cell_type": "code",
   "execution_count": 57,
   "id": "8beb52ef",
   "metadata": {},
   "outputs": [
    {
     "data": {
      "text/plain": [
       "False"
      ]
     },
     "execution_count": 57,
     "metadata": {},
     "output_type": "execute_result"
    }
   ],
   "source": [
    "2.0 in lst2"
   ]
  },
  {
   "cell_type": "code",
   "execution_count": 69,
   "id": "560a2659",
   "metadata": {},
   "outputs": [
    {
     "data": {
      "text/plain": [
       "True"
      ]
     },
     "execution_count": 69,
     "metadata": {},
     "output_type": "execute_result"
    }
   ],
   "source": [
    "1.9999999999999999 in [2, 4, 5] #bugg in python"
   ]
  },
  {
   "cell_type": "code",
   "execution_count": 70,
   "id": "f7c38a18",
   "metadata": {},
   "outputs": [
    {
     "data": {
      "text/plain": [
       "True"
      ]
     },
     "execution_count": 70,
     "metadata": {},
     "output_type": "execute_result"
    }
   ],
   "source": [
    "5==5.0"
   ]
  },
  {
   "cell_type": "raw",
   "id": "52b391c1",
   "metadata": {},
   "source": []
  },
  {
   "cell_type": "raw",
   "id": "d08f712e",
   "metadata": {},
   "source": []
  },
  {
   "cell_type": "code",
   "execution_count": 88,
   "id": "998ceeba",
   "metadata": {},
   "outputs": [],
   "source": [
    "# Maximun and Minimum\n",
    "lst1=[\"Zebra\",\"Monkey\",\"Donkey\",\"Lion\"]\n",
    "lst2=[5,6,2,9,5,8,6]"
   ]
  },
  {
   "cell_type": "code",
   "execution_count": 89,
   "id": "6ab4b053",
   "metadata": {},
   "outputs": [
    {
     "name": "stdout",
     "output_type": "stream",
     "text": [
      "Zebra\n",
      "9\n",
      "Donkey\n",
      "2\n"
     ]
    }
   ],
   "source": [
    "print(max(lst1)) #print maximum based on ascii value\n",
    "print(max(lst2))\n",
    "print(min(lst1))\n",
    "print(min(lst2))"
   ]
  },
  {
   "cell_type": "raw",
   "id": "f35ba572",
   "metadata": {},
   "source": []
  },
  {
   "cell_type": "raw",
   "id": "2e58c8de",
   "metadata": {},
   "source": []
  },
  {
   "cell_type": "code",
   "execution_count": 90,
   "id": "9a072be6",
   "metadata": {},
   "outputs": [
    {
     "name": "stdout",
     "output_type": "stream",
     "text": [
      "['Zebra', 'Monkey', 'Donkey', 'Lion']\n",
      "['Zebra', 'Monkey', 'Donkey', 'Lion', ['list', 123]]\n"
     ]
    }
   ],
   "source": [
    "#Apprend\n",
    "print(lst1)\n",
    "lst1.append([\"list\",123])\n",
    "print(lst1)"
   ]
  },
  {
   "cell_type": "markdown",
   "id": "b4f76cbb",
   "metadata": {},
   "source": [
    "***[note]:-***     **.append** is an inplace operation with which the the list gets updated in the orignal variable so------ ***lst_new = lst1.append(\"a\")* is not a correct operation**"
   ]
  },
  {
   "cell_type": "code",
   "execution_count": 91,
   "id": "40b6924c",
   "metadata": {},
   "outputs": [
    {
     "name": "stdout",
     "output_type": "stream",
     "text": [
      "None\n"
     ]
    }
   ],
   "source": [
    "lst_new = lst1.append(\"a\")\n",
    "print(lst_new)"
   ]
  },
  {
   "cell_type": "markdown",
   "id": "661dfc64",
   "metadata": {},
   "source": [
    "**.extend()** --use this function to concatinate to string cuz if we use .append() its just add the list as is makiing the list a nested one."
   ]
  },
  {
   "cell_type": "code",
   "execution_count": 102,
   "id": "91398cb6",
   "metadata": {},
   "outputs": [
    {
     "name": "stdout",
     "output_type": "stream",
     "text": [
      "['Zebra', 'Monkey', 'Donkey', 'Lion', [5, 6, 2, 9, 5, 8, 6]]\n",
      "['Zebra', 'Monkey', 'Donkey', 'Lion', 5, 6, 2, 9, 5, 8, 6]\n"
     ]
    }
   ],
   "source": [
    "lst1=[\"Zebra\",\"Monkey\",\"Donkey\",\"Lion\"]\n",
    "lst2=[5,6,2,9,5,8,6]\n",
    "lst1.append(lst2)\n",
    "print(lst1)\n",
    "\n",
    "lst1=[\"Zebra\",\"Monkey\",\"Donkey\",\"Lion\"]\n",
    "lst2=[5,6,2,9,5,8,6]\n",
    "lst1.extend(lst2)\n",
    "print(lst1)\n"
   ]
  },
  {
   "cell_type": "raw",
   "id": "98c6a6ef",
   "metadata": {},
   "source": []
  },
  {
   "cell_type": "raw",
   "id": "508f6e7c",
   "metadata": {},
   "source": []
  },
  {
   "cell_type": "code",
   "execution_count": 92,
   "id": "27bb01be",
   "metadata": {},
   "outputs": [
    {
     "name": "stdout",
     "output_type": "stream",
     "text": [
      "['Zebra', 'Monkey', 'Donkey', 'Lion', ['list', 123], 'a']\n",
      "['Zebra', 'Monkey', 'Donkey', 'Lion', ['list', 123]]\n"
     ]
    }
   ],
   "source": [
    "#removal of element ,pop()\n",
    "print(lst1)\n",
    "lst1.pop() #removes the last element\n",
    "print(lst1)"
   ]
  },
  {
   "cell_type": "code",
   "execution_count": 93,
   "id": "437d1586",
   "metadata": {},
   "outputs": [
    {
     "name": "stdout",
     "output_type": "stream",
     "text": [
      "['Zebra', 'Monkey', 'Donkey', 'Lion', ['list', 123]]\n",
      "['Zebra', 'Monkey', 'Lion', ['list', 123]]\n"
     ]
    }
   ],
   "source": [
    "print(lst1)\n",
    "lst1.pop(2) #removes the 2nd element\n",
    "print(lst1)"
   ]
  },
  {
   "cell_type": "markdown",
   "id": "7811cd3c",
   "metadata": {},
   "source": [
    "[note]:- **.pop()** is an inplace operation but it also returns the removed element as value."
   ]
  },
  {
   "cell_type": "code",
   "execution_count": 94,
   "id": "d810c6cf",
   "metadata": {},
   "outputs": [
    {
     "name": "stdout",
     "output_type": "stream",
     "text": [
      "['Zebra', 'Monkey', 'Lion', ['list', 123]]\n",
      "['Zebra', 'Monkey', ['list', 123]]\n",
      "Lion\n"
     ]
    }
   ],
   "source": [
    "print(lst1)\n",
    "a=lst1.pop(2) #removes the 2nd element\n",
    "print(lst1)\n",
    "print(a)"
   ]
  },
  {
   "cell_type": "raw",
   "id": "8f8f7b2e",
   "metadata": {},
   "source": []
  },
  {
   "cell_type": "code",
   "execution_count": null,
   "id": "ae50e7e3",
   "metadata": {},
   "outputs": [],
   "source": []
  },
  {
   "cell_type": "code",
   "execution_count": 103,
   "id": "5946225a",
   "metadata": {},
   "outputs": [
    {
     "name": "stdout",
     "output_type": "stream",
     "text": [
      "['q', 'e', 'f', 's', 't', 'u']\n",
      "['u', 't', 's', 'f', 'e', 'q']\n",
      "['u', 't', 's', 'f', 'e', 'q']\n",
      "['e', 'f', 'q', 's', 't', 'u']\n"
     ]
    }
   ],
   "source": [
    "## Sorting and Reverse method in list\n",
    "new_list=['q','e','f','s','t','u']\n",
    "print(new_list)\n",
    "\n",
    "print(new_list[::-1])\n",
    "\n",
    "new_list.reverse()\n",
    "print(new_list)\n",
    "\n",
    "new_list.sort()\n",
    "print(new_list)\n",
    "\n",
    "#note both .reverse and .sort are inplace functions"
   ]
  },
  {
   "cell_type": "code",
   "execution_count": 105,
   "id": "64082df5",
   "metadata": {},
   "outputs": [
    {
     "name": "stdout",
     "output_type": "stream",
     "text": [
      "['u', 't', 's', 'q', 'f', 'e']\n"
     ]
    }
   ],
   "source": [
    "#sorting in descending order\n",
    "new_list.sort(reverse=True) #press shift +tab to see the arguments and it says by default reverse = false\n",
    "print(new_list)"
   ]
  },
  {
   "cell_type": "code",
   "execution_count": null,
   "id": "bf257cbf",
   "metadata": {},
   "outputs": [],
   "source": []
  },
  {
   "cell_type": "code",
   "execution_count": null,
   "id": "d686205f",
   "metadata": {},
   "outputs": [],
   "source": []
  },
  {
   "cell_type": "markdown",
   "id": "2d9f398e",
   "metadata": {},
   "source": [
    "## Nested List"
   ]
  },
  {
   "cell_type": "code",
   "execution_count": 106,
   "id": "8d937e94",
   "metadata": {},
   "outputs": [],
   "source": [
    "# Let's make three lists\n",
    "lst_1=[1,2,3]\n",
    "lst_2=[4,5,6]\n",
    "lst_3=[7,8,9]\n",
    "\n",
    "# Make a list of lists to form a matrix\n",
    "matrix = [lst_1,lst_2,lst_3]"
   ]
  },
  {
   "cell_type": "code",
   "execution_count": 107,
   "id": "d0efa593",
   "metadata": {},
   "outputs": [
    {
     "data": {
      "text/plain": [
       "[[1, 2, 3], [4, 5, 6], [7, 8, 9]]"
      ]
     },
     "execution_count": 107,
     "metadata": {},
     "output_type": "execute_result"
    }
   ],
   "source": [
    "matrix"
   ]
  },
  {
   "cell_type": "code",
   "execution_count": 115,
   "id": "11a05db4",
   "metadata": {},
   "outputs": [
    {
     "name": "stdout",
     "output_type": "stream",
     "text": [
      "4\n",
      "<class 'int'>\n",
      "[7, 8]\n"
     ]
    }
   ],
   "source": [
    "#selecting elements from a matrix\n",
    "\n",
    "#extract 4 from matrix\n",
    "print(matrix[1][0])\n",
    "print(type(matrix[1][0]))\n",
    "\n",
    "\n",
    "#extract elements 7 and 8\n",
    "print(matrix[2][:2])\n",
    " \n",
    "#extract 1,4,7\n",
    "#not possible here it can be done in arrays by using numpy"
   ]
  },
  {
   "cell_type": "raw",
   "id": "2de4fa03",
   "metadata": {},
   "source": []
  },
  {
   "cell_type": "raw",
   "id": "b2007d2a",
   "metadata": {},
   "source": []
  },
  {
   "cell_type": "code",
   "execution_count": 116,
   "id": "a1a8eb6f",
   "metadata": {},
   "outputs": [
    {
     "data": {
      "text/plain": [
       "[0, 1, 2, 3, 4, 5, 6, 7, 8, 9, 10, 11, 12, 13, 14, 15, 16, 17, 18, 19]"
      ]
     },
     "execution_count": 116,
     "metadata": {},
     "output_type": "execute_result"
    }
   ],
   "source": [
    "## List Comprehension\n",
    "[i for i in range(20)]"
   ]
  },
  {
   "cell_type": "code",
   "execution_count": 121,
   "id": "aad3628f",
   "metadata": {
    "scrolled": true
   },
   "outputs": [
    {
     "data": {
      "text/plain": [
       "[0,\n",
       " 'ODD',\n",
       " 2,\n",
       " 'ODD',\n",
       " 4,\n",
       " 'ODD',\n",
       " 6,\n",
       " 'ODD',\n",
       " 8,\n",
       " 'ODD',\n",
       " 10,\n",
       " 'ODD',\n",
       " 12,\n",
       " 'ODD',\n",
       " 14,\n",
       " 'ODD',\n",
       " 16,\n",
       " 'ODD',\n",
       " 18,\n",
       " 'ODD']"
      ]
     },
     "execution_count": 121,
     "metadata": {},
     "output_type": "execute_result"
    }
   ],
   "source": [
    "## List Comprehension\n",
    "## Even numbers\n",
    "[i if i%2==0 else \"ODD\" for i in range(0,20)]"
   ]
  },
  {
   "cell_type": "code",
   "execution_count": 123,
   "id": "040434ad",
   "metadata": {},
   "outputs": [
    {
     "data": {
      "text/plain": [
       "[0, 2, 4, 6, 8, 10, 12, 14, 16, 18]"
      ]
     },
     "execution_count": 123,
     "metadata": {},
     "output_type": "execute_result"
    }
   ],
   "source": [
    "[i for i in range(20) if i%2==0] #list of even nos. using list comprehension"
   ]
  },
  {
   "cell_type": "code",
   "execution_count": 126,
   "id": "6caf93f2",
   "metadata": {},
   "outputs": [
    {
     "name": "stdout",
     "output_type": "stream",
     "text": [
      "20\n",
      "16\n",
      "20\n",
      "16\n"
     ]
    }
   ],
   "source": [
    "## Assignment \n",
    "## Sum of even numbers and odd numbers\n",
    "lst=[1,2,3,4,5,6,7,8]\n",
    "\n",
    "#solution\n",
    "even_sum=0\n",
    "odd_sum=0\n",
    "for i in lst:\n",
    "    if i%2==0:\n",
    "        even_sum+=i\n",
    "    else:\n",
    "        odd_sum+=i\n",
    "print(even_sum)\n",
    "print(odd_sum)\n",
    "\n",
    "#or\n",
    "#using list comprehension\n",
    "even_sum2=sum([num for num in lst if num%2==0])\n",
    "print(even_sum2)\n",
    "\n",
    "odd_sum2=sum([num for num in lst if num%2!=0])\n",
    "print(odd_sum2)"
   ]
  },
  {
   "cell_type": "code",
   "execution_count": 129,
   "id": "7aafbce7",
   "metadata": {},
   "outputs": [
    {
     "data": {
      "text/plain": [
       "[1, 4, 9, 16, 25, 36, 49, 64, 81, 100]"
      ]
     },
     "execution_count": 129,
     "metadata": {},
     "output_type": "execute_result"
    }
   ],
   "source": [
    "#using list comprehension find the square of all the nos in the list\n",
    "lst=[1,2,3,4,5,6,7,8,9,10]\n",
    "[num**2 for num in lst]"
   ]
  },
  {
   "cell_type": "code",
   "execution_count": 130,
   "id": "76bd68be",
   "metadata": {},
   "outputs": [
    {
     "data": {
      "text/plain": [
       "[1, 2, 3, 4]"
      ]
     },
     "execution_count": 130,
     "metadata": {},
     "output_type": "execute_result"
    }
   ],
   "source": [
    "# Example 2: Create a list of only the positive numbers from a given list\\\n",
    "numbers = [-2, -1, 0, 1, 2, 3, 4]\n",
    "[num for num in numbers if num>0]"
   ]
  },
  {
   "cell_type": "code",
   "execution_count": 135,
   "id": "228daa5e",
   "metadata": {},
   "outputs": [
    {
     "data": {
      "text/plain": [
       "['a', 'b', 'c', 'd']"
      ]
     },
     "execution_count": 135,
     "metadata": {},
     "output_type": "execute_result"
    }
   ],
   "source": [
    " # Example 3: Create a list of only the first letters of words in a list\n",
    "words = ['apple', 'banana', 'cherry', 'date']\n",
    "[i[0] for i in words]"
   ]
  },
  {
   "cell_type": "code",
   "execution_count": 136,
   "id": "b09282bb",
   "metadata": {},
   "outputs": [
    {
     "data": {
      "text/plain": [
       "[32.0, 50.0, 68.0, 86.0, 104.0, 122.0]"
      ]
     },
     "execution_count": 136,
     "metadata": {},
     "output_type": "execute_result"
    }
   ],
   "source": [
    "# Example 4: Convert a list of temperatures from Celsius to Fahrenheit uing list comprehesnion\n",
    "celsius_temperatures = [0, 10, 20, 30, 40, 50]\n",
    "#concept-- (9/5)*temp+32\n",
    "\n",
    "[(9/5)*i+32 for i in celsius_temperatures]"
   ]
  },
  {
   "cell_type": "code",
   "execution_count": 140,
   "id": "73860c70",
   "metadata": {},
   "outputs": [
    {
     "data": {
      "text/plain": [
       "[1, 2, 3, 4, 5, 6, 7, 8, 9]"
      ]
     },
     "execution_count": 140,
     "metadata": {},
     "output_type": "execute_result"
    }
   ],
   "source": [
    "# Example 5: Flatten a list of lists into a single list\n",
    "lists = [[1, 2, 3], [4, 5, 6], [7, 8, 9]]\n",
    "\n",
    "[j for i in lists for j in i]"
   ]
  },
  {
   "cell_type": "code",
   "execution_count": 187,
   "id": "d8ff2b6b",
   "metadata": {},
   "outputs": [
    {
     "data": {
      "text/plain": [
       "[1, 2, 3, 5, 7]"
      ]
     },
     "execution_count": 187,
     "metadata": {},
     "output_type": "execute_result"
    }
   ],
   "source": [
    "## Assignment \n",
    "## Using both code and list comprehesnion\n",
    "# Example 2: Create a list of only the prime numbers from a given list\n",
    "numbers = [1, 2, 3, 4, 5, 6, 7, 8, 9, 10]\n",
    "\n",
    "[x for x in numbers if all(x % y != 0 for y in range(2,x))]"
   ]
  },
  {
   "cell_type": "code",
   "execution_count": 188,
   "id": "e82efcd2",
   "metadata": {},
   "outputs": [
    {
     "data": {
      "text/plain": [
       "[2, 3, 4, 4, 5, 6, 6, 6, 7, 8, 8, 8, 9, 9, 10, 10, 10]"
      ]
     },
     "execution_count": 188,
     "metadata": {},
     "output_type": "execute_result"
    }
   ],
   "source": [
    "[i for i in numbers for j in range(1,i) if i%j==0]"
   ]
  },
  {
   "cell_type": "code",
   "execution_count": 189,
   "id": "2869a756",
   "metadata": {},
   "outputs": [],
   "source": [
    "# Example 3: Create a list of all the possible combinations of 2 elements from a list\n",
    "numbers = [1, 2, 3, 4, 5]\n"
   ]
  },
  {
   "cell_type": "code",
   "execution_count": null,
   "id": "db0e3129",
   "metadata": {},
   "outputs": [],
   "source": []
  }
 ],
 "metadata": {
  "kernelspec": {
   "display_name": "Python 3 (ipykernel)",
   "language": "python",
   "name": "python3"
  },
  "language_info": {
   "codemirror_mode": {
    "name": "ipython",
    "version": 3
   },
   "file_extension": ".py",
   "mimetype": "text/x-python",
   "name": "python",
   "nbconvert_exporter": "python",
   "pygments_lexer": "ipython3",
   "version": "3.9.13"
  }
 },
 "nbformat": 4,
 "nbformat_minor": 5
}
