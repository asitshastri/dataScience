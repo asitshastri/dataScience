{
 "cells": [
  {
   "cell_type": "code",
   "execution_count": 2,
   "id": "7332fcaf",
   "metadata": {},
   "outputs": [
    {
     "name": "stdout",
     "output_type": "stream",
     "text": [
      "Hello\n"
     ]
    }
   ],
   "source": [
    "print(\"Hello\")"
   ]
  },
  {
   "cell_type": "markdown",
   "id": "85ba9e4d",
   "metadata": {},
   "source": [
    "## what is \".ipynb\" extension\n",
    "ipynb file extension is used for computational notebooks that can be open with Jupyter Notebook. It stands for Interactive Python Notebook."
   ]
  },
  {
   "cell_type": "markdown",
   "id": "4ea475ca",
   "metadata": {},
   "source": [
    "###### ) Python is developed by- GUIDO VAN RASSUM\n",
    "###### ) at- Research Institute for Mathematics and CS in Netherlands.\n",
    "###### ) its source code is available under the GNU General Public Lisense(GPL)"
   ]
  },
  {
   "cell_type": "markdown",
   "id": "155220d3",
   "metadata": {},
   "source": [
    "# Basics"
   ]
  },
  {
   "cell_type": "markdown",
   "id": "7673ed9e",
   "metadata": {},
   "source": [
    "## I) Comment"
   ]
  },
  {
   "cell_type": "code",
   "execution_count": 7,
   "id": "848a1d60",
   "metadata": {},
   "outputs": [
    {
     "name": "stdout",
     "output_type": "stream",
     "text": [
      "use tripple quoates for multiline comments \n"
     ]
    }
   ],
   "source": [
    "#use this for single line comment \n",
    "\"\"\"\n",
    "this \n",
    "is multiline \n",
    "comment\n",
    "\"\"\"\n",
    "print(\"use tripple quoates for multiline comments \")"
   ]
  },
  {
   "cell_type": "code",
   "execution_count": 8,
   "id": "8345e5b9",
   "metadata": {},
   "outputs": [
    {
     "name": "stdout",
     "output_type": "stream",
     "text": [
      "#this is not a comment\n"
     ]
    }
   ],
   "source": [
    "# this is a comment\n",
    "text= \"#this is not a comment\"\n",
    "print(text)"
   ]
  },
  {
   "cell_type": "markdown",
   "id": "4d061178",
   "metadata": {},
   "source": [
    " ## Type Casting"
   ]
  },
  {
   "cell_type": "code",
   "execution_count": 19,
   "id": "599ba04d",
   "metadata": {},
   "outputs": [
    {
     "name": "stdout",
     "output_type": "stream",
     "text": [
      "123\n"
     ]
    },
    {
     "ename": "ValueError",
     "evalue": "invalid literal for int() with base 10: '123abc'",
     "output_type": "error",
     "traceback": [
      "\u001b[1;31m---------------------------------------------------------------------------\u001b[0m",
      "\u001b[1;31mValueError\u001b[0m                                Traceback (most recent call last)",
      "\u001b[1;32m~\\AppData\\Local\\Temp\\ipykernel_5432\\1160456250.py\u001b[0m in \u001b[0;36m<module>\u001b[1;34m\u001b[0m\n\u001b[0;32m      1\u001b[0m \u001b[0mprint\u001b[0m\u001b[1;33m(\u001b[0m\u001b[0mint\u001b[0m\u001b[1;33m(\u001b[0m\u001b[1;34m\"123\"\u001b[0m\u001b[1;33m)\u001b[0m\u001b[1;33m)\u001b[0m\u001b[1;33m\u001b[0m\u001b[1;33m\u001b[0m\u001b[0m\n\u001b[0;32m      2\u001b[0m \u001b[1;33m\u001b[0m\u001b[0m\n\u001b[1;32m----> 3\u001b[1;33m \u001b[0mint\u001b[0m\u001b[1;33m(\u001b[0m\u001b[1;34m\"123abc\"\u001b[0m\u001b[1;33m)\u001b[0m \u001b[1;31m#does not work\u001b[0m\u001b[1;33m\u001b[0m\u001b[1;33m\u001b[0m\u001b[0m\n\u001b[0m",
      "\u001b[1;31mValueError\u001b[0m: invalid literal for int() with base 10: '123abc'"
     ]
    }
   ],
   "source": [
    "print(int(\"123\"))\n",
    "\n",
    "int(\"123abc\") #does not work"
   ]
  },
  {
   "cell_type": "markdown",
   "id": "10c606a7",
   "metadata": {},
   "source": [
    "#### Boolian"
   ]
  },
  {
   "cell_type": "code",
   "execution_count": 22,
   "id": "4736b79c",
   "metadata": {},
   "outputs": [
    {
     "data": {
      "text/plain": [
       "True"
      ]
     },
     "execution_count": 22,
     "metadata": {},
     "output_type": "execute_result"
    }
   ],
   "source": [
    "not False"
   ]
  },
  {
   "cell_type": "code",
   "execution_count": 24,
   "id": "b4b9dab7",
   "metadata": {},
   "outputs": [
    {
     "data": {
      "text/plain": [
       "False"
      ]
     },
     "execution_count": 24,
     "metadata": {},
     "output_type": "execute_result"
    }
   ],
   "source": [
    "not True"
   ]
  },
  {
   "cell_type": "code",
   "execution_count": 33,
   "id": "dc634952",
   "metadata": {},
   "outputs": [
    {
     "name": "stdout",
     "output_type": "stream",
     "text": [
      "True\n"
     ]
    }
   ],
   "source": [
    "a=500\n",
    "if bool(a)==True:\n",
    "    print(\"True\")\n",
    "elif bool(a)==False:\n",
    "    print(\"False\")   ###because bool of 0 is False and bool of 1 is True\n",
    "else:\n",
    "    print(\"nothing\")"
   ]
  },
  {
   "cell_type": "markdown",
   "id": "4f993a89",
   "metadata": {},
   "source": [
    "## Dynamic Typing"
   ]
  },
  {
   "cell_type": "markdown",
   "id": "f0579a96",
   "metadata": {},
   "source": [
    "In dynamic typing  we dont have to decide before hand the  data type of the variable. On the runtime compiler will decide the variable type"
   ]
  },
  {
   "cell_type": "code",
   "execution_count": 55,
   "id": "c0bac636",
   "metadata": {},
   "outputs": [
    {
     "name": "stdout",
     "output_type": "stream",
     "text": [
      "<class 'str'>\n",
      "\n",
      "<class 'int'>\n"
     ]
    }
   ],
   "source": [
    "a=56\n",
    "b=92\n",
    "a=\"abcd\" #this will replace the the above value of the variable\n",
    "print(type(a))\n",
    "print()\n",
    "print(type(b))"
   ]
  },
  {
   "cell_type": "markdown",
   "id": "f40a68d7",
   "metadata": {},
   "source": [
    "## Concatination"
   ]
  },
  {
   "cell_type": "code",
   "execution_count": 56,
   "id": "b64ee709",
   "metadata": {},
   "outputs": [],
   "source": [
    "### concatenation between different types"
   ]
  },
  {
   "cell_type": "code",
   "execution_count": 60,
   "id": "a27e9055",
   "metadata": {},
   "outputs": [
    {
     "data": {
      "text/plain": [
       "2"
      ]
     },
     "execution_count": 60,
     "metadata": {},
     "output_type": "execute_result"
    }
   ],
   "source": [
    "int(\"1\")+ 1"
   ]
  },
  {
   "cell_type": "code",
   "execution_count": 59,
   "id": "7411eb81",
   "metadata": {
    "scrolled": true
   },
   "outputs": [
    {
     "ename": "TypeError",
     "evalue": "unsupported operand type(s) for +: 'int' and 'str'",
     "output_type": "error",
     "traceback": [
      "\u001b[1;31m---------------------------------------------------------------------------\u001b[0m",
      "\u001b[1;31mTypeError\u001b[0m                                 Traceback (most recent call last)",
      "\u001b[1;32m~\\AppData\\Local\\Temp\\ipykernel_5432\\1031076855.py\u001b[0m in \u001b[0;36m<module>\u001b[1;34m\u001b[0m\n\u001b[1;32m----> 1\u001b[1;33m \u001b[0mint\u001b[0m\u001b[1;33m(\u001b[0m\u001b[1;34m\"1\"\u001b[0m\u001b[1;33m)\u001b[0m\u001b[1;33m+\u001b[0m \u001b[1;34m\"1\"\u001b[0m\u001b[1;33m\u001b[0m\u001b[1;33m\u001b[0m\u001b[0m\n\u001b[0m",
      "\u001b[1;31mTypeError\u001b[0m: unsupported operand type(s) for +: 'int' and 'str'"
     ]
    }
   ],
   "source": [
    "int(\"1\")+ \"1\""
   ]
  },
  {
   "cell_type": "code",
   "execution_count": 65,
   "id": "67c1bc2e",
   "metadata": {},
   "outputs": [
    {
     "name": "stdout",
     "output_type": "stream",
     "text": [
      "123123123123123123123123123123\n"
     ]
    }
   ],
   "source": [
    "a =\"123\"*10\n",
    "type(\"123\"*10) \n",
    "print(a)"
   ]
  },
  {
   "cell_type": "markdown",
   "id": "36ef9eaa",
   "metadata": {},
   "source": [
    "## Print Statement"
   ]
  },
  {
   "cell_type": "code",
   "execution_count": 76,
   "id": "9c7022b1",
   "metadata": {},
   "outputs": [
    {
     "name": "stdout",
     "output_type": "stream",
     "text": [
      "My age is: 25\n"
     ]
    }
   ],
   "source": [
    "age = 25\n",
    "name = \"asit\"\n",
    "print(\"My age is:\",age)\n"
   ]
  },
  {
   "cell_type": "markdown",
   "id": "d50be969",
   "metadata": {},
   "source": [
    "#### Fstring method"
   ]
  },
  {
   "cell_type": "code",
   "execution_count": 85,
   "id": "4dfe0ea5",
   "metadata": {},
   "outputs": [
    {
     "name": "stdout",
     "output_type": "stream",
     "text": [
      "My name is: asit and \n",
      "I'am 25 years old.\n"
     ]
    }
   ],
   "source": [
    "print(f\"My name is: {name} and \" + \"\\n\" + f\"I'am {age} years old.\")"
   ]
  },
  {
   "cell_type": "markdown",
   "id": "7b5ff71f",
   "metadata": {},
   "source": [
    "#### .Fromat method "
   ]
  },
  {
   "cell_type": "code",
   "execution_count": 86,
   "id": "19fda587",
   "metadata": {},
   "outputs": [
    {
     "name": "stdout",
     "output_type": "stream",
     "text": [
      "My name is asit and i'am 25 years old\n"
     ]
    }
   ],
   "source": [
    "print(\"My name is {} and i'am {} years old\".format(name,age))"
   ]
  },
  {
   "cell_type": "code",
   "execution_count": null,
   "id": "daff27e5",
   "metadata": {},
   "outputs": [],
   "source": [
    "##or\n",
    "print(\"My name is {firstname} and i'am {your_age} years old\".format(firstname=name,your_age=age))"
   ]
  },
  {
   "cell_type": "markdown",
   "id": "9439bd12",
   "metadata": {},
   "source": [
    "## Input Function"
   ]
  },
  {
   "cell_type": "code",
   "execution_count": 92,
   "id": "b1da1740",
   "metadata": {},
   "outputs": [
    {
     "name": "stdout",
     "output_type": "stream",
     "text": [
      "123\n"
     ]
    }
   ],
   "source": [
    "\"\"\"\n",
    "by default value of input function is string \n",
    "so in order to convert it to string we have to do type casting\n",
    "\"\"\"\n",
    "typ=input()\n",
    "\n"
   ]
  },
  {
   "cell_type": "code",
   "execution_count": 93,
   "id": "98dae29c",
   "metadata": {},
   "outputs": [
    {
     "data": {
      "text/plain": [
       "str"
      ]
     },
     "execution_count": 93,
     "metadata": {},
     "output_type": "execute_result"
    }
   ],
   "source": [
    "type(typ)"
   ]
  },
  {
   "cell_type": "code",
   "execution_count": null,
   "id": "17a24be0",
   "metadata": {},
   "outputs": [],
   "source": []
  }
 ],
 "metadata": {
  "kernelspec": {
   "display_name": "Python 3 (ipykernel)",
   "language": "python",
   "name": "python3"
  },
  "language_info": {
   "codemirror_mode": {
    "name": "ipython",
    "version": 3
   },
   "file_extension": ".py",
   "mimetype": "text/x-python",
   "name": "python",
   "nbconvert_exporter": "python",
   "pygments_lexer": "ipython3",
   "version": "3.9.13"
  }
 },
 "nbformat": 4,
 "nbformat_minor": 5
}
