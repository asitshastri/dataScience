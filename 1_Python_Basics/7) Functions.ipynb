{
 "cells": [
  {
   "cell_type": "markdown",
   "id": "c3b215d4",
   "metadata": {},
   "source": [
    "# 7) FUNCTION"
   ]
  },
  {
   "cell_type": "code",
   "execution_count": 2,
   "id": "75ac0ece",
   "metadata": {},
   "outputs": [],
   "source": [
    "def _1st_function():\n",
    "    print(\"this is the 1st function\")"
   ]
  },
  {
   "cell_type": "code",
   "execution_count": 3,
   "id": "ec0a6084",
   "metadata": {},
   "outputs": [
    {
     "name": "stdout",
     "output_type": "stream",
     "text": [
      "this is the 1st function\n"
     ]
    }
   ],
   "source": [
    "_1st_function()"
   ]
  },
  {
   "cell_type": "code",
   "execution_count": 7,
   "id": "0de993bc",
   "metadata": {},
   "outputs": [
    {
     "name": "stdout",
     "output_type": "stream",
     "text": [
      "this is the 1st function\n"
     ]
    },
    {
     "ename": "TypeError",
     "evalue": "unsupported operand type(s) for +: 'NoneType' and 'str'",
     "output_type": "error",
     "traceback": [
      "\u001b[1;31m---------------------------------------------------------------------------\u001b[0m",
      "\u001b[1;31mTypeError\u001b[0m                                 Traceback (most recent call last)",
      "\u001b[1;32m~\\AppData\\Local\\Temp\\ipykernel_5660\\1961727740.py\u001b[0m in \u001b[0;36m<module>\u001b[1;34m\u001b[0m\n\u001b[0;32m      1\u001b[0m \u001b[1;31m#concatining function with a string\u001b[0m\u001b[1;33m\u001b[0m\u001b[1;33m\u001b[0m\u001b[0m\n\u001b[1;32m----> 2\u001b[1;33m \u001b[0m_1st_function\u001b[0m\u001b[1;33m(\u001b[0m\u001b[1;33m)\u001b[0m \u001b[1;33m+\u001b[0m \u001b[1;34m\"fun\"\u001b[0m\u001b[1;33m\u001b[0m\u001b[1;33m\u001b[0m\u001b[0m\n\u001b[0m\u001b[0;32m      3\u001b[0m \u001b[1;31m# not possible as inside function there is a print function which returns none type\u001b[0m\u001b[1;33m\u001b[0m\u001b[1;33m\u001b[0m\u001b[0m\n",
      "\u001b[1;31mTypeError\u001b[0m: unsupported operand type(s) for +: 'NoneType' and 'str'"
     ]
    }
   ],
   "source": [
    "#concatining function with a string\n",
    "_1st_function() + \"fun\"\n",
    "# not possible as inside function there is a print function which returns none type "
   ]
  },
  {
   "cell_type": "markdown",
   "id": "837aa786",
   "metadata": {},
   "source": [
    "#### return"
   ]
  },
  {
   "cell_type": "code",
   "execution_count": 10,
   "id": "5dfc3467",
   "metadata": {},
   "outputs": [],
   "source": [
    "def _2nd_fun():\n",
    "    return \"this is my fun with return\"\n",
    "#return will return the data as it is and not as none type as in case of print()"
   ]
  },
  {
   "cell_type": "code",
   "execution_count": 9,
   "id": "a9538b3b",
   "metadata": {},
   "outputs": [
    {
     "name": "stdout",
     "output_type": "stream",
     "text": [
      "this is my fun with returnasit\n"
     ]
    }
   ],
   "source": [
    "print(_2nd_fun()+\"asit\")"
   ]
  },
  {
   "cell_type": "code",
   "execution_count": 11,
   "id": "d871f636",
   "metadata": {},
   "outputs": [],
   "source": [
    "#returning multiple values\n",
    "def fun3():\n",
    "    return 1, 4, \"pwskills\" , 34.56"
   ]
  },
  {
   "cell_type": "code",
   "execution_count": 22,
   "id": "ff9d4d68",
   "metadata": {},
   "outputs": [
    {
     "name": "stdout",
     "output_type": "stream",
     "text": [
      "(1, 4, 'pwskills', 34.56)\n",
      "<class 'tuple'>\n",
      "pwskills\n"
     ]
    }
   ],
   "source": [
    "print(fun3())\n",
    "print(type(fun3()))\n",
    "#note- return return muptile values as a tuple\n",
    "\n",
    "#slicing\n",
    "print(fun3()[2])"
   ]
  },
  {
   "cell_type": "code",
   "execution_count": 20,
   "id": "ca5d1c00",
   "metadata": {},
   "outputs": [
    {
     "name": "stdout",
     "output_type": "stream",
     "text": [
      "(1, 2, 3, 4)\n",
      "<class 'tuple'>\n",
      "1 2 3 4\n"
     ]
    }
   ],
   "source": [
    "#holding multiple data by a variable\n",
    "a=1,2,3,4\n",
    "print(a)\n",
    "print(type(a)) #hold values as a tuple\n",
    "\n",
    "#multiplle varible assignment\n",
    "a,b,c,d=1,2,3,4\n",
    "print(a,b,c,d)"
   ]
  },
  {
   "cell_type": "code",
   "execution_count": 23,
   "id": "0201d83c",
   "metadata": {},
   "outputs": [],
   "source": [
    "#create a sum function\n",
    "def add(a,b):\n",
    "    c= a+b\n",
    "    return c\n"
   ]
  },
  {
   "cell_type": "code",
   "execution_count": 24,
   "id": "b04516e0",
   "metadata": {},
   "outputs": [
    {
     "data": {
      "text/plain": [
       "3"
      ]
     },
     "execution_count": 24,
     "metadata": {},
     "output_type": "execute_result"
    }
   ],
   "source": [
    "add(1,2)"
   ]
  },
  {
   "cell_type": "code",
   "execution_count": 26,
   "id": "d52821f2",
   "metadata": {},
   "outputs": [
    {
     "data": {
      "text/plain": [
       "'asitshastri'"
      ]
     },
     "execution_count": 26,
     "metadata": {},
     "output_type": "execute_result"
    }
   ],
   "source": [
    "add(\"asit\",\"shastri\")"
   ]
  },
  {
   "cell_type": "code",
   "execution_count": 27,
   "id": "24fe121b",
   "metadata": {},
   "outputs": [
    {
     "data": {
      "text/plain": [
       "[1, 2, 3, 4, 4, 5, 6, 7, 8]"
      ]
     },
     "execution_count": 27,
     "metadata": {},
     "output_type": "execute_result"
    }
   ],
   "source": [
    "add([1,2,3,4] , [4,5,6,7,8])"
   ]
  },
  {
   "cell_type": "code",
   "execution_count": 29,
   "id": "d53b20d2",
   "metadata": {},
   "outputs": [
    {
     "data": {
      "text/plain": [
       "'shastriasit'"
      ]
     },
     "execution_count": 29,
     "metadata": {},
     "output_type": "execute_result"
    }
   ],
   "source": [
    "#pass named parameter in a function\n",
    "add(b=\"asit\",a=\"shastri\") #observe no need of to order the argument "
   ]
  },
  {
   "cell_type": "code",
   "execution_count": 41,
   "id": "e91250a8",
   "metadata": {},
   "outputs": [],
   "source": [
    "\"\"\"\n",
    "create a function which will take list as a input and give me a \n",
    "final list with all the numeric value\n",
    "\"\"\"\n",
    "\n",
    "def lst_filter(a):\n",
    "    n=[]\n",
    "    for i in a:\n",
    "        if type(i)==int or type(i)==float:\n",
    "            n.append(i)\n",
    "        elif type(i)==list:\n",
    "            for j in i:\n",
    "                if type(j)==int or type(j)==float: \n",
    "                    n.append(j)\n",
    "    return n\n"
   ]
  },
  {
   "cell_type": "code",
   "execution_count": 42,
   "id": "cc0ab8dc",
   "metadata": {},
   "outputs": [
    {
     "data": {
      "text/plain": [
       "[1, 2, 3, 4, 5, 1, 2, 3, 34, 45]"
      ]
     },
     "execution_count": 42,
     "metadata": {},
     "output_type": "execute_result"
    }
   ],
   "source": [
    "l = [1,2,3,4,5,\"sudh\" , \"pwskills\" , [1,2,3,34,45]]\n",
    "lst_filter(l)"
   ]
  },
  {
   "cell_type": "markdown",
   "id": "545cdeb7",
   "metadata": {},
   "source": [
    "#### (*args)- to create a function that can take any no. of arguments\n",
    "\n"
   ]
  },
  {
   "cell_type": "code",
   "execution_count": 43,
   "id": "e18e9f62",
   "metadata": {},
   "outputs": [
    {
     "ename": "TypeError",
     "evalue": "fun4() takes 5 positional arguments but 6 were given",
     "output_type": "error",
     "traceback": [
      "\u001b[1;31m---------------------------------------------------------------------------\u001b[0m",
      "\u001b[1;31mTypeError\u001b[0m                                 Traceback (most recent call last)",
      "\u001b[1;32m~\\AppData\\Local\\Temp\\ipykernel_5660\\2465101979.py\u001b[0m in \u001b[0;36m<module>\u001b[1;34m\u001b[0m\n\u001b[0;32m      2\u001b[0m     \u001b[1;32mpass\u001b[0m\u001b[1;33m\u001b[0m\u001b[1;33m\u001b[0m\u001b[0m\n\u001b[0;32m      3\u001b[0m \u001b[1;31m#this function can only take 5 arguments\u001b[0m\u001b[1;33m\u001b[0m\u001b[1;33m\u001b[0m\u001b[0m\n\u001b[1;32m----> 4\u001b[1;33m \u001b[0mfun4\u001b[0m\u001b[1;33m(\u001b[0m\u001b[1;36m1\u001b[0m\u001b[1;33m,\u001b[0m\u001b[1;36m2\u001b[0m\u001b[1;33m,\u001b[0m\u001b[1;36m3\u001b[0m\u001b[1;33m,\u001b[0m\u001b[1;36m4\u001b[0m\u001b[1;33m,\u001b[0m\u001b[1;36m5\u001b[0m\u001b[1;33m,\u001b[0m\u001b[1;36m67\u001b[0m\u001b[1;33m)\u001b[0m\u001b[1;33m\u001b[0m\u001b[1;33m\u001b[0m\u001b[0m\n\u001b[0m",
      "\u001b[1;31mTypeError\u001b[0m: fun4() takes 5 positional arguments but 6 were given"
     ]
    }
   ],
   "source": [
    "def fun4(a,b,c,d,e):\n",
    "    pass\n",
    "\n",
    "fun4(1,2,3,4,5,67) #this function can only take 5 arguments"
   ]
  },
  {
   "cell_type": "code",
   "execution_count": 44,
   "id": "c7458949",
   "metadata": {},
   "outputs": [],
   "source": [
    "def fun5(*args):\n",
    "    pass\n",
    "fun5(1,2,3,4,5,6,7,7,8,9)"
   ]
  },
  {
   "cell_type": "code",
   "execution_count": 45,
   "id": "f84fefe4",
   "metadata": {},
   "outputs": [],
   "source": [
    "#or\n",
    "def fun6(*asit):\n",
    "    pass\n",
    "fun6(20,85,64,\"string\")"
   ]
  },
  {
   "cell_type": "code",
   "execution_count": 46,
   "id": "2e818013",
   "metadata": {},
   "outputs": [
    {
     "ename": "TypeError",
     "evalue": "fun7() missing 1 required keyword-only argument: 'a'",
     "output_type": "error",
     "traceback": [
      "\u001b[1;31m---------------------------------------------------------------------------\u001b[0m",
      "\u001b[1;31mTypeError\u001b[0m                                 Traceback (most recent call last)",
      "\u001b[1;32m~\\AppData\\Local\\Temp\\ipykernel_5660\\331099969.py\u001b[0m in \u001b[0;36m<module>\u001b[1;34m\u001b[0m\n\u001b[0;32m      2\u001b[0m \u001b[1;32mdef\u001b[0m \u001b[0mfun7\u001b[0m\u001b[1;33m(\u001b[0m\u001b[1;33m*\u001b[0m\u001b[0margs\u001b[0m \u001b[1;33m,\u001b[0m \u001b[0ma\u001b[0m \u001b[1;33m)\u001b[0m\u001b[1;33m:\u001b[0m\u001b[1;33m\u001b[0m\u001b[1;33m\u001b[0m\u001b[0m\n\u001b[0;32m      3\u001b[0m     \u001b[1;32mreturn\u001b[0m \u001b[0margs\u001b[0m \u001b[1;33m,\u001b[0m\u001b[0ma\u001b[0m\u001b[1;33m\u001b[0m\u001b[1;33m\u001b[0m\u001b[0m\n\u001b[1;32m----> 4\u001b[1;33m \u001b[0mfun7\u001b[0m\u001b[1;33m(\u001b[0m\u001b[1;36m3\u001b[0m\u001b[1;33m)\u001b[0m\u001b[1;33m\u001b[0m\u001b[1;33m\u001b[0m\u001b[0m\n\u001b[0m",
      "\u001b[1;31mTypeError\u001b[0m: fun7() missing 1 required keyword-only argument: 'a'"
     ]
    }
   ],
   "source": [
    "#fun with * and one other argument\n",
    "def fun7(*args , a ):\n",
    "    return args ,a \n",
    "fun7(3)"
   ]
  },
  {
   "cell_type": "code",
   "execution_count": 48,
   "id": "eb564178",
   "metadata": {},
   "outputs": [
    {
     "data": {
      "text/plain": [
       "((1, 2, 3, 4, 5), 3)"
      ]
     },
     "execution_count": 48,
     "metadata": {},
     "output_type": "execute_result"
    }
   ],
   "source": [
    "fun7(1,2,3,4,5,a=3)"
   ]
  },
  {
   "cell_type": "code",
   "execution_count": 51,
   "id": "c9235896",
   "metadata": {},
   "outputs": [
    {
     "data": {
      "text/plain": [
       "[[1, 2, 3, 4, 4], [4, 5, 6], [6, 7, 8]]"
      ]
     },
     "execution_count": 51,
     "metadata": {},
     "output_type": "execute_result"
    }
   ],
   "source": [
    "#creating a function that checks arg and returns a list\n",
    "def fun8(*args): \n",
    "    l = []\n",
    "    for i in args:\n",
    "        if type(i) == list :\n",
    "            l.append(i)\n",
    "            \n",
    "    return l\n",
    "\n",
    "fun8(1,2,3,[1,2,3,4,4] , (1,2,3,4,4) , \"sudh\" , [4,5,6] , [6,7,8])"
   ]
  },
  {
   "cell_type": "code",
   "execution_count": 53,
   "id": "74bece6b",
   "metadata": {},
   "outputs": [
    {
     "name": "stdout",
     "output_type": "stream",
     "text": [
      "<function fun9 at 0x000002063D063790>\n",
      "<class 'dict'>\n"
     ]
    }
   ],
   "source": [
    "#function with key and value as argument\n",
    "def fun9(**kwargs): #double astrix means it will take all arguments as key-value pair\n",
    "    return kwargs\n",
    "print(fun9)\n",
    "print(type(fun9()))"
   ]
  },
  {
   "cell_type": "code",
   "execution_count": 55,
   "id": "16d39249",
   "metadata": {},
   "outputs": [
    {
     "name": "stdout",
     "output_type": "stream",
     "text": [
      "('c', [1, 2, 3, 4])\n",
      "<class 'NoneType'>\n"
     ]
    }
   ],
   "source": [
    "#function that returns key its value whiich is list\n",
    "def fun10(**kwargs):\n",
    "    for i in kwargs.keys():\n",
    "        if type(kwargs[i] ) == list :\n",
    "            return i , kwargs[i]\n",
    "print(fun10(a = 34 , b = 23 , c = [1,2,3,4] , d = (\"sudh\" , \"pwskills\")))\n",
    "print(type(fun10()))"
   ]
  },
  {
   "cell_type": "code",
   "execution_count": 62,
   "id": "1019b0d3",
   "metadata": {},
   "outputs": [
    {
     "data": {
      "text/plain": [
       "((2, 3, 4, 5), {'a': 34, 'b': 98})"
      ]
     },
     "execution_count": 62,
     "metadata": {},
     "output_type": "execute_result"
    }
   ],
   "source": [
    "#functions that take any argument and both key-valye pairs as input\n",
    "def fun11(*args , **kwargs) : \n",
    "    return args , kwargs\n",
    "\n",
    "fun11(2,3,4,5,a= 34, b = 98)"
   ]
  },
  {
   "cell_type": "code",
   "execution_count": 64,
   "id": "204a6834",
   "metadata": {},
   "outputs": [
    {
     "data": {
      "text/plain": [
       "tuple"
      ]
     },
     "execution_count": 64,
     "metadata": {},
     "output_type": "execute_result"
    }
   ],
   "source": [
    "type(fun11()) #tuple of arg and key value pairs"
   ]
  },
  {
   "cell_type": "raw",
   "id": "dd13b00e",
   "metadata": {},
   "source": []
  },
  {
   "cell_type": "raw",
   "id": "cba52e64",
   "metadata": {},
   "source": []
  },
  {
   "cell_type": "markdown",
   "id": "9ed98d16",
   "metadata": {},
   "source": [
    "## 7.2) Generator Function"
   ]
  },
  {
   "cell_type": "markdown",
   "id": "ffe4d84d",
   "metadata": {},
   "source": [
    "the range() function is a generating function as it work on itself. It can be only used inside the for loop\n",
    "\n",
    "> So,How to produce this typr of function?"
   ]
  },
  {
   "cell_type": "code",
   "execution_count": 1,
   "id": "cde2c21e-cb4d-4615-8605-fdb92cae43c2",
   "metadata": {},
   "outputs": [
    {
     "data": {
      "text/plain": [
       "range(1, 10)"
      ]
     },
     "execution_count": 1,
     "metadata": {},
     "output_type": "execute_result"
    }
   ],
   "source": [
    "range(1,10) "
   ]
  },
  {
   "cell_type": "code",
   "execution_count": 3,
   "id": "a278e0be-af1b-48b1-a6b7-2365dd5bcba5",
   "metadata": {},
   "outputs": [
    {
     "name": "stdout",
     "output_type": "stream",
     "text": [
      "1\n",
      "2\n",
      "3\n",
      "4\n",
      "5\n",
      "6\n",
      "7\n",
      "8\n",
      "9\n"
     ]
    }
   ],
   "source": [
    "for i in range(1,10): #range()only works inside for loop\n",
    "    print(i)"
   ]
  },
  {
   "cell_type": "markdown",
   "id": "ef794886",
   "metadata": {},
   "source": [
    "#### What is the advantage of Generating function?\n",
    "> As in ML we work on millions of data. Function which gives the filnal list as an outcome will only not communicate unless it prepares the whole list which will take a long time cuz of billions of enteries and thus creating a bottleneck.\n",
    "<br>\n",
    "<br>\n",
    "> So a function which shows only when we try to iterate over it (like range) will be helpfull. as it does not remember the whole data it only remembers the last data it generated."
   ]
  },
  {
   "cell_type": "markdown",
   "id": "92762d4b",
   "metadata": {},
   "source": [
    "#### usning -Yield- to make a generator function\n"
   ]
  },
  {
   "cell_type": "markdown",
   "id": "44eae05f",
   "metadata": {},
   "source": [
    "**note** using generator function we generate data in an optimised way by not blocking the whole memory"
   ]
  },
  {
   "cell_type": "code",
   "execution_count": 66,
   "id": "ecb22b5b",
   "metadata": {},
   "outputs": [],
   "source": [
    "#Q) Create a Generator function whi produces a fibonacci series"
   ]
  },
  {
   "cell_type": "code",
   "execution_count": 72,
   "id": "54942351",
   "metadata": {},
   "outputs": [],
   "source": [
    "def fibo_gen(n):\n",
    "    a,b=0,1\n",
    "    for i in range(n):\n",
    "        yield a #passes the value of a without storing it \n",
    "        a,b=b,a+b        "
   ]
  },
  {
   "cell_type": "code",
   "execution_count": 73,
   "id": "218d34d9",
   "metadata": {},
   "outputs": [
    {
     "data": {
      "text/plain": [
       "<generator object fibo_gen at 0x000002063D19A7B0>"
      ]
     },
     "execution_count": 73,
     "metadata": {},
     "output_type": "execute_result"
    }
   ],
   "source": [
    "fibo_gen(1000) #as we can see it does not create a list of thousand finachi nos."
   ]
  },
  {
   "cell_type": "code",
   "execution_count": 79,
   "id": "9206b390",
   "metadata": {},
   "outputs": [
    {
     "name": "stdout",
     "output_type": "stream",
     "text": [
      "[0, 1, 1, 2, 3, 5, 8, 13, 21, 34, 55, 89, 144, 233, 377, 610, 987, 1597, 2584, 4181, 6765, 10946, 17711, 28657, 46368, 75025, 121393, 196418, 317811, 514229, 832040, 1346269, 2178309, 3524578, 5702887, 9227465, 14930352, 24157817, 39088169, 63245986, 102334155, 165580141, 267914296, 433494437, 701408733]\n",
      "45\n"
     ]
    }
   ],
   "source": [
    "lst=[]\n",
    "for i in fibo_gen(100):\n",
    "    if i==1134903170:\n",
    "        break\n",
    "    else: lst.append(i)\n",
    "print(lst)\n",
    "print(len(lst))"
   ]
  },
  {
   "cell_type": "raw",
   "id": "b354cf65",
   "metadata": {},
   "source": []
  },
  {
   "cell_type": "raw",
   "id": "620304d5",
   "metadata": {},
   "source": []
  },
  {
   "cell_type": "markdown",
   "id": "f15b12ce",
   "metadata": {},
   "source": [
    "## 7.3) Lambda Function"
   ]
  },
  {
   "cell_type": "code",
   "execution_count": 3,
   "id": "a7acf740",
   "metadata": {
    "scrolled": true
   },
   "outputs": [
    {
     "name": "stdout",
     "output_type": "stream",
     "text": [
      "16\n"
     ]
    }
   ],
   "source": [
    "#creating a function that returns power of a no.\n",
    "def pwr(m,p):\n",
    "    return m**p\n",
    "\n",
    "print(pwr(2,4))"
   ]
  },
  {
   "cell_type": "markdown",
   "id": "9958f0fe",
   "metadata": {},
   "source": [
    "#### Adhoc Function (below)"
   ]
  },
  {
   "cell_type": "code",
   "execution_count": 4,
   "id": "65dd0d5f",
   "metadata": {},
   "outputs": [
    {
     "name": "stdout",
     "output_type": "stream",
     "text": [
      "125\n"
     ]
    }
   ],
   "source": [
    "# Storing lambda finction inside a variable\n",
    "\n",
    "a= lambda n,p:n**p  #note lambda finction can be assigned to a variable\n",
    "\n",
    "print(a(5,3))"
   ]
  },
  {
   "cell_type": "code",
   "execution_count": 5,
   "id": "4e256384",
   "metadata": {},
   "outputs": [],
   "source": [
    "add=lambda x,y:x+y"
   ]
  },
  {
   "cell_type": "code",
   "execution_count": 6,
   "id": "04971a1e",
   "metadata": {},
   "outputs": [],
   "source": [
    "c_2_f = lambda c:(9/5)*c+32"
   ]
  },
  {
   "cell_type": "code",
   "execution_count": 7,
   "id": "a0fc8fa7",
   "metadata": {},
   "outputs": [],
   "source": [
    " max_no = lambda x,y:c if x>y else x"
   ]
  },
  {
   "cell_type": "code",
   "execution_count": 8,
   "id": "4c3cec10",
   "metadata": {},
   "outputs": [
    {
     "data": {
      "text/plain": [
       "7"
      ]
     },
     "execution_count": 8,
     "metadata": {},
     "output_type": "execute_result"
    }
   ],
   "source": [
    "max(4,7)"
   ]
  },
  {
   "cell_type": "raw",
   "id": "d0614069",
   "metadata": {},
   "source": []
  },
  {
   "cell_type": "raw",
   "id": "0ea2126c",
   "metadata": {},
   "source": []
  },
  {
   "cell_type": "markdown",
   "id": "ca96c8e9",
   "metadata": {},
   "source": [
    "## 7.4) Map, Reduce & Filter Function"
   ]
  },
  {
   "cell_type": "markdown",
   "id": "ec762670",
   "metadata": {},
   "source": [
    "### 7.4.1) Map Function"
   ]
  },
  {
   "cell_type": "code",
   "execution_count": 9,
   "id": "2738cfbb",
   "metadata": {},
   "outputs": [
    {
     "name": "stdout",
     "output_type": "stream",
     "text": [
      "[1, 4, 9, 16, 2025, 25]\n"
     ]
    }
   ],
   "source": [
    "#Create a function that squares every element of the list below\n",
    "l = [1,2,3,4,45,5]\n",
    "\n",
    "#solution\n",
    "def sqr(l):\n",
    "    l1=[]\n",
    "    for i in l:\n",
    "        l1.append(i**2)\n",
    "    return l1\n",
    "print(sqr(l))"
   ]
  },
  {
   "cell_type": "markdown",
   "id": "53ec611c",
   "metadata": {},
   "source": [
    "**Map Function Approach**<br>\n",
    "it take functions and iterables as argument, and iterates all elements of the iterable through the function"
   ]
  },
  {
   "cell_type": "code",
   "execution_count": 14,
   "id": "5298ab6a",
   "metadata": {},
   "outputs": [],
   "source": [
    "#solving above problem using map function\n",
    "def sqr2(l):\n",
    "    return l**2"
   ]
  },
  {
   "cell_type": "code",
   "execution_count": 15,
   "id": "315ba946",
   "metadata": {},
   "outputs": [
    {
     "data": {
      "text/plain": [
       "[1, 4, 9, 16, 2025, 25]"
      ]
     },
     "execution_count": 15,
     "metadata": {},
     "output_type": "execute_result"
    }
   ],
   "source": [
    "list(map(sqr2,l))"
   ]
  },
  {
   "cell_type": "code",
   "execution_count": 16,
   "id": "c889746d",
   "metadata": {},
   "outputs": [
    {
     "data": {
      "text/plain": [
       "[1, 4, 9, 16, 2025, 25]"
      ]
     },
     "execution_count": 16,
     "metadata": {},
     "output_type": "execute_result"
    }
   ],
   "source": [
    "#mapper function with a lambda function\n",
    "list(map(lambda x:x**2,l))"
   ]
  },
  {
   "cell_type": "code",
   "execution_count": 17,
   "id": "ae05fb09-5e00-4f3a-a185-8f43279d34f4",
   "metadata": {},
   "outputs": [
    {
     "data": {
      "text/plain": [
       "[11, 12, 13, 14, 55, 15]"
      ]
     },
     "execution_count": 17,
     "metadata": {},
     "output_type": "execute_result"
    }
   ],
   "source": [
    "list(map(lambda x : x+10 , l ))"
   ]
  },
  {
   "cell_type": "code",
   "execution_count": 18,
   "id": "df1049b0-9ede-4c86-9f7f-3d4fa188d18d",
   "metadata": {},
   "outputs": [
    {
     "data": {
      "text/plain": [
       "['1', '2', '3', '4', '45', '5']"
      ]
     },
     "execution_count": 18,
     "metadata": {},
     "output_type": "execute_result"
    }
   ],
   "source": [
    "list(map(lambda x : str(x) , l ))"
   ]
  },
  {
   "cell_type": "code",
   "execution_count": 19,
   "id": "0e5172d1-93bd-42a9-a6ff-3673ac5c97fe",
   "metadata": {},
   "outputs": [],
   "source": [
    "l1 = [1,2,3,4,5]\n",
    "l2 = [6,7,8,9,10]"
   ]
  },
  {
   "cell_type": "code",
   "execution_count": 20,
   "id": "21e021e0-2067-4160-848c-b350f1260184",
   "metadata": {},
   "outputs": [
    {
     "data": {
      "text/plain": [
       "[7, 9, 11, 13, 15]"
      ]
     },
     "execution_count": 20,
     "metadata": {},
     "output_type": "execute_result"
    }
   ],
   "source": [
    "list(map(lambda x,y :x+y , l1,l2))"
   ]
  },
  {
   "cell_type": "code",
   "execution_count": 22,
   "id": "0ed66d7a",
   "metadata": {},
   "outputs": [
    {
     "data": {
      "text/plain": [
       "[7, 9, 11, 13]"
      ]
     },
     "execution_count": 22,
     "metadata": {},
     "output_type": "execute_result"
    }
   ],
   "source": [
    "#using adhoc function inside map()\n",
    "l1 = [1,2,3,4]\n",
    "l2 = [6,7,8,9,10]\n",
    "f= lambda x,y:x+y  #adhoc function\n",
    "list(map(f,l1,l2))"
   ]
  },
  {
   "cell_type": "raw",
   "id": "0e99edab",
   "metadata": {},
   "source": [
    " "
   ]
  },
  {
   "cell_type": "raw",
   "id": "aa407495",
   "metadata": {},
   "source": []
  },
  {
   "cell_type": "markdown",
   "id": "ab780bc7",
   "metadata": {},
   "source": [
    "### 7.4.2) Reduce Function"
   ]
  },
  {
   "cell_type": "markdown",
   "id": "441e2ecc",
   "metadata": {},
   "source": [
    "By default reduce function is not available in python.\n",
    "It needs to be imported library \"functools\""
   ]
  },
  {
   "cell_type": "code",
   "execution_count": 23,
   "id": "9411fb0d",
   "metadata": {},
   "outputs": [],
   "source": [
    "from functools import reduce"
   ]
  },
  {
   "cell_type": "code",
   "execution_count": 24,
   "id": "6fb93d2d",
   "metadata": {},
   "outputs": [
    {
     "data": {
      "text/plain": [
       "19"
      ]
     },
     "execution_count": 24,
     "metadata": {},
     "output_type": "execute_result"
    }
   ],
   "source": [
    "l = [1,2,3,4,5,4]\n",
    "reduce( lambda x,y:x+y,l) #it take 1st arg. as function and 2nd as iterable \n"
   ]
  },
  {
   "cell_type": "markdown",
   "id": "039ac35d",
   "metadata": {},
   "source": []
  },
  {
   "cell_type": "code",
   "execution_count": 27,
   "id": "e9884e3a",
   "metadata": {},
   "outputs": [
    {
     "ename": "TypeError",
     "evalue": "<lambda>() missing 1 required positional argument: 'z'",
     "output_type": "error",
     "traceback": [
      "\u001b[1;31m---------------------------------------------------------------------------\u001b[0m",
      "\u001b[1;31mTypeError\u001b[0m                                 Traceback (most recent call last)",
      "\u001b[1;32m~\\AppData\\Local\\Temp\\ipykernel_8776\\3759722890.py\u001b[0m in \u001b[0;36m<module>\u001b[1;34m\u001b[0m\n\u001b[1;32m----> 1\u001b[1;33m \u001b[0mreduce\u001b[0m\u001b[1;33m(\u001b[0m\u001b[1;32mlambda\u001b[0m \u001b[0mx\u001b[0m \u001b[1;33m,\u001b[0m \u001b[0my\u001b[0m \u001b[1;33m,\u001b[0m \u001b[0mz\u001b[0m \u001b[1;33m:\u001b[0m \u001b[0mx\u001b[0m\u001b[1;33m+\u001b[0m\u001b[0my\u001b[0m\u001b[1;33m+\u001b[0m\u001b[0mz\u001b[0m \u001b[1;33m,\u001b[0m \u001b[0ml\u001b[0m\u001b[1;33m)\u001b[0m\u001b[1;33m\u001b[0m\u001b[1;33m\u001b[0m\u001b[0m\n\u001b[0m\u001b[0;32m      2\u001b[0m \u001b[1;31m#does not work as explained in below img\u001b[0m\u001b[1;33m\u001b[0m\u001b[1;33m\u001b[0m\u001b[0m\n",
      "\u001b[1;31mTypeError\u001b[0m: <lambda>() missing 1 required positional argument: 'z'"
     ]
    }
   ],
   "source": [
    "reduce(lambda x , y , z : x+y+z , l)\n",
    "#does not work as explained in below img"
   ]
  },
  {
   "cell_type": "markdown",
   "id": "81466023",
   "metadata": {},
   "source": []
  },
  {
   "cell_type": "code",
   "execution_count": 28,
   "id": "ec87fce0",
   "metadata": {},
   "outputs": [
    {
     "ename": "TypeError",
     "evalue": "reduce() of empty sequence with no initial value",
     "output_type": "error",
     "traceback": [
      "\u001b[1;31m---------------------------------------------------------------------------\u001b[0m",
      "\u001b[1;31mTypeError\u001b[0m                                 Traceback (most recent call last)",
      "\u001b[1;32m~\\AppData\\Local\\Temp\\ipykernel_8776\\279108227.py\u001b[0m in \u001b[0;36m<module>\u001b[1;34m\u001b[0m\n\u001b[1;32m----> 1\u001b[1;33m \u001b[0mreduce\u001b[0m\u001b[1;33m(\u001b[0m\u001b[1;32mlambda\u001b[0m \u001b[0mx\u001b[0m \u001b[1;33m,\u001b[0m \u001b[0my\u001b[0m \u001b[1;33m:\u001b[0m \u001b[0mx\u001b[0m\u001b[1;33m+\u001b[0m\u001b[0my\u001b[0m \u001b[1;33m,\u001b[0m \u001b[1;33m[\u001b[0m\u001b[1;33m]\u001b[0m\u001b[1;33m)\u001b[0m\u001b[1;33m\u001b[0m\u001b[1;33m\u001b[0m\u001b[0m\n\u001b[0m\u001b[0;32m      2\u001b[0m \u001b[1;31m#passing empty iterable inside reduce doesnt work\u001b[0m\u001b[1;33m\u001b[0m\u001b[1;33m\u001b[0m\u001b[0m\n",
      "\u001b[1;31mTypeError\u001b[0m: reduce() of empty sequence with no initial value"
     ]
    }
   ],
   "source": [
    "reduce(lambda x , y : x+y , [])\n",
    "#passing empty iterable inside reduce doesnt work"
   ]
  },
  {
   "cell_type": "code",
   "execution_count": 29,
   "id": "f969b13c",
   "metadata": {},
   "outputs": [
    {
     "data": {
      "text/plain": [
       "1"
      ]
     },
     "execution_count": 29,
     "metadata": {},
     "output_type": "execute_result"
    }
   ],
   "source": [
    "reduce(lambda x , y : x+y , [1])"
   ]
  },
  {
   "cell_type": "code",
   "execution_count": 34,
   "id": "30f17103",
   "metadata": {},
   "outputs": [
    {
     "data": {
      "text/plain": [
       "5"
      ]
     },
     "execution_count": 34,
     "metadata": {},
     "output_type": "execute_result"
    }
   ],
   "source": [
    "#using reduce function calucate max no. element inside a list\n",
    "l = [1,2,3,4,5,4]\n",
    "reduce( lambda x,y: x if x>y else y,l)"
   ]
  },
  {
   "cell_type": "markdown",
   "id": "bb3c9c6a",
   "metadata": {},
   "source": []
  },
  {
   "cell_type": "raw",
   "id": "64c59926",
   "metadata": {},
   "source": []
  },
  {
   "cell_type": "raw",
   "id": "abf2962f",
   "metadata": {},
   "source": []
  },
  {
   "cell_type": "markdown",
   "id": "d30efcdb",
   "metadata": {},
   "source": [
    "### 7.4.3) Filter Function \n",
    "-  takes function and iterable as argument<br>\n",
    "-  print the element of iterable if condition is true"
   ]
  },
  {
   "cell_type": "code",
   "execution_count": 35,
   "id": "a26437f2",
   "metadata": {},
   "outputs": [
    {
     "data": {
      "text/plain": [
       "[2, 4, 4]"
      ]
     },
     "execution_count": 35,
     "metadata": {},
     "output_type": "execute_result"
    }
   ],
   "source": [
    "#Filter even nos. from list below\n",
    "l = [1,2,3,4,5,4]\n",
    "list(filter( lambda x:x%2==0,l))"
   ]
  },
  {
   "cell_type": "code",
   "execution_count": 36,
   "id": "b63af0ff",
   "metadata": {},
   "outputs": [
    {
     "data": {
      "text/plain": [
       "[1, 3, 5]"
      ]
     },
     "execution_count": 36,
     "metadata": {},
     "output_type": "execute_result"
    }
   ],
   "source": [
    "#Filter odd nos. from list below\n",
    "l = [1,2,3,4,5,4]\n",
    "list(filter( lambda x:x%2!=0,l))"
   ]
  },
  {
   "cell_type": "code",
   "execution_count": 38,
   "id": "884c1dec",
   "metadata": {},
   "outputs": [
    {
     "data": {
      "text/plain": [
       "[-2, -3, -6, -7]"
      ]
     },
     "execution_count": 38,
     "metadata": {},
     "output_type": "execute_result"
    }
   ],
   "source": [
    "#Filter -ve nos. from list below\n",
    "l1 = [-2,4,5,6,-3,-6,-7]\n",
    "list(filter( lambda x:x<0,l1))"
   ]
  },
  {
   "cell_type": "code",
   "execution_count": 39,
   "id": "9bb24f1f",
   "metadata": {},
   "outputs": [
    {
     "data": {
      "text/plain": [
       "[4, 5, 6]"
      ]
     },
     "execution_count": 39,
     "metadata": {},
     "output_type": "execute_result"
    }
   ],
   "source": [
    "#Filter +ve nos. from list below\n",
    "l1 = [-2,4,5,6,-3,-6,-7]\n",
    "list(filter( lambda x:x>0,l1))"
   ]
  },
  {
   "cell_type": "code",
   "execution_count": 41,
   "id": "8ba0b6f0",
   "metadata": {},
   "outputs": [
    {
     "data": {
      "text/plain": [
       "['sudh', 'kumar', 'krish']"
      ]
     },
     "execution_count": 41,
     "metadata": {},
     "output_type": "execute_result"
    }
   ],
   "source": [
    "#Filter strings with length < 6 from list below\n",
    "l2 = [\"sudh\" , \"pwskills\" , \"kumar\" , \"bengalore\" , \"krish\"]\n",
    "list(filter( lambda x:len(x)<6,l2))"
   ]
  },
  {
   "cell_type": "code",
   "execution_count": null,
   "id": "b6b16b08",
   "metadata": {},
   "outputs": [],
   "source": []
  }
 ],
 "metadata": {
  "kernelspec": {
   "display_name": "Python 3 (ipykernel)",
   "language": "python",
   "name": "python3"
  },
  "language_info": {
   "codemirror_mode": {
    "name": "ipython",
    "version": 3
   },
   "file_extension": ".py",
   "mimetype": "text/x-python",
   "name": "python",
   "nbconvert_exporter": "python",
   "pygments_lexer": "ipython3",
   "version": "3.9.13"
  }
 },
 "nbformat": 4,
 "nbformat_minor": 5
}
