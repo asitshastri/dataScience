{
 "cells": [
  {
   "cell_type": "markdown",
   "id": "48b59d0d",
   "metadata": {},
   "source": [
    "# Scrapping all the comments and name rating etc. of the prodect from flipkart "
   ]
  },
  {
   "cell_type": "code",
   "execution_count": 7,
   "id": "5b7023fa",
   "metadata": {},
   "outputs": [],
   "source": [
    "import requests\n",
    "from bs4 import BeautifulSoup as bs\n",
    "from urllib.request import urlopen\n",
    "import urllib"
   ]
  },
  {
   "cell_type": "code",
   "execution_count": 37,
   "id": "d5c47790",
   "metadata": {},
   "outputs": [
    {
     "ename": "AttributeError",
     "evalue": "'NoneType' object has no attribute 'a'",
     "output_type": "error",
     "traceback": [
      "\u001b[1;31m---------------------------------------------------------------------------\u001b[0m",
      "\u001b[1;31mAttributeError\u001b[0m                            Traceback (most recent call last)",
      "Cell \u001b[1;32mIn[37], line 22\u001b[0m\n\u001b[0;32m     20\u001b[0m product_links\u001b[38;5;241m=\u001b[39m[]\n\u001b[0;32m     21\u001b[0m \u001b[38;5;28;01mfor\u001b[39;00m i \u001b[38;5;129;01min\u001b[39;00m bixboxes:\n\u001b[1;32m---> 22\u001b[0m     link \u001b[38;5;241m=\u001b[39m \u001b[38;5;124m\"\u001b[39m\u001b[38;5;124mhttps://www.flipkart.com\u001b[39m\u001b[38;5;124m\"\u001b[39m \u001b[38;5;241m+\u001b[39m \u001b[43mi\u001b[49m\u001b[38;5;241;43m.\u001b[39;49m\u001b[43mdiv\u001b[49m\u001b[38;5;241;43m.\u001b[39;49m\u001b[43mdiv\u001b[49m\u001b[38;5;241;43m.\u001b[39;49m\u001b[43mdiv\u001b[49m\u001b[38;5;241;43m.\u001b[39;49m\u001b[43ma\u001b[49m[\u001b[38;5;124m'\u001b[39m\u001b[38;5;124mhref\u001b[39m\u001b[38;5;124m'\u001b[39m]\n\u001b[0;32m     23\u001b[0m     product_links\u001b[38;5;241m.\u001b[39mappend(link)\n\u001b[0;32m     24\u001b[0m \u001b[38;5;66;03m# error occured will be handle in exception handeling\u001b[39;00m\n",
      "\u001b[1;31mAttributeError\u001b[0m: 'NoneType' object has no attribute 'a'"
     ]
    }
   ],
   "source": [
    "flipkartUrl = 'https://www.flipkart.com/search?q='+'tv'\n",
    "#print(flipkartUrl)\n",
    "urlclient = urlopen(flipkartUrl)\n",
    "#print(urlclient) #hhtp response object: <http.client.HTTPResponse object at 0x000001848749CD60>\n",
    "flipkartPage = urlclient.read()\n",
    "#print(flipkartPage)\n",
    "\n",
    "#using requests.get() instead of urlopen\n",
    "#flipkartPage = requests.get(flipkartPage)\n",
    "#doesnot work\n",
    "\n",
    "#beautifying page\n",
    "flipkart_html = bs(flipkartPage,'html.parser')\n",
    "#print(flipkart_html)\n",
    "\n",
    "#finding bixboxes\n",
    "bixboxes = flipkart_html.find_all('div',{\"class\":\"_1AtVbE col-12-12\"})\n",
    "#print(len(bixboxes))\n",
    "del bixboxes[0:2]\n",
    "#print(bixboxes[0])\n",
    "product_links=[]\n",
    "for i in bixboxes:\n",
    "    link = \"https://www.flipkart.com\" + i.div.div.div.a['href']\n",
    "    product_links.append(link)\n",
    "# error occured will be handle in exception handeling\n",
    "\"\"\"\n",
    "---------------------------------------------------------------------------\n",
    "AttributeError                            Traceback (most recent call last)\n",
    "Cell In[24], line 18\n",
    "     15 #print(bixboxes[0])\n",
    "     17 for i in bixboxes:\n",
    "---> 18     print(\"https://www.flipkart.com\" + i.div.div.div.a['href'])\n",
    "\n",
    "AttributeError: 'NoneType' object has no attribute 'a'\n",
    "\n",
    "\"\"\"\n",
    "\n"
   ]
  },
  {
   "cell_type": "code",
   "execution_count": 75,
   "id": "17732a23",
   "metadata": {},
   "outputs": [
    {
     "name": "stdout",
     "output_type": "stream",
     "text": [
      "Sritaj Patel\n",
      "Abhinav Suman\n",
      "Yogesh Mhatre\n",
      "Sankavi.N Akshaya\n",
      "Devawayan Hore\n",
      "Navdeep\n",
      "Gourab Halder\n",
      "Flipkart Customer\n",
      "Prasad kancharla\n",
      "Flipkart Customer\n"
     ]
    },
    {
     "ename": "AttributeError",
     "evalue": "'NoneType' object has no attribute 'div'",
     "output_type": "error",
     "traceback": [
      "\u001b[1;31m---------------------------------------------------------------------------\u001b[0m",
      "\u001b[1;31mAttributeError\u001b[0m                            Traceback (most recent call last)",
      "Cell \u001b[1;32mIn[75], line 11\u001b[0m\n\u001b[0;32m      9\u001b[0m \u001b[38;5;66;03m#print(len(comment_boxes))\u001b[39;00m\n\u001b[0;32m     10\u001b[0m \u001b[38;5;28;01mfor\u001b[39;00m i \u001b[38;5;129;01min\u001b[39;00m comment_boxes:\n\u001b[1;32m---> 11\u001b[0m     \u001b[38;5;28mprint\u001b[39m(\u001b[43mi\u001b[49m\u001b[38;5;241;43m.\u001b[39;49m\u001b[43mdiv\u001b[49m\u001b[38;5;241;43m.\u001b[39;49m\u001b[43mdiv\u001b[49m\u001b[38;5;241m.\u001b[39mfind_all(\u001b[38;5;124m\"\u001b[39m\u001b[38;5;124mp\u001b[39m\u001b[38;5;124m\"\u001b[39m,{\u001b[38;5;124m\"\u001b[39m\u001b[38;5;124mclass\u001b[39m\u001b[38;5;124m\"\u001b[39m:\u001b[38;5;124m\"\u001b[39m\u001b[38;5;124m_2sc7ZR _2V5EHH\u001b[39m\u001b[38;5;124m\"\u001b[39m})[\u001b[38;5;241m0\u001b[39m]\u001b[38;5;241m.\u001b[39mtext)\n",
      "\u001b[1;31mAttributeError\u001b[0m: 'NoneType' object has no attribute 'div'"
     ]
    }
   ],
   "source": [
    "product_links[0]\n",
    "product_req = requests.get(product_links[0])\n",
    "#rep_text = product_req.text\n",
    "#print(rep_text)\n",
    "#print(product_req) #html response: <Response [200]>\n",
    "product_html = bs(product_req.text,'html.parser')\n",
    "#print(product_html)\n",
    "comment_boxes = product_html.find_all('div',{'class':'_16PBlm'})\n",
    "#print(len(comment_boxes))\n",
    "for i in comment_boxes:\n",
    "    print(i.div.div.find_all(\"p\",{\"class\":\"_2sc7ZR _2V5EHH\"})[0].text)\n"
   ]
  },
  {
   "cell_type": "code",
   "execution_count": 76,
   "id": "f52090ee",
   "metadata": {},
   "outputs": [
    {
     "name": "stdout",
     "output_type": "stream",
     "text": [
      "5\n",
      "5\n",
      "5\n",
      "5\n",
      "5\n",
      "5\n",
      "4\n",
      "5\n",
      "3\n",
      "5\n"
     ]
    },
    {
     "ename": "AttributeError",
     "evalue": "'NoneType' object has no attribute 'div'",
     "output_type": "error",
     "traceback": [
      "\u001b[1;31m---------------------------------------------------------------------------\u001b[0m",
      "\u001b[1;31mAttributeError\u001b[0m                            Traceback (most recent call last)",
      "Cell \u001b[1;32mIn[76], line 2\u001b[0m\n\u001b[0;32m      1\u001b[0m \u001b[38;5;28;01mfor\u001b[39;00m i \u001b[38;5;129;01min\u001b[39;00m comment_boxes:\n\u001b[1;32m----> 2\u001b[0m     \u001b[38;5;28mprint\u001b[39m(\u001b[43mi\u001b[49m\u001b[38;5;241;43m.\u001b[39;49m\u001b[43mdiv\u001b[49m\u001b[38;5;241;43m.\u001b[39;49m\u001b[43mdiv\u001b[49m\u001b[38;5;241m.\u001b[39mdiv\u001b[38;5;241m.\u001b[39mdiv\u001b[38;5;241m.\u001b[39mtext)\n",
      "\u001b[1;31mAttributeError\u001b[0m: 'NoneType' object has no attribute 'div'"
     ]
    }
   ],
   "source": [
    "for i in comment_boxes:\n",
    "    print(i.div.div.div.div.text)"
   ]
  },
  {
   "cell_type": "code",
   "execution_count": 81,
   "id": "20cd8c9c",
   "metadata": {},
   "outputs": [
    {
     "name": "stdout",
     "output_type": "stream",
     "text": [
      "Terrific purchase\n",
      "Perfect product!\n",
      "Terrific\n",
      "Perfect product!\n",
      "Best in the market!\n",
      "Terrific\n",
      "Delightful\n",
      "Mind-blowing purchase\n",
      "Just okay\n",
      "Great product\n"
     ]
    },
    {
     "ename": "AttributeError",
     "evalue": "'NoneType' object has no attribute 'div'",
     "output_type": "error",
     "traceback": [
      "\u001b[1;31m---------------------------------------------------------------------------\u001b[0m",
      "\u001b[1;31mAttributeError\u001b[0m                            Traceback (most recent call last)",
      "Cell \u001b[1;32mIn[81], line 3\u001b[0m\n\u001b[0;32m      1\u001b[0m \u001b[38;5;66;03m#comment_boxes[0].div.div.div.p.text\u001b[39;00m\n\u001b[0;32m      2\u001b[0m \u001b[38;5;28;01mfor\u001b[39;00m i \u001b[38;5;129;01min\u001b[39;00m comment_boxes:\n\u001b[1;32m----> 3\u001b[0m     \u001b[38;5;28mprint\u001b[39m(\u001b[43mi\u001b[49m\u001b[38;5;241;43m.\u001b[39;49m\u001b[43mdiv\u001b[49m\u001b[38;5;241;43m.\u001b[39;49m\u001b[43mdiv\u001b[49m\u001b[38;5;241m.\u001b[39mdiv\u001b[38;5;241m.\u001b[39mp\u001b[38;5;241m.\u001b[39mtext)\n",
      "\u001b[1;31mAttributeError\u001b[0m: 'NoneType' object has no attribute 'div'"
     ]
    }
   ],
   "source": [
    "#comment_boxes[0].div.div.div.p.text\n",
    "for i in comment_boxes:\n",
    "    print(i.div.div.div.p.text)"
   ]
  },
  {
   "cell_type": "code",
   "execution_count": 89,
   "id": "ed5c2dd1",
   "metadata": {},
   "outputs": [
    {
     "name": "stdout",
     "output_type": "stream",
     "text": [
      "<div><div class=\"\">At this price point, the TV is good to have with easy connectivity and setup.<br>Picture quality is good for the led screen(however you can compare another tv in the same segments).<br/>The sound is good although Dolby impressions I couldn’t get in the first use(perhaps need to check more).<br/>Remote is clean and minimalistic and easy to use.<br/>Connectivity is good, able to connect to wifi via router and hotspot and the connection stays and works perfectly fine. Able to use any streaming services without...</br></div><span class=\"_1BWGvX\"><span>READ MORE</span></span></div>\n",
      "\n",
      "At this price point, the TV is good to have with easy connectivity and setup.Picture quality is good for the led screen(however you can compare another tv in the same segments).The sound is good although Dolby impressions I couldn’t get in the first use(perhaps need to check more).Remote is clean and minimalistic and easy to use.Connectivity is good, able to connect to wifi via router and hotspot and the connection stays and works perfectly fine. Able to use any streaming services without...READ MORE\n",
      "OnePlus always brings to us all those high end tech device s at such an amazing prices . They has turned out be a blessing for families like me with such products . I am very happy with the product 43\" TV . I have ordere it for my Mom , :- The UI and ease of use for old lady coming from non tech era >>>>>:- The sound quality is just superb :- Some improvement can be done for connectivity with other smart devices . :- Ease of installation So happy with flipkart also for delivery to small...READ MORE\n",
      "It is superior TV. Working on android pie .You can also use Oxygen play interface for a content centric view.It has good voice command Bluetooth base remote control.This TV incorporated with Gamma engine with MEMC , Super resolution , colour space mapping , dynamic contract . Connecting options with Wi Fi , Bluetooth , HDMI , ethernet are very quickly n fast response .Highly recommended for your future TV...😊😊READ MORE\n",
      "It's pretty good n with oosaammmm clarity .....  One word to describe - value for money 💰READ MORE\n",
      "A very nice Tv with many adjustments and a best sound quality and also nice used with Google assistants.. Highly recommended by me. ☺️READ MORE\n",
      "This review is after long-term usage of 6 months, the video quality on this TV is really good especially in this range- the color production, and sound quality is good too...you can really enjoy watching series on this TV. It is really light and there is virtually no bezel- the design is really good! The remote is really simple to use and lightweight, and the user interface is smooth and easy. One great thing about this TV is Oxygen play where you can find all the content in one place....and ...READ MORE\n",
      "A nice tv to watch value for money better than other smart TV's .Only corn is the display is hd ready if it was an hd+ tv then it would killed the market .Fully recommend 🤘The remote is also great and responsiveREAD MORE\n",
      "Very good picture quality.. And sound is much good than other led tv's because there is dolby speakers in it...thank u thank u so much..❤❤😍😍😍READ MORE\n",
      "1.Doesn't support .mkv format to watch videos (Nowadays     used widely)2. Casting with OnePlus connect app was not so good3. YouTube casting works perfectly4. Picture quality and audio output was good 5. TV remote was also good6. TV takes 15-20 seconds to boot. 7.  Overall okay. Did not reach my high expectations of a OnePlus TVREAD MORE\n",
      "Value for money. Amazing picture quality, sound effects and connectivity. It’s so easy to connect. Firstly I brought this tv of screen size-32 inches then I canceled it and ordered screen size-43 inches and I think it’s a good decision. My mum is happily watching Anupma and Imli 💗 Thankyou oneplus  and Flipkart for wonderful service. I received the product & installation on time and even I got a call to verify , if I charged more than mentioned for installation. Overall, satisfied with the p...READ MORE\n"
     ]
    },
    {
     "ename": "AttributeError",
     "evalue": "'NoneType' object has no attribute 'div'",
     "output_type": "error",
     "traceback": [
      "\u001b[1;31m---------------------------------------------------------------------------\u001b[0m",
      "\u001b[1;31mAttributeError\u001b[0m                            Traceback (most recent call last)",
      "Cell \u001b[1;32mIn[89], line 4\u001b[0m\n\u001b[0;32m      2\u001b[0m \u001b[38;5;28mprint\u001b[39m()\n\u001b[0;32m      3\u001b[0m \u001b[38;5;28;01mfor\u001b[39;00m i \u001b[38;5;129;01min\u001b[39;00m comment_boxes:\n\u001b[1;32m----> 4\u001b[0m     \u001b[38;5;28mprint\u001b[39m(\u001b[43mi\u001b[49m\u001b[38;5;241;43m.\u001b[39;49m\u001b[43mdiv\u001b[49m\u001b[38;5;241;43m.\u001b[39;49m\u001b[43mdiv\u001b[49m\u001b[38;5;241m.\u001b[39mfind_all(\u001b[38;5;124m\"\u001b[39m\u001b[38;5;124mdiv\u001b[39m\u001b[38;5;124m\"\u001b[39m,{\u001b[38;5;124m\"\u001b[39m\u001b[38;5;124mclass\u001b[39m\u001b[38;5;124m\"\u001b[39m:\u001b[38;5;124m\"\u001b[39m\u001b[38;5;124m\"\u001b[39m})[\u001b[38;5;241m0\u001b[39m]\u001b[38;5;241m.\u001b[39mtext)\n",
      "\u001b[1;31mAttributeError\u001b[0m: 'NoneType' object has no attribute 'div'"
     ]
    }
   ],
   "source": [
    "print(comment_boxes[0].div.div.find_all(\"div\",{\"class\":\"\"})[0])\n",
    "print()\n",
    "for i in comment_boxes:\n",
    "    print(i.div.div.find_all(\"div\",{\"class\":\"\"})[0].text)"
   ]
  },
  {
   "cell_type": "code",
   "execution_count": null,
   "id": "104e28f5",
   "metadata": {},
   "outputs": [],
   "source": []
  }
 ],
 "metadata": {
  "kernelspec": {
   "display_name": "Python 3 (ipykernel)",
   "language": "python",
   "name": "python3"
  },
  "language_info": {
   "codemirror_mode": {
    "name": "ipython",
    "version": 3
   },
   "file_extension": ".py",
   "mimetype": "text/x-python",
   "name": "python",
   "nbconvert_exporter": "python",
   "pygments_lexer": "ipython3",
   "version": "3.11.2"
  }
 },
 "nbformat": 4,
 "nbformat_minor": 5
}
