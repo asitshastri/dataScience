{
 "cells": [
  {
   "cell_type": "code",
   "execution_count": 4,
   "id": "33cb5b86",
   "metadata": {},
   "outputs": [],
   "source": [
    "import requests\n",
    "from selenium import webdriver\n",
    "from bs4 import BeautifulSoup as bs\n",
    "import os\n",
    "import logging"
   ]
  },
  {
   "cell_type": "code",
   "execution_count": 7,
   "id": "c73322d1",
   "metadata": {},
   "outputs": [],
   "source": [
    "#creating directory if not exists\n",
    "dirctory = \"/images\"\n",
    "if not os.path.exists(dirctory):\n",
    "    os.makedirs(dirctory)"
   ]
  },
  {
   "cell_type": "code",
   "execution_count": null,
   "id": "89bc307c",
   "metadata": {},
   "outputs": [],
   "source": []
  }
 ],
 "metadata": {
  "kernelspec": {
   "display_name": "Python 3 (ipykernel)",
   "language": "python",
   "name": "python3"
  },
  "language_info": {
   "codemirror_mode": {
    "name": "ipython",
    "version": 3
   },
   "file_extension": ".py",
   "mimetype": "text/x-python",
   "name": "python",
   "nbconvert_exporter": "python",
   "pygments_lexer": "ipython3",
   "version": "3.11.3"
  }
 },
 "nbformat": 4,
 "nbformat_minor": 5
}
