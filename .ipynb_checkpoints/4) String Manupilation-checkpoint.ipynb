{
 "cells": [
  {
   "cell_type": "markdown",
   "id": "fe9de1da",
   "metadata": {
    "id": "GmQ84_psIPYf"
   },
   "source": [
    "# 4 String manipulation\n",
    "\n",
    "Strings are used to record the text information such as name. In Python, Strings act as “Sequence” which means Python tracks every element in the String as a sequence. This is one of the important features of the Python language.\n",
    "\n",
    "For example, Python understands the string \"hello' to be a sequence of letters in a specific order which means the indexing technique to grab particular letters (like first letter or the last letter).\n",
    "\n",
    "As we now know string contains set of characters, let's check how can we manipulate and take subset of string, how can we access charcters out of string and do some manipulation on strings.\n",
    "\n",
    "Subset of string can be access by using slice operator [] or [:](String index starts with 0 and -1 at the end). Lets look at the example."
   ]
  },
  {
   "cell_type": "markdown",
   "id": "0895d30e",
   "metadata": {
    "id": "qqnRAvoGIPY_"
   },
   "source": [
    "## <font color='red'>Python 3 Alert!</font>\n",
    "\n",
    "Note that, In Python 3, print is a function and not a statement. So you would print statements like this:\n",
    "print('Hello World')\n",
    "\n",
    "If you want to use this functionality in Python2, you can import form the __future__ module. \n",
    "\n",
    "**Caution: After importing this; you won't be able to choose the print statement method anymore. So pick the right one whichever  you prefer depending on your Python installation and continue on with it.**"
   ]
  },
  {
   "cell_type": "markdown",
   "id": "34503f4a",
   "metadata": {
    "id": "HgZGtD9XqSPg"
   },
   "source": [
    "## 4.2 String operations"
   ]
  },
  {
   "cell_type": "markdown",
   "id": "3f771d99",
   "metadata": {
    "id": "ApQ1Re_7IPZH"
   },
   "source": [
    "### Accessing element from string\n",
    "\n",
    "We know strings are a sequence, which means Python can use indexes to call all the sequence parts. Let's learn how String Indexing works.\n",
    "\n",
    "•\tWe use brackets `[]` after an object to call its index. \n",
    "\n",
    "•\tWe should also note that indexing `starts at 0` for Python.\n",
    "\n",
    "Now, Let's create a new object called s and the walk through a few examples of indexing."
   ]
  },
  {
   "cell_type": "code",
   "execution_count": 2,
   "id": "7f7ad184",
   "metadata": {},
   "outputs": [],
   "source": [
    "string =\"this is string manupilation\""
   ]
  },
  {
   "cell_type": "code",
   "execution_count": 3,
   "id": "b1f7ce28",
   "metadata": {},
   "outputs": [
    {
     "name": "stdout",
     "output_type": "stream",
     "text": [
      "t\n"
     ]
    }
   ],
   "source": [
    "# Fetch first character of a string\n",
    "print(string[0])"
   ]
  },
  {
   "cell_type": "code",
   "execution_count": 10,
   "id": "22137500",
   "metadata": {},
   "outputs": [
    {
     "name": "stdout",
     "output_type": "stream",
     "text": [
      "n\n",
      "n\n"
     ]
    }
   ],
   "source": [
    "# Fetch last character of a string\n",
    "print(string[-1])\n",
    "\n",
    "#or\n",
    "l=len(string)\n",
    "\n",
    "print(string[l-1]) #because indexing stars from zero and length is calculated from 1"
   ]
  },
  {
   "cell_type": "code",
   "execution_count": 12,
   "id": "0d732c2a",
   "metadata": {},
   "outputs": [
    {
     "name": "stdout",
     "output_type": "stream",
     "text": [
      "his is string manupilation\n"
     ]
    }
   ],
   "source": [
    "# This slice operation will help us to fetch substring from a string.\n",
    "# [ Index given before colon will be starting index and index given after colon will be ending index and \n",
    "# it is not considered to print]\n",
    "#  And if no index is given it will consider till end of string index\n",
    "print(string[1:])"
   ]
  },
  {
   "cell_type": "code",
   "execution_count": 13,
   "id": "b1ca0707",
   "metadata": {},
   "outputs": [
    {
     "name": "stdout",
     "output_type": "stream",
     "text": [
      "hi\n"
     ]
    }
   ],
   "source": [
    "# This will give character starting from index 1 and ending index 2 (Last will not consider for slice operation)\n",
    "print(string[1:3])"
   ]
  },
  {
   "cell_type": "markdown",
   "id": "1d74c4ba",
   "metadata": {},
   "source": [
    "Note the above slicing. Here we're telling Python to grab everything from 1 up to 3. It doesn't include the 3rd index. You'll notice this a lot in Python, where statements and are usually in the context of \"up to, but not including\"."
   ]
  },
  {
   "cell_type": "code",
   "execution_count": 14,
   "id": "762ba014",
   "metadata": {},
   "outputs": [
    {
     "name": "stdout",
     "output_type": "stream",
     "text": [
      "this is string manupilat\n"
     ]
    }
   ],
   "source": [
    "# It will give all the characters but not the last three characeters\n",
    "print(string[:-3])"
   ]
  },
  {
   "cell_type": "code",
   "execution_count": 15,
   "id": "abf43569",
   "metadata": {},
   "outputs": [
    {
     "name": "stdout",
     "output_type": "stream",
     "text": [
      "ion\n"
     ]
    }
   ],
   "source": [
    "#It will give the last two char\n",
    "print(string[-3:])"
   ]
  },
  {
   "cell_type": "code",
   "execution_count": 17,
   "id": "ac09e077",
   "metadata": {},
   "outputs": [
    {
     "name": "stdout",
     "output_type": "stream",
     "text": [
      "is is string manup\n"
     ]
    }
   ],
   "source": [
    "print(string[2:20])"
   ]
  },
  {
   "cell_type": "markdown",
   "id": "6ce8e3e5",
   "metadata": {},
   "source": [
    "Index and slice notation is used to grab elements of a sequenec by a specified step size (where in 1 is the default size). For instance we can use two colons in a row and then a number specifying the frequency to grab elements. For example:"
   ]
  },
  {
   "cell_type": "code",
   "execution_count": 18,
   "id": "b62914ee",
   "metadata": {},
   "outputs": [
    {
     "data": {
      "text/plain": [
       "'this is string manupilation'"
      ]
     },
     "execution_count": 18,
     "metadata": {},
     "output_type": "execute_result"
    }
   ],
   "source": [
    "string[:]"
   ]
  },
  {
   "cell_type": "code",
   "execution_count": 20,
   "id": "3e43da1a",
   "metadata": {},
   "outputs": [
    {
     "data": {
      "text/plain": [
       "'this is string manupilation'"
      ]
     },
     "execution_count": 20,
     "metadata": {},
     "output_type": "execute_result"
    }
   ],
   "source": [
    "string[::]"
   ]
  },
  {
   "cell_type": "code",
   "execution_count": 21,
   "id": "64f3775a",
   "metadata": {},
   "outputs": [
    {
     "data": {
      "text/plain": [
       "'this is string manupilation'"
      ]
     },
     "execution_count": 21,
     "metadata": {},
     "output_type": "execute_result"
    }
   ],
   "source": [
    "string[::1]"
   ]
  },
  {
   "cell_type": "code",
   "execution_count": 23,
   "id": "fa21dd41",
   "metadata": {},
   "outputs": [
    {
     "data": {
      "text/plain": [
       "'ti ssrn auiain'"
      ]
     },
     "execution_count": 23,
     "metadata": {},
     "output_type": "execute_result"
    }
   ],
   "source": [
    "string[::2] #here 2 represents the step size"
   ]
  },
  {
   "cell_type": "code",
   "execution_count": 25,
   "id": "fdcaf341",
   "metadata": {},
   "outputs": [
    {
     "data": {
      "text/plain": [
       "'noitalipunam gnirts si siht'"
      ]
     },
     "execution_count": 25,
     "metadata": {},
     "output_type": "execute_result"
    }
   ],
   "source": [
    "string[::-1] #Here -1  represent steps in reverse order"
   ]
  },
  {
   "cell_type": "code",
   "execution_count": 26,
   "id": "9ffb5939",
   "metadata": {},
   "outputs": [
    {
     "data": {
      "text/plain": [
       "'niaiua nrss it'"
      ]
     },
     "execution_count": 26,
     "metadata": {},
     "output_type": "execute_result"
    }
   ],
   "source": [
    "string[::-2]"
   ]
  },
  {
   "cell_type": "code",
   "execution_count": 32,
   "id": "762d18e2",
   "metadata": {},
   "outputs": [
    {
     "data": {
      "text/plain": [
       "'irts si'"
      ]
     },
     "execution_count": 32,
     "metadata": {},
     "output_type": "execute_result"
    }
   ],
   "source": [
    "string[11:4:-1] #in this characters from 4th to 11th index will be displayed in reverse order\n"
   ]
  },
  {
   "cell_type": "code",
   "execution_count": 34,
   "id": "cd30acfe",
   "metadata": {},
   "outputs": [
    {
     "data": {
      "text/plain": [
       "''"
      ]
     },
     "execution_count": 34,
     "metadata": {},
     "output_type": "execute_result"
    }
   ],
   "source": [
    "string[11:4:1] #the above is incorrect if -1 is replaced by 1"
   ]
  },
  {
   "cell_type": "markdown",
   "id": "b9075a3b",
   "metadata": {},
   "source": [
    "### String Concationation"
   ]
  },
  {
   "cell_type": "code",
   "execution_count": 36,
   "id": "c3037bb1",
   "metadata": {},
   "outputs": [
    {
     "name": "stdout",
     "output_type": "stream",
     "text": [
      "this is string manupilation Course\n"
     ]
    }
   ],
   "source": [
    "print(string+ \" Course\")"
   ]
  },
  {
   "cell_type": "markdown",
   "id": "dbba88f7",
   "metadata": {},
   "source": [
    "## Inbuilt String Functions"
   ]
  },
  {
   "cell_type": "code",
   "execution_count": 37,
   "id": "916eae0a",
   "metadata": {},
   "outputs": [
    {
     "data": {
      "text/plain": [
       "['__add__',\n",
       " '__class__',\n",
       " '__contains__',\n",
       " '__delattr__',\n",
       " '__dir__',\n",
       " '__doc__',\n",
       " '__eq__',\n",
       " '__format__',\n",
       " '__ge__',\n",
       " '__getattribute__',\n",
       " '__getitem__',\n",
       " '__getnewargs__',\n",
       " '__gt__',\n",
       " '__hash__',\n",
       " '__init__',\n",
       " '__init_subclass__',\n",
       " '__iter__',\n",
       " '__le__',\n",
       " '__len__',\n",
       " '__lt__',\n",
       " '__mod__',\n",
       " '__mul__',\n",
       " '__ne__',\n",
       " '__new__',\n",
       " '__reduce__',\n",
       " '__reduce_ex__',\n",
       " '__repr__',\n",
       " '__rmod__',\n",
       " '__rmul__',\n",
       " '__setattr__',\n",
       " '__sizeof__',\n",
       " '__str__',\n",
       " '__subclasshook__',\n",
       " 'capitalize',\n",
       " 'casefold',\n",
       " 'center',\n",
       " 'count',\n",
       " 'encode',\n",
       " 'endswith',\n",
       " 'expandtabs',\n",
       " 'find',\n",
       " 'format',\n",
       " 'format_map',\n",
       " 'index',\n",
       " 'isalnum',\n",
       " 'isalpha',\n",
       " 'isascii',\n",
       " 'isdecimal',\n",
       " 'isdigit',\n",
       " 'isidentifier',\n",
       " 'islower',\n",
       " 'isnumeric',\n",
       " 'isprintable',\n",
       " 'isspace',\n",
       " 'istitle',\n",
       " 'isupper',\n",
       " 'join',\n",
       " 'ljust',\n",
       " 'lower',\n",
       " 'lstrip',\n",
       " 'maketrans',\n",
       " 'partition',\n",
       " 'removeprefix',\n",
       " 'removesuffix',\n",
       " 'replace',\n",
       " 'rfind',\n",
       " 'rindex',\n",
       " 'rjust',\n",
       " 'rpartition',\n",
       " 'rsplit',\n",
       " 'rstrip',\n",
       " 'split',\n",
       " 'splitlines',\n",
       " 'startswith',\n",
       " 'strip',\n",
       " 'swapcase',\n",
       " 'title',\n",
       " 'translate',\n",
       " 'upper',\n",
       " 'zfill']"
      ]
     },
     "execution_count": 37,
     "metadata": {},
     "output_type": "execute_result"
    }
   ],
   "source": [
    "dir(str)"
   ]
  },
  {
   "cell_type": "code",
   "execution_count": 38,
   "id": "edccfb95",
   "metadata": {},
   "outputs": [
    {
     "data": {
      "text/plain": [
       "27"
      ]
     },
     "execution_count": 38,
     "metadata": {},
     "output_type": "execute_result"
    }
   ],
   "source": [
    "#Length of a string\n",
    "len(string)"
   ]
  },
  {
   "cell_type": "code",
   "execution_count": null,
   "id": "d4c275e4",
   "metadata": {},
   "outputs": [],
   "source": []
  },
  {
   "cell_type": "code",
   "execution_count": 45,
   "id": "7e6a15d4",
   "metadata": {},
   "outputs": [
    {
     "name": "stdout",
     "output_type": "stream",
     "text": [
      "THIS IS STRING MANUPILATION\n",
      "\n",
      "this is string manupilation\n",
      "\n",
      "THIS IS STRING MANUPILATION\n",
      "\n",
      "This Is String Manupilation\n",
      "\n",
      "This is string manupilation\n",
      "\n"
     ]
    }
   ],
   "source": [
    "### Change strings to upper & lower case\n",
    "\n",
    "# Changes to upper case\n",
    "print(string.upper()+\"\\n\")\n",
    "\n",
    "# Changes to lower case\n",
    "print(string.lower()+\"\\n\")\n",
    "\n",
    "# Swap case from lower to upper & upper to lower\n",
    "print(string.swapcase()+\"\\n\")\n",
    "\n",
    "print(string.title()+\"\\n\")\n",
    "\n",
    "print(string.capitalize()+\"\\n\")"
   ]
  },
  {
   "cell_type": "code",
   "execution_count": null,
   "id": "289d413b",
   "metadata": {},
   "outputs": [],
   "source": []
  },
  {
   "cell_type": "code",
   "execution_count": 47,
   "id": "a38c54cb",
   "metadata": {},
   "outputs": [
    {
     "name": "stdout",
     "output_type": "stream",
     "text": [
      "12\n",
      "-1\n"
     ]
    }
   ],
   "source": [
    "###Find character index /word in a string\n",
    "\n",
    "# To find a character in a string, use find and it will give index of that character\n",
    "print(string.find(\"n\"))\n",
    "\n",
    "# If it is not able to find character , it will give index as a -1\n",
    "print(string.find('x'))"
   ]
  },
  {
   "cell_type": "code",
   "execution_count": null,
   "id": "6c5fc663",
   "metadata": {},
   "outputs": [],
   "source": []
  },
  {
   "cell_type": "code",
   "execution_count": 49,
   "id": "b011692e",
   "metadata": {},
   "outputs": [
    {
     "name": "stdout",
     "output_type": "stream",
     "text": [
      "3\n",
      "2\n"
     ]
    }
   ],
   "source": [
    "### Count characters in a string\n",
    "\n",
    "# To count no. of characters in a string, can use count method\n",
    "print(string.count(' '))\n",
    "\n",
    "print(string.count('a'))"
   ]
  },
  {
   "cell_type": "code",
   "execution_count": null,
   "id": "c5e0df98",
   "metadata": {},
   "outputs": [],
   "source": []
  },
  {
   "cell_type": "code",
   "execution_count": 53,
   "id": "52fa5e63",
   "metadata": {},
   "outputs": [
    {
     "name": "stdout",
     "output_type": "stream",
     "text": [
      "['this', 'is', 'string', 'manupilation']\n",
      "['this is stri', 'g ma', 'upilatio', '']\n"
     ]
    }
   ],
   "source": [
    "### String split operation\n",
    "\n",
    "# To split string at certain space/character, will return list of strings after splitting\n",
    "print(string.split(' '))\n",
    "\n",
    "print(string.split('n'))"
   ]
  },
  {
   "cell_type": "markdown",
   "id": "91f891f3",
   "metadata": {},
   "source": [
    "**note** --spliting does not include seperation character to include seperation character use **.partition** function"
   ]
  },
  {
   "cell_type": "code",
   "execution_count": 52,
   "id": "9077f022",
   "metadata": {},
   "outputs": [
    {
     "name": "stdout",
     "output_type": "stream",
     "text": [
      "('this is stri', 'n', 'g manupilation')\n"
     ]
    }
   ],
   "source": [
    "print(string.partition('n'))"
   ]
  },
  {
   "cell_type": "markdown",
   "id": "e87b1c2d",
   "metadata": {},
   "source": [
    "**note** --**.partion** function only seperates from the fist charater it finds only"
   ]
  },
  {
   "cell_type": "code",
   "execution_count": null,
   "id": "e199cdd4",
   "metadata": {},
   "outputs": [],
   "source": []
  },
  {
   "cell_type": "raw",
   "id": "d4bd0bd3",
   "metadata": {},
   "source": [
    "### Reverse string\n",
    "better use [::-1 ] method\n"
   ]
  },
  {
   "cell_type": "code",
   "execution_count": 2,
   "id": "8d3c45c3",
   "metadata": {},
   "outputs": [
    {
     "name": "stdout",
     "output_type": "stream",
     "text": [
      "tisa\n"
     ]
    }
   ],
   "source": [
    "name = \"asit\"\n",
    "print(''.join(reversed(name)))"
   ]
  },
  {
   "cell_type": "code",
   "execution_count": null,
   "id": "a2a35824",
   "metadata": {},
   "outputs": [],
   "source": []
  },
  {
   "cell_type": "code",
   "execution_count": 61,
   "id": "3b32d870",
   "metadata": {},
   "outputs": [
    {
     "data": {
      "text/plain": [
       "'this is string manupilation'"
      ]
     },
     "execution_count": 61,
     "metadata": {},
     "output_type": "execute_result"
    }
   ],
   "source": [
    "### Removing characters from the end of the string\n",
    "string_1=\" this ia string manupilation\"\n",
    "\n",
    "# Strip will remove white space from both end of the strings\n",
    "string.strip(\" \")"
   ]
  },
  {
   "cell_type": "code",
   "execution_count": 62,
   "id": "1a94609f",
   "metadata": {},
   "outputs": [
    {
     "data": {
      "text/plain": [
       "'this ia string manupilation'"
      ]
     },
     "execution_count": 62,
     "metadata": {},
     "output_type": "execute_result"
    }
   ],
   "source": [
    "# removes leading character from a string\n",
    "string_1.lstrip(\" \")"
   ]
  },
  {
   "cell_type": "code",
   "execution_count": 63,
   "id": "2a45d90c",
   "metadata": {},
   "outputs": [
    {
     "data": {
      "text/plain": [
       "' this ia string manupilation'"
      ]
     },
     "execution_count": 63,
     "metadata": {},
     "output_type": "execute_result"
    }
   ],
   "source": [
    "# removes trailing character from a string\n",
    "string_1.rstrip(\" \")"
   ]
  },
  {
   "cell_type": "markdown",
   "id": "ca5de737",
   "metadata": {},
   "source": [
    "**note** strip is only for removing whitespaces from ends"
   ]
  },
  {
   "cell_type": "code",
   "execution_count": null,
   "id": "847cb084",
   "metadata": {},
   "outputs": [],
   "source": []
  },
  {
   "cell_type": "code",
   "execution_count": 67,
   "id": "d1c41182",
   "metadata": {},
   "outputs": [
    {
     "data": {
      "text/plain": [
       "'Waealacaoamaea ataoa aianaeauaraoan'"
      ]
     },
     "execution_count": 67,
     "metadata": {},
     "output_type": "execute_result"
    }
   ],
   "source": [
    "### Join operation in string\n",
    "\n",
    "\" \".join(\"hello\") # this joins spaces between every character the string\n",
    "\n",
    "\"a\".join(\"Welcome to ineuron\")"
   ]
  },
  {
   "cell_type": "code",
   "execution_count": null,
   "id": "61f3e234",
   "metadata": {},
   "outputs": [],
   "source": []
  },
  {
   "cell_type": "code",
   "execution_count": 68,
   "id": "cce26c5b",
   "metadata": {},
   "outputs": [
    {
     "data": {
      "text/plain": [
       "'welcome from india'"
      ]
     },
     "execution_count": 68,
     "metadata": {},
     "output_type": "execute_result"
    }
   ],
   "source": [
    "### Replace string\n",
    "\n",
    "string_n = \"welcome to india\"\n",
    "string_n.replace(\"to\",\"from\")"
   ]
  },
  {
   "cell_type": "code",
   "execution_count": 5,
   "id": "57c94c5a",
   "metadata": {},
   "outputs": [
    {
     "data": {
      "text/plain": [
       "'this is a string'"
      ]
     },
     "execution_count": 5,
     "metadata": {},
     "output_type": "execute_result"
    }
   ],
   "source": [
    "string_2= \"thi is a strin\"\n",
    "string_2.replace(\"thi\",\"this\").replace(\"strin\",\"string\")"
   ]
  },
  {
   "cell_type": "code",
   "execution_count": null,
   "id": "d44e5b49",
   "metadata": {},
   "outputs": [],
   "source": []
  },
  {
   "cell_type": "code",
   "execution_count": 71,
   "id": "3428e6d6",
   "metadata": {},
   "outputs": [
    {
     "data": {
      "text/plain": [
       "'hello   hi'"
      ]
     },
     "execution_count": 71,
     "metadata": {},
     "output_type": "execute_result"
    }
   ],
   "source": [
    "# Formatting\n",
    "\n",
    "##The `center()` method allows you to place your string 'centered' between a provided string with a certain length. \n",
    "string_n.center(20,'z')"
   ]
  },
  {
   "cell_type": "code",
   "execution_count": 73,
   "id": "a41d98ee",
   "metadata": {},
   "outputs": [
    {
     "data": {
      "text/plain": [
       "'hello   hi'"
      ]
     },
     "execution_count": 73,
     "metadata": {},
     "output_type": "execute_result"
    }
   ],
   "source": [
    "'hello\\thi'.expandtabs() #this expand tabs"
   ]
  },
  {
   "cell_type": "code",
   "execution_count": null,
   "id": "f5d9b8ca",
   "metadata": {},
   "outputs": [],
   "source": []
  },
  {
   "cell_type": "code",
   "execution_count": 74,
   "id": "58f2d9ff",
   "metadata": {},
   "outputs": [
    {
     "name": "stdout",
     "output_type": "stream",
     "text": [
      "False\n",
      "True\n",
      "False\n",
      "False\n",
      "True\n",
      "False\n",
      "True\n",
      "True\n"
     ]
    }
   ],
   "source": [
    "### Checking string case\n",
    "# Check if string are in upper case\n",
    "print(string.isupper())\n",
    "\n",
    "# Check if string are in lower case\n",
    "print(string.islower())\n",
    "\n",
    "# Check if string contains space\n",
    "print(string.isspace())\n",
    "\n",
    "# Check if string contains digit\n",
    "print(string.isdigit()) \n",
    "\n",
    "# Check if string endswith character n\n",
    "print(string.endswith('n')) \n",
    "\n",
    "# Check if string startswith character n\n",
    "print(string.startswith('i'))\n",
    "\n",
    "#check if all char in string are alphanumeric\n",
    "a = \"abcd1234\"\n",
    "print(a.isalnum()) \n",
    "\n",
    "#test if string contains title words\n",
    "a=\"Abcdef\"\n",
    "print(a.istitle()) "
   ]
  },
  {
   "cell_type": "code",
   "execution_count": null,
   "id": "8ca94976",
   "metadata": {},
   "outputs": [],
   "source": []
  },
  {
   "cell_type": "markdown",
   "id": "f68fdc9b",
   "metadata": {},
   "source": [
    "**Create to check_palindrome() function**"
   ]
  },
  {
   "cell_type": "code",
   "execution_count": 94,
   "id": "c09f63be",
   "metadata": {},
   "outputs": [],
   "source": [
    "palin= \"asdfdsa\"\n",
    "def checkpalindrome(palin):\n",
    "    x=palin\n",
    "    y=palin[::-1]\n",
    "    l=len(palin)\n",
    "    palin_count=0\n",
    "    for i in range(0,l):\n",
    "        if x[i]!=y[i]:\n",
    "            print('Not a Palindrome')\n",
    "            break\n",
    "        else: palin_count+=1\n",
    "    if palin_count==l:\n",
    "        print(\"its a palindrome\")"
   ]
  },
  {
   "cell_type": "code",
   "execution_count": 95,
   "id": "9b4294a2",
   "metadata": {},
   "outputs": [
    {
     "name": "stdout",
     "output_type": "stream",
     "text": [
      "its a palindrome\n"
     ]
    }
   ],
   "source": [
    "checkpalindrome(\"asdffdsa\")"
   ]
  },
  {
   "cell_type": "code",
   "execution_count": 24,
   "id": "c305b080",
   "metadata": {},
   "outputs": [
    {
     "name": "stdout",
     "output_type": "stream",
     "text": [
      "noitalipunam gnirts si siht"
     ]
    }
   ],
   "source": [
    "# We can use index to iterate string reverse direction\n",
    "string=\"this is string manupilation\"\n",
    "len(string)\n",
    "\n",
    "for i in range(len(string)-1,-1,-1):\n",
    "    print(string[i],end=\"\")\n",
    "    \n",
    "#**Note** -in range the middle -1 os added cuz for loop to stop at 0 we have to put -1.\n"
   ]
  },
  {
   "cell_type": "code",
   "execution_count": 32,
   "id": "fbd762f2",
   "metadata": {},
   "outputs": [
    {
     "name": "stdout",
     "output_type": "stream",
     "text": [
      "noitalipunam gnirts si siht"
     ]
    }
   ],
   "source": [
    "#best solution\n",
    "for i in range(len(string)):\n",
    "    print(string[len(string)-(i+1)],end=\"\")"
   ]
  },
  {
   "cell_type": "code",
   "execution_count": null,
   "id": "b481736c",
   "metadata": {},
   "outputs": [],
   "source": []
  }
 ],
 "metadata": {
  "kernelspec": {
   "display_name": "Python 3 (ipykernel)",
   "language": "python",
   "name": "python3"
  },
  "language_info": {
   "codemirror_mode": {
    "name": "ipython",
    "version": 3
   },
   "file_extension": ".py",
   "mimetype": "text/x-python",
   "name": "python",
   "nbconvert_exporter": "python",
   "pygments_lexer": "ipython3",
   "version": "3.9.13"
  }
 },
 "nbformat": 4,
 "nbformat_minor": 5
}
