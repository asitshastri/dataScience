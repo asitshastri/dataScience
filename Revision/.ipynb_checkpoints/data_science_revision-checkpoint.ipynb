{
 "cells": [
  {
   "cell_type": "markdown",
   "id": "c7afe815-6f45-4879-b4ef-44b01dae9754",
   "metadata": {},
   "source": [
    "# Pandas"
   ]
  },
  {
   "cell_type": "code",
   "execution_count": 1,
   "id": "b1030acc-40ab-4cc2-9041-155a10b9752c",
   "metadata": {},
   "outputs": [],
   "source": [
    "import pandas as pd\n",
    "## reading csv file\n",
    "pd.read_csv()"
   ]
  }
 ],
 "metadata": {
  "kernelspec": {
   "display_name": "Python 3 (ipykernel)",
   "language": "python",
   "name": "python3"
  },
  "language_info": {
   "codemirror_mode": {
    "name": "ipython",
    "version": 3
   },
   "file_extension": ".py",
   "mimetype": "text/x-python",
   "name": "python",
   "nbconvert_exporter": "python",
   "pygments_lexer": "ipython3",
   "version": "3.13.1"
  }
 },
 "nbformat": 4,
 "nbformat_minor": 5
}
