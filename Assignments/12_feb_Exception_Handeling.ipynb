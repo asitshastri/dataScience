{
 "cells": [
  {
   "cell_type": "raw",
   "id": "c51cdb1f",
   "metadata": {},
   "source": [
    "\"\"\"\n",
    "Q1.What is an Exception in python? Write the difference between Expectations and \n",
    "Syntax errors.\n",
    "\"\"\"\n",
    "\"\"\"\n",
    "ans:\n",
    "Exception: Base class for all exceptions\n",
    "Syntax Error:When the proper syntax of the language is not followed then a syntax error is thrown.\n",
    "\"\"\""
   ]
  },
  {
   "cell_type": "code",
   "execution_count": 8,
   "id": "a7e68a40",
   "metadata": {},
   "outputs": [
    {
     "ename": "FileNotFoundError",
     "evalue": "[Errno 2] No such file or directory: 'trytry.txt'",
     "output_type": "error",
     "traceback": [
      "\u001b[1;31m---------------------------------------------------------------------------\u001b[0m",
      "\u001b[1;31mFileNotFoundError\u001b[0m                         Traceback (most recent call last)",
      "\u001b[1;32m~\\AppData\\Local\\Temp\\ipykernel_12956\\191220836.py\u001b[0m in \u001b[0;36m<module>\u001b[1;34m\u001b[0m\n\u001b[0;32m      9\u001b[0m \"\"\"\n\u001b[0;32m     10\u001b[0m \u001b[1;31m#example\u001b[0m\u001b[1;33m\u001b[0m\u001b[1;33m\u001b[0m\u001b[0m\n\u001b[1;32m---> 11\u001b[1;33m \u001b[0mf\u001b[0m \u001b[1;33m=\u001b[0m \u001b[0mopen\u001b[0m\u001b[1;33m(\u001b[0m\u001b[1;34m'trytry.txt'\u001b[0m\u001b[1;33m,\u001b[0m\u001b[1;34m'r'\u001b[0m\u001b[1;33m)\u001b[0m\u001b[1;33m\u001b[0m\u001b[1;33m\u001b[0m\u001b[0m\n\u001b[0m\u001b[0;32m     12\u001b[0m \u001b[0mf\u001b[0m\u001b[1;33m.\u001b[0m\u001b[0mwrite\u001b[0m\u001b[1;33m(\u001b[0m\u001b[1;34m\"I'am writing in a file\"\u001b[0m\u001b[1;33m)\u001b[0m\u001b[1;33m\u001b[0m\u001b[1;33m\u001b[0m\u001b[0m\n",
      "\u001b[1;31mFileNotFoundError\u001b[0m: [Errno 2] No such file or directory: 'trytry.txt'"
     ]
    }
   ],
   "source": [
    "\"\"\"\n",
    "Q2.What happens when an exception is not handeled?Explain with an example.\n",
    "\"\"\"\n",
    "\"\"\"\n",
    "ans:\n",
    "When an exception occurred, if you don’t handle it, the program terminates \n",
    "abruptly and the code past the line that caused the exception will not get \n",
    "executed.\n",
    "\"\"\"\n",
    "#example\n",
    "f = open('trytry.txt','r')\n",
    "f.write(\"I'am writing in a file\")"
   ]
  },
  {
   "cell_type": "raw",
   "id": "aac3b5e5",
   "metadata": {},
   "source": [
    "\"\"\"\n",
    "Q3.Which python statements are used to catch and handle exceptions? Explain \n",
    "with an example.\n",
    "\"\"\"\n",
    "\"\"\"\n",
    "ans:\n",
    "try and except blocks in python is used to handle exception\n",
    "Python executes code following the try statement as a \"normal\" part of the program.\n",
    "If the code inside try statement did not run an exception will be raised inside the except block\n",
    "\"\"\""
   ]
  },
  {
   "cell_type": "code",
   "execution_count": 19,
   "id": "70eb0a4f",
   "metadata": {},
   "outputs": [
    {
     "name": "stdout",
     "output_type": "stream",
     "text": [
      "value must be greater than zero\n",
      "always execute\n"
     ]
    }
   ],
   "source": [
    "\"\"\"\n",
    "Q4.Explain with an example:\n",
    "a. try and else\n",
    "b. finally\n",
    "c. raise\n",
    "\"\"\"\n",
    "class LessThanZeroError(Exception):\n",
    "    def __init__(self,msg):\n",
    "        self.msg = msg\n",
    "a=-1\n",
    "try:\n",
    "    if a<0:\n",
    "        raise LessThanZeroError(\"value must be greater than zero\")\n",
    "except Exception as e:\n",
    "    print(e)\n",
    "else:\n",
    "    print(\"will execute when try executes\")\n",
    "finally:\n",
    "    print(\"always execute\")"
   ]
  },
  {
   "cell_type": "code",
   "execution_count": 20,
   "id": "48304a7a",
   "metadata": {},
   "outputs": [
    {
     "name": "stdout",
     "output_type": "stream",
     "text": [
      "Enter You Age:- -1\n",
      "age should be more them 0\n",
      "will always print\n"
     ]
    }
   ],
   "source": [
    "\"\"\"\n",
    "Q5.What are Custom Exceptions? Why do we need Custom Exceptions? Explain with \n",
    "an example.\n",
    "\"\"\"\n",
    "\"\"\"\n",
    "ans:\n",
    "In Python, we can define custom exceptions by creating a new class that is \n",
    "derived from the built-in Exception class.\n",
    "\"\"\"\n",
    "class validate_age(Exception):\n",
    "    def __init__(self,msg):\n",
    "        self.msg = msg\n",
    "        \n",
    "def validateage(age):\n",
    "    if age <0:\n",
    "        raise validate_age(\"age should be more them 0\") #class object \n",
    "    elif age>=200:\n",
    "        raise validate_age(\"age is too high\")  #class object \n",
    "    else:\n",
    "        print(\"age\")\n",
    "        \n",
    "try:\n",
    "    age = int(input(\"Enter You Age:- \"))\n",
    "    validateage(age)\n",
    "except validate_age as e:\n",
    "    print(e)\n",
    "else:\n",
    "    print(\"will only print if try block executes\")\n",
    "finally:\n",
    "    print(\"will always print\")"
   ]
  },
  {
   "cell_type": "code",
   "execution_count": 22,
   "id": "8b492323",
   "metadata": {},
   "outputs": [
    {
     "name": "stdout",
     "output_type": "stream",
     "text": [
      "Enter You Age:- 200\n",
      "Error: age is too high\n",
      "will always print\n"
     ]
    }
   ],
   "source": [
    "\"\"\"\n",
    "Q6.Create a custom exception class. Use this class to handle an exception.\n",
    "\"\"\"\n",
    "class validate_age(Exception):\n",
    "    def __init__(self,msg):\n",
    "        self.msg = msg\n",
    "        \n",
    "def validateage(age):\n",
    "    if age <0:\n",
    "        raise validate_age(\"Error: age should be more them 0\") #class object \n",
    "    elif age>=200:\n",
    "        raise validate_age(\"Error: age is too high\")  #class object \n",
    "    else:\n",
    "        print(\"age\")\n",
    "        \n",
    "try:\n",
    "    age = int(input(\"Enter You Age:- \"))\n",
    "    validateage(age)\n",
    "except validate_age as e:\n",
    "    print(e)\n",
    "else:\n",
    "    print(\"will only print if try block executes\")\n",
    "finally:\n",
    "    print(\"will always print\")"
   ]
  },
  {
   "cell_type": "code",
   "execution_count": null,
   "id": "50040629",
   "metadata": {},
   "outputs": [],
   "source": []
  }
 ],
 "metadata": {
  "kernelspec": {
   "display_name": "Python 3 (ipykernel)",
   "language": "python",
   "name": "python3"
  },
  "language_info": {
   "codemirror_mode": {
    "name": "ipython",
    "version": 3
   },
   "file_extension": ".py",
   "mimetype": "text/x-python",
   "name": "python",
   "nbconvert_exporter": "python",
   "pygments_lexer": "ipython3",
   "version": "3.9.13"
  }
 },
 "nbformat": 4,
 "nbformat_minor": 5
}
