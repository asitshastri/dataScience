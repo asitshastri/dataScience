{
 "cells": [
  {
   "cell_type": "code",
   "execution_count": null,
   "id": "121b85c2",
   "metadata": {},
   "outputs": [],
   "source": []
  },
  {
   "cell_type": "markdown",
   "id": "7aa54859",
   "metadata": {},
   "source": [
    "\n",
    "### Q1. What is a database? Differentiate between SQL and NoSQL databases.\n",
    "\n",
    "<br>\n",
    "ans:\n",
    "What is batabase?\n",
    "A database is an organized collection of structured information, or data, \n",
    "typically stored electronically in a computer system. A database is usually \n",
    "controlled by a database management system (DBMS).\n",
    "<br>\n",
    "<br>\n",
    "\n",
    "**Difference between SQL and NoSQL databases.**\n",
    "- SQL databases are relational, and NoSQL databases are non-relational.\n",
    "- SQL databases use structured query language (SQL) and have a predefined schema. NoSQL databases have dynamic schemas for unstructured data.\n",
    "- SQL databases are vertically scalable, while NoSQL databases are horizontally scalable.\n",
    "- SQL databases are table-based, while NoSQL databases are document, key-value, graph, or wide-column stores.\n",
    "- SQL databases are better for multi-row transactions, while NoSQL is better for unstructured data like documents or JSON.\n"
   ]
  },
  {
   "cell_type": "markdown",
   "id": "02547b84",
   "metadata": {},
   "source": [
    "### **Q2. What is DDL? Explain why CREATE, DROP, ALTER, and TRUNCATE are used with an example.**\n",
    "\n",
    "\n",
    "ans:<br>\n",
    "**Data Definition Language(DDL):<br> is a subset of SQL and a part of DBMS(Database Management System). DDL consist of Commands to commands like CREATE, ALTER, TRUNCATE and DROP. These commands are used to create or modify the tables in SQL.**\n",
    "<br>\n",
    "<br>\n",
    "**DDL Commands :**\n",
    " following DDL commands as follows.\n",
    "- Create\n",
    "- Alter \n",
    "- truncate\n",
    "- drop\n",
    "- Rename \n",
    "<br>\n"
   ]
  },
  {
   "cell_type": "code",
   "execution_count": null,
   "id": "fc8306d8",
   "metadata": {},
   "outputs": [],
   "source": [
    "#create\n",
    "\"\"\"\n",
    "CREATE TABLE table_name\n",
    "(\n",
    "column_1 datatype,\n",
    "column_2 datatype,\n",
    "column_3 datatype,\n",
    "....\n",
    ");\n",
    "\"\"\"\n",
    "print()"
   ]
  },
  {
   "cell_type": "code",
   "execution_count": null,
   "id": "e50c4b98",
   "metadata": {},
   "outputs": [],
   "source": [
    "#alter\n",
    "\"\"\"\n",
    "ALTER TABLE table_name\n",
    "ADD column_name datatype;\n",
    "\"\"\"print()"
   ]
  },
  {
   "cell_type": "code",
   "execution_count": null,
   "id": "dfa2abdd",
   "metadata": {},
   "outputs": [],
   "source": [
    "#turncate\n",
    "\"\"\"\n",
    "TRUNCATE TABLE table_name;\n",
    "\"\"\"print()"
   ]
  },
  {
   "cell_type": "code",
   "execution_count": null,
   "id": "b134c249",
   "metadata": {},
   "outputs": [],
   "source": [
    "#drop\n",
    "\"\"\"\n",
    "DROP TABLE table_name;\n",
    "\"\"\"print()"
   ]
  },
  {
   "cell_type": "code",
   "execution_count": null,
   "id": "218872bd",
   "metadata": {},
   "outputs": [],
   "source": [
    "#Rename\n",
    "\"\"\"\n",
    "RENAME TABLE <Table Name> To <New_Table_Name>;\n",
    "\"\"\"print()"
   ]
  },
  {
   "cell_type": "markdown",
   "id": "ae78abf5",
   "metadata": {},
   "source": [
    "### **Q3. What is DML? Explain INSERT, UPDATE, and DELETE with an example.**<br>\n",
    "ans:\n",
    "<br>\n",
    "**The structured query language (SQL)** commands deal with the manipulation of data present in the database that belongs to the DML or Data Manipulation Language. This includes most of the SQL statements.<br><br>\n",
    "examples of DML in the Database Management System (DBMS) are as follows −\n",
    "\n",
    "- SELECT − Retrieve data from the database.\n",
    "\n",
    "- INSERT − Insert data into a table.\n",
    "\n",
    "- UPDATE − Update existing data within a table.\n",
    "\n",
    "- DELETE − Delete records from a database table."
   ]
  },
  {
   "cell_type": "code",
   "execution_count": null,
   "id": "a164557a",
   "metadata": {},
   "outputs": [],
   "source": [
    "\"\"\"\n",
    "Insert into <table_name> (column list) values (column values);\n",
    "\"\"\""
   ]
  },
  {
   "cell_type": "code",
   "execution_count": null,
   "id": "0e32a9e7",
   "metadata": {},
   "outputs": [],
   "source": [
    "\"\"\"\n",
    "SELECT * from <table_name>;\n",
    "\"\"\""
   ]
  },
  {
   "cell_type": "code",
   "execution_count": null,
   "id": "7ab2a69c",
   "metadata": {},
   "outputs": [],
   "source": [
    "\"\"\"\n",
    "Delete from <table_name>WHERE condition;\n",
    "\"\"\""
   ]
  },
  {
   "cell_type": "code",
   "execution_count": null,
   "id": "2232d8d4",
   "metadata": {},
   "outputs": [],
   "source": [
    "\"\"\"\n",
    "UPDATE <table_name> SET column_number =value_number WHERE condition;\n",
    "\"\"\""
   ]
  },
  {
   "cell_type": "markdown",
   "id": "e829cc89",
   "metadata": {},
   "source": [
    "### Q4. What is DQL? Explain SELECT with an example.<br>\n",
    "ans:\n",
    "**Query languages**, often known as **DQLs or Data Query Languages**, are computer languages that are used to make various queries in information systems and databases"
   ]
  },
  {
   "cell_type": "markdown",
   "id": "e49d6dfa",
   "metadata": {},
   "source": [
    "### Q5. Explain Primary Key and Foreign Key.<br>\n",
    "ans:<br>\n",
    "**Primary Key**: A primary key is used to ensure that data in the specific column is unique. A column cannot have NULL values. It is either an existing table column or a column that is specifically generated by the database according to a defined sequence. \\\n",
    "<br>\n",
    "<br>\n",
    "**Foreign Key**: A foreign key is a column or group of columns in a relational database table that provides a link between data in two tables. It is a column (or columns) that references a column (most often the primary key) of another table."
   ]
  },
  {
   "cell_type": "markdown",
   "id": "a6bdbf6a",
   "metadata": {},
   "source": [
    "### Q6. Write a python code to connect MySQL to python. Explain the cursor() and execute() method."
   ]
  },
  {
   "cell_type": "code",
   "execution_count": 16,
   "id": "41359529",
   "metadata": {},
   "outputs": [
    {
     "name": "stdout",
     "output_type": "stream",
     "text": [
      "database1:('asitdb',)\n",
      "database2:('assignmentpw',)\n",
      "database3:('information_schema',)\n",
      "database4:('mysql',)\n",
      "database5:('performance_schema',)\n",
      "database6:('sys',)\n",
      "database7:('tabledb',)\n"
     ]
    }
   ],
   "source": [
    "import mysql.connector\n",
    "#connecting to MySQL\n",
    "mydb=mysql.connector.connect( \n",
    "    host=\"localhost\",\n",
    "    user=\"root\",\n",
    "    password=\"Root@9868\"\n",
    ")\n",
    "#creating cursor object\n",
    "mycursor =mydb.cursor()\n",
    "\n",
    "#executing SQL commands using mycursor object\n",
    "mycursor.execute(\"CREATE DATABASE IF NOT EXISTS assignmentpw\")\n",
    "mycursor.execute(\"SHOW DATABASES\")\n",
    "a=1\n",
    "for i in mycursor:\n",
    "    print(f\"database{a}:{i}\")\n",
    "    a=a+1"
   ]
  },
  {
   "cell_type": "markdown",
   "id": "c809eb6b",
   "metadata": {},
   "source": [
    "### Q7. Give the order of execution of SQL clauses in an SQL query.\n",
    "<br>\n",
    "ans:<br>\n",
    "Order of Execution\n",
    "<br>\n",
    "SQL queries adhere to a specific order when evaluating clauses, similar to how mathematical operations adhere to PEMDAS or BIDMAS.\n",
    "\n",
    "From the eyes of the user, queries begin from the first clause and end at the last clause. However, queries aren’t actually read from top to bottom when carried out.\n",
    "\n",
    "The order in which the clauses in queries are executed is as follows:\n",
    "\n",
    "1. **FROM/JOIN:** The FROM and/or JOIN clauses are executed first to determine the data of interest.\n",
    "\n",
    "2. **WHERE:** The WHERE clause is executed to filter out records that do not meet the constraints.\n",
    "\n",
    "3. **GROUP BY:** The GROUP BY clause is executed to group the data based on the values in one or more columns.\n",
    "\n",
    "4. **HAVING:** The HAVING clause is executed to remove the created grouped records that don’t meet the constraints.\n",
    "\n",
    "5. **SELECT:** The SELECT clause is executed to derive all desired columns and expressions.\n",
    "\n",
    "6. **ORDER BY:** The ORDER BY clause is executed to sort the derived values in ascending or descending order.\n",
    "\n",
    "7. **LIMIT/OFFSET:** Finally, the LIMIT and/or OFFSET clauses are executed to keep or skip a specified number of rows."
   ]
  },
  {
   "cell_type": "code",
   "execution_count": null,
   "id": "7463a5d2",
   "metadata": {},
   "outputs": [],
   "source": []
  }
 ],
 "metadata": {
  "kernelspec": {
   "display_name": "Python 3 (ipykernel)",
   "language": "python",
   "name": "python3"
  },
  "language_info": {
   "codemirror_mode": {
    "name": "ipython",
    "version": 3
   },
   "file_extension": ".py",
   "mimetype": "text/x-python",
   "name": "python",
   "nbconvert_exporter": "python",
   "pygments_lexer": "ipython3",
   "version": "3.10.12"
  }
 },
 "nbformat": 4,
 "nbformat_minor": 5
}
