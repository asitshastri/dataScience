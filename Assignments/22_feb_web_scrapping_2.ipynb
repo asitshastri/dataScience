{
 "cells": [
  {
   "cell_type": "markdown",
   "id": "0ea0e387",
   "metadata": {},
   "source": [
    "**Go to this given URL and solve the following questions URL: https://www.youtube.com/@PW-Foundation/videos**"
   ]
  },
  {
   "cell_type": "markdown",
   "id": "86d3be54",
   "metadata": {},
   "source": [
    "### Q1. Write a python program to extract the video URL of the first five videos.\n",
    "### Q2. Write a python program to extract the URL of the video thumbnails of the first five videos.\n",
    "### Q3. Write a python program to extract the title of the first five videos.\n",
    "### Q4. Write a python program to extract the number of views of the first five videos.\n",
    "### Q5. Write a python program to extract the time of posting of video for the first five videos."
   ]
  },
  {
   "cell_type": "code",
   "execution_count": 13,
   "id": "dfc6be04",
   "metadata": {},
   "outputs": [
    {
     "name": "stdout",
     "output_type": "stream",
     "text": [
      "Video1\n",
      "title:- Best Way To Start Class -9th English 💥 || Master Strategy Plan || Follow this ⚡⚡,\n",
      "Views:7.7K views, Time:1 day ago,  URL: https://www.youtube.com//watch?v=33onjejJLDs\n",
      "\n",
      "\n",
      "Video2\n",
      "title:- PWSAT Is Back Again!! 🔥 || India's Biggest Scholarship Test || Watch This ⚡⚡,\n",
      "Views:12K views, Time:3 days ago,  URL: https://www.youtube.com//watch?v=o3eOj-jhhfI\n",
      "\n",
      "\n",
      "Video3\n",
      "title:- Finally The Wait is Over 🔥 || Icse Batch Coming Soon || Must Watch 🔥🔥,\n",
      "Views:20K views, Time:8 days ago,  URL: https://www.youtube.com//watch?v=ecGcmstmnGA\n",
      "\n",
      "\n",
      "Video4\n",
      "title:- Best Strategy To Start Class-9th SST || Don't Miss This Video🛑 || Complete Roadmap,\n",
      "Views:19K views, Time:10 days ago,  URL: https://www.youtube.com//watch?v=08WWij66k8A\n",
      "\n",
      "\n",
      "Video5\n",
      "title:- Finally The Wait is Over🔥 || Launching Foundation Channels in 5 Different Languages 🤩,\n",
      "Views:30K views, Time:2 weeks ago,  URL: https://www.youtube.com//watch?v=bXpeyKIVioA\n",
      "\n",
      "\n"
     ]
    }
   ],
   "source": [
    "from selenium import webdriver\n",
    "from bs4 import BeautifulSoup as bs\n",
    "import time\n",
    "def main():\n",
    "    driver = webdriver.Chrome()\n",
    "    driver.get('https://www.youtube.com/@PW-Foundation/videos')\n",
    "    # time.sleep(10)\n",
    "    content = driver.page_source.encode('utf-8').strip()\n",
    "    soup = bs(content,'html.parser')\n",
    "    titles = soup.find_all('a',{'id':'video-title-link'})\n",
    "    views = soup.find_all('span',{'class':'inline-metadata-item style-scope ytd-video-meta-block'})\n",
    "    video_urls = soup.find_all('a',{'id':'video-title-link'})\n",
    "    #print(video_urls[0]['href']\n",
    "    i=0\n",
    "    j=0\n",
    "    for title in titles[:5]:\n",
    "        print(f\"Video{i+1}\\ntitle:- {title.text},\\nViews:{views[j].text}, Time:{views[j+1].text},  URL: https://www.youtube.com/{video_urls[i]['href']}\\n\\n\")\n",
    "        i+=1\n",
    "        j+=2\n",
    "main()"
   ]
  },
  {
   "cell_type": "code",
   "execution_count": null,
   "id": "25c290f0",
   "metadata": {},
   "outputs": [],
   "source": []
  }
 ],
 "metadata": {
  "kernelspec": {
   "display_name": "Python 3 (ipykernel)",
   "language": "python",
   "name": "python3"
  },
  "language_info": {
   "codemirror_mode": {
    "name": "ipython",
    "version": 3
   },
   "file_extension": ".py",
   "mimetype": "text/x-python",
   "name": "python",
   "nbconvert_exporter": "python",
   "pygments_lexer": "ipython3",
   "version": "3.11.2"
  }
 },
 "nbformat": 4,
 "nbformat_minor": 5
}
