{
 "cells": [
  {
   "cell_type": "markdown",
   "id": "43dafe0a",
   "metadata": {},
   "source": [
    "### Q1. What is an API? Give an example, where an API is used in real life.\n",
    "> API stands for Application Programming Interface\n",
    "\n",
    "> It can be accessed over the web using the HTTP protocol\n",
    "\n",
    "> If an application is to be used on a distributed system and to provide services on different devices like laptops, mobiles, etc then web API services are used. Web API is the enhanced form of the web application"
   ]
  },
  {
   "cell_type": "markdown",
   "id": "4e570d08",
   "metadata": {},
   "source": [
    "### Q2. Give advantages and disadvantages of using API.\n",
    "#### Advantages:\n",
    "- Increased Visibility and Traffic\n",
    "> First, it allows you to share your data and functionality with a broader audience, increasing traffic and visibility for your website or app.\n",
    "\n",
    "- Seamless Integration\n",
    ">It makes it easy to integrate with other applications and services, saving you time and money.\n",
    "\n",
    "- Increased Efficiency\n",
    ">It allows you to access data and functionality without navigating multiple menus or screens. This can speed up the development process and make your app or website more user-friendly.\n",
    "\n",
    "- Easier Maintenance\n",
    ">It reduces the amount of work needed on the back-end, making maintenance and updates more effortless and less time-consuming.\n",
    "\n",
    "\n",
    "- Reduced Costs\n",
    ">It allows developers to reuse code and functionality in multiple applications, saving time and money.\n",
    "\n",
    "- Improved Customer Experience\n",
    ">It makes it easier for users to access your data and functionality across multiple devices or platforms, improving the user experience and increasing customer satisfaction.\n",
    "<br>\n",
    "<br>\n",
    "#### API Cons\n",
    "There are some disadvantages to using Application Programmable Interfaces:\n",
    "\n",
    "- Increased Complexity\n",
    ">First, they can be complex and challenging to use, making them challenging for novice developers.\n",
    "\n",
    "\n",
    "- Limited Functionality\n",
    ">They may not have all the functionality you need, requiring additional development work.\n",
    "\n",
    "- Dependency on Third Party Services\n",
    ">If it depends on a third-party service, your application will also be unavailable.\n",
    "\n",
    "- Security and Privacy Risks\n",
    ">They can pose security and privacy risks if they’re not implemented correctly. Therefore, it’s essential to carefully consider these risks before using them in your application."
   ]
  },
  {
   "cell_type": "markdown",
   "id": "3a5bdf37",
   "metadata": {},
   "source": [
    "### Q3. What is a Web API? Differentiate between API and Web API.\n",
    "> If an application is to be used on a distributed system and to provide services on different devices like laptops, mobiles, etc then web API services are used. Web API is the enhanced form of the web application\n",
    "\n",
    "> Web-API is a subset of API."
   ]
  },
  {
   "cell_type": "markdown",
   "id": "020554a3",
   "metadata": {},
   "source": [
    "### Q4. Explain REST and SOAP Architecture. Mention shortcomings of SOAP.\n",
    "#### Disadvantages\n",
    "- **Highly complex**\n",
    ">In comparison to Rest, SOAP is significantly more complex. It's also less flexible. This might present a challenge for developers that are not highly skilled. The extensive processing required may also slow down performance.\n",
    "- **No variety of data formats**\n",
    ">SOAP is also extremely limited in its support of data formats. The formats supported by Rest include HTML, JSON, YAML, XML and others. Meanwhile, SOAP only supports XML.\n",
    "- **API calls are not cached**\n",
    ">The process where a request is sent after an API is set up with the correct endpoints is referred to as an API call. The process results in the information being transferred, processed and feedback being provided. It's not possible for SOAP API calls to be cached.\n",
    "- **Uses more bandwidth**\n",
    ">SOAP is generally slower in comparison to Rest and it also uses more bandwidth given its very complex nature. It’s another limiting factor in the efficacy of this technology for certain projects.\n"
   ]
  },
  {
   "cell_type": "markdown",
   "id": "c78e5fa5",
   "metadata": {},
   "source": [
    "### Q5. Differentiate between REST and SOAP.\n",
    "**SOAP** stands for **Simple Object Access Protocol** and \n",
    "\n",
    "**REST** stands for **Representational State Transfer**.\n",
    "<br>\n",
    "| SOAP API | REST API |\n",
    "| --- | --- |\n",
    "| Simple Object Access Protocol |Representational State Transfer |\n",
    "| Works over HTTP, HTTPS, SMTP, XMPP | Works over HTTP and HTTPS |\n",
    "| Highly structured/typed | Simplicity,flexibility,scalibility, Less structured -> less bulky data |\n",
    "| Because it is XML based and relies on SOAP, it works with WSDL(Web Services Description Language) | It works with GET, POST, PUT, DELETE | \n",
    "| more secure | less secure |\n",
    "| Transports data in standard XML format. | Generally transports data in JSON. It is based on URI. Because REST follows stateless model, REST does not enforces message format as XML or JSON etc |\n",
    "| Designed with large enterprise applications in mind | Designed with mobile devices in mind |\n",
    "<br>\n",
    "> WSDL- web service discription language"
   ]
  },
  {
   "cell_type": "code",
   "execution_count": null,
   "id": "2dfe4677",
   "metadata": {},
   "outputs": [],
   "source": []
  }
 ],
 "metadata": {
  "kernelspec": {
   "display_name": "Python 3 (ipykernel)",
   "language": "python",
   "name": "python3"
  },
  "language_info": {
   "codemirror_mode": {
    "name": "ipython",
    "version": 3
   },
   "file_extension": ".py",
   "mimetype": "text/x-python",
   "name": "python",
   "nbconvert_exporter": "python",
   "pygments_lexer": "ipython3",
   "version": "3.11.2"
  }
 },
 "nbformat": 4,
 "nbformat_minor": 5
}
