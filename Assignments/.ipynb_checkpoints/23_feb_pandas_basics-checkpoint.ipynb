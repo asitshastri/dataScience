{
 "cells": [
  {
   "cell_type": "markdown",
   "id": "d466448a",
   "metadata": {},
   "source": [
    "### Q1. Create a Pandas Series that contains the following data: 4, 8, 15, 16, 23, and 42. Then, print the series."
   ]
  },
  {
   "cell_type": "code",
   "execution_count": 5,
   "id": "435866ae",
   "metadata": {},
   "outputs": [
    {
     "name": "stdout",
     "output_type": "stream",
     "text": [
      "<class 'pandas.core.series.Series'>\n"
     ]
    }
   ],
   "source": [
    "import pandas as pd\n",
    "l=[3,8,15,16,23,42]\n",
    "a =pd.Series(l)\n",
    "print(type(a))"
   ]
  },
  {
   "cell_type": "markdown",
   "id": "c3328edd",
   "metadata": {},
   "source": [
    "### Q2. Create a variable of list type containing 10 elements in it, and apply pandas.Series function on the variable print it."
   ]
  },
  {
   "cell_type": "code",
   "execution_count": 6,
   "id": "6a7fca54",
   "metadata": {},
   "outputs": [
    {
     "name": "stdout",
     "output_type": "stream",
     "text": [
      "0     3\n",
      "1     8\n",
      "2    15\n",
      "3    16\n",
      "4    23\n",
      "5    42\n",
      "6    33\n",
      "7    44\n",
      "8    67\n",
      "9    98\n",
      "dtype: int64\n"
     ]
    }
   ],
   "source": [
    "import pandas as pd\n",
    "l=[3,8,15,16,23,42,33,44,67,98]\n",
    "a =pd.Series(l)\n",
    "print(a)"
   ]
  },
  {
   "cell_type": "code",
   "execution_count": 10,
   "id": "1cc73f7b",
   "metadata": {},
   "outputs": [
    {
     "name": "stdout",
     "output_type": "stream",
     "text": [
      "     Name  Age  Gender\n",
      "0   Alice   25  Female\n",
      "1     Bob   30    Male\n",
      "2  Claire   27  Female\n",
      "<class 'pandas.core.frame.DataFrame'>\n"
     ]
    }
   ],
   "source": [
    "data ={\n",
    "    'Name':[\"Alice\",\"Bob\",\"Claire\"],\n",
    "    'Age':[25,30,27],\n",
    "    'Gender':['Female','Male','Female']\n",
    "}\n",
    "dframe = pd.DataFrame(data)\n",
    "print(dframe)\n",
    "print(type(dframe))"
   ]
  },
  {
   "cell_type": "markdown",
   "id": "3d17173c",
   "metadata": {},
   "source": []
  },
  {
   "cell_type": "markdown",
   "id": "62ea9841",
   "metadata": {},
   "source": [
    "### Q4. What is ‘DataFrame’ in pandas and how is it different from pandas.series? Explain with an example.\n",
    "ans:<br>\n",
    "DataFrame in pandas is a indexed list containing multiple columns as list<br>\n",
    "while,<br>\n",
    "A series just contain a single indexed column."
   ]
  },
  {
   "cell_type": "code",
   "execution_count": 11,
   "id": "e687fd22",
   "metadata": {},
   "outputs": [
    {
     "name": "stdout",
     "output_type": "stream",
     "text": [
      "0     3\n",
      "1     8\n",
      "2    15\n",
      "3    16\n",
      "4    23\n",
      "5    42\n",
      "6    33\n",
      "7    44\n",
      "8    67\n",
      "9    98\n",
      "dtype: int64\n",
      "<class 'pandas.core.series.Series'>\n",
      "---------------------------------------\n",
      "     Name  Age  Gender\n",
      "0   Alice   25  Female\n",
      "1     Bob   30    Male\n",
      "2  Claire   27  Female\n",
      "<class 'pandas.core.frame.DataFrame'>\n"
     ]
    }
   ],
   "source": [
    "#example\n",
    "#series\n",
    "print(a)\n",
    "print(type(a))\n",
    "print('---------------------------------------')\n",
    "print(dframe)\n",
    "print(type(dframe))"
   ]
  },
  {
   "cell_type": "markdown",
   "id": "8bde9f0b",
   "metadata": {},
   "source": [
    "### Q5. What are some common functions you can use to manipulate data in a Pandas DataFrame? Can you give an example of when you might use one of these functions?\n",
    "1. read_csv()\n",
    "2. head()\n",
    "3. describe()\n",
    "4. memory_usage()\n",
    "5. loc[:]\n",
    "8. value_counts()\n",
    "9. df.columns\n",
    "10. df.tail()\n",
    "11. df.dtypes\n",
    "12. a = pd.Categorical() => a.value_counts()\n",
    "13. df.iloc[]\n",
    "14. df.loc\n",
    "15. pd.Series\n",
    "16. pd.DataFrame\n",
    "17. df.drop('PassengerId',axis=1)\n",
    "18. df.set_index('Name',inplace=True)\n",
    "19. df.reset_index(inplace=True)\n",
    "20. df1.reindex(['b','d','a','c'])\n",
    "21. df2.dropna()\n",
    "22. .fillna('empty',inplace=True)\n",
    "23. df.groupby('Survived').count()['Age']\n",
    "24. df3.T\n",
    "25. pd.concat([df11,df12])\n",
    "26. pd.concat([df11,df12],axis=1)\n",
    "27. pd.merge(data1,data2,how='inner')\n",
    "28. data3.join(data4,how='left')\n",
    "29. df['Fare_inr']=df['Fare'].apply(lambda x:x*80)\n",
    "30. df2.applymap(lambda x: x**2)\n",
    "31. df1.iterrows()\n",
    "32. df1.items()\n",
    "33. df1.sort_values('c')\n",
    "34. df1.sort_index(ascending=False)\n",
    "35. pd.set_option(\"display.max_colwidth\" , 1000)\n",
    "36. df1['a'].mean()/.mode()/.median()/.std()/.min()/.max()/.var()\n",
    "37. f4.rolling(window=1).mean() #rolling a series\n",
    "38. pd.date_range(start = '2022-03-22' ,end = '2022-06-22')\n",
    "39. pd.to_datetime(df7['date'])\n",
    "40. df7['year'] = df7['update_date'].dt.year/.dt.month/.dt.day\\\n",
    "41. pd.Timedelta(days =1 , hours = 5 , minutes = 55)"
   ]
  },
  {
   "cell_type": "markdown",
   "id": "7961fe64",
   "metadata": {},
   "source": [
    "### Q6. Which of the following is mutable in nature Series, DataFrame, Panel?\n",
    "ans:<br>\n",
    "All Pandas data structures are value mutable (can be changed) and except Series all are size mutable. **Series is size immutable.**"
   ]
  },
  {
   "cell_type": "markdown",
   "id": "ecf2e047",
   "metadata": {},
   "source": [
    "### Q7. Create a DataFrame using multiple Series. Explain with an example."
   ]
  },
  {
   "cell_type": "code",
   "execution_count": null,
   "id": "e665389b",
   "metadata": {},
   "outputs": [],
   "source": [
    "using concatinate method"
   ]
  },
  {
   "cell_type": "code",
   "execution_count": 20,
   "id": "a31602f2",
   "metadata": {
    "scrolled": true
   },
   "outputs": [
    {
     "data": {
      "text/html": [
       "<div>\n",
       "<style scoped>\n",
       "    .dataframe tbody tr th:only-of-type {\n",
       "        vertical-align: middle;\n",
       "    }\n",
       "\n",
       "    .dataframe tbody tr th {\n",
       "        vertical-align: top;\n",
       "    }\n",
       "\n",
       "    .dataframe thead th {\n",
       "        text-align: right;\n",
       "    }\n",
       "</style>\n",
       "<table border=\"1\" class=\"dataframe\">\n",
       "  <thead>\n",
       "    <tr style=\"text-align: right;\">\n",
       "      <th></th>\n",
       "      <th>square</th>\n",
       "      <th>cube</th>\n",
       "      <th>sqr_root</th>\n",
       "    </tr>\n",
       "  </thead>\n",
       "  <tbody>\n",
       "    <tr>\n",
       "      <th>0</th>\n",
       "      <td>1</td>\n",
       "      <td>1</td>\n",
       "      <td>1.000000</td>\n",
       "    </tr>\n",
       "    <tr>\n",
       "      <th>1</th>\n",
       "      <td>4</td>\n",
       "      <td>8</td>\n",
       "      <td>1.414214</td>\n",
       "    </tr>\n",
       "    <tr>\n",
       "      <th>2</th>\n",
       "      <td>9</td>\n",
       "      <td>27</td>\n",
       "      <td>1.732051</td>\n",
       "    </tr>\n",
       "    <tr>\n",
       "      <th>3</th>\n",
       "      <td>16</td>\n",
       "      <td>64</td>\n",
       "      <td>2.000000</td>\n",
       "    </tr>\n",
       "    <tr>\n",
       "      <th>4</th>\n",
       "      <td>25</td>\n",
       "      <td>125</td>\n",
       "      <td>2.236068</td>\n",
       "    </tr>\n",
       "    <tr>\n",
       "      <th>5</th>\n",
       "      <td>36</td>\n",
       "      <td>216</td>\n",
       "      <td>2.449490</td>\n",
       "    </tr>\n",
       "    <tr>\n",
       "      <th>6</th>\n",
       "      <td>49</td>\n",
       "      <td>343</td>\n",
       "      <td>2.645751</td>\n",
       "    </tr>\n",
       "    <tr>\n",
       "      <th>7</th>\n",
       "      <td>64</td>\n",
       "      <td>512</td>\n",
       "      <td>2.828427</td>\n",
       "    </tr>\n",
       "    <tr>\n",
       "      <th>8</th>\n",
       "      <td>81</td>\n",
       "      <td>729</td>\n",
       "      <td>3.000000</td>\n",
       "    </tr>\n",
       "    <tr>\n",
       "      <th>9</th>\n",
       "      <td>100</td>\n",
       "      <td>1000</td>\n",
       "      <td>3.162278</td>\n",
       "    </tr>\n",
       "  </tbody>\n",
       "</table>\n",
       "</div>"
      ],
      "text/plain": [
       "   square  cube  sqr_root\n",
       "0       1     1  1.000000\n",
       "1       4     8  1.414214\n",
       "2       9    27  1.732051\n",
       "3      16    64  2.000000\n",
       "4      25   125  2.236068\n",
       "5      36   216  2.449490\n",
       "6      49   343  2.645751\n",
       "7      64   512  2.828427\n",
       "8      81   729  3.000000\n",
       "9     100  1000  3.162278"
      ]
     },
     "execution_count": 20,
     "metadata": {},
     "output_type": "execute_result"
    }
   ],
   "source": [
    "s1=pd.Series([i**2 for i in range(1,11)],name='square')\n",
    "s2=pd.Series([i**3 for i in range(1,11)],name='cube')\n",
    "s3=pd.Series([i**0.5 for i in range(1,11)],name='sqr_root')\n",
    "df = pd.concat([s1,s2,s3],axis=1)\n",
    "df"
   ]
  },
  {
   "cell_type": "markdown",
   "id": "aae9bc12",
   "metadata": {},
   "source": [
    "using Dataframe constructor"
   ]
  },
  {
   "cell_type": "code",
   "execution_count": 19,
   "id": "5419a62a",
   "metadata": {},
   "outputs": [
    {
     "data": {
      "text/html": [
       "<div>\n",
       "<style scoped>\n",
       "    .dataframe tbody tr th:only-of-type {\n",
       "        vertical-align: middle;\n",
       "    }\n",
       "\n",
       "    .dataframe tbody tr th {\n",
       "        vertical-align: top;\n",
       "    }\n",
       "\n",
       "    .dataframe thead th {\n",
       "        text-align: right;\n",
       "    }\n",
       "</style>\n",
       "<table border=\"1\" class=\"dataframe\">\n",
       "  <thead>\n",
       "    <tr style=\"text-align: right;\">\n",
       "      <th></th>\n",
       "      <th>sqr</th>\n",
       "      <th>cube</th>\n",
       "      <th>sqr_root</th>\n",
       "    </tr>\n",
       "  </thead>\n",
       "  <tbody>\n",
       "    <tr>\n",
       "      <th>0</th>\n",
       "      <td>1</td>\n",
       "      <td>1</td>\n",
       "      <td>1.000000</td>\n",
       "    </tr>\n",
       "    <tr>\n",
       "      <th>1</th>\n",
       "      <td>4</td>\n",
       "      <td>8</td>\n",
       "      <td>1.414214</td>\n",
       "    </tr>\n",
       "    <tr>\n",
       "      <th>2</th>\n",
       "      <td>9</td>\n",
       "      <td>27</td>\n",
       "      <td>1.732051</td>\n",
       "    </tr>\n",
       "    <tr>\n",
       "      <th>3</th>\n",
       "      <td>16</td>\n",
       "      <td>64</td>\n",
       "      <td>2.000000</td>\n",
       "    </tr>\n",
       "    <tr>\n",
       "      <th>4</th>\n",
       "      <td>25</td>\n",
       "      <td>125</td>\n",
       "      <td>2.236068</td>\n",
       "    </tr>\n",
       "    <tr>\n",
       "      <th>5</th>\n",
       "      <td>36</td>\n",
       "      <td>216</td>\n",
       "      <td>2.449490</td>\n",
       "    </tr>\n",
       "    <tr>\n",
       "      <th>6</th>\n",
       "      <td>49</td>\n",
       "      <td>343</td>\n",
       "      <td>2.645751</td>\n",
       "    </tr>\n",
       "    <tr>\n",
       "      <th>7</th>\n",
       "      <td>64</td>\n",
       "      <td>512</td>\n",
       "      <td>2.828427</td>\n",
       "    </tr>\n",
       "    <tr>\n",
       "      <th>8</th>\n",
       "      <td>81</td>\n",
       "      <td>729</td>\n",
       "      <td>3.000000</td>\n",
       "    </tr>\n",
       "    <tr>\n",
       "      <th>9</th>\n",
       "      <td>100</td>\n",
       "      <td>1000</td>\n",
       "      <td>3.162278</td>\n",
       "    </tr>\n",
       "  </tbody>\n",
       "</table>\n",
       "</div>"
      ],
      "text/plain": [
       "   sqr  cube  sqr_root\n",
       "0    1     1  1.000000\n",
       "1    4     8  1.414214\n",
       "2    9    27  1.732051\n",
       "3   16    64  2.000000\n",
       "4   25   125  2.236068\n",
       "5   36   216  2.449490\n",
       "6   49   343  2.645751\n",
       "7   64   512  2.828427\n",
       "8   81   729  3.000000\n",
       "9  100  1000  3.162278"
      ]
     },
     "execution_count": 19,
     "metadata": {},
     "output_type": "execute_result"
    }
   ],
   "source": [
    "s1=pd.Series([i**2 for i in range(1,11)])\n",
    "s2=pd.Series([i**3 for i in range(1,11)])\n",
    "s3=pd.Series([i**0.5 for i in range(1,11)])\n",
    "pd.DataFrame({\"sqr\":s1,\"cube\":s2,\"sqr_root\":s3})"
   ]
  },
  {
   "cell_type": "code",
   "execution_count": null,
   "id": "abfb832b",
   "metadata": {},
   "outputs": [],
   "source": []
  }
 ],
 "metadata": {
  "kernelspec": {
   "display_name": "Python 3 (ipykernel)",
   "language": "python",
   "name": "python3"
  },
  "language_info": {
   "codemirror_mode": {
    "name": "ipython",
    "version": 3
   },
   "file_extension": ".py",
   "mimetype": "text/x-python",
   "name": "python",
   "nbconvert_exporter": "python",
   "pygments_lexer": "ipython3",
   "version": "3.11.3"
  }
 },
 "nbformat": 4,
 "nbformat_minor": 5
}
