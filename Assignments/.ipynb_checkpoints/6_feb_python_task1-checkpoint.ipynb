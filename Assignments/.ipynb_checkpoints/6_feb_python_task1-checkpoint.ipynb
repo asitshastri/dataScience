{
 "cells": [
  {
   "cell_type": "raw",
   "id": "9ae26a42",
   "metadata": {},
   "source": [
    "Q1. Create a function which will take a list as an argument and return the product of all the numbers\n",
    "after creating a flat list.\n",
    "Use the below-given list as an argument for your function.\n",
    "list1 = [1,2,3,4, [44,55,66, True], False, (34,56,78,89,34), {1,2,3,3,2,1}, {1:34, \"key2\": [55, 67, 78, 89], 4: (45,\n",
    "22, 61, 34)}, [56, 'data science'], 'Machine Learning']\n",
    "Note: you must extract numeric keys and values of the dictionary also.\n",
    "ans1:\n",
    "from functools import reduce\n",
    "l2 = [1,2,3,4, [44,55,66, True], False, (34,56,78,89,34), {1,2,3,3,2,1}, {1:34, \"key2\": [55, 67, 78, 89], 4: (45,\n",
    "22, 61, 34)}, [56, 'data science'], 'Machine Learning']\n",
    "\n",
    "def numFilter(a):\n",
    "    l=[]\n",
    "    for i in a:\n",
    "        if type(i)==int:\n",
    "            l.append(i)\n",
    "        elif type(i)==list:\n",
    "            for j in i:\n",
    "                if type(j)==int:\n",
    "                    l.append(j)\n",
    "        elif type(i)==tuple:\n",
    "            for j in i:\n",
    "                if type(j)==int:\n",
    "                    l.append(j)\n",
    "        elif type(i)==dict:\n",
    "            for j in list(i.values()):\n",
    "                if type(j)==int:\n",
    "                    l.append(j)\n",
    "                elif type(j)==list:\n",
    "                    for k in j:\n",
    "                        if type(k)==int:\n",
    "                            l.append(k)\n",
    "                elif type(j)==tuple:\n",
    "                    for m in j:\n",
    "                        if type(m)==int:\n",
    "                            l.append(m)\n",
    "            for k in list(i.keys()):\n",
    "                if type(k)==int:\n",
    "                    l.append(k)          \n",
    "    return l\n",
    "a=reduce(lambda x,y:x*y,numFilter(l2))\n",
    "print(a)\n",
    "\n",
    "Q2. Write a python program for encrypting a message sent to you by your friend. The logic of encryption\n",
    "should be such that, for a the output should be z. For b, the output should be y. For c, the output should\n",
    "be x respectively. Also, the whitespace should be replaced with a dollar sign. Keep the punctuation\n",
    "marks unchanged.\n",
    "Input Sentence: I want to become a Data Scientist.\n",
    "Encrypt the above input sentence using the program you just created.\n",
    "Note: Convert the given input sentence into lowercase before encrypting. The final output should be\n",
    "lowercase.\n",
    "ans2:\n",
    "def encrypt(a):\n",
    "    a = a.lower()\n",
    "    l=['a', 'b', 'c', 'd', 'e', 'f', 'g', 'h', 'i', 'j', 'k', 'l', 'm', 'n', 'o', 'p', 'q', 'r', 's', 't', 'u', 'v', 'w', 'x', 'y', 'z']\n",
    "    wordlist=[]\n",
    "    for i in a:\n",
    "        if i in l:\n",
    "            wordlist.append(l[25-l.index(i)])\n",
    "        elif i==\" \":\n",
    "            wordlist.append(\"$\")\n",
    "    return wordlist\n",
    "def list2str(s):\n",
    "    str1 = \"\"\n",
    "    return str1.join(s)\n",
    "msg = \"I want to become a Data Scientist\"\n",
    "encryption = list2str(encrypt(msg))\n",
    "print(encryption)\n"
   ]
  },
  {
   "cell_type": "code",
   "execution_count": 1,
   "id": "804b2287",
   "metadata": {},
   "outputs": [
    {
     "name": "stdout",
     "output_type": "stream",
     "text": [
      "\n"
     ]
    }
   ],
   "source": [
    "print()"
   ]
  },
  {
   "cell_type": "code",
   "execution_count": null,
   "id": "81d6edd5",
   "metadata": {},
   "outputs": [],
   "source": []
  }
 ],
 "metadata": {
  "kernelspec": {
   "display_name": "Python 3 (ipykernel)",
   "language": "python",
   "name": "python3"
  },
  "language_info": {
   "codemirror_mode": {
    "name": "ipython",
    "version": 3
   },
   "file_extension": ".py",
   "mimetype": "text/x-python",
   "name": "python",
   "nbconvert_exporter": "python",
   "pygments_lexer": "ipython3",
   "version": "3.11.3"
  }
 },
 "nbformat": 4,
 "nbformat_minor": 5
}
