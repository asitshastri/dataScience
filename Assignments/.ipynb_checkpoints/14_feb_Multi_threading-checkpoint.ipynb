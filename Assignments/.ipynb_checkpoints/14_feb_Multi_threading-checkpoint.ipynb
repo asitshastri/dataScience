{
 "cells": [
  {
   "cell_type": "code",
   "execution_count": 2,
   "id": "65f48906",
   "metadata": {},
   "outputs": [
    {
     "name": "stdout",
     "output_type": "stream",
     "text": [
      "Q1\n"
     ]
    }
   ],
   "source": [
    "\"\"\"\n",
    "Q1. What is multithreading in python? hy is it used? Name the module used to \n",
    "handle threads in python.\n",
    "\"\"\"\n",
    "\"\"\"\n",
    "ans:\n",
    "MultiThreading:\n",
    "in multithreading we create multiple threads and execute them n a single processor(we have to wait for one program to complete for other thread to start)\n",
    "In context switching we don't have to wait for thread 1 to finish executing for other one to start. it will execute some part of thread1 then execute some of thread2 and so on.\n",
    "\n",
    "import threading is a module used to handle threads in python\n",
    "\"\"\"\n",
    "print(\"Q1\")"
   ]
  },
  {
   "cell_type": "code",
   "execution_count": null,
   "id": "fba5cb14",
   "metadata": {},
   "outputs": [],
   "source": []
  },
  {
   "cell_type": "code",
   "execution_count": 36,
   "id": "e4967593",
   "metadata": {},
   "outputs": [
    {
     "data": {
      "text/plain": [
       "'\\nthreading module is use to handle multithreading\\n1. activethread()- -method threading.active_count() from the threading module is used to count the currently active or running threads.\\n \\n2. currentThread()-\\n\\n3. enumerate() -returns a list of all Thread objects currently alive\\n'"
      ]
     },
     "execution_count": 36,
     "metadata": {},
     "output_type": "execute_result"
    }
   ],
   "source": [
    "\"\"\"\n",
    "Q2. Why threading module used? rite the use of the following functions\n",
    " activeCount()\n",
    " currentThread()\n",
    " enumerate()\n",
    "\"\"\"\n",
    "\"\"\"\n",
    "threading module is use to handle multithreading\n",
    "1. activethread()- -method threading.active_count() from the threading module is used to count the currently active or running threads.\n",
    " \n",
    "2. currentThread()-\n",
    "\n",
    "3. enumerate() -returns a list of all Thread objects currently alive\n",
    "\"\"\""
   ]
  },
  {
   "cell_type": "code",
   "execution_count": 21,
   "id": "a8308e22",
   "metadata": {},
   "outputs": [
    {
     "name": "stdout",
     "output_type": "stream",
     "text": [
      "START: Current active thread count:  6\n",
      "Threads alive in the starting: [<_MainThread(MainThread, started 14492)>, <Thread(IOPub, started daemon 15768)>, <Heartbeat(Heartbeat, started daemon 15288)>, <ControlThread(Control, started daemon 7068)>, <HistorySavingThread(IPythonHistorySavingThread, started 7944)>, <ParentPollerWindows(Thread-4, started daemon 15400)>]\n",
      "\n",
      "Active current thread right now: <_MainThread(MainThread, started 14492)>\n",
      "Thread-2: Number of active threads: 8\n",
      "Active current thread right now: <Thread(Thread2, started 3440)>\n",
      "Thread 2 Value: 200\n",
      "Thread-1: Number of active threads: 8\n",
      "Active current thread right now: <Thread(Thread1, started 2444)>\n",
      "Thread 1 Value: 100\n",
      "Thread-3: Number of active threads: 7\n",
      "Active current thread right now: <Thread(Thread3, started 15260)>\n",
      "Thread 3 Value: 300\n",
      "5.021245002746582\n"
     ]
    }
   ],
   "source": [
    "#Program to count active threads:\n",
    "# Program to count active threads\n",
    "# active_count() method from Threading Module\n",
    "import threading\n",
    "import time\n",
    "# Methods for three threads..\n",
    "def thread1_Subroutine(i):\n",
    "    time.sleep(2)\n",
    "    print(\"Thread-1: Number of active threads:\", threading.active_count())\n",
    "    print(\"Active current thread right now:\", (threading.current_thread()))\n",
    "    print('Thread 1 Value:', i)\n",
    "\n",
    "def thread2_Subroutine(i):\n",
    "    print(\"Thread-2: Number of active threads:\", threading.active_count())\n",
    "    print(\"Active current thread right now:\", (threading.current_thread()))\n",
    "    print('Thread 2 Value:', i)\n",
    "    \n",
    "def thread3_Subroutine(i):\n",
    "    time.sleep(5)\n",
    "    print(\"Thread-3: Number of active threads:\", threading.active_count())\n",
    "    print(\"Active current thread right now:\", (threading.current_thread()))\n",
    "    print(\"Thread 3 Value:\", i)\n",
    "    \n",
    "# Creating sample threads\n",
    "thread1 = threading.Thread(target=thread1_Subroutine, args=(100,), name=\"Thread1\")\n",
    "thread2 = threading.Thread(target=thread2_Subroutine, args=(200,), name=\"Thread2\")\n",
    "thread3 = threading.Thread(target=thread3_Subroutine, args=(300,), name=\"Thread3\")\n",
    "print(\"START: Current active thread count: \", threading.active_count())\n",
    "# Calling start() method to initialize execution\n",
    "\n",
    "print(\"Threads alive in the starting:\", threading.enumerate())\n",
    "print()\n",
    "\n",
    "\n",
    "print(\"Active current thread right now:\", (threading.current_thread()))\n",
    "#3 Initially it is the main thread that is active\n",
    "a = time.time()\n",
    "thread1.start()\n",
    "thread2.start()\n",
    "thread3.start()\n",
    "thread3.join() # Wait for thread-3 to join.\n",
    "b = time.time()\n",
    "print(b-a)"
   ]
  },
  {
   "cell_type": "code",
   "execution_count": null,
   "id": "e8357255",
   "metadata": {},
   "outputs": [],
   "source": []
  },
  {
   "cell_type": "code",
   "execution_count": null,
   "id": "458f0a12",
   "metadata": {},
   "outputs": [],
   "source": [
    "\"\"\"\n",
    "3. Explain the following functions\n",
    "1 run()\n",
    "2 start()\n",
    "3 join()\n",
    "4 isAlive()\n",
    "\"\"\"\n",
    "\"\"\"\n",
    "ans:\n",
    "run() − The run() method is the entry point for a thread.\n",
    "start() − The start() method starts a thread by calling the run method.\n",
    "join([time]) − The join() waits for threads to terminate.\n",
    "isAlive() − The isAlive() method checks whether a thread is still executing.\n",
    "\"\"\""
   ]
  },
  {
   "cell_type": "code",
   "execution_count": 32,
   "id": "71799a2e",
   "metadata": {},
   "outputs": [
    {
     "name": "stdout",
     "output_type": "stream",
     "text": [
      "Threads alive in the starting: [<_MainThread(MainThread, started 14492)>, <Thread(IOPub, started daemon 15768)>, <Heartbeat(Heartbeat, started daemon 15288)>, <ControlThread(Control, started daemon 7068)>, <HistorySavingThread(IPythonHistorySavingThread, started 7944)>, <ParentPollerWindows(Thread-4, started daemon 15400)>]\n",
      "\n",
      "Active current thread right now: <_MainThread(MainThread, started 14492)>\n",
      "\n",
      "square of 0=0\n",
      "Thread-1: Number of active threads: 7\n",
      "Active current thread right now: <Thread(Thread1, started 4892)>\n",
      "cube of 0= 0\n",
      "Thread-1: Number of active threads: 7\n",
      "Active current thread right now: <Thread(Thread1, started 2160)>\n",
      "square of 1=1\n",
      "Thread-1: Number of active threads: 7\n",
      "Active current thread right now: <Thread(Thread1, started 11364)>\n",
      "cube of 1= 1\n",
      "Thread-1: Number of active threads: 7\n",
      "Active current thread right now: <Thread(Thread1, started 3264)>\n",
      "square of 2=4\n",
      "Thread-1: Number of active threads: 7\n",
      "Active current thread right now: <Thread(Thread1, started 6784)>\n",
      "cube of 2= 8\n",
      "Thread-1: Number of active threads: 7\n",
      "Active current thread right now: <Thread(Thread1, started 15880)>\n",
      "square of 3=9\n",
      "Thread-1: Number of active threads: 7\n",
      "Active current thread right now: <Thread(Thread1, started 11856)>\n",
      "cube of 3= 27\n",
      "Thread-1: Number of active threads: 7\n",
      "Active current thread right now: <Thread(Thread1, started 8112)>\n",
      "square of 4=16\n",
      "Thread-1: Number of active threads: 7\n",
      "Active current thread right now: <Thread(Thread1, started 12688)>\n",
      "cube of 4= 64\n",
      "Thread-1: Number of active threads: 7\n",
      "Active current thread right now: <Thread(Thread1, started 13904)>\n",
      "square of 5=25\n",
      "Thread-1: Number of active threads: 7\n",
      "Active current thread right now: <Thread(Thread1, started 3932)>\n",
      "cube of 5= 125\n",
      "Thread-1: Number of active threads: 7\n",
      "Active current thread right now: <Thread(Thread1, started 2280)>\n",
      "square of 6=36\n",
      "Thread-1: Number of active threads: 7\n",
      "Active current thread right now: <Thread(Thread1, started 10300)>\n",
      "cube of 6= 216\n",
      "Thread-1: Number of active threads: 7\n",
      "Active current thread right now: <Thread(Thread1, started 12528)>\n",
      "square of 7=49\n",
      "Thread-1: Number of active threads: 7\n",
      "Active current thread right now: <Thread(Thread1, started 4772)>\n",
      "cube of 7= 343\n",
      "Thread-1: Number of active threads: 7\n",
      "Active current thread right now: <Thread(Thread1, started 5128)>\n",
      "square of 8=64\n",
      "Thread-1: Number of active threads: 7\n",
      "Active current thread right now: <Thread(Thread1, started 13912)>\n",
      "cube of 8= 512\n",
      "Thread-1: Number of active threads: 7\n",
      "Active current thread right now: <Thread(Thread1, started 13152)>\n",
      "square of 9=81\n",
      "Thread-1: Number of active threads: 7\n",
      "Active current thread right now: <Thread(Thread1, started 14744)>\n",
      "cube of 9= 729\n",
      "Thread-1: Number of active threads: 7\n",
      "Active current thread right now: <Thread(Thread1, started 6632)>\n",
      "0.006266117095947266\n"
     ]
    }
   ],
   "source": [
    "\"\"\"\n",
    "4. rite a python program to create two threads. Thread one must print the list of squares and thread\n",
    "two must print the list of cubes\n",
    "\"\"\"\n",
    "def print_sqr(num):\n",
    "    print(f\"square of {num}={num*num}\")\n",
    "    print(\"Thread-1: Number of active threads:\", threading.active_count())\n",
    "    print(\"Active current thread right now:\", (threading.current_thread()))\n",
    "   \n",
    "def print_cube(num):\n",
    "    print((f\"cube of {num}= {num*num*num}\"))\n",
    "    print(\"Thread-1: Number of active threads:\", threading.active_count())\n",
    "    print(\"Active current thread right now:\", (threading.current_thread()))\n",
    "    \n",
    "#a=time.time()\n",
    "if __name__==\"__main__\":\n",
    "    a=time.time()\n",
    "    print(\"Threads alive in the starting:\", threading.enumerate())\n",
    "    print()\n",
    "    print(\"Active current thread right now:\", (threading.current_thread()))\n",
    "    print()\n",
    "    \n",
    "    thread1 = [threading.Thread(target=print_sqr, args=(i,), name=\"Thread1\")for i in range(10)]\n",
    "    thread2 = [threading.Thread(target=print_cube, args=(i,), name=\"Thread1\")for i in range(10)]\n",
    "    for t in range(10):\n",
    "        thread1[t].start()\n",
    "        thread2[t].start()\n",
    "    thread2[9].join()\n",
    "    b=time.time()\n",
    "    print(b-a)\n",
    "#b=time.time()\n",
    "#print(b-a)"
   ]
  },
  {
   "cell_type": "code",
   "execution_count": null,
   "id": "518813ce",
   "metadata": {},
   "outputs": [],
   "source": []
  },
  {
   "cell_type": "code",
   "execution_count": 34,
   "id": "6663fd6b",
   "metadata": {},
   "outputs": [
    {
     "data": {
      "text/plain": [
       "'\\nans:\\nAdvantages of threads\\nWe can execute multiple tasks of an application at a time\\nReduces the complexity of a big applications\\nHelps to improve the performance of an application drastically\\nUtilizes the max resources of multiprocessor systems\\nBetter user interface in case of GUI based applications\\nReduces the development time of an application\\nAll the threads are independent , any unexpected exception happens in any of the thread will not lead to an application exit.\\n\\n\\nDisadvantages of threads\\nThread synchronization is an extra over head to the developers\\nShares the common data across the threads might cause the data inconsistency or thread sync issues\\nThreads blocking for resources is more common problem\\nDifficult in managing the code in terms of debugging or writing the code\\n\\n\\n'"
      ]
     },
     "execution_count": 34,
     "metadata": {},
     "output_type": "execute_result"
    }
   ],
   "source": [
    "\"\"\"\n",
    "Q5. State advantages and disadvantages of multithreading\n",
    "\"\"\"\n",
    "\"\"\"\n",
    "ans:\n",
    "Advantages of threads\n",
    "We can execute multiple tasks of an application at a time\n",
    "Reduces the complexity of a big applications\n",
    "Helps to improve the performance of an application drastically\n",
    "Utilizes the max resources of multiprocessor systems\n",
    "Better user interface in case of GUI based applications\n",
    "Reduces the development time of an application\n",
    "All the threads are independent , any unexpected exception happens in any of the thread will not lead to an application exit.\n",
    "\n",
    "\n",
    "Disadvantages of threads\n",
    "Thread synchronization is an extra over head to the developers\n",
    "Shares the common data across the threads might cause the data inconsistency or thread sync issues\n",
    "Threads blocking for resources is more common problem\n",
    "Difficult in managing the code in terms of debugging or writing the code\n",
    "\n",
    "\n",
    "\"\"\""
   ]
  },
  {
   "cell_type": "code",
   "execution_count": null,
   "id": "22ea01a4",
   "metadata": {},
   "outputs": [],
   "source": []
  },
  {
   "cell_type": "code",
   "execution_count": 35,
   "id": "f6224f0a",
   "metadata": {},
   "outputs": [
    {
     "data": {
      "text/plain": [
       "'\\nans:\\n#### What is a Race Condition?\\nWhen two processes are competing with each other causing data corruption.\\ntwo persons are trying to deposit 1 dollar online into the same bank account. The initial amount is 17 dollar. Both the persons would be able to see $17 initially. Each of them tries to deposit $1, and the final amount is expected to be $19. But due to race conditions, the final amount in the bank is $18 instead of $19. This is also known as dirty read.\\nexample:\\nif two processes/threads are trying to execute the following conditions simultaneously, they cause data corruption:\\nthread1: total = num1 + num2\\nthread2: total = num1 - num2\\nIt is very common for the race conditions to go unnoticed during testing even after multiple tests and code reviews. But in production, there would be a lot of processes and threads working parallelly and compete for the same resources, and this problem would occur.\\n\\n\\nWhat is a Dead Lock?\\nWhen two processes are waiting for each other directly or indirectly, it is called deadlock.\\n\\nThis usually occurs when two processes are waiting for shared resources acquired by others. For example, If thread T1 acquired resource R1 and it also needs resource R2 for it to accomplish its task. But the resource R2 is acquired by thread T2 which is waiting for resource R1(which is acquired by T1).. Neither of them will be able to accomplish its task, as they keep waiting for the other resources they need.\\n\\n\\n\\n\\n'"
      ]
     },
     "execution_count": 35,
     "metadata": {},
     "output_type": "execute_result"
    }
   ],
   "source": [
    "\"\"\"\n",
    "#### Q6. Explain deadlocks and race conditions.\n",
    "\"\"\"\n",
    "\"\"\"\n",
    "ans:\n",
    "#### What is a Race Condition?\n",
    "When two processes are competing with each other causing data corruption.\n",
    "two persons are trying to deposit 1 dollar online into the same bank account. The initial amount is 17 dollar. Both the persons would be able to see $17 initially. Each of them tries to deposit $1, and the final amount is expected to be $19. But due to race conditions, the final amount in the bank is $18 instead of $19. This is also known as dirty read.\n",
    "example:\n",
    "if two processes/threads are trying to execute the following conditions simultaneously, they cause data corruption:\n",
    "thread1: total = num1 + num2\n",
    "thread2: total = num1 - num2\n",
    "It is very common for the race conditions to go unnoticed during testing even after multiple tests and code reviews. But in production, there would be a lot of processes and threads working parallelly and compete for the same resources, and this problem would occur.\n",
    "\n",
    "\n",
    "What is a Dead Lock?\n",
    "When two processes are waiting for each other directly or indirectly, it is called deadlock.\n",
    "\n",
    "This usually occurs when two processes are waiting for shared resources acquired by others. For example, If thread T1 acquired resource R1 and it also needs resource R2 for it to accomplish its task. But the resource R2 is acquired by thread T2 which is waiting for resource R1(which is acquired by T1).. Neither of them will be able to accomplish its task, as they keep waiting for the other resources they need.\n",
    "\n",
    "\n",
    "\n",
    "\n",
    "\"\"\""
   ]
  },
  {
   "cell_type": "code",
   "execution_count": null,
   "id": "9634d960",
   "metadata": {},
   "outputs": [],
   "source": []
  }
 ],
 "metadata": {
  "kernelspec": {
   "display_name": "Python 3 (ipykernel)",
   "language": "python",
   "name": "python3"
  },
  "language_info": {
   "codemirror_mode": {
    "name": "ipython",
    "version": 3
   },
   "file_extension": ".py",
   "mimetype": "text/x-python",
   "name": "python",
   "nbconvert_exporter": "python",
   "pygments_lexer": "ipython3",
   "version": "3.9.13"
  }
 },
 "nbformat": 4,
 "nbformat_minor": 5
}
