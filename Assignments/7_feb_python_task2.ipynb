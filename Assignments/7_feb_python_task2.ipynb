{
 "cells": [
  {
   "cell_type": "markdown",
   "id": "ad7ae905",
   "metadata": {},
   "source": [
    "Q1. You are writing code for a company. The requirement of the company is that you create a python\n",
    "function that will check whether the password entered by the user is correct or not. The function should\n",
    "take the password as input and return the string “Valid Password” if the entered password follows the\n",
    "below-given password guidelines else it should return “Invalid Password”.\n",
    "\n",
    "Note: \n",
    "\n",
    ">1. The Password should contain at least two uppercase letters and at least two lowercase letters.\n",
    "\n",
    ">2. The Password should contain at least a number and three special characters.\n",
    "\n",
    ">3. The length of the password should be 10 characters long."
   ]
  },
  {
   "cell_type": "code",
   "execution_count": 38,
   "id": "e1fb3c65",
   "metadata": {},
   "outputs": [],
   "source": [
    "def countUpr(a):\n",
    "    count=0\n",
    "    for i in a:\n",
    "        if i.isupper()==True:\n",
    "            count += 1\n",
    "    return count\n",
    "def countlwr(a):\n",
    "    count =0\n",
    "    for i in a:\n",
    "        if i.islower()==True:\n",
    "            count+=1\n",
    "    return count\n",
    "def countnNum(a):\n",
    "    count=0\n",
    "    for i in a:\n",
    "        if i.isnumeric()==True:\n",
    "            count+=1\n",
    "    return count\n",
    "def special(a):\n",
    "    s='\"!@#$%^&*()-+?_=,<>/\"'\n",
    "    count=0\n",
    "    for i in a:\n",
    "        if i in s:\n",
    "            count+=1\n",
    "    return count\n",
    "def valisPwd(pwd):\n",
    "    if countUpr(pwd)>=2 and countlwr(pwd)>=2 and countnNum(pwd)>=1 and special(pwd)==3 and len(pwd)>=9:\n",
    "        print(\"good password\")\n",
    "    else:\n",
    "        print(\"invalid\")"
   ]
  },
  {
   "cell_type": "code",
   "execution_count": 40,
   "id": "b722b137",
   "metadata": {},
   "outputs": [
    {
     "name": "stdout",
     "output_type": "stream",
     "text": [
      "good password\n"
     ]
    }
   ],
   "source": [
    "pwd=(\"AsitShastrin@@@99\")\n",
    "valisPwd(pwd)"
   ]
  },
  {
   "cell_type": "markdown",
   "id": "e83bae56",
   "metadata": {},
   "source": [
    "Q2. Solve the below-given questions using at least one of the following:\n",
    "1. Lambda function\n",
    "2. Filter function\n",
    "3. Map function\n",
    "4. List Comprehension\n",
    " - Check if the string starts with a particular letter\n",
    " - Check if the string is numeric\n",
    " - Sort a list of tuples having fruit names and their quantity. [(\"mango\",99),(\"orange\",80), (\"grapes\", 1000)]\n",
    " - Find the squares of numbers from 1 to 10\n",
    " - Find the cube root of numbers from 1 to 10\n",
    " - Check if a given number is even\n",
    " - Filter odd numbers from the given list.\n",
    "[1,2,3,4,5,6,7,8,9,10]\n",
    " - Sort a list of integers into positive and negative integers lists.\n",
    "[1,2,3,4,5,6,-1,-2,-3,-4,-5,0]"
   ]
  },
  {
   "cell_type": "code",
   "execution_count": 66,
   "id": "ffae554a",
   "metadata": {},
   "outputs": [
    {
     "data": {
      "text/plain": [
       "'Srtring starts with a'"
      ]
     },
     "execution_count": 66,
     "metadata": {},
     "output_type": "execute_result"
    }
   ],
   "source": [
    "#Check if the string starts with a particular letter\n",
    "fun =lambda a,ltr: f\"Srtring starts with {ltr}\" if a[0]==ltr else f\"False\"\n",
    "a =\"asit\"\n",
    "fun(a,\"a\")"
   ]
  },
  {
   "cell_type": "code",
   "execution_count": 64,
   "id": "710c5032",
   "metadata": {},
   "outputs": [
    {
     "data": {
      "text/plain": [
       "<method 'isnumeric' of 'str' objects>"
      ]
     },
     "execution_count": 64,
     "metadata": {},
     "output_type": "execute_result"
    }
   ],
   "source": [
    "#Check if the string is numeric\n",
    "str.isnumeric"
   ]
  },
  {
   "cell_type": "code",
   "execution_count": 65,
   "id": "d1230f4a",
   "metadata": {},
   "outputs": [
    {
     "name": "stdout",
     "output_type": "stream",
     "text": [
      "[('orange', 80), ('mango', 99), ('grapes', 1000)]\n"
     ]
    }
   ],
   "source": [
    "#Sort a list of tuples having fruit names and their quantity\n",
    "a=[(\"mango\",99),(\"orange\",80), (\"grapes\", 1000)]\n",
    "a.sort(reverse=True)\n",
    "print(a)"
   ]
  },
  {
   "cell_type": "code",
   "execution_count": 76,
   "id": "6b699411",
   "metadata": {},
   "outputs": [
    {
     "name": "stdout",
     "output_type": "stream",
     "text": [
      "[1, 4, 9, 16, 25, 36, 49, 64, 81, 100]\n"
     ]
    }
   ],
   "source": [
    "#Find the squares of numbers from 1 to 10\n",
    "def lstNno(n):\n",
    "    l=[]\n",
    "    for i in range(1,n+1):\n",
    "        l.append(i)\n",
    "    return l\n",
    "result = list(map(lambda x:x**2,lstNno(10)))\n",
    "print(result)"
   ]
  },
  {
   "cell_type": "code",
   "execution_count": 83,
   "id": "319fa8c8",
   "metadata": {},
   "outputs": [
    {
     "name": "stdout",
     "output_type": "stream",
     "text": [
      "[1, 8, 27, 64, 125, 216, 343, 512, 729, 1000]\n"
     ]
    }
   ],
   "source": [
    "#Find the cube root of numbers from 1 to 10\n",
    "l=[]\n",
    "r=list(map(lambda x:x**3,lstNno(10)))\n",
    "print(r)"
   ]
  },
  {
   "cell_type": "code",
   "execution_count": 89,
   "id": "e93cc59d",
   "metadata": {},
   "outputs": [
    {
     "name": "stdout",
     "output_type": "stream",
     "text": [
      "even\n",
      "None\n"
     ]
    }
   ],
   "source": [
    "#Check if a given number is even\n",
    "a= lambda x:print(\"even\") if x%2==0 else print(\"odd\")\n",
    "print(a(10))"
   ]
  },
  {
   "cell_type": "code",
   "execution_count": 91,
   "id": "1b867b74",
   "metadata": {},
   "outputs": [
    {
     "name": "stdout",
     "output_type": "stream",
     "text": [
      "[1, 3, 5, 7, 9]\n"
     ]
    }
   ],
   "source": [
    "#Filter odd numbers from the given list. [1,2,3,4,5,6,7,8,9,10]\n",
    "l=list(filter(lambda x:x%2!=0,lstNno(10)))\n",
    "print(l)"
   ]
  },
  {
   "cell_type": "code",
   "execution_count": 94,
   "id": "e5895c8e",
   "metadata": {},
   "outputs": [
    {
     "name": "stdout",
     "output_type": "stream",
     "text": [
      "[-1, -2, -3, -4, -5] [1, 2, 3, 4, 5, 6]\n"
     ]
    }
   ],
   "source": [
    "#Sort a list of integers into positive and negative integers lists. [1,2,3,4,5,6,-1,-2,-3,-4,-5,0]\n",
    "l=[1,2,3,4,5,6,-1,-2,-3,-4,-5,0]\n",
    "neg_l =list(filter(lambda x:x<0,l))\n",
    "pas_l =list(filter(lambda x:x>0,l))\n",
    "print(neg_l,pas_l)"
   ]
  },
  {
   "cell_type": "code",
   "execution_count": null,
   "id": "44f7f165",
   "metadata": {},
   "outputs": [],
   "source": []
  }
 ],
 "metadata": {
  "kernelspec": {
   "display_name": "Python 3 (ipykernel)",
   "language": "python",
   "name": "python3"
  },
  "language_info": {
   "codemirror_mode": {
    "name": "ipython",
    "version": 3
   },
   "file_extension": ".py",
   "mimetype": "text/x-python",
   "name": "python",
   "nbconvert_exporter": "python",
   "pygments_lexer": "ipython3",
   "version": "3.9.13"
  }
 },
 "nbformat": 4,
 "nbformat_minor": 5
}
