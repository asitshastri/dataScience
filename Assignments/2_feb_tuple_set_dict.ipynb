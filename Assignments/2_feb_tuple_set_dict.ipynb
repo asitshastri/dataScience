{
 "cells": [
  {
   "cell_type": "raw",
   "id": "00ce22a3",
   "metadata": {},
   "source": [
    "Q1. What are the characteristics of the tuples? Is tuple immutable?\n",
    "\n",
    "tuples are immutable i.e they can not change their content after they are created. Length of tuples are also fixed. \n",
    "\n",
    "\n",
    "Q2. What are the two tuple methods in python? Give an example of each method. Give a reason why tuples have only two in-built methods as compared to Lists.\n",
    "\n",
    "tuple.count()\n",
    "tuple.index()\n",
    "the above are the only two methods for tuple as the are immutable while as list is mutable in nature they have more methods for list manupilation.\n",
    "\n",
    "\n",
    "Q3. Which collection datatypes in python do not allow duplicate items? Write a code using a set to remove\n",
    "duplicates from the given list.\n",
    "List = [1, 1, 1, 2, 1, 3, 1, 4, 2, 1, 2, 2, 2, 3, 2, 4, 3, 1, 3, 2, 3, 3, 3, 4, 4, 1, 4, 2, 4, 3, 4, 4]\n",
    "\n",
    "Set is a collection of unique elements. It always stores unique elements removing the duplicate elements\n",
    "TO remove duplicates from the above list convert this list to a set\n",
    "a = set(List)\n",
    "print(a)\n",
    "o/pP: {1,2,3,4}\n",
    "\n",
    "\n",
    "Q4. Explain the difference between the union() and update() methods for a set. Give an example of\n",
    "each method.\n",
    "#Set union and Update methods\n",
    "\n",
    "#set.union(): creates a new set.the return value of set.union() is a set.\n",
    "#set.update(): adds all missing elements to the set on which it is called.return value of set.update() is None.\n",
    "\n",
    "a={1,2,3,3,2,1}\n",
    "\n",
    "a.update({4,5}) #updates the existing set\n",
    "print(a)\n",
    "\n",
    "b=a.union({5,6}) #returns a new set\n",
    "print(a)\n",
    "print(b)\n",
    "o/p: {1, 2, 3, 4, 5}\n",
    "\t{1, 2, 3, 4, 5}\n",
    "\t{1, 2, 3, 4, 5, 6}\n",
    "\n",
    "\n",
    "Q5. What is a dictionary? Give an example. Also, state whether a dictionary is ordered or unordered.\n",
    "A dictionary is a collection which is ordered , changeable and do not allow duplicates. It contains key and value pairs.\n",
    "syntax dict={} #empty dictionary\n",
    "\n",
    "\n",
    "Q6. Can we create a nested dictionary? If so, please give an example by creating a simple one-level\n",
    "nested dictionary.\n",
    "Yes we can craete a nested dictionary.\n",
    "ex: \n",
    "myfamily = {\n",
    "  \"child1\" : {\n",
    "    \"name\" : \"Emil\",\n",
    "    \"year\" : 2004\n",
    "  },\n",
    "  \"child2\" : {\n",
    "    \"name\" : \"Tobias\",\n",
    "    \"year\" : 2007\n",
    "  },\n",
    "  \"child3\" : {\n",
    "    \"name\" : \"Linus\",\n",
    "    \"year\" : 2011\n",
    "  }\n",
    "}\n",
    "\n",
    "\n",
    "Q7. Using setdefault() method, create key named topics in the given dictionary and also add the value of\n",
    "the key as this list ['Python', 'Machine Learning’, 'Deep Learning']\n",
    "dict1 = {'language' : 'Python', 'course': 'Data Science Masters'}\n",
    "dict1.setdefault(\"topics\",[\"Python\", \"Machine Learning\", \"Deep Learning\"])\n",
    "print(dict1)\n",
    "o/p: {'language': 'Python', 'course': 'Data Science Masters', 'topics': ['Python', 'Machine Learning', 'Deep Learning']}\n",
    "\n",
    "\n",
    "Q8. What are the three view objects in dictionaries? Use the three in-built methods in python to display\n",
    "these three view objects for the given dictionary.\n",
    "dict.keys(),dict.values(), dict.items() are the three viewing objects in dictionary.\n",
    "ex:\n",
    "dict1.keys() op: dict_keys(['Sport', 'Teams'])\n",
    "\n",
    "dict1.values() op:dict_values(['Cricket', ['India', 'Australia', 'England', 'South Africa', 'Sri Lanka', 'New Zealand']])\n",
    "\n",
    "dict1.items() op:dict_items([('Sport', 'Cricket'), ('Teams', ['India', 'Australia', 'England', 'South Africa', 'Sri Lanka', 'New Zealand'])])\n",
    "\n",
    "\n",
    "\n"
   ]
  },
  {
   "cell_type": "code",
   "execution_count": 1,
   "id": "d93d47cf",
   "metadata": {},
   "outputs": [
    {
     "name": "stdout",
     "output_type": "stream",
     "text": [
      "\n"
     ]
    }
   ],
   "source": [
    "print()"
   ]
  },
  {
   "cell_type": "code",
   "execution_count": null,
   "id": "c3a73c55",
   "metadata": {},
   "outputs": [],
   "source": []
  }
 ],
 "metadata": {
  "kernelspec": {
   "display_name": "Python 3 (ipykernel)",
   "language": "python",
   "name": "python3"
  },
  "language_info": {
   "codemirror_mode": {
    "name": "ipython",
    "version": 3
   },
   "file_extension": ".py",
   "mimetype": "text/x-python",
   "name": "python",
   "nbconvert_exporter": "python",
   "pygments_lexer": "ipython3",
   "version": "3.11.3"
  }
 },
 "nbformat": 4,
 "nbformat_minor": 5
}
