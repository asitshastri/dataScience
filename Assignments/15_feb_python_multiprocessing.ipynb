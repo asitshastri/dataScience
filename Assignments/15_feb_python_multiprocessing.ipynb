{
 "cells": [
  {
   "cell_type": "code",
   "execution_count": 1,
   "id": "f7f3eb81",
   "metadata": {},
   "outputs": [
    {
     "name": "stdout",
     "output_type": "stream",
     "text": [
      "\n"
     ]
    }
   ],
   "source": [
    "\"\"\"\n",
    "Q1. What is multiprocessing in python? Why is it useful?\n",
    "\"\"\"\n",
    "\"\"\"\n",
    "ans:\n",
    "MultiProcessing:\n",
    "    in multiprocessing we run multiple instances of a program parallely in different processor\n",
    "    i.e for program 1 in processor 1, program2 in processor 2, program3 in processor 3, program 4 in processor 4 and so on.\n",
    "\n",
    "Advantages of using multiprocessing:-\n",
    "    for 4 core processor program will be executed in 1/4 amount of time\n",
    "    latency of progr5am will be reduced\n",
    "    multiple instances can be run in an easiest possible way\n",
    "    Any shared resources b/w two processors can be utilised\n",
    "\"\"\"\n",
    "print()"
   ]
  },
  {
   "cell_type": "code",
   "execution_count": 2,
   "id": "72a85750",
   "metadata": {},
   "outputs": [
    {
     "name": "stdout",
     "output_type": "stream",
     "text": [
      "\n"
     ]
    }
   ],
   "source": [
    "\"\"\"\n",
    "Q2. What are the differences between multiprocessing and multithreading?\n",
    "\"\"\"\n",
    "\"\"\"\n",
    "ans:\n",
    "MultiThreading:\n",
    "    in multithreading we create multiple threads and execute them n a single processor(we have to wait for one program to complete for other thread to start)\n",
    "    In context switching we don't have to wait for thread 1 to finish executing for other one to start. it will execute some part of thread1 then execute some of thread2 and so on.\n",
    "\n",
    "\n",
    "MultiProcessing:\n",
    "    in multiprocessing we run multiple instances of a program parallely in different processor\n",
    "    i.e for program 1 in processor 1, program2 in processor 2, program3 in processor 3, program 4 in processor 4 and so on.\n",
    "Advantages of using multiprocessing:-\n",
    "    for 4 core processor program will be executed in 1/4 amount of time\n",
    "    latency of progr5am will be reduced\n",
    "    multiple instances can be run in an easiest possible way\n",
    "    Any shared resources b/w two processors can be utilised\n",
    "\"\"\"\n",
    "print()"
   ]
  },
  {
   "cell_type": "code",
   "execution_count": 12,
   "id": "1b154fac",
   "metadata": {},
   "outputs": [
    {
     "name": "stdout",
     "output_type": "stream",
     "text": [
      "this is my main program\n"
     ]
    }
   ],
   "source": [
    "\"\"\"\n",
    "Q3. Write a python code to create a process using the multiprocessing module.\n",
    "\"\"\"\n",
    "import multiprocessing\n",
    "def multipross():\n",
    "    print(\"This is my mutiprocessing prog\")\n",
    "\n",
    "#to execute above program with some other program-\n",
    "#call a python mai program-which is responsible for executing everything inside our python compiler\n",
    "if __name__==\"__main__\": #this __main__ envokes our entire python compileri.e python main module\n",
    "    m= multiprocessing.Process(target=multipross)\n",
    "    print(\"this is my main program\")\n",
    "    #above creates a child program inside a main program\n",
    "    \n",
    "    #starting program\n",
    "    m.start()\n",
    "    m.join() #waits until child process terminates"
   ]
  },
  {
   "cell_type": "code",
   "execution_count": 3,
   "id": "5c7d114f",
   "metadata": {
    "scrolled": true
   },
   "outputs": [
    {
     "name": "stdout",
     "output_type": "stream",
     "text": [
      "\n"
     ]
    }
   ],
   "source": [
    "\"\"\"\n",
    "Q4. What is a multiprocessing pool in python? Why is it used?\n",
    "\"\"\"\n",
    "\"\"\"\n",
    "ans:\n",
    "multiprocessor module provides a pool class. The pool class represents a pool of worker processes. \n",
    "It has methods which allows tasks to be offloaded to worker processes in a few different ways.\n",
    "\n",
    "the task is offloadeed/distributed among the cores/processors automatically by Pool object . User don't worry about creating processes explicitly\n",
    "\"\"\"\n",
    "print()"
   ]
  },
  {
   "cell_type": "code",
   "execution_count": null,
   "id": "85bd6c5f",
   "metadata": {},
   "outputs": [],
   "source": [
    "\"\"\"\n",
    "Q5. How can we create a pool of worker processes in python using the multiprocessing module?\n",
    "\"\"\"\n",
    "###creating pool of worker process\n",
    "import multiprocessing\n",
    "def sqr(n):\n",
    "    return n*n\n",
    "if __name__==\"__main__\":\n",
    "    l=[1,2,3,4]\n",
    "    p = multiprocessing.Pool()\n",
    "    result=p.map(sqr,l)    \n",
    "    print(result)"
   ]
  },
  {
   "cell_type": "code",
   "execution_count": 1,
   "id": "3986fa64",
   "metadata": {},
   "outputs": [
    {
     "name": "stdout",
     "output_type": "stream",
     "text": [
      "current processor: 16676\n"
     ]
    }
   ],
   "source": [
    "\"\"\"\n",
    "Q6. Write a python program to create 4 processes, each process should print a different number using the\n",
    "multiprocessing module in python.\n",
    "\"\"\"\n",
    "import multiprocessing\n",
    "import os\n",
    "def printNum(n):\n",
    "  print(f\"ProcessId for no:{n}: {os.getpid()}\")\n",
    "\n",
    "if __name__==\"__main__\":\n",
    "  print(f\"current processor: {os.getpid()}\")\n",
    "  #creating processes\n",
    "  for i in range(1,5):\n",
    "    process = multiprocessing.Process(target=printNum, args=(i,), name=f\"process {i}:\")\n",
    "    process.start()"
   ]
  },
  {
   "cell_type": "code",
   "execution_count": null,
   "id": "0f779abf",
   "metadata": {},
   "outputs": [],
   "source": []
  }
 ],
 "metadata": {
  "kernelspec": {
   "display_name": "Python 3 (ipykernel)",
   "language": "python",
   "name": "python3"
  },
  "language_info": {
   "codemirror_mode": {
    "name": "ipython",
    "version": 3
   },
   "file_extension": ".py",
   "mimetype": "text/x-python",
   "name": "python",
   "nbconvert_exporter": "python",
   "pygments_lexer": "ipython3",
   "version": "3.11.2"
  }
 },
 "nbformat": 4,
 "nbformat_minor": 5
}
