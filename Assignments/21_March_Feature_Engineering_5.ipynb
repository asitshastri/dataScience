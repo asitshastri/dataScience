{
 "cells": [
  {
   "cell_type": "markdown",
   "id": "e01625bc",
   "metadata": {},
   "source": [
    "# Q1. What is the difference between Ordinal Encoding and Label Encoding? Provide an example of when you might choose one over the other.\n",
    "Label Encoding and Ordinal Encoding are both methods used to convert categorical data into numerical values that machine learning models can work with. However, they are applied in slightly different scenarios and have distinct characteristics:\n",
    "\n",
    "1. **Label Encoding:**\n",
    "Label Encoding involves assigning a unique integer value to each category in a categorical variable. It is often used when the categories don't have a specific order or ranking among them. For instance, if you have a categorical variable \"Color\" with categories \"Red,\" \"Blue,\" and \"Green,\" label encoding could assign them values like 0, 1, and 2.\n",
    "\n",
    "Example:"
   ]
  },
  {
   "cell_type": "code",
   "execution_count": 1,
   "id": "20244a6b",
   "metadata": {},
   "outputs": [
    {
     "name": "stdout",
     "output_type": "stream",
     "text": [
      "[2 0 1 2 0]\n"
     ]
    }
   ],
   "source": [
    "from sklearn.preprocessing import LabelEncoder\n",
    "\n",
    "color_data = ['Red', 'Blue', 'Green', 'Red', 'Blue']\n",
    "label_encoder = LabelEncoder()\n",
    "encoded_colors = label_encoder.fit_transform(color_data)\n",
    "print(encoded_colors)  # Output: [2, 0, 1, 2, 0]"
   ]
  },
  {
   "cell_type": "markdown",
   "id": "af226d68",
   "metadata": {},
   "source": [
    "2. **Ordinal Encoding**\n",
    "Ordinal Encoding is used when there is an inherent order or ranking among the categories. In this method, each category is assigned a numerical value based on its order/rank. This can be useful for variables like education levels (e.g., High School < Bachelor's < Master's < PhD) or economic status (e.g., Low < Medium < High).\n",
    "\n",
    "Example:"
   ]
  },
  {
   "cell_type": "code",
   "execution_count": 2,
   "id": "794d9b07",
   "metadata": {},
   "outputs": [
    {
     "name": "stdout",
     "output_type": "stream",
     "text": [
      "[1, 2, 3, 4, 2]\n"
     ]
    }
   ],
   "source": [
    "education_levels = ['High School', 'Bachelor', 'Master', 'PhD', 'Bachelor']\n",
    "ordinal_mapping = {'High School': 1, 'Bachelor': 2, 'Master': 3, 'PhD': 4}\n",
    "ordinal_encoded_education = [ordinal_mapping[level] for level in education_levels]\n",
    "print(ordinal_encoded_education)  # Output: [1, 2, 3, 4, 2]"
   ]
  },
  {
   "cell_type": "markdown",
   "id": "55bc5608",
   "metadata": {},
   "source": [
    "**When to choose one over the other:**\n",
    "\n",
    "Label Encoding: Use this when the categorical variable has no inherent order or ranking. Label Encoding is simple to implement and can be used for features where the order doesn't matter. However, be cautious when using it with algorithms that might interpret the numerical values as having a meaningful relationship, which could lead to incorrect results.\n",
    "\n",
    "Ordinal Encoding: Choose this when there is a clear order or ranking among the categories. This method preserves the ordinal relationship between categories, making it suitable for situations where the order matters, such as education levels, socio-economic status, or levels of satisfaction.\n",
    "\n",
    "**Always consider the nature of your data and the requirements of your model when deciding between Label Encoding and Ordinal Encoding.**"
   ]
  },
  {
   "cell_type": "markdown",
   "id": "337a4530",
   "metadata": {},
   "source": [
    "# Q2. Explain how Target Guided Ordinal Encoding works and provide an example of when you might use it in a machine learning project.\n",
    "Target Guided Ordinal Encoding\n",
    "It is a technique used to encode categorical variables based on their relationship with the target variable. This encoding technique is useful when we have a categorical variable with a large number of unique categories, and we want to use this variable as a feature in our machine learning model.\n",
    "\n",
    "In Target Guided Ordinal Encoding, we replace each category in the categorical variable with a numerical value based on the mean or median of the target variable for that category. This creates a monotonic relationship between the categorical variable and the target variable, which can improve the predictive power of our model."
   ]
  },
  {
   "cell_type": "code",
   "execution_count": 3,
   "id": "751be18c",
   "metadata": {},
   "outputs": [
    {
     "data": {
      "text/html": [
       "<div>\n",
       "<style scoped>\n",
       "    .dataframe tbody tr th:only-of-type {\n",
       "        vertical-align: middle;\n",
       "    }\n",
       "\n",
       "    .dataframe tbody tr th {\n",
       "        vertical-align: top;\n",
       "    }\n",
       "\n",
       "    .dataframe thead th {\n",
       "        text-align: right;\n",
       "    }\n",
       "</style>\n",
       "<table border=\"1\" class=\"dataframe\">\n",
       "  <thead>\n",
       "    <tr style=\"text-align: right;\">\n",
       "      <th></th>\n",
       "      <th>city</th>\n",
       "      <th>price</th>\n",
       "    </tr>\n",
       "  </thead>\n",
       "  <tbody>\n",
       "    <tr>\n",
       "      <th>0</th>\n",
       "      <td>New York</td>\n",
       "      <td>200</td>\n",
       "    </tr>\n",
       "    <tr>\n",
       "      <th>1</th>\n",
       "      <td>London</td>\n",
       "      <td>150</td>\n",
       "    </tr>\n",
       "    <tr>\n",
       "      <th>2</th>\n",
       "      <td>Paris</td>\n",
       "      <td>300</td>\n",
       "    </tr>\n",
       "    <tr>\n",
       "      <th>3</th>\n",
       "      <td>Tokyo</td>\n",
       "      <td>250</td>\n",
       "    </tr>\n",
       "    <tr>\n",
       "      <th>4</th>\n",
       "      <td>New York</td>\n",
       "      <td>180</td>\n",
       "    </tr>\n",
       "    <tr>\n",
       "      <th>5</th>\n",
       "      <td>Paris</td>\n",
       "      <td>320</td>\n",
       "    </tr>\n",
       "  </tbody>\n",
       "</table>\n",
       "</div>"
      ],
      "text/plain": [
       "       city  price\n",
       "0  New York    200\n",
       "1    London    150\n",
       "2     Paris    300\n",
       "3     Tokyo    250\n",
       "4  New York    180\n",
       "5     Paris    320"
      ]
     },
     "execution_count": 3,
     "metadata": {},
     "output_type": "execute_result"
    }
   ],
   "source": [
    "import pandas as pd\n",
    "\n",
    "# create a sample dataframe with a categorical variable and a target variable\n",
    "df = pd.DataFrame({\n",
    "    'city': ['New York', 'London', 'Paris', 'Tokyo', 'New York', 'Paris'],\n",
    "    'price': [200, 150, 300, 250, 180, 320]\n",
    "})\n",
    "df"
   ]
  },
  {
   "attachments": {
    "Screenshot%20from%202023-08-15%2016-04-07.png": {
     "image/png": "[encoded data removed]"
    }
   },
   "cell_type": "markdown",
   "id": "50f893b7",
   "metadata": {},
   "source": [
    "# Q3. Define covariance and explain why it is important in statistical analysis. How is covariance calculated?\n",
    "**Covariance**\n",
    "It indicate the relationship of two veriables. If an increase in one variable results ni increase in another, both variables are said to have a positive covariance. If increase in one vaeriable causes decrease in another veriable the such relationship have a negative covariance.\n",
    "\n",
    "Covariance is important in statistical analysis for several reasons:\n",
    "- **Relationship Assessment:** Covariance helps determine whether two variables are positively, negatively, or not correlated at all. This information is crucial for understanding how changes in one variable might be associated with changes in another, and whether there's a predictable pattern.\n",
    "\n",
    "- **Dimensionality Reduction:** In multivariate analysis, understanding covariance can help identify variables that are strongly related. This information can be used to reduce the dimensionality of the dataset by retaining only the most informative variables.\n",
    "\n",
    "- **Portfolio Management:** In finance, covariance is used to understand how the returns of different assets in a portfolio move together. Low covariance between assets can help diversify risk.\n",
    "\n",
    "- **Feature Selection:** In machine learning, covariance can assist in feature selection by identifying features that have a strong relationship with the target variable, which can lead to more effective models.\n",
    "\n",
    "\n",
    "![Screenshot%20from%202023-08-15%2016-04-07.png](attachment:Screenshot%20from%202023-08-15%2016-04-07.png)"
   ]
  },
  {
   "cell_type": "markdown",
   "id": "7f0aece1",
   "metadata": {},
   "source": [
    "# Q4. For a dataset with the following categorical variables: Color (red, green, blue), Size (small, medium, large), and Material (wood, metal, plastic), perform label encoding using Python's scikit-learn library. Show your code and explain the output."
   ]
  },
  {
   "cell_type": "code",
   "execution_count": 24,
   "id": "4dcef5a6",
   "metadata": {},
   "outputs": [
    {
     "name": "stderr",
     "output_type": "stream",
     "text": [
      "/home/asit/.local/lib/python3.10/site-packages/sklearn/preprocessing/_label.py:114: DataConversionWarning: A column-vector y was passed when a 1d array was expected. Please change the shape of y to (n_samples, ), for example using ravel().\n",
      "  y = column_or_1d(y, warn=True)\n",
      "/home/asit/.local/lib/python3.10/site-packages/sklearn/preprocessing/_label.py:114: DataConversionWarning: A column-vector y was passed when a 1d array was expected. Please change the shape of y to (n_samples, ), for example using ravel().\n",
      "  y = column_or_1d(y, warn=True)\n",
      "/home/asit/.local/lib/python3.10/site-packages/sklearn/preprocessing/_label.py:114: DataConversionWarning: A column-vector y was passed when a 1d array was expected. Please change the shape of y to (n_samples, ), for example using ravel().\n",
      "  y = column_or_1d(y, warn=True)\n"
     ]
    },
    {
     "data": {
      "text/html": [
       "<div>\n",
       "<style scoped>\n",
       "    .dataframe tbody tr th:only-of-type {\n",
       "        vertical-align: middle;\n",
       "    }\n",
       "\n",
       "    .dataframe tbody tr th {\n",
       "        vertical-align: top;\n",
       "    }\n",
       "\n",
       "    .dataframe thead th {\n",
       "        text-align: right;\n",
       "    }\n",
       "</style>\n",
       "<table border=\"1\" class=\"dataframe\">\n",
       "  <thead>\n",
       "    <tr style=\"text-align: right;\">\n",
       "      <th></th>\n",
       "      <th>Color</th>\n",
       "      <th>Size</th>\n",
       "      <th>Material</th>\n",
       "      <th>Color_encoded</th>\n",
       "      <th>Size_encoded</th>\n",
       "      <th>Material_encoded</th>\n",
       "    </tr>\n",
       "  </thead>\n",
       "  <tbody>\n",
       "    <tr>\n",
       "      <th>0</th>\n",
       "      <td>red</td>\n",
       "      <td>small</td>\n",
       "      <td>wood</td>\n",
       "      <td>2</td>\n",
       "      <td>2</td>\n",
       "      <td>2</td>\n",
       "    </tr>\n",
       "    <tr>\n",
       "      <th>1</th>\n",
       "      <td>green</td>\n",
       "      <td>medium</td>\n",
       "      <td>metal</td>\n",
       "      <td>1</td>\n",
       "      <td>1</td>\n",
       "      <td>0</td>\n",
       "    </tr>\n",
       "    <tr>\n",
       "      <th>2</th>\n",
       "      <td>blue</td>\n",
       "      <td>large</td>\n",
       "      <td>plastic</td>\n",
       "      <td>0</td>\n",
       "      <td>0</td>\n",
       "      <td>1</td>\n",
       "    </tr>\n",
       "    <tr>\n",
       "      <th>3</th>\n",
       "      <td>green</td>\n",
       "      <td>small</td>\n",
       "      <td>metal</td>\n",
       "      <td>1</td>\n",
       "      <td>2</td>\n",
       "      <td>0</td>\n",
       "    </tr>\n",
       "    <tr>\n",
       "      <th>4</th>\n",
       "      <td>red</td>\n",
       "      <td>medium</td>\n",
       "      <td>wood</td>\n",
       "      <td>2</td>\n",
       "      <td>1</td>\n",
       "      <td>2</td>\n",
       "    </tr>\n",
       "  </tbody>\n",
       "</table>\n",
       "</div>"
      ],
      "text/plain": [
       "   Color    Size Material  Color_encoded  Size_encoded  Material_encoded\n",
       "0    red   small     wood              2             2                 2\n",
       "1  green  medium    metal              1             1                 0\n",
       "2   blue   large  plastic              0             0                 1\n",
       "3  green   small    metal              1             2                 0\n",
       "4    red  medium     wood              2             1                 2"
      ]
     },
     "execution_count": 24,
     "metadata": {},
     "output_type": "execute_result"
    }
   ],
   "source": [
    "import pandas as pd\n",
    "import numpy as np\n",
    "from sklearn.preprocessing import LabelEncoder\n",
    "\n",
    "# Sample data\n",
    "data = [\n",
    "    ['red', 'small', 'wood'],\n",
    "    ['green', 'medium', 'metal'],\n",
    "    ['blue', 'large', 'plastic'],\n",
    "    ['green', 'small', 'metal'],\n",
    "    ['red', 'medium', 'wood']\n",
    "]\n",
    "df = pd.DataFrame(data,columns=['Color','Size','Material'])\n",
    "\n",
    "#creating instances\n",
    "color_encoder = LabelEncoder()\n",
    "size_encoder = LabelEncoder()\n",
    "Material_encoder = LabelEncoder()\n",
    "\n",
    "#fit-transform\n",
    "encoded_color = pd.DataFrame(color_encoder.fit_transform(df[['Color']]),columns=['Color_encoded'])\n",
    "encoded_size = pd.DataFrame(color_encoder.fit_transform(df[['Size']]),columns=['Size_encoded'])\n",
    "encoded_Material = pd.DataFrame(color_encoder.fit_transform(df[['Material']]),columns=['Material_encoded'])\n",
    "encoded = pd.concat([encoded_color,encoded_size,encoded_Material],axis=1)\n",
    "\n",
    "df = pd.concat([df,encoded],axis=1)\n",
    "df"
   ]
  },
  {
   "cell_type": "code",
   "execution_count": 28,
   "id": "aa762f81",
   "metadata": {},
   "outputs": [
    {
     "data": {
      "text/html": [
       "<div>\n",
       "<style scoped>\n",
       "    .dataframe tbody tr th:only-of-type {\n",
       "        vertical-align: middle;\n",
       "    }\n",
       "\n",
       "    .dataframe tbody tr th {\n",
       "        vertical-align: top;\n",
       "    }\n",
       "\n",
       "    .dataframe thead th {\n",
       "        text-align: right;\n",
       "    }\n",
       "</style>\n",
       "<table border=\"1\" class=\"dataframe\">\n",
       "  <thead>\n",
       "    <tr style=\"text-align: right;\">\n",
       "      <th></th>\n",
       "      <th>age_data</th>\n",
       "      <th>income_data</th>\n",
       "      <th>education_data</th>\n",
       "    </tr>\n",
       "  </thead>\n",
       "  <tbody>\n",
       "    <tr>\n",
       "      <th>age_data</th>\n",
       "      <td>35.30</td>\n",
       "      <td>22250.0</td>\n",
       "      <td>4.65</td>\n",
       "    </tr>\n",
       "    <tr>\n",
       "      <th>income_data</th>\n",
       "      <td>22250.00</td>\n",
       "      <td>107500000.0</td>\n",
       "      <td>1750.00</td>\n",
       "    </tr>\n",
       "    <tr>\n",
       "      <th>education_data</th>\n",
       "      <td>4.65</td>\n",
       "      <td>1750.0</td>\n",
       "      <td>0.70</td>\n",
       "    </tr>\n",
       "  </tbody>\n",
       "</table>\n",
       "</div>"
      ],
      "text/plain": [
       "                age_data  income_data  education_data\n",
       "age_data           35.30      22250.0            4.65\n",
       "income_data     22250.00  107500000.0         1750.00\n",
       "education_data      4.65       1750.0            0.70"
      ]
     },
     "execution_count": 28,
     "metadata": {},
     "output_type": "execute_result"
    }
   ],
   "source": [
    "import numpy as np\n",
    "\n",
    "# Sample data\n",
    "age_data = [30, 25, 40, 35, 28]\n",
    "income_data = [50000, 60000, 75000, 55000, 70000]\n",
    "education_data = [3, 2, 4, 3, 2]  # Assume education level is encoded as: 1=High School, 2=Bachelor, 3=Master, 4=PhD\n",
    "\n",
    "df = pd.DataFrame({\n",
    "    'age_data': age_data,\n",
    "    'income_data': income_data,\n",
    "    'education_data': education_data\n",
    "})\n",
    "df.cov()"
   ]
  },
  {
   "cell_type": "markdown",
   "id": "f108dddc",
   "metadata": {},
   "source": [
    "# Q6. You are working on a machine learning project with a dataset containing several categorical variables, including \"Gender\" (Male/Female), \"Education Level\" (High School/Bachelor's/Master's/PhD), and \"Employment Status\" (Unemployed/Part-Time/Full-Time). Which encoding method would you use for each variable, and why?\n",
    "or the given categorical variables \"Gender,\" \"Education Level,\" and \"Employment Status,\" here's the encoding method I would recommend for each variable:\n",
    "\n",
    "1. **Gender (Binary Variable):**\n",
    "Since \"Gender\" has only two categories (\"Male\" and \"Female\"), you can use Label Encoding or a simple mapping to convert it into numerical values. You can assign 0 for \"Male\" and 1 for \"Female.\" Label Encoding is suitable here because there's no inherent order between the two genders."
   ]
  },
  {
   "cell_type": "code",
   "execution_count": 30,
   "id": "53b2af9c",
   "metadata": {},
   "outputs": [
    {
     "data": {
      "text/plain": [
       "array([1, 0, 1, 0])"
      ]
     },
     "execution_count": 30,
     "metadata": {},
     "output_type": "execute_result"
    }
   ],
   "source": [
    "from sklearn.preprocessing import LabelEncoder\n",
    "\n",
    "gender_data = ['Male', 'Female', 'Male', 'Female']\n",
    "label_encoder = LabelEncoder()\n",
    "encoded_gender = label_encoder.fit_transform(gender_data)\n",
    "encoded_gender"
   ]
  },
  {
   "cell_type": "markdown",
   "id": "e7757fb1",
   "metadata": {},
   "source": [
    "2. **Education Level (Ordinal Variable):**\n",
    "\"Education Level\" has a clear ordinal relationship (High School < Bachelor's < Master's < PhD). Therefore, you should use Ordinal Encoding to preserve the order of the categories."
   ]
  },
  {
   "cell_type": "code",
   "execution_count": 31,
   "id": "69c6376d",
   "metadata": {},
   "outputs": [
    {
     "data": {
      "text/plain": [
       "[1, 2, 3, 4, 2]"
      ]
     },
     "execution_count": 31,
     "metadata": {},
     "output_type": "execute_result"
    }
   ],
   "source": [
    "education_levels = ['High School', 'Bachelor\\'s', 'Master\\'s', 'PhD', 'Bachelor\\'s']\n",
    "ordinal_mapping = {'High School': 1, 'Bachelor\\'s': 2, 'Master\\'s': 3, 'PhD': 4}\n",
    "ordinal_encoded_education = [ordinal_mapping[level] for level in education_levels]\n",
    "ordinal_encoded_education"
   ]
  },
  {
   "cell_type": "markdown",
   "id": "1ee8fbd1",
   "metadata": {},
   "source": [
    "3. **Employment Status (Nominal Variable):**\n",
    "\"Employment Status\" does not have a clear order or ranking among categories, so you should use One-Hot Encoding (also known as dummy encoding) to create binary columns for each category. This method ensures that the model doesn't interpret any numerical relationships between the categories."
   ]
  },
  {
   "cell_type": "code",
   "execution_count": 32,
   "id": "b1b6f842",
   "metadata": {},
   "outputs": [
    {
     "data": {
      "text/html": [
       "<div>\n",
       "<style scoped>\n",
       "    .dataframe tbody tr th:only-of-type {\n",
       "        vertical-align: middle;\n",
       "    }\n",
       "\n",
       "    .dataframe tbody tr th {\n",
       "        vertical-align: top;\n",
       "    }\n",
       "\n",
       "    .dataframe thead th {\n",
       "        text-align: right;\n",
       "    }\n",
       "</style>\n",
       "<table border=\"1\" class=\"dataframe\">\n",
       "  <thead>\n",
       "    <tr style=\"text-align: right;\">\n",
       "      <th></th>\n",
       "      <th>Employment_Full-Time</th>\n",
       "      <th>Employment_Part-Time</th>\n",
       "      <th>Employment_Unemployed</th>\n",
       "    </tr>\n",
       "  </thead>\n",
       "  <tbody>\n",
       "    <tr>\n",
       "      <th>0</th>\n",
       "      <td>False</td>\n",
       "      <td>False</td>\n",
       "      <td>True</td>\n",
       "    </tr>\n",
       "    <tr>\n",
       "      <th>1</th>\n",
       "      <td>False</td>\n",
       "      <td>True</td>\n",
       "      <td>False</td>\n",
       "    </tr>\n",
       "    <tr>\n",
       "      <th>2</th>\n",
       "      <td>True</td>\n",
       "      <td>False</td>\n",
       "      <td>False</td>\n",
       "    </tr>\n",
       "    <tr>\n",
       "      <th>3</th>\n",
       "      <td>False</td>\n",
       "      <td>True</td>\n",
       "      <td>False</td>\n",
       "    </tr>\n",
       "  </tbody>\n",
       "</table>\n",
       "</div>"
      ],
      "text/plain": [
       "   Employment_Full-Time  Employment_Part-Time  Employment_Unemployed\n",
       "0                 False                 False                   True\n",
       "1                 False                  True                  False\n",
       "2                  True                 False                  False\n",
       "3                 False                  True                  False"
      ]
     },
     "execution_count": 32,
     "metadata": {},
     "output_type": "execute_result"
    }
   ],
   "source": [
    "import pandas as pd\n",
    "\n",
    "employment_data = ['Unemployed', 'Part-Time', 'Full-Time', 'Part-Time']\n",
    "employment_encoded = pd.get_dummies(employment_data, prefix='Employment')\n",
    "employment_encoded"
   ]
  },
  {
   "cell_type": "markdown",
   "id": "6ec762ab",
   "metadata": {},
   "source": [
    "# Q7. You are analyzing a dataset with two continuous variables, \"Temperature\" and \"Humidity\", and two categorical variables, \"Weather Condition\" (Sunny/Cloudy/Rainy) and \"Wind Direction\" (North/South/ East/West). Calculate the covariance between each pair of variables and interpret the results."
   ]
  },
  {
   "cell_type": "code",
   "execution_count": 40,
   "id": "f196bbfc",
   "metadata": {},
   "outputs": [
    {
     "data": {
      "text/html": [
       "<div>\n",
       "<style scoped>\n",
       "    .dataframe tbody tr th:only-of-type {\n",
       "        vertical-align: middle;\n",
       "    }\n",
       "\n",
       "    .dataframe tbody tr th {\n",
       "        vertical-align: top;\n",
       "    }\n",
       "\n",
       "    .dataframe thead th {\n",
       "        text-align: right;\n",
       "    }\n",
       "</style>\n",
       "<table border=\"1\" class=\"dataframe\">\n",
       "  <thead>\n",
       "    <tr style=\"text-align: right;\">\n",
       "      <th></th>\n",
       "      <th>temperature_data</th>\n",
       "      <th>humidity_data</th>\n",
       "      <th>wind_dir</th>\n",
       "      <th>weather_condition</th>\n",
       "    </tr>\n",
       "  </thead>\n",
       "  <tbody>\n",
       "    <tr>\n",
       "      <th>temperature_data</th>\n",
       "      <td>9.20</td>\n",
       "      <td>23.90</td>\n",
       "      <td>3.45</td>\n",
       "      <td>-0.65</td>\n",
       "    </tr>\n",
       "    <tr>\n",
       "      <th>humidity_data</th>\n",
       "      <td>23.90</td>\n",
       "      <td>64.30</td>\n",
       "      <td>9.65</td>\n",
       "      <td>-1.30</td>\n",
       "    </tr>\n",
       "    <tr>\n",
       "      <th>wind_dir</th>\n",
       "      <td>3.45</td>\n",
       "      <td>9.65</td>\n",
       "      <td>1.70</td>\n",
       "      <td>0.35</td>\n",
       "    </tr>\n",
       "    <tr>\n",
       "      <th>weather_condition</th>\n",
       "      <td>-0.65</td>\n",
       "      <td>-1.30</td>\n",
       "      <td>0.35</td>\n",
       "      <td>1.30</td>\n",
       "    </tr>\n",
       "  </tbody>\n",
       "</table>\n",
       "</div>"
      ],
      "text/plain": [
       "                   temperature_data  humidity_data  wind_dir  \\\n",
       "temperature_data               9.20          23.90      3.45   \n",
       "humidity_data                 23.90          64.30      9.65   \n",
       "wind_dir                       3.45           9.65      1.70   \n",
       "weather_condition             -0.65          -1.30      0.35   \n",
       "\n",
       "                   weather_condition  \n",
       "temperature_data               -0.65  \n",
       "humidity_data                  -1.30  \n",
       "wind_dir                        0.35  \n",
       "weather_condition               1.30  "
      ]
     },
     "execution_count": 40,
     "metadata": {},
     "output_type": "execute_result"
    }
   ],
   "source": [
    "# sample data\n",
    "temperature_data = [25, 28, 22, 30, 26]\n",
    "humidity_data = [60, 70, 55, 75, 62]\n",
    "wind_dir = ['North','South','East','West','East']\n",
    "weather_condition = ['Sunny','Rainy','Sonny','Sonny','Cloudy']\n",
    "\n",
    "df = pd.DataFrame({\n",
    "    'temperature_data':temperature_data,\n",
    "    'humidity_data':humidity_data,\n",
    "    'wind_dir':wind_dir,\n",
    "    'weather_condition':weather_condition\n",
    "})\n",
    "winddir_encod = LabelEncoder()\n",
    "weathercon_encode = LabelEncoder()\n",
    "df['wind_dir'] = pd.DataFrame(winddir_encod.fit_transform(df['wind_dir']))\n",
    "df['weather_condition'] = pd.DataFrame(weathercon_encode.fit_transform(df['weather_condition']))\n",
    "df.cov()"
   ]
  },
  {
   "cell_type": "code",
   "execution_count": null,
   "id": "7f92f40e",
   "metadata": {},
   "outputs": [],
   "source": []
  }
 ],
 "metadata": {
  "kernelspec": {
   "display_name": "Python 3 (ipykernel)",
   "language": "python",
   "name": "python3"
  },
  "language_info": {
   "codemirror_mode": {
    "name": "ipython",
    "version": 3
   },
   "file_extension": ".py",
   "mimetype": "text/x-python",
   "name": "python",
   "nbconvert_exporter": "python",
   "pygments_lexer": "ipython3",
   "version": "3.10.12"
  }
 },
 "nbformat": 4,
 "nbformat_minor": 5
}
