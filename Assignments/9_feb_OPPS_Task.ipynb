{
 "cells": [
  {
   "cell_type": "code",
   "execution_count": 7,
   "id": "5a7bf01e",
   "metadata": {},
   "outputs": [],
   "source": [
    "\"\"\"\n",
    "Q1, Create a vehicle class with an init method having instance variables as name_of_vehicle, max_speed\n",
    "and average_of_vehicle.\n",
    "\"\"\"\n",
    "class vehicle:\n",
    "    def __init__(self,name_of_vehicle,max_speed,average_of_vehicle):\n",
    "        self.name_of_vehicle = name_of_vehicle\n",
    "        self.max_speed = max_speed\n",
    "        self.average_of_vehicle = average_of_vehicle\n",
    "        selg._price = 0"
   ]
  },
  {
   "cell_type": "code",
   "execution_count": 8,
   "id": "6d11962c",
   "metadata": {},
   "outputs": [],
   "source": [
    "obj_vehicle = vehicle(\"Buggati\",400,12)"
   ]
  },
  {
   "cell_type": "code",
   "execution_count": 9,
   "id": "b5413b7c",
   "metadata": {},
   "outputs": [
    {
     "data": {
      "text/plain": [
       "'Buggati'"
      ]
     },
     "execution_count": 9,
     "metadata": {},
     "output_type": "execute_result"
    }
   ],
   "source": [
    "obj_vehicle.name_of_vehicle"
   ]
  },
  {
   "cell_type": "code",
   "execution_count": null,
   "id": "ca0b76fd",
   "metadata": {},
   "outputs": [],
   "source": []
  },
  {
   "cell_type": "code",
   "execution_count": 10,
   "id": "f369c008",
   "metadata": {},
   "outputs": [],
   "source": [
    "\"\"\"\n",
    "Q2. Create a child class car from the vehicle class created in Que 1, which will inherit the vehicle class.\n",
    "Create a method named seating_capacity which takes capacity as an argument and returns the name of\n",
    "the vehicle and its seating capacity.\n",
    "\"\"\"\n",
    "class Car(vehicle):\n",
    "    def seating_capacity(self,capacity):\n",
    "        return f\"name of vehicle: {self.name_of_vehicle}, it's capacity is: {capacity}\""
   ]
  },
  {
   "cell_type": "code",
   "execution_count": 19,
   "id": "1bf3ff9d",
   "metadata": {},
   "outputs": [
    {
     "data": {
      "text/plain": [
       "\"name of vehicle: Bugatti, it's capacity is: 2\""
      ]
     },
     "execution_count": 19,
     "metadata": {},
     "output_type": "execute_result"
    }
   ],
   "source": [
    "Car(\"Bugatti\",100,12).seating_capacity(2)"
   ]
  },
  {
   "cell_type": "code",
   "execution_count": null,
   "id": "0fd4e46d",
   "metadata": {},
   "outputs": [],
   "source": []
  },
  {
   "cell_type": "code",
   "execution_count": 24,
   "id": "fbd5a5d4",
   "metadata": {},
   "outputs": [
    {
     "name": "stdout",
     "output_type": "stream",
     "text": [
      "this is my class 1\n",
      "this is my class 2\n"
     ]
    }
   ],
   "source": [
    "\"\"\"\n",
    "Q3. What is multiple inheritance? Write a python code to demonstrate multiple inheritance.\n",
    "\"\"\"\n",
    "\"\"\"\n",
    "ans:\n",
    "if a child class inherits from more than one class, i.e. this child class is \n",
    "derived from multiple classes, we call it multiple inheritance in Python.\n",
    "\"\"\"\n",
    "class class1:\n",
    "    def test_class1(self) : \n",
    "        print(\"this is my class 1\" )\n",
    "        \n",
    "class class2 :\n",
    "    def test_class2(self) : \n",
    "        print(\"this is my class 2\")\n",
    "        \n",
    "class class3 (class1 , class2) : #here Class 3 is performing multiple inheritance\n",
    "    pass\n",
    "\n",
    "obj = class3()\n",
    "obj.test_class1()\n",
    "obj.test_class2()"
   ]
  },
  {
   "cell_type": "code",
   "execution_count": null,
   "id": "e0210903",
   "metadata": {},
   "outputs": [],
   "source": []
  },
  {
   "cell_type": "code",
   "execution_count": 46,
   "id": "44d8a409",
   "metadata": {},
   "outputs": [
    {
     "name": "stdout",
     "output_type": "stream",
     "text": [
      "getter method is called\n",
      "setter method is called\n",
      "getter method is called\n"
     ]
    },
    {
     "data": {
      "text/plain": [
       "4000000"
      ]
     },
     "execution_count": 46,
     "metadata": {},
     "output_type": "execute_result"
    }
   ],
   "source": [
    "\"\"\"\n",
    "Q4. What are getter and setter in python? Create a class and create a getter and a setter method in this\n",
    "class.\n",
    "\"\"\"\n",
    "\"\"\"\n",
    "ans:\n",
    "the main purpose of using getters and setters in object-oriented programs is to \n",
    "ensure data encapsulation\n",
    "\n",
    "Getters and Setters in python are often used when:\n",
    "    We use getters & setters to add validation logic around getting and setting \n",
    "    a value.\n",
    "    \n",
    "    To avoid direct access of a class field i.e. private variables cannot be \n",
    "    accessed directly or modified by external user.\n",
    "\"\"\"\n",
    "class vehicle:\n",
    "    def __init__(self,name_of_vehicle,max_speed,average_of_vehicle):\n",
    "        self.name_of_vehicle = name_of_vehicle\n",
    "        self.max_speed = max_speed\n",
    "        self.average_of_vehicle = average_of_vehicle\n",
    "        self._price = 0\n",
    "    def set_price(self,a):\n",
    "        print(\"setter method is called\")\n",
    "        self._price=a\n",
    "    def get_price(self):\n",
    "        print(\"getter method is called\")\n",
    "        return self._price\n",
    "    def del_price(self):\n",
    "         del self._price\n",
    "obj = vehicle(\"Buggati\",400,12)\n",
    "obj.get_price()\n",
    "obj.set_price(4000000)\n",
    "obj.get_price()"
   ]
  },
  {
   "cell_type": "code",
   "execution_count": 48,
   "id": "a0c506b8",
   "metadata": {},
   "outputs": [],
   "source": [
    "obj.del_price()"
   ]
  },
  {
   "cell_type": "code",
   "execution_count": 49,
   "id": "b557f36a",
   "metadata": {},
   "outputs": [
    {
     "name": "stdout",
     "output_type": "stream",
     "text": [
      "getter method is called\n"
     ]
    },
    {
     "ename": "AttributeError",
     "evalue": "'vehicle' object has no attribute '_price'",
     "output_type": "error",
     "traceback": [
      "\u001b[1;31m---------------------------------------------------------------------------\u001b[0m",
      "\u001b[1;31mAttributeError\u001b[0m                            Traceback (most recent call last)",
      "\u001b[1;32m~\\AppData\\Local\\Temp\\ipykernel_23716\\3049289158.py\u001b[0m in \u001b[0;36m<module>\u001b[1;34m\u001b[0m\n\u001b[1;32m----> 1\u001b[1;33m \u001b[0mobj\u001b[0m\u001b[1;33m.\u001b[0m\u001b[0mget_price\u001b[0m\u001b[1;33m(\u001b[0m\u001b[1;33m)\u001b[0m\u001b[1;33m\u001b[0m\u001b[1;33m\u001b[0m\u001b[0m\n\u001b[0m",
      "\u001b[1;32m~\\AppData\\Local\\Temp\\ipykernel_23716\\2205131080.py\u001b[0m in \u001b[0;36mget_price\u001b[1;34m(self)\u001b[0m\n\u001b[0;32m     26\u001b[0m     \u001b[1;32mdef\u001b[0m \u001b[0mget_price\u001b[0m\u001b[1;33m(\u001b[0m\u001b[0mself\u001b[0m\u001b[1;33m)\u001b[0m\u001b[1;33m:\u001b[0m\u001b[1;33m\u001b[0m\u001b[1;33m\u001b[0m\u001b[0m\n\u001b[0;32m     27\u001b[0m         \u001b[0mprint\u001b[0m\u001b[1;33m(\u001b[0m\u001b[1;34m\"getter method is called\"\u001b[0m\u001b[1;33m)\u001b[0m\u001b[1;33m\u001b[0m\u001b[1;33m\u001b[0m\u001b[0m\n\u001b[1;32m---> 28\u001b[1;33m         \u001b[1;32mreturn\u001b[0m \u001b[0mself\u001b[0m\u001b[1;33m.\u001b[0m\u001b[0m_price\u001b[0m\u001b[1;33m\u001b[0m\u001b[1;33m\u001b[0m\u001b[0m\n\u001b[0m\u001b[0;32m     29\u001b[0m     \u001b[1;32mdef\u001b[0m \u001b[0mdel_price\u001b[0m\u001b[1;33m(\u001b[0m\u001b[0mself\u001b[0m\u001b[1;33m)\u001b[0m\u001b[1;33m:\u001b[0m\u001b[1;33m\u001b[0m\u001b[1;33m\u001b[0m\u001b[0m\n\u001b[0;32m     30\u001b[0m          \u001b[1;32mdel\u001b[0m \u001b[0mself\u001b[0m\u001b[1;33m.\u001b[0m\u001b[0m_price\u001b[0m\u001b[1;33m\u001b[0m\u001b[1;33m\u001b[0m\u001b[0m\n",
      "\u001b[1;31mAttributeError\u001b[0m: 'vehicle' object has no attribute '_price'"
     ]
    }
   ],
   "source": [
    "obj.get_price()"
   ]
  },
  {
   "cell_type": "code",
   "execution_count": 50,
   "id": "6fb6f382",
   "metadata": {},
   "outputs": [
    {
     "name": "stdout",
     "output_type": "stream",
     "text": [
      "setter method is called\n",
      "getter method is called\n"
     ]
    },
    {
     "data": {
      "text/plain": [
       "45000000"
      ]
     },
     "execution_count": 50,
     "metadata": {},
     "output_type": "execute_result"
    }
   ],
   "source": [
    "obj.set_price(45000000)\n",
    "obj.get_price()"
   ]
  },
  {
   "cell_type": "code",
   "execution_count": null,
   "id": "4ddf5cab",
   "metadata": {},
   "outputs": [],
   "source": []
  },
  {
   "cell_type": "code",
   "execution_count": 53,
   "id": "94f1fda6",
   "metadata": {},
   "outputs": [
    {
     "name": "stdout",
     "output_type": "stream",
     "text": [
      "Inside child class\n",
      "inside Parent 2\n"
     ]
    }
   ],
   "source": [
    "\"\"\"\n",
    "Q5.What is method overriding in python? Write a python code to demonstrate \n",
    "method overriding.\n",
    "\"\"\"\n",
    "\"\"\"\n",
    "Method overriding is an ability of any object-oriented programming language \n",
    "that allows a subclass or child class to provide a specific implementation of a \n",
    "method that is already provided by one of its super-classes or parent classes. \n",
    "When a method in a subclass has the same name, same parameters or signature and\n",
    "same return type(or sub-type) as a method in its super-class, then the method \n",
    "in the subclass is said to override the method in the super-class.\n",
    "\"\"\"\n",
    "class parent1():\n",
    "    def __init__(self):\n",
    "        self.value = \"inside parent 1\"\n",
    "    \n",
    "    def show(self):\n",
    "        print(self.value)\n",
    "class Parent():\n",
    "    def display(self):\n",
    "        print(\"inside Parent 2\")\n",
    "class child(parent1,Parent):\n",
    "    def __init__(self):\n",
    "        self.value = \"Inside child class\"\n",
    "    def show(self):\n",
    "        print(self.value)\n",
    "        \n",
    "obj =child()\n",
    "obj.show()\n",
    "obj.display()"
   ]
  },
  {
   "cell_type": "code",
   "execution_count": null,
   "id": "0e67830b",
   "metadata": {},
   "outputs": [],
   "source": []
  },
  {
   "cell_type": "code",
   "execution_count": null,
   "id": "05beb3e5",
   "metadata": {},
   "outputs": [],
   "source": []
  }
 ],
 "metadata": {
  "kernelspec": {
   "display_name": "Python 3 (ipykernel)",
   "language": "python",
   "name": "python3"
  },
  "language_info": {
   "codemirror_mode": {
    "name": "ipython",
    "version": 3
   },
   "file_extension": ".py",
   "mimetype": "text/x-python",
   "name": "python",
   "nbconvert_exporter": "python",
   "pygments_lexer": "ipython3",
   "version": "3.9.13"
  }
 },
 "nbformat": 4,
 "nbformat_minor": 5
}
