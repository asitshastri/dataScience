{
 "cells": [
  {
   "cell_type": "markdown",
   "id": "bb4e8c44",
   "metadata": {},
   "source": [
    "### Q1. What is Web Scraping? Why is it Used? Give three areas where Web Scraping is used to get data.\n",
    "ans:<br>\n",
    "Web scraping is the process of collecting structured web data in an automated manner. It's also widely known as web data extraction or web data scraping. Some of the main use cases of web scraping include price monitoring, price intelligence, news monitoring, lead generation, and market research among many others"
   ]
  },
  {
   "cell_type": "markdown",
   "id": "73147deb",
   "metadata": {},
   "source": [
    "### Q2. What are the different methods used for Web Scraping?\n",
    "ans:<br>\n",
    "- flask- FLask, render_tempelate, request\n",
    "- requests\n",
    "- bs4- BeautifulSoup\n",
    "- urllib.request- urlopen<br>\n",
    "these are some of the modules required for web scrapping"
   ]
  },
  {
   "cell_type": "markdown",
   "id": "cc4b6cda",
   "metadata": {},
   "source": [
    "### Q3. What is Beautiful Soup? Why is it used?\n",
    "ans:<br>\n",
    "Beautiful Soup is a Python library that makes it easy to scrape information from web pages. It sits atop an HTML or XML parser and provides Pythonic idioms for iterating, searching, and modifying the parse tree.\n",
    "<br>\n",
    "<br>\n",
    "**Uses of Beautiful Soup**\n",
    "The Beautiful Soup library helps with isolating titles and links from webpages. It can extract all of the text from ​HTML tags, and alter the HTML in the document with which we’re working.<br>\n",
    "**Used for:**<br>\n",
    "    - Extracting Data<br>\n",
    "    - Filtering Value<br>\n",
    "    - Navigating Data<br>\n",
    "<br>\n",
    "<br>\n",
    "**Features of Beautiful Soup**<br>\n",
    "Some key features that make beautiful soup unique are:\n",
    "<br>\n",
    "- Beautiful Soup provides a few simple methods and Pythonic idioms for navigating, searching, and modifying a parse tree.\n",
    "- Beautiful Soup automatically converts incoming documents to Unicode and outgoing documents to UTF-8.\n",
    "- eautiful Soup sits on top of popular Python parsers like lxml and html5lib, which allows​ us to try out different parsing strategies or trade speed for flexibility.\n"
   ]
  },
  {
   "cell_type": "markdown",
   "id": "bc2a796d",
   "metadata": {},
   "source": [
    "### Q4. Why is flask used in this Web Scraping project?\n"
   ]
  }
 ],
 "metadata": {
  "kernelspec": {
   "display_name": "Python 3 (ipykernel)",
   "language": "python",
   "name": "python3"
  },
  "language_info": {
   "codemirror_mode": {
    "name": "ipython",
    "version": 3
   },
   "file_extension": ".py",
   "mimetype": "text/x-python",
   "name": "python",
   "nbconvert_exporter": "python",
   "pygments_lexer": "ipython3",
   "version": "3.11.2"
  }
 },
 "nbformat": 4,
 "nbformat_minor": 5
}
