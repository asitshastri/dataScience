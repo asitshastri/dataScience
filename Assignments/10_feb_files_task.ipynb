{
 "cells": [
  {
   "cell_type": "raw",
   "id": "9d874934",
   "metadata": {},
   "source": [
    "\"\"\"\n",
    "Q1. Which function is used to open a file? What are the different modes of \n",
    "opening a file? Explain each mode of file opening.\n",
    "\"\"\"\n",
    "ans: Open() function is used to open a file\n",
    "different modes for readuing a file:\n",
    "\"r\"- Open a file for reading\n",
    "\"w\"- Open a file for writing. Creates a new file if it does not exist or turncates the file if it exists\n",
    "\"x\"- Open a file for exclusive creation.if the file already exist the operation fails\n",
    "\"a\"- Oen a file for appending at the end of the file without turncating it. Creates anew file if it does not exist\n",
    "\"t\"- Open in text mode\n",
    "\"b\"- open in binary mode\n",
    "\"+\"- open a file for updating(reading or writing)"
   ]
  },
  {
   "cell_type": "raw",
   "id": "4904c7f4",
   "metadata": {},
   "source": [
    "Q2. Why close() function is used? Why is it important to close a file?\n",
    "ans:\n",
    "Close() function is used to close a file once Opened. It is advisable to close a file once opened because when the file is open the cursor moves to the end of the line, So any further reading attempt will show no content."
   ]
  },
  {
   "cell_type": "code",
   "execution_count": 80,
   "id": "5884c9e2",
   "metadata": {},
   "outputs": [],
   "source": [
    "\"\"\"\n",
    "Q3. Write a python program to create a text file. Write ‘I want to become a \n",
    "Data Scientist’ in that file. Then close the file. Open this file and read the content of the file.\n",
    "\"\"\"\n",
    "f = open(\"text1.txt\",\"w\")\n",
    "f.write(\"I want to become a Data-Scientist\")\n",
    "f.close()"
   ]
  },
  {
   "cell_type": "code",
   "execution_count": 81,
   "id": "95ec1fa3",
   "metadata": {},
   "outputs": [
    {
     "data": {
      "text/plain": [
       "'I want to become a Data-Scientist'"
      ]
     },
     "execution_count": 81,
     "metadata": {},
     "output_type": "execute_result"
    }
   ],
   "source": [
    "f= open(\"text1.txt\",\"r\")\n",
    "f.read()"
   ]
  },
  {
   "cell_type": "code",
   "execution_count": null,
   "id": "82d20e21",
   "metadata": {},
   "outputs": [],
   "source": []
  },
  {
   "cell_type": "raw",
   "id": "1e398abc",
   "metadata": {},
   "source": [
    "\"\"\"\n",
    "Q4. Explain the following with python code: read(), readline() and readlines().\n",
    "\"\"\"\n",
    "ans:\n",
    "read(): it is a read function used to read the contents in the file\n",
    "readline(): to to read a line form the paragraph inside the file.\n",
    "readlines(): prints every line in the file\n",
    "    "
   ]
  },
  {
   "cell_type": "code",
   "execution_count": null,
   "id": "e4d01a94",
   "metadata": {},
   "outputs": [],
   "source": []
  },
  {
   "cell_type": "raw",
   "id": "dd53e302",
   "metadata": {},
   "source": [
    "Q5. Explain why with statement is used with open(). What is the advantage of using with statement and open() together?\n",
    "ans:\n",
    "The with statement works with the open() function to open a file. Unlike open() where you have to close the file with the close() method, the with statement closes the file for you without you telling it to. This is because the with statement calls 2 built-in methods behind the scene – __enter()__ and __exit()__"
   ]
  },
  {
   "cell_type": "code",
   "execution_count": null,
   "id": "412a11e2",
   "metadata": {},
   "outputs": [],
   "source": []
  },
  {
   "cell_type": "code",
   "execution_count": 94,
   "id": "1a441445",
   "metadata": {},
   "outputs": [],
   "source": [
    "\"\"\"\n",
    "Q6. Explain the write() and writelines() functions. Give a suitable example.\n",
    "\"\"\"\n",
    "\"\"\"\n",
    "ans:\n",
    "The write() function: will write the content in the file without adding any extra characters.\n",
    "where as\n",
    "writelines() function: This function writes the content of a list to a file.\n",
    "\"\"\"\n",
    "#write function\n",
    "with open(\"writeFun.txt\",\"w\") as f:\n",
    "    f.write(\" aist\\n shastri\\n this\\n is\\n written\\n with\\n write\\n function\\n \")"
   ]
  },
  {
   "cell_type": "code",
   "execution_count": 95,
   "id": "aae224c4",
   "metadata": {},
   "outputs": [
    {
     "name": "stdout",
     "output_type": "stream",
     "text": [
      " aist\n",
      " shastri\n",
      " this\n",
      " is\n",
      " written\n",
      " with\n",
      " write\n",
      " function\n",
      " \n"
     ]
    }
   ],
   "source": [
    "with open(\"writeFun.txt\",\"r\") as f:\n",
    "    print(f.read())"
   ]
  },
  {
   "cell_type": "code",
   "execution_count": 102,
   "id": "6ca9e58d",
   "metadata": {},
   "outputs": [
    {
     "name": "stdout",
     "output_type": "stream",
     "text": [
      "Enter the name of the employee: asit\n",
      "Enter the name of the employee: this \n",
      "Enter the name of the employee: is\n",
      "Data is written into the file.\n"
     ]
    }
   ],
   "source": [
    "#writeline() function\n",
    "\n",
    "file1 = open(\"Employees.txt\", \"w\")\n",
    "lst = []\n",
    "for i in range(3):\n",
    "    name = input(\"Enter the name of the employee: \")\n",
    "    lst.append(name + '\\n')\n",
    "      \n",
    "file1.writelines(lst)\n",
    "file1.close()\n",
    "print(\"Data is written into the file.\") "
   ]
  },
  {
   "cell_type": "code",
   "execution_count": null,
   "id": "fee22a9c",
   "metadata": {},
   "outputs": [],
   "source": []
  }
 ],
 "metadata": {
  "kernelspec": {
   "display_name": "Python 3 (ipykernel)",
   "language": "python",
   "name": "python3"
  },
  "language_info": {
   "codemirror_mode": {
    "name": "ipython",
    "version": 3
   },
   "file_extension": ".py",
   "mimetype": "text/x-python",
   "name": "python",
   "nbconvert_exporter": "python",
   "pygments_lexer": "ipython3",
   "version": "3.9.13"
  }
 },
 "nbformat": 4,
 "nbformat_minor": 5
}
