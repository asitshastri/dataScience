{
 "cells": [
  {
   "cell_type": "markdown",
   "id": "df8352dd",
   "metadata": {},
   "source": [
    "# <a href=\"Resources/pdf/4_Regression_2_Logistic_Regression_230827_183517.pdf\">Logistic Regression</a>"
   ]
  },
  {
   "cell_type": "markdown",
   "id": "b7f0ff9d",
   "metadata": {},
   "source": [
    "# 1. Linear Regression Implementation(Binary Classfication )\n",
    "### Multiclass Classification on 7th topic"
   ]
  },
  {
   "cell_type": "code",
   "execution_count": 1,
   "id": "aaa07cee",
   "metadata": {},
   "outputs": [
    {
     "name": "stdout",
     "output_type": "stream",
     "text": [
      ".. _iris_dataset:\n",
      "\n",
      "Iris plants dataset\n",
      "--------------------\n",
      "\n",
      "**Data Set Characteristics:**\n",
      "\n",
      "    :Number of Instances: 150 (50 in each of three classes)\n",
      "    :Number of Attributes: 4 numeric, predictive attributes and the class\n",
      "    :Attribute Information:\n",
      "        - sepal length in cm\n",
      "        - sepal width in cm\n",
      "        - petal length in cm\n",
      "        - petal width in cm\n",
      "        - class:\n",
      "                - Iris-Setosa\n",
      "                - Iris-Versicolour\n",
      "                - Iris-Virginica\n",
      "                \n",
      "    :Summary Statistics:\n",
      "\n",
      "    ============== ==== ==== ======= ===== ====================\n",
      "                    Min  Max   Mean    SD   Class Correlation\n",
      "    ============== ==== ==== ======= ===== ====================\n",
      "    sepal length:   4.3  7.9   5.84   0.83    0.7826\n",
      "    sepal width:    2.0  4.4   3.05   0.43   -0.4194\n",
      "    petal length:   1.0  6.9   3.76   1.76    0.9490  (high!)\n",
      "    petal width:    0.1  2.5   1.20   0.76    0.9565  (high!)\n",
      "    ============== ==== ==== ======= ===== ====================\n",
      "\n",
      "    :Missing Attribute Values: None\n",
      "    :Class Distribution: 33.3% for each of 3 classes.\n",
      "    :Creator: R.A. Fisher\n",
      "    :Donor: Michael Marshall (MARSHALL%PLU@io.arc.nasa.gov)\n",
      "    :Date: July, 1988\n",
      "\n",
      "The famous Iris database, first used by Sir R.A. Fisher. The dataset is taken\n",
      "from Fisher's paper. Note that it's the same as in R, but not as in the UCI\n",
      "Machine Learning Repository, which has two wrong data points.\n",
      "\n",
      "This is perhaps the best known database to be found in the\n",
      "pattern recognition literature.  Fisher's paper is a classic in the field and\n",
      "is referenced frequently to this day.  (See Duda & Hart, for example.)  The\n",
      "data set contains 3 classes of 50 instances each, where each class refers to a\n",
      "type of iris plant.  One class is linearly separable from the other 2; the\n",
      "latter are NOT linearly separable from each other.\n",
      "\n",
      ".. topic:: References\n",
      "\n",
      "   - Fisher, R.A. \"The use of multiple measurements in taxonomic problems\"\n",
      "     Annual Eugenics, 7, Part II, 179-188 (1936); also in \"Contributions to\n",
      "     Mathematical Statistics\" (John Wiley, NY, 1950).\n",
      "   - Duda, R.O., & Hart, P.E. (1973) Pattern Classification and Scene Analysis.\n",
      "     (Q327.D83) John Wiley & Sons.  ISBN 0-471-22361-1.  See page 218.\n",
      "   - Dasarathy, B.V. (1980) \"Nosing Around the Neighborhood: A New System\n",
      "     Structure and Classification Rule for Recognition in Partially Exposed\n",
      "     Environments\".  IEEE Transactions on Pattern Analysis and Machine\n",
      "     Intelligence, Vol. PAMI-2, No. 1, 67-71.\n",
      "   - Gates, G.W. (1972) \"The Reduced Nearest Neighbor Rule\".  IEEE Transactions\n",
      "     on Information Theory, May 1972, 431-433.\n",
      "   - See also: 1988 MLC Proceedings, 54-64.  Cheeseman et al\"s AUTOCLASS II\n",
      "     conceptual clustering system finds 3 classes in the data.\n",
      "   - Many, many more ...\n"
     ]
    }
   ],
   "source": [
    "#loading iris dataset.\n",
    "#its a good dataset for classification problems\n",
    "\n",
    "from sklearn.datasets import load_iris\n",
    "dataset = load_iris()\n",
    "print(dataset.DESCR)"
   ]
  },
  {
   "cell_type": "code",
   "execution_count": 2,
   "id": "a49db488",
   "metadata": {},
   "outputs": [
    {
     "data": {
      "text/plain": [
       "dict_keys(['data', 'target', 'frame', 'target_names', 'DESCR', 'feature_names', 'filename', 'data_module'])"
      ]
     },
     "execution_count": 2,
     "metadata": {},
     "output_type": "execute_result"
    }
   ],
   "source": [
    "dataset.keys()"
   ]
  },
  {
   "cell_type": "code",
   "execution_count": 3,
   "id": "52d040e6",
   "metadata": {},
   "outputs": [],
   "source": [
    "import pandas as pd\n",
    "import numpy as np"
   ]
  },
  {
   "cell_type": "code",
   "execution_count": 11,
   "id": "ab79bca9",
   "metadata": {},
   "outputs": [
    {
     "data": {
      "text/html": [
       "<div>\n",
       "<style scoped>\n",
       "    .dataframe tbody tr th:only-of-type {\n",
       "        vertical-align: middle;\n",
       "    }\n",
       "\n",
       "    .dataframe tbody tr th {\n",
       "        vertical-align: top;\n",
       "    }\n",
       "\n",
       "    .dataframe thead th {\n",
       "        text-align: right;\n",
       "    }\n",
       "</style>\n",
       "<table border=\"1\" class=\"dataframe\">\n",
       "  <thead>\n",
       "    <tr style=\"text-align: right;\">\n",
       "      <th></th>\n",
       "      <th>sepal length (cm)</th>\n",
       "      <th>sepal width (cm)</th>\n",
       "      <th>petal length (cm)</th>\n",
       "      <th>petal width (cm)</th>\n",
       "    </tr>\n",
       "  </thead>\n",
       "  <tbody>\n",
       "    <tr>\n",
       "      <th>0</th>\n",
       "      <td>5.1</td>\n",
       "      <td>3.5</td>\n",
       "      <td>1.4</td>\n",
       "      <td>0.2</td>\n",
       "    </tr>\n",
       "    <tr>\n",
       "      <th>1</th>\n",
       "      <td>4.9</td>\n",
       "      <td>3.0</td>\n",
       "      <td>1.4</td>\n",
       "      <td>0.2</td>\n",
       "    </tr>\n",
       "    <tr>\n",
       "      <th>2</th>\n",
       "      <td>4.7</td>\n",
       "      <td>3.2</td>\n",
       "      <td>1.3</td>\n",
       "      <td>0.2</td>\n",
       "    </tr>\n",
       "    <tr>\n",
       "      <th>3</th>\n",
       "      <td>4.6</td>\n",
       "      <td>3.1</td>\n",
       "      <td>1.5</td>\n",
       "      <td>0.2</td>\n",
       "    </tr>\n",
       "    <tr>\n",
       "      <th>4</th>\n",
       "      <td>5.0</td>\n",
       "      <td>3.6</td>\n",
       "      <td>1.4</td>\n",
       "      <td>0.2</td>\n",
       "    </tr>\n",
       "  </tbody>\n",
       "</table>\n",
       "</div>"
      ],
      "text/plain": [
       "   sepal length (cm)  sepal width (cm)  petal length (cm)  petal width (cm)\n",
       "0                5.1               3.5                1.4               0.2\n",
       "1                4.9               3.0                1.4               0.2\n",
       "2                4.7               3.2                1.3               0.2\n",
       "3                4.6               3.1                1.5               0.2\n",
       "4                5.0               3.6                1.4               0.2"
      ]
     },
     "execution_count": 11,
     "metadata": {},
     "output_type": "execute_result"
    }
   ],
   "source": [
    "df = pd.DataFrame(dataset.data,columns=dataset.feature_names)\n",
    "df.head()"
   ]
  },
  {
   "cell_type": "code",
   "execution_count": 15,
   "id": "62aa106c",
   "metadata": {},
   "outputs": [
    {
     "data": {
      "text/html": [
       "<div>\n",
       "<style scoped>\n",
       "    .dataframe tbody tr th:only-of-type {\n",
       "        vertical-align: middle;\n",
       "    }\n",
       "\n",
       "    .dataframe tbody tr th {\n",
       "        vertical-align: top;\n",
       "    }\n",
       "\n",
       "    .dataframe thead th {\n",
       "        text-align: right;\n",
       "    }\n",
       "</style>\n",
       "<table border=\"1\" class=\"dataframe\">\n",
       "  <thead>\n",
       "    <tr style=\"text-align: right;\">\n",
       "      <th></th>\n",
       "      <th>sepal length (cm)</th>\n",
       "      <th>sepal width (cm)</th>\n",
       "      <th>petal length (cm)</th>\n",
       "      <th>petal width (cm)</th>\n",
       "      <th>target</th>\n",
       "    </tr>\n",
       "  </thead>\n",
       "  <tbody>\n",
       "    <tr>\n",
       "      <th>0</th>\n",
       "      <td>5.1</td>\n",
       "      <td>3.5</td>\n",
       "      <td>1.4</td>\n",
       "      <td>0.2</td>\n",
       "      <td>0</td>\n",
       "    </tr>\n",
       "    <tr>\n",
       "      <th>1</th>\n",
       "      <td>4.9</td>\n",
       "      <td>3.0</td>\n",
       "      <td>1.4</td>\n",
       "      <td>0.2</td>\n",
       "      <td>0</td>\n",
       "    </tr>\n",
       "  </tbody>\n",
       "</table>\n",
       "</div>"
      ],
      "text/plain": [
       "   sepal length (cm)  sepal width (cm)  petal length (cm)  petal width (cm)  \\\n",
       "0                5.1               3.5                1.4               0.2   \n",
       "1                4.9               3.0                1.4               0.2   \n",
       "\n",
       "   target  \n",
       "0       0  \n",
       "1       0  "
      ]
     },
     "execution_count": 15,
     "metadata": {},
     "output_type": "execute_result"
    }
   ],
   "source": [
    "df['target'] = pd.DataFrame(data=dataset.target)\n",
    "df.head(2)"
   ]
  },
  {
   "cell_type": "code",
   "execution_count": 16,
   "id": "3eac9bc7",
   "metadata": {},
   "outputs": [
    {
     "data": {
      "text/plain": [
       "array([0, 1, 2])"
      ]
     },
     "execution_count": 16,
     "metadata": {},
     "output_type": "execute_result"
    }
   ],
   "source": [
    "df['target'].unique()"
   ]
  },
  {
   "cell_type": "code",
   "execution_count": 17,
   "id": "72ec9891",
   "metadata": {},
   "outputs": [
    {
     "data": {
      "text/plain": [
       "array([0, 1])"
      ]
     },
     "execution_count": 17,
     "metadata": {},
     "output_type": "execute_result"
    }
   ],
   "source": [
    "##removing every row that contains target ==2 cuz we are only trying to perform logistic regression\n",
    "df_copy = df[df['target']!=2]\n",
    "df_copy['target'].unique()"
   ]
  },
  {
   "cell_type": "code",
   "execution_count": 25,
   "id": "3509acca",
   "metadata": {},
   "outputs": [
    {
     "data": {
      "text/plain": [
       "target\n",
       "0    50\n",
       "1    50\n",
       "Name: count, dtype: int64"
      ]
     },
     "execution_count": 25,
     "metadata": {},
     "output_type": "execute_result"
    }
   ],
   "source": [
    "df_copy['target'].value_counts()"
   ]
  },
  {
   "cell_type": "markdown",
   "id": "59c42f98",
   "metadata": {},
   "source": [
    "INDEPENDENT AND DEPENDENT FEATURES"
   ]
  },
  {
   "cell_type": "code",
   "execution_count": 29,
   "id": "eab90714",
   "metadata": {},
   "outputs": [],
   "source": [
    "X = df_copy.iloc[:,:-1]\n",
    "y = df_copy.iloc[:,-1]"
   ]
  },
  {
   "cell_type": "markdown",
   "id": "a27c2b4c",
   "metadata": {},
   "source": [
    "TRAIN-TEST SPLIT"
   ]
  },
  {
   "cell_type": "code",
   "execution_count": 33,
   "id": "cafa431e",
   "metadata": {},
   "outputs": [],
   "source": [
    "from sklearn.model_selection import train_test_split\n",
    "x_train,x_test,y_train,y_test = train_test_split(X,y,test_size=0.20,random_state=42)"
   ]
  },
  {
   "cell_type": "markdown",
   "id": "599b2cdc",
   "metadata": {},
   "source": [
    "### TRAINING LOGISTIC REGRESSION MODEL"
   ]
  },
  {
   "cell_type": "code",
   "execution_count": 35,
   "id": "81121606",
   "metadata": {},
   "outputs": [],
   "source": [
    "from sklearn.linear_model import LogisticRegression"
   ]
  },
  {
   "cell_type": "code",
   "execution_count": 36,
   "id": "09bdc674",
   "metadata": {},
   "outputs": [],
   "source": [
    "classification1 = LogisticRegression()"
   ]
  },
  {
   "cell_type": "code",
   "execution_count": 37,
   "id": "10a37d0c",
   "metadata": {},
   "outputs": [
    {
     "data": {
      "text/html": [
       "<style>#sk-container-id-1 {color: black;}#sk-container-id-1 pre{padding: 0;}#sk-container-id-1 div.sk-toggleable {background-color: white;}#sk-container-id-1 label.sk-toggleable__label {cursor: pointer;display: block;width: 100%;margin-bottom: 0;padding: 0.3em;box-sizing: border-box;text-align: center;}#sk-container-id-1 label.sk-toggleable__label-arrow:before {content: \"▸\";float: left;margin-right: 0.25em;color: #696969;}#sk-container-id-1 label.sk-toggleable__label-arrow:hover:before {color: black;}#sk-container-id-1 div.sk-estimator:hover label.sk-toggleable__label-arrow:before {color: black;}#sk-container-id-1 div.sk-toggleable__content {max-height: 0;max-width: 0;overflow: hidden;text-align: left;background-color: #f0f8ff;}#sk-container-id-1 div.sk-toggleable__content pre {margin: 0.2em;color: black;border-radius: 0.25em;background-color: #f0f8ff;}#sk-container-id-1 input.sk-toggleable__control:checked~div.sk-toggleable__content {max-height: 200px;max-width: 100%;overflow: auto;}#sk-container-id-1 input.sk-toggleable__control:checked~label.sk-toggleable__label-arrow:before {content: \"▾\";}#sk-container-id-1 div.sk-estimator input.sk-toggleable__control:checked~label.sk-toggleable__label {background-color: #d4ebff;}#sk-container-id-1 div.sk-label input.sk-toggleable__control:checked~label.sk-toggleable__label {background-color: #d4ebff;}#sk-container-id-1 input.sk-hidden--visually {border: 0;clip: rect(1px 1px 1px 1px);clip: rect(1px, 1px, 1px, 1px);height: 1px;margin: -1px;overflow: hidden;padding: 0;position: absolute;width: 1px;}#sk-container-id-1 div.sk-estimator {font-family: monospace;background-color: #f0f8ff;border: 1px dotted black;border-radius: 0.25em;box-sizing: border-box;margin-bottom: 0.5em;}#sk-container-id-1 div.sk-estimator:hover {background-color: #d4ebff;}#sk-container-id-1 div.sk-parallel-item::after {content: \"\";width: 100%;border-bottom: 1px solid gray;flex-grow: 1;}#sk-container-id-1 div.sk-label:hover label.sk-toggleable__label {background-color: #d4ebff;}#sk-container-id-1 div.sk-serial::before {content: \"\";position: absolute;border-left: 1px solid gray;box-sizing: border-box;top: 0;bottom: 0;left: 50%;z-index: 0;}#sk-container-id-1 div.sk-serial {display: flex;flex-direction: column;align-items: center;background-color: white;padding-right: 0.2em;padding-left: 0.2em;position: relative;}#sk-container-id-1 div.sk-item {position: relative;z-index: 1;}#sk-container-id-1 div.sk-parallel {display: flex;align-items: stretch;justify-content: center;background-color: white;position: relative;}#sk-container-id-1 div.sk-item::before, #sk-container-id-1 div.sk-parallel-item::before {content: \"\";position: absolute;border-left: 1px solid gray;box-sizing: border-box;top: 0;bottom: 0;left: 50%;z-index: -1;}#sk-container-id-1 div.sk-parallel-item {display: flex;flex-direction: column;z-index: 1;position: relative;background-color: white;}#sk-container-id-1 div.sk-parallel-item:first-child::after {align-self: flex-end;width: 50%;}#sk-container-id-1 div.sk-parallel-item:last-child::after {align-self: flex-start;width: 50%;}#sk-container-id-1 div.sk-parallel-item:only-child::after {width: 0;}#sk-container-id-1 div.sk-dashed-wrapped {border: 1px dashed gray;margin: 0 0.4em 0.5em 0.4em;box-sizing: border-box;padding-bottom: 0.4em;background-color: white;}#sk-container-id-1 div.sk-label label {font-family: monospace;font-weight: bold;display: inline-block;line-height: 1.2em;}#sk-container-id-1 div.sk-label-container {text-align: center;}#sk-container-id-1 div.sk-container {/* jupyter's `normalize.less` sets `[hidden] { display: none; }` but bootstrap.min.css set `[hidden] { display: none !important; }` so we also need the `!important` here to be able to override the default hidden behavior on the sphinx rendered scikit-learn.org. See: https://github.com/scikit-learn/scikit-learn/issues/21755 */display: inline-block !important;position: relative;}#sk-container-id-1 div.sk-text-repr-fallback {display: none;}</style><div id=\"sk-container-id-1\" class=\"sk-top-container\"><div class=\"sk-text-repr-fallback\"><pre>LogisticRegression()</pre><b>In a Jupyter environment, please rerun this cell to show the HTML representation or trust the notebook. <br />On GitHub, the HTML representation is unable to render, please try loading this page with nbviewer.org.</b></div><div class=\"sk-container\" hidden><div class=\"sk-item\"><div class=\"sk-estimator sk-toggleable\"><input class=\"sk-toggleable__control sk-hidden--visually\" id=\"sk-estimator-id-1\" type=\"checkbox\" checked><label for=\"sk-estimator-id-1\" class=\"sk-toggleable__label sk-toggleable__label-arrow\">LogisticRegression</label><div class=\"sk-toggleable__content\"><pre>LogisticRegression()</pre></div></div></div></div></div>"
      ],
      "text/plain": [
       "LogisticRegression()"
      ]
     },
     "execution_count": 37,
     "metadata": {},
     "output_type": "execute_result"
    }
   ],
   "source": [
    "classification1"
   ]
  },
  {
   "cell_type": "code",
   "execution_count": 38,
   "id": "c76c7167",
   "metadata": {},
   "outputs": [
    {
     "data": {
      "text/html": [
       "<style>#sk-container-id-2 {color: black;}#sk-container-id-2 pre{padding: 0;}#sk-container-id-2 div.sk-toggleable {background-color: white;}#sk-container-id-2 label.sk-toggleable__label {cursor: pointer;display: block;width: 100%;margin-bottom: 0;padding: 0.3em;box-sizing: border-box;text-align: center;}#sk-container-id-2 label.sk-toggleable__label-arrow:before {content: \"▸\";float: left;margin-right: 0.25em;color: #696969;}#sk-container-id-2 label.sk-toggleable__label-arrow:hover:before {color: black;}#sk-container-id-2 div.sk-estimator:hover label.sk-toggleable__label-arrow:before {color: black;}#sk-container-id-2 div.sk-toggleable__content {max-height: 0;max-width: 0;overflow: hidden;text-align: left;background-color: #f0f8ff;}#sk-container-id-2 div.sk-toggleable__content pre {margin: 0.2em;color: black;border-radius: 0.25em;background-color: #f0f8ff;}#sk-container-id-2 input.sk-toggleable__control:checked~div.sk-toggleable__content {max-height: 200px;max-width: 100%;overflow: auto;}#sk-container-id-2 input.sk-toggleable__control:checked~label.sk-toggleable__label-arrow:before {content: \"▾\";}#sk-container-id-2 div.sk-estimator input.sk-toggleable__control:checked~label.sk-toggleable__label {background-color: #d4ebff;}#sk-container-id-2 div.sk-label input.sk-toggleable__control:checked~label.sk-toggleable__label {background-color: #d4ebff;}#sk-container-id-2 input.sk-hidden--visually {border: 0;clip: rect(1px 1px 1px 1px);clip: rect(1px, 1px, 1px, 1px);height: 1px;margin: -1px;overflow: hidden;padding: 0;position: absolute;width: 1px;}#sk-container-id-2 div.sk-estimator {font-family: monospace;background-color: #f0f8ff;border: 1px dotted black;border-radius: 0.25em;box-sizing: border-box;margin-bottom: 0.5em;}#sk-container-id-2 div.sk-estimator:hover {background-color: #d4ebff;}#sk-container-id-2 div.sk-parallel-item::after {content: \"\";width: 100%;border-bottom: 1px solid gray;flex-grow: 1;}#sk-container-id-2 div.sk-label:hover label.sk-toggleable__label {background-color: #d4ebff;}#sk-container-id-2 div.sk-serial::before {content: \"\";position: absolute;border-left: 1px solid gray;box-sizing: border-box;top: 0;bottom: 0;left: 50%;z-index: 0;}#sk-container-id-2 div.sk-serial {display: flex;flex-direction: column;align-items: center;background-color: white;padding-right: 0.2em;padding-left: 0.2em;position: relative;}#sk-container-id-2 div.sk-item {position: relative;z-index: 1;}#sk-container-id-2 div.sk-parallel {display: flex;align-items: stretch;justify-content: center;background-color: white;position: relative;}#sk-container-id-2 div.sk-item::before, #sk-container-id-2 div.sk-parallel-item::before {content: \"\";position: absolute;border-left: 1px solid gray;box-sizing: border-box;top: 0;bottom: 0;left: 50%;z-index: -1;}#sk-container-id-2 div.sk-parallel-item {display: flex;flex-direction: column;z-index: 1;position: relative;background-color: white;}#sk-container-id-2 div.sk-parallel-item:first-child::after {align-self: flex-end;width: 50%;}#sk-container-id-2 div.sk-parallel-item:last-child::after {align-self: flex-start;width: 50%;}#sk-container-id-2 div.sk-parallel-item:only-child::after {width: 0;}#sk-container-id-2 div.sk-dashed-wrapped {border: 1px dashed gray;margin: 0 0.4em 0.5em 0.4em;box-sizing: border-box;padding-bottom: 0.4em;background-color: white;}#sk-container-id-2 div.sk-label label {font-family: monospace;font-weight: bold;display: inline-block;line-height: 1.2em;}#sk-container-id-2 div.sk-label-container {text-align: center;}#sk-container-id-2 div.sk-container {/* jupyter's `normalize.less` sets `[hidden] { display: none; }` but bootstrap.min.css set `[hidden] { display: none !important; }` so we also need the `!important` here to be able to override the default hidden behavior on the sphinx rendered scikit-learn.org. See: https://github.com/scikit-learn/scikit-learn/issues/21755 */display: inline-block !important;position: relative;}#sk-container-id-2 div.sk-text-repr-fallback {display: none;}</style><div id=\"sk-container-id-2\" class=\"sk-top-container\"><div class=\"sk-text-repr-fallback\"><pre>LogisticRegression()</pre><b>In a Jupyter environment, please rerun this cell to show the HTML representation or trust the notebook. <br />On GitHub, the HTML representation is unable to render, please try loading this page with nbviewer.org.</b></div><div class=\"sk-container\" hidden><div class=\"sk-item\"><div class=\"sk-estimator sk-toggleable\"><input class=\"sk-toggleable__control sk-hidden--visually\" id=\"sk-estimator-id-2\" type=\"checkbox\" checked><label for=\"sk-estimator-id-2\" class=\"sk-toggleable__label sk-toggleable__label-arrow\">LogisticRegression</label><div class=\"sk-toggleable__content\"><pre>LogisticRegression()</pre></div></div></div></div></div>"
      ],
      "text/plain": [
       "LogisticRegression()"
      ]
     },
     "execution_count": 38,
     "metadata": {},
     "output_type": "execute_result"
    }
   ],
   "source": [
    "classification1.fit(x_train,y_train)"
   ]
  },
  {
   "cell_type": "code",
   "execution_count": 39,
   "id": "8ee47bcf",
   "metadata": {},
   "outputs": [],
   "source": [
    "y_pred = classification1.predict(x_test)"
   ]
  },
  {
   "cell_type": "code",
   "execution_count": 40,
   "id": "a7ae1bdc",
   "metadata": {},
   "outputs": [
    {
     "data": {
      "text/plain": [
       "array([1, 1, 1, 0, 0, 0, 0, 1, 0, 0, 0, 0, 1, 0, 1, 0, 1, 1, 0, 0])"
      ]
     },
     "execution_count": 40,
     "metadata": {},
     "output_type": "execute_result"
    }
   ],
   "source": [
    "y_pred"
   ]
  },
  {
   "cell_type": "markdown",
   "id": "a3bacb22",
   "metadata": {},
   "source": [
    "### Calculating Confusion matrics, Accuracy, Classification Report"
   ]
  },
  {
   "cell_type": "code",
   "execution_count": 41,
   "id": "dd26d96e",
   "metadata": {},
   "outputs": [],
   "source": [
    "from sklearn.metrics import confusion_matrix,accuracy_score,classification_report"
   ]
  },
  {
   "cell_type": "code",
   "execution_count": 42,
   "id": "8692cdc8",
   "metadata": {},
   "outputs": [
    {
     "name": "stdout",
     "output_type": "stream",
     "text": [
      "[[12  0]\n",
      " [ 0  8]]\n"
     ]
    }
   ],
   "source": [
    "print(confusion_matrix(y_test,y_pred))"
   ]
  },
  {
   "cell_type": "markdown",
   "id": "9c861250",
   "metadata": {},
   "source": [
    "as FP and FN are both zero therefore its got a good accury"
   ]
  },
  {
   "cell_type": "code",
   "execution_count": 43,
   "id": "cb845116",
   "metadata": {},
   "outputs": [
    {
     "name": "stdout",
     "output_type": "stream",
     "text": [
      "1.0\n"
     ]
    }
   ],
   "source": [
    "print(accuracy_score(y_test,y_pred))"
   ]
  },
  {
   "cell_type": "code",
   "execution_count": 44,
   "id": "58e131ef",
   "metadata": {},
   "outputs": [
    {
     "name": "stdout",
     "output_type": "stream",
     "text": [
      "              precision    recall  f1-score   support\n",
      "\n",
      "           0       1.00      1.00      1.00        12\n",
      "           1       1.00      1.00      1.00         8\n",
      "\n",
      "    accuracy                           1.00        20\n",
      "   macro avg       1.00      1.00      1.00        20\n",
      "weighted avg       1.00      1.00      1.00        20\n",
      "\n"
     ]
    }
   ],
   "source": [
    "print(classification_report(y_test,y_pred))"
   ]
  },
  {
   "cell_type": "code",
   "execution_count": null,
   "id": "54b17105",
   "metadata": {},
   "outputs": [],
   "source": []
  },
  {
   "cell_type": "markdown",
   "id": "4085052c",
   "metadata": {},
   "source": [
    "# 2. K-Fold Cross Validation"
   ]
  },
  {
   "cell_type": "code",
   "execution_count": 45,
   "id": "91c31a1d",
   "metadata": {},
   "outputs": [],
   "source": [
    "from sklearn.model_selection import KFold"
   ]
  },
  {
   "cell_type": "code",
   "execution_count": 46,
   "id": "2babb20f",
   "metadata": {},
   "outputs": [],
   "source": [
    "cv = KFold(n_splits=5, shuffle=True) "
   ]
  },
  {
   "cell_type": "code",
   "execution_count": 48,
   "id": "bd4dd142",
   "metadata": {},
   "outputs": [
    {
     "data": {
      "text/plain": [
       "sklearn.model_selection._split.KFold"
      ]
     },
     "execution_count": 48,
     "metadata": {},
     "output_type": "execute_result"
    }
   ],
   "source": [
    "type(cv)"
   ]
  },
  {
   "cell_type": "raw",
   "id": "23189c78",
   "metadata": {},
   "source": [
    "from sklearn.model_selection import cross_val_score"
   ]
  },
  {
   "cell_type": "code",
   "execution_count": 54,
   "id": "fedde1b8",
   "metadata": {},
   "outputs": [
    {
     "data": {
      "text/plain": [
       "array([1., 1., 1., 1., 1.])"
      ]
     },
     "execution_count": 54,
     "metadata": {},
     "output_type": "execute_result"
    }
   ],
   "source": [
    "scores = cross_val_score(classification1,x_train,y_train,scoring='accuracy',cv=cv)\n",
    "#return accuracy of all the cross validation experiments\n",
    "#as cv=5 we are getting 5 accuracies\n",
    "scores"
   ]
  },
  {
   "cell_type": "code",
   "execution_count": 56,
   "id": "eb386297",
   "metadata": {
    "scrolled": true
   },
   "outputs": [
    {
     "data": {
      "text/plain": [
       "1.0"
      ]
     },
     "execution_count": 56,
     "metadata": {},
     "output_type": "execute_result"
    }
   ],
   "source": [
    "final_score = np.mean(scores)\n",
    "final_score"
   ]
  },
  {
   "cell_type": "markdown",
   "id": "89abe3f6",
   "metadata": {},
   "source": [
    "# 3. Performing Cross Validation for different dataset"
   ]
  },
  {
   "cell_type": "code",
   "execution_count": 90,
   "id": "6f953e3d",
   "metadata": {},
   "outputs": [],
   "source": [
    "## lets make a dataset\n",
    "\n",
    "from sklearn.metrics import classification_report,accuracy_score,confusion_matrix\n",
    "from sklearn.datasets import make_classification\n",
    "from sklearn.model_selection import train_test_split, KFold\n",
    "from sklearn.linear_model import LogisticRegression\n",
    "import warnings\n",
    "warnings.filterwarnings('ignore')\n",
    "\n",
    "# define dataset\n",
    "X1,y1 = make_classification(n_samples=1000,n_features=10,n_informative=5,n_redundant=5,n_classes=2,random_state=1)\n",
    "\n",
    "#train-test split\n",
    "x1_train,x1_test,y1_train,y1_test = train_test_split(X1,y1,test_size=0.20,random_state=42)"
   ]
  },
  {
   "cell_type": "code",
   "execution_count": 91,
   "id": "b0a6ec31",
   "metadata": {},
   "outputs": [
    {
     "name": "stdout",
     "output_type": "stream",
     "text": [
      "[[78 13]\n",
      " [29 80]]\n",
      "0.79\n",
      "              precision    recall  f1-score   support\n",
      "\n",
      "           0       0.73      0.86      0.79        91\n",
      "           1       0.86      0.73      0.79       109\n",
      "\n",
      "    accuracy                           0.79       200\n",
      "   macro avg       0.79      0.80      0.79       200\n",
      "weighted avg       0.80      0.79      0.79       200\n",
      "\n"
     ]
    }
   ],
   "source": [
    "complex_class_model = LogisticRegression()\n",
    "\n",
    "#fitting \n",
    "complex_class_model.fit(x1_train,y1_train)\n",
    "\n",
    "#prediction\n",
    "y1_pred_complex=complex_class_model.predict(x1_test)\n",
    "\n",
    "#Calculating Confusion matrics, Accuracy, Classification Report\n",
    "print(confusion_matrix(y1_test,y1_pred_complex))\n",
    "print(accuracy_score(y1_test,y1_pred_complex))\n",
    "print(classification_report(y1_test,y1_pred_complex))"
   ]
  },
  {
   "cell_type": "code",
   "execution_count": 92,
   "id": "93ce3055",
   "metadata": {},
   "outputs": [
    {
     "name": "stdout",
     "output_type": "stream",
     "text": [
      "final score= 80.87499999999999%\n"
     ]
    }
   ],
   "source": [
    "## Cross Validatiuon\n",
    "cv = KFold(n_splits=5, shuffle=True) \n",
    "cv=KFold(n_splits=5,shuffle=True)\n",
    "scores = cross_val_score(complex_class_model,x1_train,y1_train,cv=cv)\n",
    "print(\"final score= {}%\".format(np.mean(scores)*100))"
   ]
  },
  {
   "cell_type": "code",
   "execution_count": null,
   "id": "ef7440e3",
   "metadata": {},
   "outputs": [],
   "source": []
  },
  {
   "cell_type": "markdown",
   "id": "c33fe78c",
   "metadata": {},
   "source": [
    "# 4. Logistic Regression Hyperparameter Tuning"
   ]
  },
  {
   "cell_type": "code",
   "execution_count": 12,
   "id": "f72e0a39",
   "metadata": {},
   "outputs": [],
   "source": [
    "from sklearn.datasets import make_classification\n",
    "from sklearn.model_selection import train_test_split\n",
    "from sklearn.linear_model import LogisticRegression\n",
    "import logging as log\n",
    "import warnings\n",
    "warnings.filterwarnings('ignore')\n",
    "log.basicConfig(filename='Resources/test.log',format='%(asctime)s:%(levelname)s:%(message)s',level=log.DEBUG)"
   ]
  },
  {
   "cell_type": "code",
   "execution_count": 15,
   "id": "341cf91e",
   "metadata": {},
   "outputs": [
    {
     "name": "stderr",
     "output_type": "stream",
     "text": [
      "INFO:making a dataset for Hyperparameter tuning in logistic regression\n",
      "INFO:train test split done\n"
     ]
    }
   ],
   "source": [
    "# lets make a dataset\n",
    "# define dataset\n",
    "log.info(\"making a dataset for Hyperparameter tuning in logistic regression\")\n",
    "X,y = make_classification(n_samples=1000,n_features=10,n_informative=5,n_redundant=5,n_classes=2,random_state=1)\n",
    "\n",
    "\n",
    "#train-test split\n",
    "log.info(\"train test split done\")\n",
    "x_train,x_test,y_train,y_test = train_test_split(X,y,test_size=0.20,random_state=42)"
   ]
  },
  {
   "cell_type": "markdown",
   "id": "5bc6b4eb",
   "metadata": {},
   "source": [
    "# 5. Model training Hyperparameter tuning\n",
    "\n",
    "## using: Grid Search CV\n"
   ]
  },
  {
   "cell_type": "code",
   "execution_count": 32,
   "id": "0a0aac8e",
   "metadata": {},
   "outputs": [
    {
     "data": {
      "text/plain": [
       "{'C': 1, 'penalty': 'l1', 'solver': 'liblinear'}"
      ]
     },
     "execution_count": 32,
     "metadata": {},
     "output_type": "execute_result"
    }
   ],
   "source": [
    "from sklearn.model_selection import GridSearchCV\n",
    "\n",
    "#deciding the parameters to play with\n",
    "parameters_grid = {\n",
    "    'penalty': ('l1','l2','elasticnet'),\n",
    "    'C':[i for i in range(31)],\n",
    "    'solver':('lbfgs','liblinear','newton-cg','newton-cholesky','sag','saga')\n",
    "    #can also add 'solver' poarameter go to sklearn.model-selection.logistic regression for more\n",
    "}\n",
    "\n",
    "#intializing classifier\n",
    "classifer_logistic = LogisticRegression()\n",
    "\n",
    "#initializing GridSearchCV(estimator, param_grid,cv ) and providing classifier as parameter\n",
    "clf = GridSearchCV(classifer_logistic,param_grid=parameters_grid,cv=5)\n",
    "\n",
    "#training GridSearch\n",
    "clf.fit(x_train,y_train)\n",
    "#Now the GridSearchCV will divide the training data into 1/5 part and use it for training \n",
    "#and cross validation 5 times and apply all the parameters and provide the parameter with most accuracy\n",
    "\n",
    "#getting the best parameters after the fit\n",
    "clf.best_params_"
   ]
  },
  {
   "cell_type": "code",
   "execution_count": 33,
   "id": "4bb209db",
   "metadata": {},
   "outputs": [
    {
     "data": {
      "text/plain": [
       "0.8087500000000001"
      ]
     },
     "execution_count": 33,
     "metadata": {},
     "output_type": "execute_result"
    }
   ],
   "source": [
    "clf.best_score_"
   ]
  },
  {
   "cell_type": "markdown",
   "id": "e400c518",
   "metadata": {},
   "source": [
    "Now building the classifier with best parameter given by GridSearchCV\n"
   ]
  },
  {
   "cell_type": "code",
   "execution_count": 34,
   "id": "13151e8a",
   "metadata": {},
   "outputs": [],
   "source": [
    "classifer_best_pram = LogisticRegression(C=1,penalty='l1',solver='liblinear')\n",
    "\n",
    "#fitting the training data\n",
    "classifer_best_pram.fit(x_train,y_train)\n",
    "\n",
    "#getting predicted values\n",
    "y_pred = classifer_best_pram.predict(x_test)\n",
    "\n",
    "#predicting probabilities\n",
    "\n",
    "y_prob = classifer_best_pram.predict_proba(x_test)"
   ]
  },
  {
   "cell_type": "code",
   "execution_count": 35,
   "id": "7e1decdb",
   "metadata": {},
   "outputs": [
    {
     "data": {
      "text/plain": [
       "array([0, 1, 1, 1, 0, 0, 0, 1, 0, 1, 1, 0, 0, 0, 1, 1, 0, 0, 1, 1, 0, 0,\n",
       "       0, 0, 1, 1, 0, 1, 1, 0, 0, 0, 1, 1, 0, 1, 0, 0, 1, 0, 0, 1, 0, 0,\n",
       "       1, 1, 1, 1, 1, 1, 0, 0, 1, 1, 0, 1, 0, 1, 1, 1, 0, 1, 0, 1, 0, 0,\n",
       "       0, 1, 0, 0, 1, 0, 0, 0, 1, 0, 0, 0, 1, 1, 0, 1, 0, 1, 0, 1, 0, 0,\n",
       "       0, 0, 0, 0, 1, 0, 1, 0, 1, 0, 0, 1, 1, 0, 1, 0, 1, 0, 1, 0, 1, 0,\n",
       "       0, 0, 0, 0, 0, 1, 1, 1, 1, 1, 1, 1, 0, 1, 0, 0, 0, 1, 0, 0, 0, 0,\n",
       "       1, 0, 0, 0, 1, 1, 1, 0, 0, 0, 0, 1, 0, 0, 0, 1, 1, 1, 0, 0, 0, 0,\n",
       "       0, 0, 1, 1, 0, 1, 1, 0, 0, 1, 1, 0, 0, 1, 1, 0, 0, 1, 1, 0, 1, 1,\n",
       "       0, 1, 1, 0, 1, 1, 0, 0, 1, 0, 1, 1, 0, 1, 0, 1, 1, 1, 0, 1, 0, 1,\n",
       "       0, 1])"
      ]
     },
     "execution_count": 35,
     "metadata": {},
     "output_type": "execute_result"
    }
   ],
   "source": [
    "y_pred"
   ]
  },
  {
   "cell_type": "code",
   "execution_count": 36,
   "id": "0da876e1",
   "metadata": {},
   "outputs": [
    {
     "data": {
      "text/plain": [
       "array([[0.71277038, 0.28722962],\n",
       "       [0.19794049, 0.80205951],\n",
       "       [0.12356288, 0.87643712],\n",
       "       [0.04979661, 0.95020339],\n",
       "       [0.88465587, 0.11534413],\n",
       "       [0.74788256, 0.25211744],\n",
       "       [0.97856044, 0.02143956],\n",
       "       [0.39398169, 0.60601831],\n",
       "       [0.59962293, 0.40037707],\n",
       "       [0.39373387, 0.60626613],\n",
       "       [0.20466565, 0.79533435],\n",
       "       [0.80034135, 0.19965865],\n",
       "       [0.86076964, 0.13923036],\n",
       "       [0.92411429, 0.07588571],\n",
       "       [0.00133437, 0.99866563],\n",
       "       [0.04201113, 0.95798887],\n",
       "       [0.56014147, 0.43985853],\n",
       "       [0.88949563, 0.11050437],\n",
       "       [0.2922556 , 0.7077444 ],\n",
       "       [0.00856131, 0.99143869],\n",
       "       [0.71785671, 0.28214329],\n",
       "       [0.50817475, 0.49182525],\n",
       "       [0.76031132, 0.23968868],\n",
       "       [0.73029942, 0.26970058],\n",
       "       [0.10261407, 0.89738593],\n",
       "       [0.04055746, 0.95944254],\n",
       "       [0.57568846, 0.42431154],\n",
       "       [0.00552744, 0.99447256],\n",
       "       [0.03122144, 0.96877856],\n",
       "       [0.95911325, 0.04088675],\n",
       "       [0.85152628, 0.14847372],\n",
       "       [0.78735737, 0.21264263],\n",
       "       [0.39147251, 0.60852749],\n",
       "       [0.41230488, 0.58769512],\n",
       "       [0.98123904, 0.01876096],\n",
       "       [0.04806269, 0.95193731],\n",
       "       [0.56924035, 0.43075965],\n",
       "       [0.77499522, 0.22500478],\n",
       "       [0.07939621, 0.92060379],\n",
       "       [0.88981731, 0.11018269],\n",
       "       [0.91064   , 0.08936   ],\n",
       "       [0.0369022 , 0.9630978 ],\n",
       "       [0.77212435, 0.22787565],\n",
       "       [0.82399654, 0.17600346],\n",
       "       [0.27281576, 0.72718424],\n",
       "       [0.40761855, 0.59238145],\n",
       "       [0.41412884, 0.58587116],\n",
       "       [0.30337625, 0.69662375],\n",
       "       [0.23182294, 0.76817706],\n",
       "       [0.43425619, 0.56574381],\n",
       "       [0.71974805, 0.28025195],\n",
       "       [0.62008638, 0.37991362],\n",
       "       [0.20407235, 0.79592765],\n",
       "       [0.05326293, 0.94673707],\n",
       "       [0.77497413, 0.22502587],\n",
       "       [0.12060289, 0.87939711],\n",
       "       [0.83753444, 0.16246556],\n",
       "       [0.06110883, 0.93889117],\n",
       "       [0.03089907, 0.96910093],\n",
       "       [0.02244668, 0.97755332],\n",
       "       [0.56428638, 0.43571362],\n",
       "       [0.3594108 , 0.6405892 ],\n",
       "       [0.54898224, 0.45101776],\n",
       "       [0.15512219, 0.84487781],\n",
       "       [0.75813915, 0.24186085],\n",
       "       [0.62558626, 0.37441374],\n",
       "       [0.59598433, 0.40401567],\n",
       "       [0.00277066, 0.99722934],\n",
       "       [0.83284086, 0.16715914],\n",
       "       [0.59730905, 0.40269095],\n",
       "       [0.14158898, 0.85841102],\n",
       "       [0.83772775, 0.16227225],\n",
       "       [0.96581343, 0.03418657],\n",
       "       [0.84406329, 0.15593671],\n",
       "       [0.03608372, 0.96391628],\n",
       "       [0.96195048, 0.03804952],\n",
       "       [0.74509389, 0.25490611],\n",
       "       [0.6948422 , 0.3051578 ],\n",
       "       [0.48467557, 0.51532443],\n",
       "       [0.00371151, 0.99628849],\n",
       "       [0.78327864, 0.21672136],\n",
       "       [0.06465162, 0.93534838],\n",
       "       [0.57682617, 0.42317383],\n",
       "       [0.05126235, 0.94873765],\n",
       "       [0.90255434, 0.09744566],\n",
       "       [0.06773733, 0.93226267],\n",
       "       [0.67049856, 0.32950144],\n",
       "       [0.92398842, 0.07601158],\n",
       "       [0.55148029, 0.44851971],\n",
       "       [0.74577817, 0.25422183],\n",
       "       [0.77157177, 0.22842823],\n",
       "       [0.63615834, 0.36384166],\n",
       "       [0.0145956 , 0.9854044 ],\n",
       "       [0.5236736 , 0.4763264 ],\n",
       "       [0.0208558 , 0.9791442 ],\n",
       "       [0.83682288, 0.16317712],\n",
       "       [0.01956295, 0.98043705],\n",
       "       [0.60821806, 0.39178194],\n",
       "       [0.92532505, 0.07467495],\n",
       "       [0.11632436, 0.88367564],\n",
       "       [0.00356302, 0.99643698],\n",
       "       [0.5819199 , 0.4180801 ],\n",
       "       [0.28580136, 0.71419864],\n",
       "       [0.6921959 , 0.3078041 ],\n",
       "       [0.06412868, 0.93587132],\n",
       "       [0.97388918, 0.02611082],\n",
       "       [0.11240273, 0.88759727],\n",
       "       [0.75519279, 0.24480721],\n",
       "       [0.00322281, 0.99677719],\n",
       "       [0.56019213, 0.43980787],\n",
       "       [0.56796559, 0.43203441],\n",
       "       [0.91308643, 0.08691357],\n",
       "       [0.51835644, 0.48164356],\n",
       "       [0.90601633, 0.09398367],\n",
       "       [0.52940149, 0.47059851],\n",
       "       [0.00327978, 0.99672022],\n",
       "       [0.04143329, 0.95856671],\n",
       "       [0.13294018, 0.86705982],\n",
       "       [0.14746361, 0.85253639],\n",
       "       [0.34384311, 0.65615689],\n",
       "       [0.0411219 , 0.9588781 ],\n",
       "       [0.10045346, 0.89954654],\n",
       "       [0.85236809, 0.14763191],\n",
       "       [0.11332578, 0.88667422],\n",
       "       [0.54978124, 0.45021876],\n",
       "       [0.88664364, 0.11335636],\n",
       "       [0.88812543, 0.11187457],\n",
       "       [0.12999253, 0.87000747],\n",
       "       [0.90561218, 0.09438782],\n",
       "       [0.74732763, 0.25267237],\n",
       "       [0.75760178, 0.24239822],\n",
       "       [0.76497859, 0.23502141],\n",
       "       [0.46636314, 0.53363686],\n",
       "       [0.94955436, 0.05044564],\n",
       "       [0.9822802 , 0.0177198 ],\n",
       "       [0.92812593, 0.07187407],\n",
       "       [0.03609258, 0.96390742],\n",
       "       [0.49659514, 0.50340486],\n",
       "       [0.36896426, 0.63103574],\n",
       "       [0.84496537, 0.15503463],\n",
       "       [0.860578  , 0.139422  ],\n",
       "       [0.52653323, 0.47346677],\n",
       "       [0.95269092, 0.04730908],\n",
       "       [0.41739753, 0.58260247],\n",
       "       [0.96101862, 0.03898138],\n",
       "       [0.99076364, 0.00923636],\n",
       "       [0.70211981, 0.29788019],\n",
       "       [0.0654757 , 0.9345243 ],\n",
       "       [0.05215349, 0.94784651],\n",
       "       [0.02039202, 0.97960798],\n",
       "       [0.84160286, 0.15839714],\n",
       "       [0.95375933, 0.04624067],\n",
       "       [0.78575632, 0.21424368],\n",
       "       [0.97360179, 0.02639821],\n",
       "       [0.7715327 , 0.2284673 ],\n",
       "       [0.92784292, 0.07215708],\n",
       "       [0.04239949, 0.95760051],\n",
       "       [0.24132764, 0.75867236],\n",
       "       [0.69535156, 0.30464844],\n",
       "       [0.05837138, 0.94162862],\n",
       "       [0.04994866, 0.95005134],\n",
       "       [0.88971901, 0.11028099],\n",
       "       [0.82832298, 0.17167702],\n",
       "       [0.38425047, 0.61574953],\n",
       "       [0.01881225, 0.98118775],\n",
       "       [0.82137842, 0.17862158],\n",
       "       [0.78252505, 0.21747495],\n",
       "       [0.03132516, 0.96867484],\n",
       "       [0.08305451, 0.91694549],\n",
       "       [0.77310675, 0.22689325],\n",
       "       [0.92852404, 0.07147596],\n",
       "       [0.01256808, 0.98743192],\n",
       "       [0.11241309, 0.88758691],\n",
       "       [0.79810345, 0.20189655],\n",
       "       [0.01125369, 0.98874631],\n",
       "       [0.04525124, 0.95474876],\n",
       "       [0.98123672, 0.01876328],\n",
       "       [0.03220605, 0.96779395],\n",
       "       [0.26028398, 0.73971602],\n",
       "       [0.81689183, 0.18310817],\n",
       "       [0.39868527, 0.60131473],\n",
       "       [0.37739899, 0.62260101],\n",
       "       [0.77531085, 0.22468915],\n",
       "       [0.73700464, 0.26299536],\n",
       "       [0.45900816, 0.54099184],\n",
       "       [0.53433954, 0.46566046],\n",
       "       [0.03747782, 0.96252218],\n",
       "       [0.0086893 , 0.9913107 ],\n",
       "       [0.91372134, 0.08627866],\n",
       "       [0.11739507, 0.88260493],\n",
       "       [0.61144091, 0.38855909],\n",
       "       [0.0351581 , 0.9648419 ],\n",
       "       [0.01610681, 0.98389319],\n",
       "       [0.06675499, 0.93324501],\n",
       "       [0.89774485, 0.10225515],\n",
       "       [0.05073792, 0.94926208],\n",
       "       [0.87223683, 0.12776317],\n",
       "       [0.02147532, 0.97852468],\n",
       "       [0.63909842, 0.36090158],\n",
       "       [0.00993796, 0.99006204]])"
      ]
     },
     "execution_count": 36,
     "metadata": {},
     "output_type": "execute_result"
    }
   ],
   "source": [
    "y_prob"
   ]
  },
  {
   "cell_type": "code",
   "execution_count": null,
   "id": "91cf7b67",
   "metadata": {},
   "outputs": [],
   "source": []
  },
  {
   "cell_type": "markdown",
   "id": "32749401",
   "metadata": {},
   "source": [
    "# 6. Model training Hyperparameter tuning\n",
    "\n",
    "## using: RandomizedSearchCV"
   ]
  },
  {
   "cell_type": "code",
   "execution_count": 38,
   "id": "2dbefbcc",
   "metadata": {},
   "outputs": [
    {
     "data": {
      "text/plain": [
       "{'solver': 'saga', 'penalty': 'l2', 'C': 10}"
      ]
     },
     "execution_count": 38,
     "metadata": {},
     "output_type": "execute_result"
    }
   ],
   "source": [
    "from sklearn.model_selection import RandomizedSearchCV\n",
    "\n",
    "#initializing RandomizedSearchCV(estimator, param_distribution,cv )\n",
    "rand_classifier = RandomizedSearchCV(LogisticRegression(),param_distributions=parameters_grid,cv=5,n_iter=20)\n",
    "\n",
    "#fitting using rnad_classifier\n",
    "rand_classifier.fit(x_train,y_train)\n",
    "\n",
    "#getting best parameters\n",
    "rand_classifier.best_params_"
   ]
  },
  {
   "cell_type": "code",
   "execution_count": 39,
   "id": "210adce3",
   "metadata": {},
   "outputs": [
    {
     "data": {
      "text/plain": [
       "0.8087500000000001"
      ]
     },
     "execution_count": 39,
     "metadata": {},
     "output_type": "execute_result"
    }
   ],
   "source": [
    "rand_classifier.best_score_"
   ]
  },
  {
   "cell_type": "markdown",
   "id": "bbb7b1d8",
   "metadata": {},
   "source": []
  },
  {
   "cell_type": "markdown",
   "id": "6a8fced5",
   "metadata": {},
   "source": [
    "# <U>7. MultiClass Classification in Logistic Regression</u>"
   ]
  },
  {
   "cell_type": "code",
   "execution_count": 32,
   "id": "6ede767c",
   "metadata": {},
   "outputs": [],
   "source": [
    "from sklearn.datasets import make_classification\n",
    "from sklearn.linear_model import LogisticRegression\n",
    "from sklearn.model_selection import train_test_split\n",
    "from sklearn.metrics import confusion_matrix,accuracy_score,classification_report"
   ]
  },
  {
   "cell_type": "code",
   "execution_count": 33,
   "id": "726b5620",
   "metadata": {},
   "outputs": [],
   "source": [
    "# creating dataset for multiclass classification\n",
    "X,y = make_classification(n_samples=100,n_features=10,n_informative=5,n_redundant=5,n_classes=3,random_state=1)"
   ]
  },
  {
   "cell_type": "markdown",
   "id": "c47b47dc",
   "metadata": {},
   "source": [
    "#### imp: For multiclass problems, only ‘newton-cg’, ‘sag’, ‘saga’ and ‘lbfgs’ handle multinomial loss;"
   ]
  },
  {
   "cell_type": "code",
   "execution_count": 34,
   "id": "cf9c4c0d",
   "metadata": {},
   "outputs": [],
   "source": [
    "# defining LogisticRegg model instance for multi-class\n",
    "multiclass_model = LogisticRegression(multi_class='ovr',solver='lbfgs') #default='ovr' and other is 'multinomial'\n",
    "\n",
    "#train-test split\n",
    "x_train,x_test,y_train,y_test = train_test_split(X,y,test_size=0.20, random_state=42)\n",
    "\n",
    "#fitting model\n",
    "multiclass_model.fit(x_train,y_train)\n",
    "\n",
    "#getting predictions\n",
    "y_pred = multiclass_model.predict(x_test)\n",
    "\n",
    "#getting prediction probability\n",
    "y_prob = multiclass_model.predict_proba(x_test)"
   ]
  },
  {
   "cell_type": "code",
   "execution_count": 35,
   "id": "1a8fd9e8",
   "metadata": {},
   "outputs": [
    {
     "data": {
      "text/plain": [
       "array([1, 1, 2, 2, 2, 2, 0, 1, 2, 2, 0, 0, 0, 1, 0, 0, 0, 2, 1, 2])"
      ]
     },
     "execution_count": 35,
     "metadata": {},
     "output_type": "execute_result"
    }
   ],
   "source": [
    "#getting predictions\n",
    "y_pred"
   ]
  },
  {
   "cell_type": "code",
   "execution_count": 36,
   "id": "45bcfc1a",
   "metadata": {},
   "outputs": [
    {
     "data": {
      "text/plain": [
       "array([[0.03589205, 0.74928022, 0.21482773],\n",
       "       [0.05395747, 0.50742922, 0.43861331],\n",
       "       [0.38442086, 0.0554617 , 0.56011744],\n",
       "       [0.18304365, 0.08733965, 0.7296167 ],\n",
       "       [0.3616585 , 0.0653411 , 0.5730004 ],\n",
       "       [0.21667485, 0.05878316, 0.72454199],\n",
       "       [0.76741817, 0.18920136, 0.04338047],\n",
       "       [0.18714268, 0.64516071, 0.16769661],\n",
       "       [0.38042323, 0.18822315, 0.43135361],\n",
       "       [0.12246167, 0.28949287, 0.58804547],\n",
       "       [0.68319795, 0.08781478, 0.22898727],\n",
       "       [0.78418528, 0.09971978, 0.11609494],\n",
       "       [0.67104285, 0.04529519, 0.28366196],\n",
       "       [0.39720594, 0.53744935, 0.06534471],\n",
       "       [0.5686285 , 0.20611867, 0.22525283],\n",
       "       [0.6154759 , 0.3786801 , 0.00584399],\n",
       "       [0.66890887, 0.31082633, 0.0202648 ],\n",
       "       [0.19453241, 0.16189582, 0.64357176],\n",
       "       [0.05036794, 0.74924834, 0.20038372],\n",
       "       [0.36593956, 0.04945706, 0.58460338]])"
      ]
     },
     "execution_count": 36,
     "metadata": {},
     "output_type": "execute_result"
    }
   ],
   "source": [
    "#getting prediction probability\n",
    "y_prob"
   ]
  },
  {
   "cell_type": "code",
   "execution_count": 37,
   "id": "43415fa5",
   "metadata": {
    "scrolled": true
   },
   "outputs": [
    {
     "name": "stdout",
     "output_type": "stream",
     "text": [
      "[[4 2 1]\n",
      " [0 3 2]\n",
      " [4 0 4]]\n",
      "0.55\n",
      "              precision    recall  f1-score   support\n",
      "\n",
      "           0       0.50      0.57      0.53         7\n",
      "           1       0.60      0.60      0.60         5\n",
      "           2       0.57      0.50      0.53         8\n",
      "\n",
      "    accuracy                           0.55        20\n",
      "   macro avg       0.56      0.56      0.56        20\n",
      "weighted avg       0.55      0.55      0.55        20\n",
      "\n"
     ]
    }
   ],
   "source": [
    "#getting confusion matrix\n",
    "print(confusion_matrix(y_pred,y_test))\n",
    "\n",
    "#getting accuracy score\n",
    "print(accuracy_score(y_pred,y_test))\n",
    "\n",
    "#getting classification report\n",
    "print(classification_report(y_pred,y_test))"
   ]
  },
  {
   "cell_type": "code",
   "execution_count": null,
   "id": "bbfbff4c",
   "metadata": {},
   "outputs": [],
   "source": []
  }
 ],
 "metadata": {
  "kernelspec": {
   "display_name": "Python 3 (ipykernel)",
   "language": "python",
   "name": "python3"
  },
  "language_info": {
   "codemirror_mode": {
    "name": "ipython",
    "version": 3
   },
   "file_extension": ".py",
   "mimetype": "text/x-python",
   "name": "python",
   "nbconvert_exporter": "python",
   "pygments_lexer": "ipython3",
   "version": "3.10.12"
  }
 },
 "nbformat": 4,
 "nbformat_minor": 5
}
