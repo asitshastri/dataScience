{
 "cells": [
  {
   "cell_type": "markdown",
   "id": "c97513b8",
   "metadata": {},
   "source": [
    "# <a href=\"\">Machine Learning</a>"
   ]
  },
  {
   "cell_type": "markdown",
   "id": "95db5fd2",
   "metadata": {},
   "source": [
    "**Q1) Explain the Following with example\n",
    "    1- Artificial Intelligence \n",
    "    2 Machine Learning\n",
    "    3 Deep Learning**\n",
    "\n",
    "ans:<br>\n",
    "**1 Artificial Intelligence:** \n",
    "AI is a concept of building smart/intelligent applications/machines that can perform its own task without any human intervention\n",
    "    Example: Self driving car, robots etc\n",
    "    \n",
    "**2 Machine Learning:**\n",
    "MAchine Learning is a subset of Artificial Intelligence. It provides statistics tools to learn, analyse and develope predictive models from the data.\n",
    "    Example: Amazon, Netflix, Classification Apps, Regression Applications\n",
    "    \n",
    "**3 Deep Learning:** \n",
    "It is used to mimic human brain through \"Multilayered Nural Network\"\n",
    "    Example: Object Detection, Image Recognition, Chat bots, Chat GPT"
   ]
  },
  {
   "cell_type": "markdown",
   "id": "4c1c3da1",
   "metadata": {},
   "source": [
    "**Q2) What is supervised learning? List some example of supervised learning**\n",
    "\n",
    "ans: Supervised learning is used to solve 3 types of problem statements:\n",
    "    a- Classifiction\n",
    "    b- Regression problems\n",
    "In supervised ML, dataset has a spesific outpout and model is trained to predict the output.<br>\n",
    "example\n"
   ]
  },
  {
   "cell_type": "markdown",
   "id": "6f23a685",
   "metadata": {},
   "source": [
    "**Q3 What is Unsupervised Learning? List some of the examples.**\n",
    "\n",
    "ans:\n",
    "in unsupervised learning only dataset without any output is availabe and clusters or similar groups are formed of the data.<br>\n",
    "\n",
    "Example\n"
   ]
  },
  {
   "cell_type": "markdown",
   "id": "7bf8a850",
   "metadata": {},
   "source": [
    "**Q4 What is the difference between AI,ML,DL?**\n",
    "\n",
    "ans:\n",
    "**1 Artificial Intelligence:** \n",
    "AI is a concept of building smart/intelligent applications/machines that can perform its own task without any human intervention\n",
    "    Example: Self driving car, robots etc\n",
    "    \n",
    "**2 Machine Learning:**\n",
    "MAchine Learning is a subset of Artificial Intelligence. It provides statistics tools to learn, analyse and develope predictive models from the data.\n",
    "    Example: Amazon, Netflix, Classification Apps, Regression Applications\n",
    "    \n",
    "**3 Deep Learning:** \n",
    "It is used to mimic human brain through \"Multilayered Nural Network\"\n",
    "    Example: Object Detection, Image Recognition, Chat bots, Chat GPT"
   ]
  },
  {
   "cell_type": "markdown",
   "id": "bb932d17",
   "metadata": {},
   "source": [
    "**Q5 What are the main differences between Supervised, unsupervised and semi-supervised learning?**\n",
    "\n",
    "|Supervised learning|Unsupervised Learning|Semi Supervised Learning|\n",
    "|-|-|-|\n",
    "|require labeled data for training|does not require labeled data for training|uses both labeled and unlabeled data for training|"
   ]
  },
  {
   "cell_type": "markdown",
   "id": "54bb4f92",
   "metadata": {},
   "source": [
    "**Q6 What is train, test and validation split> Explain the importtance with example**\n",
    "\n",
    "ans:\n",
    "before model training and prediction the datat set is divided into 3 categories\n",
    "\n",
    "1- **Training dataset:** used to train the model\n",
    "\n",
    "2- **Validation set:** used to evaluate the machine learning model's performance during training.\n",
    "\n",
    "3- **test dataset:** used to evaluate the machine learning model's performance on new , unseen dataset."
   ]
  },
  {
   "cell_type": "markdown",
   "id": "f9af84f3",
   "metadata": {},
   "source": [
    "**Q7 How can unsupervised learning is used in anomaly detection?**\n",
    "\n",
    "ans:\n",
    "In unspervised learning clusters are formed of the similar data sets which occurs ferequently thus any data point that occurs less frequently is considered as anomalies."
   ]
  },
  {
   "cell_type": "markdown",
   "id": "f4bd1f95",
   "metadata": {},
   "source": [
    "**Q8 List down some commonly used supervised learning algorithms and unsupervised learning algorithms?**\n",
    "\n",
    "ans:\n",
    "Supervised Learning algorithms\n",
    "- decision tree, \n",
    "- logistic regression,\n",
    "- linear regression,\n",
    "- support vector machine\n",
    "\n",
    "Unsupervised Learning algorithms:\n",
    "-    K-means clustering.\n",
    "-   KNN (k-nearest neighbors)\n",
    "-    Hierarchal clustering.\n",
    "-    Anomaly detection.\n",
    "-    Neural Networks.\n",
    "-    Principle Component Analysis.\n",
    "-    Independent Component Analysis.\n",
    "-    Apriori algorithm."
   ]
  },
  {
   "cell_type": "code",
   "execution_count": null,
   "id": "6e8fdace",
   "metadata": {},
   "outputs": [],
   "source": []
  }
 ],
 "metadata": {
  "kernelspec": {
   "display_name": "Python 3 (ipykernel)",
   "language": "python",
   "name": "python3"
  },
  "language_info": {
   "codemirror_mode": {
    "name": "ipython",
    "version": 3
   },
   "file_extension": ".py",
   "mimetype": "text/x-python",
   "name": "python",
   "nbconvert_exporter": "python",
   "pygments_lexer": "ipython3",
   "version": "3.10.12"
  }
 },
 "nbformat": 4,
 "nbformat_minor": 5
}
