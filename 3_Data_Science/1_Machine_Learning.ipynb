{
 "cells": [
  {
   "cell_type": "markdown",
   "id": "231d81f8",
   "metadata": {},
   "source": [
    "# <a href=\"Resources/pdf/1_Introduction_Machine_Learning_230808_235719.pdf\">Machine Learning</a>\n",
    "##### <a href=\"../Assignments/15_March_Machine_Learning%20_Assignment.ipynb\">Assignment-1</a>\n",
    "##### <a href=\"../Assignments/16_March_Machine_Learning%20_Assignment.ipynb\">Assignment-2</a>"
   ]
  },
  {
   "cell_type": "code",
   "execution_count": null,
   "id": "761e8b89",
   "metadata": {},
   "outputs": [],
   "source": []
  },
  {
   "cell_type": "code",
   "execution_count": null,
   "id": "e9a26d9a",
   "metadata": {},
   "outputs": [],
   "source": []
  }
 ],
 "metadata": {
  "kernelspec": {
   "display_name": "Python 3 (ipykernel)",
   "language": "python",
   "name": "python3"
  },
  "language_info": {
   "codemirror_mode": {
    "name": "ipython",
    "version": 3
   },
   "file_extension": ".py",
   "mimetype": "text/x-python",
   "name": "python",
   "nbconvert_exporter": "python",
   "pygments_lexer": "ipython3",
   "version": "3.10.12"
  }
 },
 "nbformat": 4,
 "nbformat_minor": 5
}
