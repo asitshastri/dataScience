{
 "cells": [
  {
   "cell_type": "markdown",
   "metadata": {
    "id": "zeoJ8RNeVRIg"
   },
   "source": [
    "1.Write a Python program to create two processes that print out the numbers from 1 to 10 simultaneously."
   ]
  },
  {
   "cell_type": "code",
   "execution_count": null,
   "metadata": {
    "colab": {
     "base_uri": "https://localhost:8080/"
    },
    "id": "wyTdCuemURwH",
    "outputId": "930b4f77-b619-4cdf-b9ea-19c2ae7c4e53"
   },
   "outputs": [
    {
     "name": "stdout",
     "output_type": "stream",
     "text": [
      "1\n",
      "2\n",
      "3\n",
      "4\n",
      "5\n",
      "6\n",
      "7\n",
      "8\n",
      "9\n",
      "10\n"
     ]
    }
   ],
   "source": [
    "from multiprocessing import Process\n",
    "\n",
    "def print_numbers(start, end):\n",
    "    for i in range(start, end+1):\n",
    "        print(i)\n",
    "\n",
    "if __name__ == '__main__':\n",
    "    p1 = Process(target=print_numbers, args=(1, 5))\n",
    "    p2 = Process(target=print_numbers, args=(6, 10))\n",
    "    \n",
    "    p1.start()\n",
    "\n",
    "    \n",
    "    p1.join()\n",
    "\n",
    "    p2.start()\n",
    "    p2.join()\n"
   ]
  },
  {
   "cell_type": "code",
   "execution_count": null,
   "metadata": {
    "id": "80hjR00nUX4p"
   },
   "outputs": [],
   "source": []
  },
  {
   "cell_type": "markdown",
   "metadata": {
    "id": "G1U-hNRIWiMp"
   },
   "source": [
    "2.Write a Python program that creates four processes and computes the sum of the first 1000 integers using multiprocessing"
   ]
  },
  {
   "cell_type": "code",
   "execution_count": null,
   "metadata": {
    "colab": {
     "base_uri": "https://localhost:8080/"
    },
    "id": "XrWXelGZWjKT",
    "outputId": "6db27155-186e-4bd6-b1ef-94b462bb81d8"
   },
   "outputs": [
    {
     "name": "stdout",
     "output_type": "stream",
     "text": [
      "Total: 500500\n"
     ]
    }
   ],
   "source": [
    "from multiprocessing import Process, Value\n",
    "\n",
    "def compute_sum(start, end, total):\n",
    "    for i in range(start, end+1):\n",
    "        with total.get_lock():\n",
    "            total.value += i\n",
    "\n",
    "if __name__ == '__main__':\n",
    "    total = Value('i', 0)\n",
    "    \n",
    "    p1 = Process(target=compute_sum, args=(1, 250, total))\n",
    "    p2 = Process(target=compute_sum, args=(251, 500, total))\n",
    "    p3 = Process(target=compute_sum, args=(501, 750, total))\n",
    "    p4 = Process(target=compute_sum, args=(751, 1000, total))\n",
    "    \n",
    "    p1.start()\n",
    "    p2.start()\n",
    "    p3.start()\n",
    "    p4.start()\n",
    "    \n",
    "    p1.join()\n",
    "    p2.join()\n",
    "    p3.join()\n",
    "    p4.join()\n",
    "    \n",
    "    print('Total:', total.value)\n"
   ]
  },
  {
   "cell_type": "code",
   "execution_count": null,
   "metadata": {
    "id": "TM4SonjPWqIw"
   },
   "outputs": [],
   "source": []
  },
  {
   "cell_type": "markdown",
   "metadata": {
    "id": "3LwmochgWqpg"
   },
   "source": [
    "3.Write a Python program that creates two processes and communicates between them using a Queue. The first process should send a list of numbers to the second process, which should calculate the sum of the numbers and send it back to the first process."
   ]
  },
  {
   "cell_type": "code",
   "execution_count": null,
   "metadata": {
    "colab": {
     "base_uri": "https://localhost:8080/"
    },
    "id": "JGLJwwHKXAgd",
    "outputId": "a7dc5c86-2cd3-4c8f-e8a8-ff03c902b4fc"
   },
   "outputs": [
    {
     "name": "stdout",
     "output_type": "stream",
     "text": [
      "The sum of the numbers [1, 2, 3, 4, 5] is 15.\n"
     ]
    }
   ],
   "source": [
    "from multiprocessing import Process, Queue\n",
    "\n",
    "def calculate_sum(numbers, q):\n",
    "    \"\"\"\n",
    "    This function takes a list of numbers and calculates the sum of them.\n",
    "    The result is put into a queue to be returned to the main process.\n",
    "    \"\"\"\n",
    "    result = sum(numbers)\n",
    "    q.put(result)\n",
    "\n",
    "if __name__ == '__main__':\n",
    "    # Define the list of numbers to be summed\n",
    "    numbers = [1, 2, 3, 4, 5]\n",
    "\n",
    "    # Create a queue to communicate between processes\n",
    "    q = Queue()\n",
    "\n",
    "    # Create a process to calculate the sum of the numbers\n",
    "    p = Process(target=calculate_sum, args=(numbers, q))\n",
    "    p.start()\n",
    "\n",
    "    # Wait for the result to be put in the queue and retrieve it\n",
    "    result = q.get()\n",
    "\n",
    "    # Print the result\n",
    "    print(f\"The sum of the numbers {numbers} is {result}.\")\n"
   ]
  },
  {
   "cell_type": "code",
   "execution_count": null,
   "metadata": {
    "id": "2bU8Nq-AZOV6"
   },
   "outputs": [],
   "source": []
  },
  {
   "cell_type": "markdown",
   "metadata": {
    "id": "HMq8nk-ywNjC"
   },
   "source": [
    "4.Write a program to find the maximum number in a list of lists using multiprocessing."
   ]
  },
  {
   "cell_type": "code",
   "execution_count": null,
   "metadata": {
    "colab": {
     "base_uri": "https://localhost:8080/"
    },
    "id": "MqMLPX6kwTAW",
    "outputId": "dc72addf-e539-4b9b-fd29-658bcf31ecf6"
   },
   "outputs": [
    {
     "name": "stdout",
     "output_type": "stream",
     "text": [
      "9\n"
     ]
    }
   ],
   "source": [
    "import multiprocessing\n",
    "\n",
    "def find_max(nums):\n",
    "    return max(nums)\n",
    "\n",
    "if __name__ == '__main__':\n",
    "    nums = [[1, 2, 3], [4, 5, 6], [7, 8, 9]]\n",
    "    with multiprocessing.Pool(processes=3) as pool:\n",
    "        result = pool.map(find_max, nums)\n",
    "    print(max(result))\n"
   ]
  },
  {
   "cell_type": "code",
   "execution_count": null,
   "metadata": {
    "id": "jLXeKX0WwbPK"
   },
   "outputs": [],
   "source": []
  },
  {
   "cell_type": "markdown",
   "metadata": {
    "id": "e1a5O7rkwfKp"
   },
   "source": [
    "5.Write a Python program that uses the Pool class from the multiprocessing module to calculate the squares of a list of integers."
   ]
  },
  {
   "cell_type": "code",
   "execution_count": null,
   "metadata": {
    "colab": {
     "base_uri": "https://localhost:8080/"
    },
    "id": "r31csRk4xgPR",
    "outputId": "d110a0bb-45e8-4cda-e03d-ae87a83897e6"
   },
   "outputs": [
    {
     "name": "stdout",
     "output_type": "stream",
     "text": [
      "[1, 4, 9, 16, 25]\n"
     ]
    }
   ],
   "source": [
    "import multiprocessing\n",
    "\n",
    "def square(x):\n",
    "    return x ** 2\n",
    "\n",
    "if __name__ == '__main__':\n",
    "    with multiprocessing.Pool(processes=4) as pool:\n",
    "        numbers = [1, 2, 3, 4, 5]\n",
    "        result = pool.map(square, numbers)\n",
    "        print(result)\n"
   ]
  },
  {
   "cell_type": "code",
   "execution_count": null,
   "metadata": {
    "colab": {
     "base_uri": "https://localhost:8080/"
    },
    "id": "z9jDhzWpxi8F",
    "outputId": "04184f45-85af-49ca-e792-1b3b1f0bf111"
   },
   "outputs": [
    {
     "name": "stdout",
     "output_type": "stream",
     "text": [
      "Object `Python` not found.\n"
     ]
    }
   ],
   "source": []
  },
  {
   "cell_type": "markdown",
   "metadata": {
    "id": "eaWecuKy1m47"
   },
   "source": [
    "6.How do you create a new process using the multiprocessing module in Python?"
   ]
  },
  {
   "cell_type": "code",
   "execution_count": null,
   "metadata": {
    "colab": {
     "base_uri": "https://localhost:8080/"
    },
    "id": "AYx-AMW2yS1P",
    "outputId": "582f0ff2-09c1-49d8-e8e8-889e4769e7a5"
   },
   "outputs": [
    {
     "name": "stdout",
     "output_type": "stream",
     "text": [
      "This is a child process.\n"
     ]
    }
   ],
   "source": [
    "import multiprocessing\n",
    "\n",
    "def my_function():\n",
    "    print(\"This is a child process.\")\n",
    "\n",
    "if __name__ == '__main__':\n",
    "    p = multiprocessing.Process(target=my_function)\n",
    "    p.start()\n"
   ]
  },
  {
   "cell_type": "code",
   "execution_count": null,
   "metadata": {
    "colab": {
     "base_uri": "https://localhost:8080/"
    },
    "id": "j4ZXmX4CyU4z",
    "outputId": "19d148c8-a2d9-4bb2-ace7-d3b413ffa65a"
   },
   "outputs": [
    {
     "name": "stdout",
     "output_type": "stream",
     "text": [
      "Object `parallel` not found.\n"
     ]
    }
   ],
   "source": []
  },
  {
   "cell_type": "markdown",
   "metadata": {
    "id": "Td-JQtN5ysC9"
   },
   "source": [
    "7.How do you use a Pool to execute a function with multiple arguments in parallel?"
   ]
  },
  {
   "cell_type": "code",
   "execution_count": null,
   "metadata": {
    "colab": {
     "base_uri": "https://localhost:8080/"
    },
    "id": "95q1CmgHyi-A",
    "outputId": "c5fd8b94-9c44-4772-bec3-9f8529416911"
   },
   "outputs": [
    {
     "name": "stdout",
     "output_type": "stream",
     "text": [
      "[6, 20]\n"
     ]
    }
   ],
   "source": [
    "import multiprocessing\n",
    "\n",
    "def my_function(num1, num2):\n",
    "    return num1 * num2\n",
    "\n",
    "if __name__ == '__main__':\n",
    "    with multiprocessing.Pool(processes=2) as pool:\n",
    "        results = pool.starmap(my_function, [(2, 3), (4, 5)])\n",
    "    print(results)\n"
   ]
  },
  {
   "cell_type": "code",
   "execution_count": null,
   "metadata": {
    "id": "7bYhqmzky3iy"
   },
   "outputs": [],
   "source": []
  },
  {
   "cell_type": "markdown",
   "metadata": {
    "id": "8vVsuz_hz7UV"
   },
   "source": [
    "8.Write a Python program to calculate the sum of squares of numbers in a list using multiprocessing."
   ]
  },
  {
   "cell_type": "code",
   "execution_count": null,
   "metadata": {
    "colab": {
     "base_uri": "https://localhost:8080/"
    },
    "id": "bDrH2AbAz-lb",
    "outputId": "a51d1a0a-7dca-4763-9b2b-f134f143eeb1"
   },
   "outputs": [
    {
     "name": "stdout",
     "output_type": "stream",
     "text": [
      "Sum of squares of [1, 2, 3, 4, 5] is 55\n"
     ]
    }
   ],
   "source": [
    "import multiprocessing\n",
    "\n",
    "def square_sum(numbers, result):\n",
    "    \"\"\"Calculate the sum of squares of numbers and store the result in the given shared array.\"\"\"\n",
    "    total = 0\n",
    "    for num in numbers:\n",
    "        total += num**2\n",
    "    result.value = total\n",
    "\n",
    "if __name__ == \"__main__\":\n",
    "    nums = [1, 2, 3, 4, 5]\n",
    "    result = multiprocessing.Value('i')  # shared integer value\n",
    "    p = multiprocessing.Process(target=square_sum, args=(nums, result))\n",
    "    p.start()\n",
    "    p.join()\n",
    "    print(f\"Sum of squares of {nums} is {result.value}\")\n"
   ]
  },
  {
   "cell_type": "code",
   "execution_count": null,
   "metadata": {
    "id": "fROEk-jb0B-d"
   },
   "outputs": [],
   "source": []
  },
  {
   "cell_type": "markdown",
   "metadata": {
    "id": "M6k6-Hvd0FAs"
   },
   "source": [
    "9.Write a Python program that uses the multiprocessing module to calculate the sum of a large list of integers."
   ]
  },
  {
   "cell_type": "code",
   "execution_count": null,
   "metadata": {
    "colab": {
     "base_uri": "https://localhost:8080/"
    },
    "id": "tv_73MZI2zKz",
    "outputId": "741cecd7-16fe-4725-f742-8432644d3c3a"
   },
   "outputs": [
    {
     "name": "stdout",
     "output_type": "stream",
     "text": [
      "5500000\n"
     ]
    }
   ],
   "source": [
    "import multiprocessing\n",
    "def sum_worker(data_chunk):\n",
    "    return sum(data_chunk)\n",
    "def main():\n",
    "    data = [1, 2, 3, 4, 5, 6, 7, 8, 9, 10] * 100000\n",
    "    pool = multiprocessing.Pool(processes=4)\n",
    "    chunksize = len(data) // 4\n",
    "    chunks = [data[i:i+chunksize] for i in range(0, len(data), chunksize)]\n",
    "    results = pool.map(sum_worker, chunks)\n",
    "    pool.close()\n",
    "    pool.join()\n",
    "    total = sum(results)\n",
    "    print(total)\n",
    "if __name__ == \"__main__\":\n",
    "    main()"
   ]
  },
  {
   "cell_type": "code",
   "execution_count": null,
   "metadata": {
    "id": "tzyQYMVO210j"
   },
   "outputs": [],
   "source": []
  },
  {
   "cell_type": "markdown",
   "metadata": {
    "id": "92gEwbq646-3"
   },
   "source": [
    "10.Write a Python program that uses the multiprocessing module to parallelize the computation of the factorial of a number."
   ]
  },
  {
   "cell_type": "code",
   "execution_count": null,
   "metadata": {
    "colab": {
     "base_uri": "https://localhost:8080/"
    },
    "id": "xuqoPUhe48Ge",
    "outputId": "d000eb00-6ad7-4c20-a4ff-9435c6be27b5"
   },
   "outputs": [
    {
     "name": "stdout",
     "output_type": "stream",
     "text": [
      "The factorials of the numbers 1 to 10 are: [1, 2, 6, 24, 120, 720, 5040, 40320, 362880, 3628800]\n"
     ]
    }
   ],
   "source": [
    "import multiprocessing\n",
    "def factorial(n):\n",
    "    if n == 0:\n",
    "        return 1\n",
    "    else:\n",
    "        return n * factorial(n-1)\n",
    "def factorial_worker(n):\n",
    "    return factorial(n)\n",
    "def main():\n",
    "    n = 10\n",
    "    pool = multiprocessing.Pool(processes=4)\n",
    "    results = pool.map(factorial_worker, range(1, n+1))\n",
    "    pool.close()\n",
    "    pool.join()\n",
    "    print(f\"The factorials of the numbers 1 to {n} are: {results}\")\n",
    "if __name__ == \"__main__\":\n",
    "    main()"
   ]
  },
  {
   "cell_type": "code",
   "execution_count": null,
   "metadata": {
    "id": "QYJNq68y5Dwx"
   },
   "outputs": [],
   "source": []
  }
 ],
 "metadata": {
  "colab": {
   "provenance": []
  },
  "kernelspec": {
   "display_name": "Python 3 (ipykernel)",
   "language": "python",
   "name": "python3"
  },
  "language_info": {
   "codemirror_mode": {
    "name": "ipython",
    "version": 3
   },
   "file_extension": ".py",
   "mimetype": "text/x-python",
   "name": "python",
   "nbconvert_exporter": "python",
   "pygments_lexer": "ipython3",
   "version": "3.10.6"
  }
 },
 "nbformat": 4,
 "nbformat_minor": 1
}
