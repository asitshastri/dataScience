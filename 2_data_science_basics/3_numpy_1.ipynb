{
 "cells": [
  {
   "cell_type": "code",
   "execution_count": 43,
   "id": "baef7d85",
   "metadata": {},
   "outputs": [],
   "source": [
    "import numpy as np"
   ]
  },
  {
   "cell_type": "markdown",
   "id": "8fbefb02",
   "metadata": {},
   "source": [
    "#### Converting a list into an array using numpy"
   ]
  },
  {
   "cell_type": "code",
   "execution_count": 9,
   "id": "2d7ef2ee",
   "metadata": {},
   "outputs": [
    {
     "name": "stdout",
     "output_type": "stream",
     "text": [
      "[ 1  2  3  4  5  6  7  8  9 10]\n",
      "<class 'numpy.ndarray'>\n",
      "10\n"
     ]
    }
   ],
   "source": [
    "l=[i for i in range(1,11)]\n",
    "arr= np.array(l)\n",
    "print(arr)\n",
    "print(type(arr))\n",
    "print(len(arr))"
   ]
  },
  {
   "cell_type": "code",
   "execution_count": 13,
   "id": "2d1629b1",
   "metadata": {},
   "outputs": [
    {
     "data": {
      "text/plain": [
       "array([ 1,  2,  3,  4,  5,  6,  7,  8,  9, 10])"
      ]
     },
     "execution_count": 13,
     "metadata": {},
     "output_type": "execute_result"
    }
   ],
   "source": [
    "#Or array can also be created using \n",
    "np.asarray(l)"
   ]
  },
  {
   "cell_type": "markdown",
   "id": "63bad72b",
   "metadata": {},
   "source": [
    "### Creating a array for nested array (2D-Array)"
   ]
  },
  {
   "cell_type": "code",
   "execution_count": 16,
   "id": "62868afd",
   "metadata": {},
   "outputs": [
    {
     "name": "stdout",
     "output_type": "stream",
     "text": [
      "[[ 1  2  3  4  5]\n",
      " [ 6  7  8  9 10]]\n"
     ]
    }
   ],
   "source": [
    "l1=[[1,2,3,4,5],[6,7,8,9,10]]\n",
    "arr1 = np.array(l1)\n",
    "print(arr1)\n",
    "#prints an n 2 dimentional array"
   ]
  },
  {
   "cell_type": "markdown",
   "id": "feba0b78",
   "metadata": {},
   "source": [
    "**array.ndim**- used to calculate the dimension of a array"
   ]
  },
  {
   "cell_type": "code",
   "execution_count": 17,
   "id": "04619c6f",
   "metadata": {},
   "outputs": [
    {
     "data": {
      "text/plain": [
       "1"
      ]
     },
     "execution_count": 17,
     "metadata": {},
     "output_type": "execute_result"
    }
   ],
   "source": [
    "arr.ndim # 1-dimensional array"
   ]
  },
  {
   "cell_type": "code",
   "execution_count": 19,
   "id": "08bf98b1",
   "metadata": {},
   "outputs": [
    {
     "data": {
      "text/plain": [
       "2"
      ]
     },
     "execution_count": 19,
     "metadata": {},
     "output_type": "execute_result"
    }
   ],
   "source": [
    "arr1.ndim # 2-dimensional array"
   ]
  },
  {
   "cell_type": "markdown",
   "id": "55e5a18b",
   "metadata": {},
   "source": [
    "### Matrices\n",
    "##### use: array.matrix(l) to convert to a matrix\n",
    "##### A matrix is by default a 2d array"
   ]
  },
  {
   "cell_type": "code",
   "execution_count": 20,
   "id": "5214705a",
   "metadata": {},
   "outputs": [
    {
     "name": "stdout",
     "output_type": "stream",
     "text": [
      "[[ 1  2  3  4  5  6  7  8  9 10]]\n"
     ]
    }
   ],
   "source": [
    "#converting l into a matrix\n",
    "mat = np.matrix(l)\n",
    "print(mat)\n"
   ]
  },
  {
   "cell_type": "markdown",
   "id": "d8e2d05f",
   "metadata": {},
   "source": [
    "observe that that the np.matrix add 2 brackets because by default a matrix is a 2d array"
   ]
  },
  {
   "cell_type": "markdown",
   "id": "a63d73de",
   "metadata": {},
   "source": [
    "**Q- Converting above given matrix a san array**"
   ]
  },
  {
   "cell_type": "code",
   "execution_count": 21,
   "id": "b66aa142",
   "metadata": {},
   "outputs": [
    {
     "data": {
      "text/plain": [
       "matrix([[ 1,  2,  3,  4,  5,  6,  7,  8,  9, 10]])"
      ]
     },
     "execution_count": 21,
     "metadata": {},
     "output_type": "execute_result"
    }
   ],
   "source": [
    "np.asanyarray(mat)"
   ]
  },
  {
   "cell_type": "markdown",
   "id": "e6b33bbe",
   "metadata": {},
   "source": [
    "**Observation**: Matrix can not be conver to an array because np.asanyarray converts a data into an array and matrix being a 2-dimentional array i.e a subclass of array it can't be cinverted to an array again"
   ]
  },
  {
   "cell_type": "code",
   "execution_count": null,
   "id": "cd5ff203",
   "metadata": {},
   "outputs": [],
   "source": []
  },
  {
   "cell_type": "markdown",
   "id": "20cd725e",
   "metadata": {},
   "source": [
    "## Deep Copy vs Swallow Copy"
   ]
  },
  {
   "cell_type": "markdown",
   "id": "8bfed0be",
   "metadata": {},
   "source": [
    "### Swallow Copy"
   ]
  },
  {
   "cell_type": "code",
   "execution_count": 23,
   "id": "7bb1a532",
   "metadata": {},
   "outputs": [
    {
     "name": "stdout",
     "output_type": "stream",
     "text": [
      "[100   2   3   4   5   6   7   8   9  10]\n",
      "[100   2   3   4   5   6   7   8   9  10]\n"
     ]
    }
   ],
   "source": [
    "a = arr\n",
    "arr[0]=100\n",
    "print(arr)\n",
    "print(a)"
   ]
  },
  {
   "cell_type": "markdown",
   "id": "c48a017d",
   "metadata": {},
   "source": [
    "**Observation:** as the value of a[0] is changed the value of a[0] is also changed\n",
    "#### Reason: Variable arr is just a reference that is pointing towards a memory location and command a=arr creates another reference veriable 'a' that is point to that memory location. So any change in either will be reflected on both"
   ]
  },
  {
   "cell_type": "markdown",
   "id": "142a3a98",
   "metadata": {},
   "source": [
    "### Deep Copy"
   ]
  },
  {
   "cell_type": "code",
   "execution_count": 24,
   "id": "cc014a55",
   "metadata": {},
   "outputs": [
    {
     "name": "stdout",
     "output_type": "stream",
     "text": [
      "[200   2   3   4   5   6   7   8   9  10]\n",
      "[100   2   3   4   5   6   7   8   9  10]\n"
     ]
    }
   ],
   "source": [
    "b = np.copy(arr)\n",
    "arr[0]=200\n",
    "print(arr)\n",
    "print(b)"
   ]
  },
  {
   "cell_type": "markdown",
   "id": "ca3fc788",
   "metadata": {},
   "source": [
    "#### Reason: <u> np.copy()</u> Method creates a new memory location for the data and b will be pointing toward the new location different from arr"
   ]
  },
  {
   "cell_type": "code",
   "execution_count": null,
   "id": "d5341a38",
   "metadata": {},
   "outputs": [],
   "source": []
  },
  {
   "cell_type": "markdown",
   "id": "db105356",
   "metadata": {},
   "source": [
    "## np.fromfunction()\n",
    "takes a function and creates an arrray based on that function"
   ]
  },
  {
   "cell_type": "code",
   "execution_count": 26,
   "id": "1d53d4e5",
   "metadata": {},
   "outputs": [
    {
     "data": {
      "text/plain": [
       "array([[ True, False, False],\n",
       "       [False,  True, False],\n",
       "       [False, False,  True]])"
      ]
     },
     "execution_count": 26,
     "metadata": {},
     "output_type": "execute_result"
    }
   ],
   "source": [
    "np.fromfunction(lambda i,j:i==j , (3,3) )\n",
    "#here if condition i==j is true then true is printed\n",
    "#(3,3)- signifies a 2=d matrix"
   ]
  },
  {
   "cell_type": "code",
   "execution_count": 27,
   "id": "7ee918df",
   "metadata": {},
   "outputs": [
    {
     "data": {
      "text/plain": [
       "array([[0., 0., 0.],\n",
       "       [0., 1., 2.],\n",
       "       [0., 2., 4.]])"
      ]
     },
     "execution_count": 27,
     "metadata": {},
     "output_type": "execute_result"
    }
   ],
   "source": [
    "np.fromfunction(lambda i,j:i*j , (3,3) )"
   ]
  },
  {
   "cell_type": "code",
   "execution_count": null,
   "id": "bc6191b9",
   "metadata": {},
   "outputs": [],
   "source": []
  },
  {
   "cell_type": "markdown",
   "id": "9f4cb2a7",
   "metadata": {},
   "source": [
    "## Creating array from Iterable Object"
   ]
  },
  {
   "cell_type": "code",
   "execution_count": 33,
   "id": "b6f5e71a",
   "metadata": {},
   "outputs": [
    {
     "name": "stdout",
     "output_type": "stream",
     "text": [
      "<class 'generator'>\n"
     ]
    },
    {
     "data": {
      "text/plain": [
       "array([ 0.,  1.,  4.,  9., 16., 25., 36., 49., 64., 81.])"
      ]
     },
     "execution_count": 33,
     "metadata": {},
     "output_type": "execute_result"
    }
   ],
   "source": [
    "iterable_obj = (i*i for i in range(10))\n",
    "print(type(iterable_obj))\n",
    "\n",
    "#creating array using np.array \n",
    "# np.array(iterable_obj)  #o/p- array(<generator object <genexpr> at 0x0000023456E8BAC0>, dtype=object)\n",
    "\n",
    "#np.fromiter()\n",
    "np.fromiter(iterable_obj,float)"
   ]
  },
  {
   "cell_type": "code",
   "execution_count": null,
   "id": "9d0db499",
   "metadata": {},
   "outputs": [],
   "source": []
  },
  {
   "cell_type": "markdown",
   "id": "b06de563",
   "metadata": {},
   "source": [
    "## Creating array from a string"
   ]
  },
  {
   "cell_type": "code",
   "execution_count": 37,
   "id": "d6c32cbf",
   "metadata": {},
   "outputs": [
    {
     "data": {
      "text/plain": [
       "array([2023,    3,    3])"
      ]
     },
     "execution_count": 37,
     "metadata": {},
     "output_type": "execute_result"
    }
   ],
   "source": [
    "np.fromstring('2023-03-03',int,sep='-')"
   ]
  },
  {
   "cell_type": "code",
   "execution_count": null,
   "id": "00c78e12",
   "metadata": {},
   "outputs": [],
   "source": []
  },
  {
   "cell_type": "markdown",
   "id": "39bb5959",
   "metadata": {},
   "source": [
    "## Functions to View info. about an Array"
   ]
  },
  {
   "cell_type": "markdown",
   "id": "483b5f9d",
   "metadata": {},
   "source": [
    "### .ndim"
   ]
  },
  {
   "cell_type": "code",
   "execution_count": 38,
   "id": "527886d2",
   "metadata": {},
   "outputs": [
    {
     "data": {
      "text/plain": [
       "2"
      ]
     },
     "execution_count": 38,
     "metadata": {},
     "output_type": "execute_result"
    }
   ],
   "source": [
    "arr1.ndim"
   ]
  },
  {
   "cell_type": "markdown",
   "id": "e5a6fefa",
   "metadata": {},
   "source": [
    "### .size\n",
    "Tells total no of elements inside an array"
   ]
  },
  {
   "cell_type": "code",
   "execution_count": 40,
   "id": "006a5378",
   "metadata": {},
   "outputs": [
    {
     "data": {
      "text/plain": [
       "10"
      ]
     },
     "execution_count": 40,
     "metadata": {},
     "output_type": "execute_result"
    }
   ],
   "source": [
    "arr1.size"
   ]
  },
  {
   "cell_type": "markdown",
   "id": "7e9f96b7",
   "metadata": {},
   "source": [
    "### .shape"
   ]
  },
  {
   "cell_type": "code",
   "execution_count": 41,
   "id": "30749dc0",
   "metadata": {},
   "outputs": [
    {
     "data": {
      "text/plain": [
       "(2, 5)"
      ]
     },
     "execution_count": 41,
     "metadata": {},
     "output_type": "execute_result"
    }
   ],
   "source": [
    "arr1.shape"
   ]
  },
  {
   "cell_type": "markdown",
   "id": "bc3f1887",
   "metadata": {},
   "source": [
    "### .dtype"
   ]
  },
  {
   "cell_type": "code",
   "execution_count": 42,
   "id": "c571443b",
   "metadata": {},
   "outputs": [
    {
     "data": {
      "text/plain": [
       "dtype('int32')"
      ]
     },
     "execution_count": 42,
     "metadata": {},
     "output_type": "execute_result"
    }
   ],
   "source": [
    "arr1.dtype"
   ]
  },
  {
   "cell_type": "code",
   "execution_count": null,
   "id": "9ba4c2b2",
   "metadata": {},
   "outputs": [],
   "source": []
  }
 ],
 "metadata": {
  "kernelspec": {
   "display_name": "Python 3 (ipykernel)",
   "language": "python",
   "name": "python3"
  },
  "language_info": {
   "codemirror_mode": {
    "name": "ipython",
    "version": 3
   },
   "file_extension": ".py",
   "mimetype": "text/x-python",
   "name": "python",
   "nbconvert_exporter": "python",
   "pygments_lexer": "ipython3",
   "version": "3.11.3"
  }
 },
 "nbformat": 4,
 "nbformat_minor": 5
}
