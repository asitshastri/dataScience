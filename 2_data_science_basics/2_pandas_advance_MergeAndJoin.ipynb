{
 "cells": [
  {
   "cell_type": "markdown",
   "id": "28862525-c56e-4d16-8215-a6ae53a30694",
   "metadata": {},
   "source": [
    "# Pandas Merge and Join Method"
   ]
  },
  {
   "cell_type": "code",
   "execution_count": 1,
   "id": "8758a844-5827-447d-9293-94be2e9e6761",
   "metadata": {},
   "outputs": [],
   "source": [
    "import pandas as pd \n",
    "import numpy as np \n",
    "import matplotlib.pyplot as plt"
   ]
  },
  {
   "cell_type": "code",
   "execution_count": null,
   "id": "ac657aec-5568-42d2-9b3d-8c35b58e87d6",
   "metadata": {},
   "outputs": [],
   "source": []
  }
 ],
 "metadata": {
  "kernelspec": {
   "display_name": "Python 3 (ipykernel)",
   "language": "python",
   "name": "python3"
  },
  "language_info": {
   "codemirror_mode": {
    "name": "ipython",
    "version": 3
   },
   "file_extension": ".py",
   "mimetype": "text/x-python",
   "name": "python",
   "nbconvert_exporter": "python",
   "pygments_lexer": "ipython3",
   "version": "3.13.1"
  }
 },
 "nbformat": 4,
 "nbformat_minor": 5
}
