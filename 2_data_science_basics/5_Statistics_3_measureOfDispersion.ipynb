{
 "cells": [
  {
   "cell_type": "markdown",
   "id": "d798d035",
   "metadata": {},
   "source": [
    "# <a href=\"PDFs/Statistics/7_ march_Statistics_2_Measure_of_dispersion_230511_164324.pdf\">Measure of dispersion</a>"
   ]
  },
  {
   "cell_type": "code",
   "execution_count": 1,
   "id": "367b8665",
   "metadata": {},
   "outputs": [
    {
     "data": {
      "text/html": [
       "<embed src=\"PDFs/Statistics/7_ march_Statistics_2_Measure_of_dispersion_230511_164324.pdf\" type=\"application/pdf\" width=\"100%\" height=\"600px\" />"
      ],
      "text/plain": [
       "<IPython.core.display.HTML object>"
      ]
     },
     "execution_count": 1,
     "metadata": {},
     "output_type": "execute_result"
    }
   ],
   "source": [
    "from customLib import viewpdf as view\n",
    "view.pdf(\"PDFs/Statistics/7_ march_Statistics_2_Measure_of_dispersion_230511_164324.pdf\")"
   ]
  },
  {
   "cell_type": "code",
   "execution_count": 8,
   "id": "889dee59",
   "metadata": {},
   "outputs": [],
   "source": [
    "import numpy as np\n",
    "ages_lst=[23,43,23,56,74,32,68,98,45,32]"
   ]
  },
  {
   "cell_type": "code",
   "execution_count": 10,
   "id": "9e3575ea",
   "metadata": {},
   "outputs": [
    {
     "name": "stdout",
     "output_type": "stream",
     "text": [
      "Calculating Mean, Varience and Std, deviationof: [23, 43, 23, 56, 74, 32, 68, 98, 45, 32]\n",
      "Mean: 49.4\n",
      "Varience: 541.64\n",
      "Square Root of Varience: 23.273160507331188\n",
      "Std. Deviation: 23.273160507331188\n"
     ]
    }
   ],
   "source": [
    "#calculating mean,variance,std, deviation of above lst\n",
    "try:\n",
    "    print(f'Calculating Mean, Varience and Std, deviationof: {ages_lst}')\n",
    "    print(f\"Mean: {np.mean(ages_lst)}\")\n",
    "    print(f\"Varience: {np.var(ages_lst)}\")\n",
    "    print(f\"Square Root of Varience: {(np.var(ages_lst))**0.5}\")\n",
    "    print(f\"Std. Deviation: {np.std(ages_lst)}\")\n",
    "except:\n",
    "    print(\"error\")"
   ]
  },
  {
   "cell_type": "code",
   "execution_count": null,
   "id": "79778352",
   "metadata": {},
   "outputs": [],
   "source": []
  },
  {
   "cell_type": "markdown",
   "id": "6f9305af",
   "metadata": {},
   "source": [
    "### Calaulating varience and std using pandas"
   ]
  },
  {
   "cell_type": "code",
   "execution_count": 11,
   "id": "4bdc10c2",
   "metadata": {},
   "outputs": [],
   "source": [
    "import pandas as pd"
   ]
  },
  {
   "cell_type": "code",
   "execution_count": 23,
   "id": "087e3f6b",
   "metadata": {},
   "outputs": [
    {
     "data": {
      "text/html": [
       "<div>\n",
       "<style scoped>\n",
       "    .dataframe tbody tr th:only-of-type {\n",
       "        vertical-align: middle;\n",
       "    }\n",
       "\n",
       "    .dataframe tbody tr th {\n",
       "        vertical-align: top;\n",
       "    }\n",
       "\n",
       "    .dataframe thead th {\n",
       "        text-align: right;\n",
       "    }\n",
       "</style>\n",
       "<table border=\"1\" class=\"dataframe\">\n",
       "  <thead>\n",
       "    <tr style=\"text-align: right;\">\n",
       "      <th></th>\n",
       "      <th>c1</th>\n",
       "      <th>c2</th>\n",
       "      <th>c3</th>\n",
       "    </tr>\n",
       "  </thead>\n",
       "  <tbody>\n",
       "    <tr>\n",
       "      <th>A</th>\n",
       "      <td>10</td>\n",
       "      <td>12</td>\n",
       "      <td>13</td>\n",
       "    </tr>\n",
       "    <tr>\n",
       "      <th>B</th>\n",
       "      <td>34</td>\n",
       "      <td>23</td>\n",
       "      <td>45</td>\n",
       "    </tr>\n",
       "    <tr>\n",
       "      <th>C</th>\n",
       "      <td>32</td>\n",
       "      <td>34</td>\n",
       "      <td>21</td>\n",
       "    </tr>\n",
       "  </tbody>\n",
       "</table>\n",
       "</div>"
      ],
      "text/plain": [
       "   c1  c2  c3\n",
       "A  10  12  13\n",
       "B  34  23  45\n",
       "C  32  34  21"
      ]
     },
     "execution_count": 23,
     "metadata": {},
     "output_type": "execute_result"
    }
   ],
   "source": [
    "data = [[10,12,13],[34,23,45],[32,34,21]]\n",
    "df = pd.DataFrame(data,index=['A','B','C'],columns=[\"c1\",\"c2\",\"c3\"])\n",
    "df"
   ]
  },
  {
   "cell_type": "code",
   "execution_count": 27,
   "id": "5ee80801",
   "metadata": {},
   "outputs": [
    {
     "data": {
      "text/plain": [
       "c1    177.333333\n",
       "c2    121.000000\n",
       "c3    277.333333\n",
       "dtype: float64"
      ]
     },
     "execution_count": 27,
     "metadata": {},
     "output_type": "execute_result"
    }
   ],
   "source": [
    "#varence column wise\n",
    "df.var()"
   ]
  },
  {
   "cell_type": "code",
   "execution_count": 28,
   "id": "64418fd8",
   "metadata": {},
   "outputs": [
    {
     "data": {
      "text/plain": [
       "A      2.333333\n",
       "B    121.000000\n",
       "C     49.000000\n",
       "dtype: float64"
      ]
     },
     "execution_count": 28,
     "metadata": {},
     "output_type": "execute_result"
    }
   ],
   "source": [
    "#varience row-wise\n",
    "df.var(axis=1)"
   ]
  },
  {
   "cell_type": "code",
   "execution_count": null,
   "id": "6aad4d19",
   "metadata": {},
   "outputs": [],
   "source": []
  }
 ],
 "metadata": {
  "kernelspec": {
   "display_name": "Python 3 (ipykernel)",
   "language": "python",
   "name": "python3"
  },
  "language_info": {
   "codemirror_mode": {
    "name": "ipython",
    "version": 3
   },
   "file_extension": ".py",
   "mimetype": "text/x-python",
   "name": "python",
   "nbconvert_exporter": "python",
   "pygments_lexer": "ipython3",
   "version": "3.10.6"
  }
 },
 "nbformat": 4,
 "nbformat_minor": 5
}
