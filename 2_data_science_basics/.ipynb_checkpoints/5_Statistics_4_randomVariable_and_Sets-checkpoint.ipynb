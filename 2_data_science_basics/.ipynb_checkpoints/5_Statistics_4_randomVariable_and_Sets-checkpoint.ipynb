{
 "cells": [
  {
   "cell_type": "markdown",
   "id": "2f4c84b8",
   "metadata": {},
   "source": [
    "# <a href=\"PDFs/7_ march_Statistics_3_randomVariables_230511_231716.pdf\">Random Variables</a>"
   ]
  },
  {
   "cell_type": "code",
   "execution_count": 1,
   "id": "f947382a",
   "metadata": {},
   "outputs": [
    {
     "data": {
      "text/html": [
       "<embed src=\"PDFs/7_ march_Statistics_3_randomVariables_230511_231716.pdf\" type=\"application/pdf\" width=\"100%\" height=\"600px\" />"
      ],
      "text/plain": [
       "<IPython.core.display.HTML object>"
      ]
     },
     "execution_count": 1,
     "metadata": {},
     "output_type": "execute_result"
    }
   ],
   "source": [
    "from customLib import viewpdf as view\n",
    "view.pdf(\"PDFs/7_ march_Statistics_3_randomVariables_230511_231716.pdf\")"
   ]
  },
  {
   "cell_type": "markdown",
   "id": "063ac981",
   "metadata": {},
   "source": [
    "# <a href=\"PDFs/7_ march_Statistics_4_Sets_230511_233355.pdf\">Sets</a>"
   ]
  },
  {
   "cell_type": "code",
   "execution_count": 2,
   "id": "731e882d",
   "metadata": {},
   "outputs": [
    {
     "data": {
      "text/html": [
       "<embed src=\"PDFs/7_ march_Statistics_4_Sets_230511_233355.pdf\" type=\"application/pdf\" width=\"100%\" height=\"600px\" />"
      ],
      "text/plain": [
       "<IPython.core.display.HTML object>"
      ]
     },
     "execution_count": 2,
     "metadata": {},
     "output_type": "execute_result"
    }
   ],
   "source": [
    "from customLib import viewpdf as view\n",
    "view.pdf(\"PDFs/7_ march_Statistics_4_Sets_230511_233355.pdf\")"
   ]
  },
  {
   "cell_type": "code",
   "execution_count": null,
   "id": "e5a98115",
   "metadata": {},
   "outputs": [],
   "source": []
  }
 ],
 "metadata": {
  "kernelspec": {
   "display_name": "Python 3 (ipykernel)",
   "language": "python",
   "name": "python3"
  },
  "language_info": {
   "codemirror_mode": {
    "name": "ipython",
    "version": 3
   },
   "file_extension": ".py",
   "mimetype": "text/x-python",
   "name": "python",
   "nbconvert_exporter": "python",
   "pygments_lexer": "ipython3",
   "version": "3.11.3"
  }
 },
 "nbformat": 4,
 "nbformat_minor": 5
}
