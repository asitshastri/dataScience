{
 "cells": [
  {
   "cell_type": "code",
   "execution_count": 1,
   "id": "db2b2cc8",
   "metadata": {},
   "outputs": [],
   "source": [
    "import numpy as np"
   ]
  },
  {
   "cell_type": "markdown",
   "id": "65c8358b",
   "metadata": {},
   "source": [
    "## Rotating Array"
   ]
  },
  {
   "cell_type": "code",
   "execution_count": 3,
   "id": "5ea2f3ef",
   "metadata": {},
   "outputs": [
    {
     "name": "stdout",
     "output_type": "stream",
     "text": [
      "orignal:\n",
      "[[1 9 5 9]\n",
      " [4 7 5 1]\n",
      " [1 5 8 6]\n",
      " [1 7 7 2]]\n",
      "Rotated array:\n",
      "[[1 4 1 1]\n",
      " [9 7 5 7]\n",
      " [5 5 8 7]\n",
      " [9 1 6 2]]\n"
     ]
    }
   ],
   "source": [
    "arr = np.random.randint(1,10,(4,4))\n",
    "print(f\"orignal:\\n{arr}\")\n",
    "print(f\"Rotated array:\\n{arr.T}\")"
   ]
  },
  {
   "cell_type": "code",
   "execution_count": null,
   "id": "61bfcc6a",
   "metadata": {},
   "outputs": [],
   "source": []
  },
  {
   "cell_type": "markdown",
   "id": "8132256e",
   "metadata": {},
   "source": [
    "## Flatten Array\n",
    "converts any array 2 1d array"
   ]
  },
  {
   "cell_type": "code",
   "execution_count": 7,
   "id": "a54c6238",
   "metadata": {},
   "outputs": [
    {
     "data": {
      "text/plain": [
       "array([1, 9, 5, 9, 4, 7, 5, 1, 1, 5, 8, 6, 1, 7, 7, 2])"
      ]
     },
     "execution_count": 7,
     "metadata": {},
     "output_type": "execute_result"
    }
   ],
   "source": [
    "arr.flatten()"
   ]
  },
  {
   "cell_type": "code",
   "execution_count": 8,
   "id": "49f2b466",
   "metadata": {},
   "outputs": [
    {
     "data": {
      "text/plain": [
       "(16,)"
      ]
     },
     "execution_count": 8,
     "metadata": {},
     "output_type": "execute_result"
    }
   ],
   "source": [
    "arr.flatten().shape"
   ]
  },
  {
   "cell_type": "code",
   "execution_count": 9,
   "id": "dc711669",
   "metadata": {},
   "outputs": [
    {
     "data": {
      "text/plain": [
       "1"
      ]
     },
     "execution_count": 9,
     "metadata": {},
     "output_type": "execute_result"
    }
   ],
   "source": [
    "arr.flatten().ndim"
   ]
  },
  {
   "cell_type": "code",
   "execution_count": null,
   "id": "26ef4866",
   "metadata": {},
   "outputs": [],
   "source": []
  },
  {
   "cell_type": "markdown",
   "id": "99a2e092",
   "metadata": {},
   "source": [
    "## Expand and Squeeze Dimension"
   ]
  },
  {
   "cell_type": "markdown",
   "id": "4211279c",
   "metadata": {},
   "source": [
    "#### np.expand_dims()\n",
    "expands dimension by 1"
   ]
  },
  {
   "cell_type": "code",
   "execution_count": 15,
   "id": "25aa71f8",
   "metadata": {},
   "outputs": [
    {
     "name": "stdout",
     "output_type": "stream",
     "text": [
      "[[[1 9 5 9]\n",
      "  [4 7 5 1]\n",
      "  [1 5 8 6]\n",
      "  [1 7 7 2]]]\n",
      "3\n"
     ]
    }
   ],
   "source": [
    "#row wise dimwnsion expansion\n",
    "expand_row = np.expand_dims(arr,axis=0)\n",
    "print(expand_row)\n",
    "print(expand_row.ndim)"
   ]
  },
  {
   "cell_type": "code",
   "execution_count": 23,
   "id": "f0c9252c",
   "metadata": {},
   "outputs": [
    {
     "name": "stdout",
     "output_type": "stream",
     "text": [
      "[[[1 9 5 9]]\n",
      "\n",
      " [[4 7 5 1]]\n",
      "\n",
      " [[1 5 8 6]]\n",
      "\n",
      " [[1 7 7 2]]]\n",
      "3\n"
     ]
    }
   ],
   "source": [
    "#column wise dimension expansion\n",
    "expand_col = np.expand_dims(arr,axis=1)\n",
    "print(expand_col)\n",
    "print(expand_col.ndim)"
   ]
  },
  {
   "cell_type": "markdown",
   "id": "8ced4875",
   "metadata": {},
   "source": [
    "#### np.squeeze()\n",
    "squeezes dimension by 1"
   ]
  },
  {
   "cell_type": "code",
   "execution_count": 21,
   "id": "3d0e39d3",
   "metadata": {},
   "outputs": [
    {
     "name": "stdout",
     "output_type": "stream",
     "text": [
      "2\n",
      "(3, 1)\n",
      "[1 2 3]\n",
      "1\n"
     ]
    }
   ],
   "source": [
    "data = np.array([[1],[2],[3]])\n",
    "print(data.ndim)\n",
    "print(data.shape)\n",
    "data = np.squeeze(data)\n",
    "print(data)\n",
    "print(data.ndim)"
   ]
  },
  {
   "cell_type": "code",
   "execution_count": null,
   "id": "d88ec193",
   "metadata": {},
   "outputs": [],
   "source": []
  },
  {
   "cell_type": "markdown",
   "id": "506e849a",
   "metadata": {},
   "source": [
    "#### np.repeat(data, repeat no)"
   ]
  },
  {
   "cell_type": "code",
   "execution_count": 24,
   "id": "7311efe2",
   "metadata": {},
   "outputs": [
    {
     "data": {
      "text/plain": [
       "array([1, 1, 1, 1, 2, 2, 2, 2, 3, 3, 3, 3])"
      ]
     },
     "execution_count": 24,
     "metadata": {},
     "output_type": "execute_result"
    }
   ],
   "source": [
    "np.repeat(data,4)"
   ]
  },
  {
   "cell_type": "code",
   "execution_count": null,
   "id": "b9076f27",
   "metadata": {},
   "outputs": [],
   "source": []
  },
  {
   "cell_type": "markdown",
   "id": "e4b8b7d9",
   "metadata": {},
   "source": [
    "### Rolling Dataset"
   ]
  },
  {
   "cell_type": "code",
   "execution_count": 28,
   "id": "4b4afe94",
   "metadata": {},
   "outputs": [
    {
     "data": {
      "text/plain": [
       "array([[68, 46, 90, 65],\n",
       "       [ 6,  7, 62, 13],\n",
       "       [54, 75, 75, 67]])"
      ]
     },
     "execution_count": 28,
     "metadata": {},
     "output_type": "execute_result"
    }
   ],
   "source": [
    "drr = np.random.randint(1,100,(3,4))\n",
    "drr"
   ]
  },
  {
   "cell_type": "code",
   "execution_count": 36,
   "id": "fec73a58",
   "metadata": {},
   "outputs": [
    {
     "data": {
      "text/plain": [
       "array([[75, 67, 68, 46],\n",
       "       [90, 65,  6,  7],\n",
       "       [62, 13, 54, 75]])"
      ]
     },
     "execution_count": 36,
     "metadata": {},
     "output_type": "execute_result"
    }
   ],
   "source": [
    "np.roll(drr,2)"
   ]
  },
  {
   "cell_type": "code",
   "execution_count": 34,
   "id": "7d016ac6",
   "metadata": {},
   "outputs": [
    {
     "data": {
      "text/plain": [
       "array([[90, 65, 68, 46],\n",
       "       [62, 13,  6,  7],\n",
       "       [75, 67, 54, 75]])"
      ]
     },
     "execution_count": 34,
     "metadata": {},
     "output_type": "execute_result"
    }
   ],
   "source": [
    "np.roll(drr,2,axis=1)"
   ]
  },
  {
   "cell_type": "code",
   "execution_count": 35,
   "id": "4c441b5d",
   "metadata": {},
   "outputs": [
    {
     "data": {
      "text/plain": [
       "array([[ 6,  7, 62, 13],\n",
       "       [54, 75, 75, 67],\n",
       "       [68, 46, 90, 65]])"
      ]
     },
     "execution_count": 35,
     "metadata": {},
     "output_type": "execute_result"
    }
   ],
   "source": [
    "np.roll(drr,2,axis=0)"
   ]
  },
  {
   "cell_type": "code",
   "execution_count": null,
   "id": "1195aef2",
   "metadata": {},
   "outputs": [],
   "source": []
  },
  {
   "cell_type": "markdown",
   "id": "68dffba1",
   "metadata": {},
   "source": [
    "### Creating Diagonal matrix from a flattened array"
   ]
  },
  {
   "cell_type": "code",
   "execution_count": 40,
   "id": "34b1c7b4",
   "metadata": {},
   "outputs": [
    {
     "data": {
      "text/plain": [
       "array([[1, 0, 0, 0, 0, 0, 0, 0, 0, 0, 0, 0, 0, 0, 0, 0],\n",
       "       [0, 9, 0, 0, 0, 0, 0, 0, 0, 0, 0, 0, 0, 0, 0, 0],\n",
       "       [0, 0, 5, 0, 0, 0, 0, 0, 0, 0, 0, 0, 0, 0, 0, 0],\n",
       "       [0, 0, 0, 9, 0, 0, 0, 0, 0, 0, 0, 0, 0, 0, 0, 0],\n",
       "       [0, 0, 0, 0, 4, 0, 0, 0, 0, 0, 0, 0, 0, 0, 0, 0],\n",
       "       [0, 0, 0, 0, 0, 7, 0, 0, 0, 0, 0, 0, 0, 0, 0, 0],\n",
       "       [0, 0, 0, 0, 0, 0, 5, 0, 0, 0, 0, 0, 0, 0, 0, 0],\n",
       "       [0, 0, 0, 0, 0, 0, 0, 1, 0, 0, 0, 0, 0, 0, 0, 0],\n",
       "       [0, 0, 0, 0, 0, 0, 0, 0, 1, 0, 0, 0, 0, 0, 0, 0],\n",
       "       [0, 0, 0, 0, 0, 0, 0, 0, 0, 5, 0, 0, 0, 0, 0, 0],\n",
       "       [0, 0, 0, 0, 0, 0, 0, 0, 0, 0, 8, 0, 0, 0, 0, 0],\n",
       "       [0, 0, 0, 0, 0, 0, 0, 0, 0, 0, 0, 6, 0, 0, 0, 0],\n",
       "       [0, 0, 0, 0, 0, 0, 0, 0, 0, 0, 0, 0, 1, 0, 0, 0],\n",
       "       [0, 0, 0, 0, 0, 0, 0, 0, 0, 0, 0, 0, 0, 7, 0, 0],\n",
       "       [0, 0, 0, 0, 0, 0, 0, 0, 0, 0, 0, 0, 0, 0, 7, 0],\n",
       "       [0, 0, 0, 0, 0, 0, 0, 0, 0, 0, 0, 0, 0, 0, 0, 2]])"
      ]
     },
     "execution_count": 40,
     "metadata": {},
     "output_type": "execute_result"
    }
   ],
   "source": [
    "np.diag(arr.flatten())"
   ]
  },
  {
   "cell_type": "code",
   "execution_count": null,
   "id": "81a0b820",
   "metadata": {},
   "outputs": [],
   "source": []
  },
  {
   "cell_type": "markdown",
   "id": "5c372f6f",
   "metadata": {},
   "source": [
    "## Numpy Binary Operation\n",
    "- arr1+arr2\n",
    "- arr1-arr2\n",
    "- arr1/arr2\n",
    "- arr1*arr2\n",
    "- arr1>arr2\n",
    "- arr1<arr2\n",
    "- arr1**arr2\n",
    "- ~arr1: negation of arr converts all the elements to -ve nos."
   ]
  },
  {
   "cell_type": "code",
   "execution_count": null,
   "id": "772ff31c",
   "metadata": {},
   "outputs": [],
   "source": []
  },
  {
   "cell_type": "markdown",
   "id": "4d9a3874",
   "metadata": {},
   "source": [
    "## 'Numpy String Operation"
   ]
  },
  {
   "cell_type": "code",
   "execution_count": 44,
   "id": "213cd4fc",
   "metadata": {},
   "outputs": [
    {
     "data": {
      "text/plain": [
       "array(['asit', 'shastr'], dtype='<U6')"
      ]
     },
     "execution_count": 44,
     "metadata": {},
     "output_type": "execute_result"
    }
   ],
   "source": [
    "arr = np.array(['asit','shastr'])\n",
    "arr"
   ]
  },
  {
   "cell_type": "markdown",
   "id": "f835d4fd",
   "metadata": {},
   "source": [
    "**app.char.upper()**"
   ]
  },
  {
   "cell_type": "code",
   "execution_count": 45,
   "id": "93e30ec7",
   "metadata": {},
   "outputs": [
    {
     "data": {
      "text/plain": [
       "array(['ASIT', 'SHASTR'], dtype='<U6')"
      ]
     },
     "execution_count": 45,
     "metadata": {},
     "output_type": "execute_result"
    }
   ],
   "source": [
    "np.char.upper(arr)"
   ]
  },
  {
   "cell_type": "markdown",
   "id": "8237de44",
   "metadata": {},
   "source": [
    "**Capitalize**"
   ]
  },
  {
   "cell_type": "code",
   "execution_count": 46,
   "id": "22a71224",
   "metadata": {},
   "outputs": [
    {
     "data": {
      "text/plain": [
       "array(['Asit', 'Shastr'], dtype='<U6')"
      ]
     },
     "execution_count": 46,
     "metadata": {},
     "output_type": "execute_result"
    }
   ],
   "source": [
    "np.char.capitalize(arr)"
   ]
  },
  {
   "cell_type": "markdown",
   "id": "ec591dcc",
   "metadata": {},
   "source": [
    "**Title**"
   ]
  },
  {
   "cell_type": "code",
   "execution_count": 47,
   "id": "6c09a88b",
   "metadata": {},
   "outputs": [
    {
     "data": {
      "text/plain": [
       "array(['Asit', 'Shastr'], dtype='<U6')"
      ]
     },
     "execution_count": 47,
     "metadata": {},
     "output_type": "execute_result"
    }
   ],
   "source": [
    "np.char.title(arr)"
   ]
  },
  {
   "cell_type": "markdown",
   "id": "b7556ef1",
   "metadata": {},
   "source": [
    "**All string mehtods are available inside the no.char**"
   ]
  },
  {
   "cell_type": "markdown",
   "id": "062729b7",
   "metadata": {},
   "source": []
  },
  {
   "cell_type": "markdown",
   "id": "fb5ab0e9",
   "metadata": {},
   "source": [
    "## Numpy Sinosodial Functions"
   ]
  },
  {
   "cell_type": "code",
   "execution_count": 51,
   "id": "5ac2e3ca",
   "metadata": {},
   "outputs": [
    {
     "data": {
      "text/plain": [
       "array([[22, 11, 71, 57],\n",
       "       [13, 27, 35, 88],\n",
       "       [76, 40, 12, 87]])"
      ]
     },
     "execution_count": 51,
     "metadata": {},
     "output_type": "execute_result"
    }
   ],
   "source": [
    "arr1 = np.random.randint(10,90,(3,4))\n",
    "arr1"
   ]
  },
  {
   "cell_type": "code",
   "execution_count": 52,
   "id": "485de5dd",
   "metadata": {},
   "outputs": [
    {
     "data": {
      "text/plain": [
       "array([[-0.00885131, -0.99999021,  0.95105465,  0.43616476],\n",
       "       [ 0.42016704,  0.95637593, -0.42818267,  0.0353983 ],\n",
       "       [ 0.56610764,  0.74511316, -0.53657292, -0.82181784]])"
      ]
     },
     "execution_count": 52,
     "metadata": {},
     "output_type": "execute_result"
    }
   ],
   "source": [
    "np.sin(arr1)"
   ]
  },
  {
   "cell_type": "code",
   "execution_count": 53,
   "id": "c6554ef8",
   "metadata": {},
   "outputs": [
    {
     "data": {
      "text/plain": [
       "array([[-0.99996083,  0.0044257 , -0.30902273,  0.89986683],\n",
       "       [ 0.90744678, -0.29213881, -0.90369221,  0.99937328],\n",
       "       [ 0.82433133, -0.66693806,  0.84385396,  0.56975033]])"
      ]
     },
     "execution_count": 53,
     "metadata": {},
     "output_type": "execute_result"
    }
   ],
   "source": [
    "np.cos(arr1)"
   ]
  },
  {
   "cell_type": "code",
   "execution_count": 54,
   "id": "44bde370",
   "metadata": {},
   "outputs": [
    {
     "data": {
      "text/plain": [
       "array([[ 8.85165604e-03, -2.25950846e+02, -3.07762040e+00,\n",
       "         4.84699227e-01],\n",
       "       [ 4.63021133e-01, -3.27370380e+00,  4.73814720e-01,\n",
       "         3.54205013e-02],\n",
       "       [ 6.86747689e-01, -1.11721493e+00, -6.35859929e-01,\n",
       "        -1.44241747e+00]])"
      ]
     },
     "execution_count": 54,
     "metadata": {},
     "output_type": "execute_result"
    }
   ],
   "source": [
    "np.tan(arr1)"
   ]
  },
  {
   "cell_type": "code",
   "execution_count": null,
   "id": "24dc4f88",
   "metadata": {},
   "outputs": [],
   "source": []
  },
  {
   "cell_type": "markdown",
   "id": "92ba1464",
   "metadata": {},
   "source": [
    "- np.sqrt()\n",
    "- np.mean()\n",
    "- np.median()\n",
    "- np.std()\n",
    "- np.var()\n",
    "- np.min()\n",
    "- np.max()\n",
    "<br>\n",
    "\n",
    "- np.add()\n",
    "- np.subtract()\n",
    "- np.multiply()\n",
    "- np.mod()\n",
    "- np.power()\n",
    "- np.sqrt()"
   ]
  },
  {
   "cell_type": "code",
   "execution_count": 56,
   "id": "13df0c47",
   "metadata": {},
   "outputs": [
    {
     "data": {
      "text/plain": [
       "array([[ 484,  121, 5041, 3249],\n",
       "       [ 169,  729, 1225, 7744],\n",
       "       [5776, 1600,  144, 7569]], dtype=int32)"
      ]
     },
     "execution_count": 56,
     "metadata": {},
     "output_type": "execute_result"
    }
   ],
   "source": [
    "np.power(arr1,2)"
   ]
  },
  {
   "cell_type": "markdown",
   "id": "10c2039b",
   "metadata": {},
   "source": []
  }
 ],
 "metadata": {
  "kernelspec": {
   "display_name": "Python 3 (ipykernel)",
   "language": "python",
   "name": "python3"
  },
  "language_info": {
   "codemirror_mode": {
    "name": "ipython",
    "version": 3
   },
   "file_extension": ".py",
   "mimetype": "text/x-python",
   "name": "python",
   "nbconvert_exporter": "python",
   "pygments_lexer": "ipython3",
   "version": "3.11.3"
  }
 },
 "nbformat": 4,
 "nbformat_minor": 5
}
