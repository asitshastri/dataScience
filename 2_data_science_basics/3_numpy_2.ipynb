{
 "cells": [
  {
   "cell_type": "code",
   "execution_count": 1,
   "id": "ea5dc4f3",
   "metadata": {},
   "outputs": [],
   "source": [
    "import numpy as np"
   ]
  },
  {
   "cell_type": "markdown",
   "id": "a1d8cf39",
   "metadata": {},
   "source": [
    "## Difference b/w list(range()) and np.arange()"
   ]
  },
  {
   "cell_type": "markdown",
   "id": "7bc16b83",
   "metadata": {},
   "source": [
    "#### list(rnage())"
   ]
  },
  {
   "cell_type": "code",
   "execution_count": 2,
   "id": "cbe33087",
   "metadata": {},
   "outputs": [
    {
     "name": "stdout",
     "output_type": "stream",
     "text": [
      "[0, 1, 2, 3, 4]\n",
      "[1, 2, 3, 4, 5, 6, 7, 8, 9]\n"
     ]
    },
    {
     "ename": "TypeError",
     "evalue": "'float' object cannot be interpreted as an integer",
     "output_type": "error",
     "traceback": [
      "\u001b[1;31m---------------------------------------------------------------------------\u001b[0m",
      "\u001b[1;31mTypeError\u001b[0m                                 Traceback (most recent call last)",
      "Cell \u001b[1;32mIn[2], line 3\u001b[0m\n\u001b[0;32m      1\u001b[0m \u001b[38;5;28mprint\u001b[39m(\u001b[38;5;28mlist\u001b[39m(\u001b[38;5;28mrange\u001b[39m(\u001b[38;5;241m5\u001b[39m)))\n\u001b[0;32m      2\u001b[0m \u001b[38;5;28mprint\u001b[39m(\u001b[38;5;28mlist\u001b[39m(\u001b[38;5;28mrange\u001b[39m(\u001b[38;5;241m1\u001b[39m,\u001b[38;5;241m10\u001b[39m)))\n\u001b[1;32m----> 3\u001b[0m \u001b[38;5;28mprint\u001b[39m(\u001b[38;5;28mlist\u001b[39m(\u001b[38;5;28;43mrange\u001b[39;49m\u001b[43m(\u001b[49m\u001b[38;5;241;43m0.4\u001b[39;49m\u001b[43m,\u001b[49m\u001b[38;5;241;43m7.5\u001b[39;49m\u001b[43m)\u001b[49m))\n",
      "\u001b[1;31mTypeError\u001b[0m: 'float' object cannot be interpreted as an integer"
     ]
    }
   ],
   "source": [
    "print(list(range(5)))\n",
    "print(list(range(1,10)))\n",
    "print(list(range(0.4,7.5)))"
   ]
  },
  {
   "cell_type": "markdown",
   "id": "08852ae7",
   "metadata": {},
   "source": [
    "**range function can not take decimal/float as range**"
   ]
  },
  {
   "cell_type": "markdown",
   "id": "cacec181",
   "metadata": {},
   "source": [
    "#### np.arange()\n",
    "it can take froactiona as well to create a data"
   ]
  },
  {
   "cell_type": "code",
   "execution_count": 6,
   "id": "9216c064",
   "metadata": {},
   "outputs": [
    {
     "data": {
      "text/plain": [
       "array([ 0.5,  1.2,  1.9,  2.6,  3.3,  4. ,  4.7,  5.4,  6.1,  6.8,  7.5,\n",
       "        8.2,  8.9,  9.6, 10.3])"
      ]
     },
     "execution_count": 6,
     "metadata": {},
     "output_type": "execute_result"
    }
   ],
   "source": [
    "np.arange(0.5,10.4,0.7)"
   ]
  },
  {
   "cell_type": "markdown",
   "id": "c8ff4ffa",
   "metadata": {},
   "source": [
    "Creates an array of numbers b/w 0.5 and 10.4 with step=0.7"
   ]
  },
  {
   "cell_type": "code",
   "execution_count": 8,
   "id": "26ffbcb0",
   "metadata": {},
   "outputs": [
    {
     "data": {
      "text/plain": [
       "[0.5,\n",
       " 1.2,\n",
       " 1.9,\n",
       " 2.5999999999999996,\n",
       " 3.3,\n",
       " 4.0,\n",
       " 4.699999999999999,\n",
       " 5.3999999999999995,\n",
       " 6.1,\n",
       " 6.8,\n",
       " 7.5,\n",
       " 8.2,\n",
       " 8.899999999999999,\n",
       " 9.6,\n",
       " 10.299999999999999]"
      ]
     },
     "execution_count": 8,
     "metadata": {},
     "output_type": "execute_result"
    }
   ],
   "source": [
    "#array to list conversion\n",
    "list(np.arange(0.5,10.4,0.7))"
   ]
  },
  {
   "cell_type": "code",
   "execution_count": null,
   "id": "386fd43b",
   "metadata": {},
   "outputs": [],
   "source": []
  },
  {
   "cell_type": "markdown",
   "id": "726fd0d9",
   "metadata": {},
   "source": [
    "### np.linspace(start,end,no of dataset)"
   ]
  },
  {
   "cell_type": "code",
   "execution_count": 13,
   "id": "08622a2e",
   "metadata": {},
   "outputs": [
    {
     "data": {
      "text/plain": [
       "array([ 1.        ,  1.47368421,  1.94736842,  2.42105263,  2.89473684,\n",
       "        3.36842105,  3.84210526,  4.31578947,  4.78947368,  5.26315789,\n",
       "        5.73684211,  6.21052632,  6.68421053,  7.15789474,  7.63157895,\n",
       "        8.10526316,  8.57894737,  9.05263158,  9.52631579, 10.        ])"
      ]
     },
     "execution_count": 13,
     "metadata": {},
     "output_type": "execute_result"
    }
   ],
   "source": [
    "np.linspace(1,10,20)"
   ]
  },
  {
   "cell_type": "markdown",
   "id": "5e5117f8",
   "metadata": {},
   "source": [
    "Creates array of 20 datasets of equal distance b/w 1 and 5"
   ]
  },
  {
   "cell_type": "code",
   "execution_count": null,
   "id": "8fc9bdb9",
   "metadata": {},
   "outputs": [],
   "source": []
  },
  {
   "cell_type": "markdown",
   "id": "cb37be07",
   "metadata": {},
   "source": [
    "### np.logspace()"
   ]
  },
  {
   "cell_type": "code",
   "execution_count": 22,
   "id": "72eba0af",
   "metadata": {},
   "outputs": [
    {
     "data": {
      "text/plain": [
       "array([ 2.        ,  2.72158   ,  3.70349885,  5.0396842 ,  6.85795186,\n",
       "        9.33223232, 12.69920842, 17.28095582, 23.51575188, 32.        ])"
      ]
     },
     "execution_count": 22,
     "metadata": {},
     "output_type": "execute_result"
    }
   ],
   "source": [
    "np.logspace(1,5,10,base=2)"
   ]
  },
  {
   "cell_type": "code",
   "execution_count": null,
   "id": "df26cbae",
   "metadata": {},
   "outputs": [],
   "source": []
  },
  {
   "cell_type": "markdown",
   "id": "76931dd8",
   "metadata": {},
   "source": [
    "### np.zeros((rows,columns))"
   ]
  },
  {
   "cell_type": "code",
   "execution_count": 21,
   "id": "8bc80746",
   "metadata": {
    "scrolled": true
   },
   "outputs": [
    {
     "data": {
      "text/plain": [
       "array([[0., 0., 0., 0.],\n",
       "       [0., 0., 0., 0.],\n",
       "       [0., 0., 0., 0.]])"
      ]
     },
     "execution_count": 21,
     "metadata": {},
     "output_type": "execute_result"
    }
   ],
   "source": [
    "np.zeros((3,4))"
   ]
  },
  {
   "cell_type": "code",
   "execution_count": 23,
   "id": "10cebd40",
   "metadata": {},
   "outputs": [
    {
     "data": {
      "text/plain": [
       "array([0., 0., 0., 0., 0.])"
      ]
     },
     "execution_count": 23,
     "metadata": {},
     "output_type": "execute_result"
    }
   ],
   "source": [
    "np.zeros(5)"
   ]
  },
  {
   "cell_type": "code",
   "execution_count": 31,
   "id": "c3151a1f",
   "metadata": {},
   "outputs": [
    {
     "data": {
      "text/plain": [
       "array([[[0., 0.],\n",
       "        [0., 0.],\n",
       "        [0., 0.],\n",
       "        [0., 0.]],\n",
       "\n",
       "       [[0., 0.],\n",
       "        [0., 0.],\n",
       "        [0., 0.],\n",
       "        [0., 0.]],\n",
       "\n",
       "       [[0., 0.],\n",
       "        [0., 0.],\n",
       "        [0., 0.],\n",
       "        [0., 0.]]])"
      ]
     },
     "execution_count": 31,
     "metadata": {},
     "output_type": "execute_result"
    }
   ],
   "source": [
    "np.zeros((3,4,2))\n",
    "#creates a 3d matrix containing 3 matrices of 4rows and 2 columns"
   ]
  },
  {
   "attachments": {
    "Screenshot%202023-05-04%20220818.png": {
     "image/png": "[encoded data removed]"
    }
   },
   "cell_type": "markdown",
   "id": "e70c3082",
   "metadata": {},
   "source": [
    "![Screenshot%202023-05-04%20220818.png](attachment:Screenshot%202023-05-04%20220818.png)"
   ]
  },
  {
   "cell_type": "code",
   "execution_count": 36,
   "id": "600d15a5",
   "metadata": {},
   "outputs": [
    {
     "name": "stdout",
     "output_type": "stream",
     "text": [
      "[[[[0. 0. 0.]\n",
      "   [0. 0. 0.]]\n",
      "\n",
      "  [[0. 0. 0.]\n",
      "   [0. 0. 0.]]\n",
      "\n",
      "  [[0. 0. 0.]\n",
      "   [0. 0. 0.]]\n",
      "\n",
      "  [[0. 0. 0.]\n",
      "   [0. 0. 0.]]]\n",
      "\n",
      "\n",
      " [[[0. 0. 0.]\n",
      "   [0. 0. 0.]]\n",
      "\n",
      "  [[0. 0. 0.]\n",
      "   [0. 0. 0.]]\n",
      "\n",
      "  [[0. 0. 0.]\n",
      "   [0. 0. 0.]]\n",
      "\n",
      "  [[0. 0. 0.]\n",
      "   [0. 0. 0.]]]\n",
      "\n",
      "\n",
      " [[[0. 0. 0.]\n",
      "   [0. 0. 0.]]\n",
      "\n",
      "  [[0. 0. 0.]\n",
      "   [0. 0. 0.]]\n",
      "\n",
      "  [[0. 0. 0.]\n",
      "   [0. 0. 0.]]\n",
      "\n",
      "  [[0. 0. 0.]\n",
      "   [0. 0. 0.]]]]\n",
      "4D matrix\n"
     ]
    }
   ],
   "source": [
    "#4d matrix: can't be visualized\n",
    "print(np.zeros((3,4,2,3)))\n",
    "print(str(np.zeros((3,4,2,3)).ndim)+'D matrix')"
   ]
  },
  {
   "cell_type": "code",
   "execution_count": null,
   "id": "f93f4008",
   "metadata": {},
   "outputs": [],
   "source": []
  },
  {
   "cell_type": "markdown",
   "id": "c9adae18",
   "metadata": {},
   "source": [
    "### np.ones"
   ]
  },
  {
   "cell_type": "code",
   "execution_count": 37,
   "id": "63ab2cd4",
   "metadata": {},
   "outputs": [
    {
     "data": {
      "text/plain": [
       "array([1., 1., 1., 1., 1.])"
      ]
     },
     "execution_count": 37,
     "metadata": {},
     "output_type": "execute_result"
    }
   ],
   "source": [
    "np.ones(5)"
   ]
  },
  {
   "cell_type": "code",
   "execution_count": 39,
   "id": "f438fc0b",
   "metadata": {},
   "outputs": [
    {
     "data": {
      "text/plain": [
       "array([[1., 1., 1., 1.],\n",
       "       [1., 1., 1., 1.],\n",
       "       [1., 1., 1., 1.]])"
      ]
     },
     "execution_count": 39,
     "metadata": {},
     "output_type": "execute_result"
    }
   ],
   "source": [
    "np.ones((3,4))"
   ]
  },
  {
   "cell_type": "markdown",
   "id": "337080c6",
   "metadata": {},
   "source": [
    "Mathematical operation on np.ones"
   ]
  },
  {
   "cell_type": "code",
   "execution_count": 41,
   "id": "2080788b",
   "metadata": {},
   "outputs": [
    {
     "name": "stdout",
     "output_type": "stream",
     "text": [
      "[[1. 1. 1. 1.]\n",
      " [1. 1. 1. 1.]\n",
      " [1. 1. 1. 1.]]\n",
      "arr*5 =\n",
      " [[5. 5. 5. 5.]\n",
      " [5. 5. 5. 5.]\n",
      " [5. 5. 5. 5.]]\n",
      "arr+5 =\n",
      " [[6. 6. 6. 6.]\n",
      " [6. 6. 6. 6.]\n",
      " [6. 6. 6. 6.]]\n"
     ]
    }
   ],
   "source": [
    "arr = np.ones((3,4))\n",
    "print(arr)\n",
    "print(f\"arr*5 =\\n {arr*5}\")\n",
    "print(f\"arr+5 =\\n {arr+5}\")"
   ]
  },
  {
   "cell_type": "markdown",
   "id": "b6da241c",
   "metadata": {},
   "source": [
    "any mathematical operation perfoms the operation on every element of the array"
   ]
  },
  {
   "cell_type": "code",
   "execution_count": null,
   "id": "7f85a0ee",
   "metadata": {},
   "outputs": [],
   "source": []
  },
  {
   "cell_type": "markdown",
   "id": "8ed2fbf4",
   "metadata": {},
   "source": [
    "### Empty Array: np.empty\n",
    "creates an empty array containing a very small value"
   ]
  },
  {
   "cell_type": "code",
   "execution_count": 45,
   "id": "6508f15f",
   "metadata": {},
   "outputs": [
    {
     "data": {
      "text/plain": [
       "array([[6., 6., 6., 6.],\n",
       "       [6., 6., 6., 6.],\n",
       "       [6., 6., 6., 6.]])"
      ]
     },
     "execution_count": 45,
     "metadata": {},
     "output_type": "execute_result"
    }
   ],
   "source": [
    "np.empty((3,4))"
   ]
  },
  {
   "cell_type": "code",
   "execution_count": null,
   "id": "56a2e534",
   "metadata": {},
   "outputs": [],
   "source": []
  },
  {
   "cell_type": "markdown",
   "id": "a3fc3275",
   "metadata": {},
   "source": [
    "### Identity Matrix: np.eye()\n",
    "creates an identity matrix"
   ]
  },
  {
   "cell_type": "code",
   "execution_count": 46,
   "id": "ec210f45",
   "metadata": {},
   "outputs": [
    {
     "data": {
      "text/plain": [
       "array([[1., 0., 0., 0., 0.],\n",
       "       [0., 1., 0., 0., 0.],\n",
       "       [0., 0., 1., 0., 0.],\n",
       "       [0., 0., 0., 1., 0.],\n",
       "       [0., 0., 0., 0., 1.]])"
      ]
     },
     "execution_count": 46,
     "metadata": {},
     "output_type": "execute_result"
    }
   ],
   "source": [
    "np.eye(5)"
   ]
  },
  {
   "cell_type": "code",
   "execution_count": null,
   "id": "2e9fd78a",
   "metadata": {},
   "outputs": [],
   "source": []
  },
  {
   "cell_type": "markdown",
   "id": "bfff6a82",
   "metadata": {},
   "source": [
    "## Converting array to a DataFrame"
   ]
  },
  {
   "cell_type": "code",
   "execution_count": 47,
   "id": "bfe85480",
   "metadata": {},
   "outputs": [
    {
     "data": {
      "text/html": [
       "<div>\n",
       "<style scoped>\n",
       "    .dataframe tbody tr th:only-of-type {\n",
       "        vertical-align: middle;\n",
       "    }\n",
       "\n",
       "    .dataframe tbody tr th {\n",
       "        vertical-align: top;\n",
       "    }\n",
       "\n",
       "    .dataframe thead th {\n",
       "        text-align: right;\n",
       "    }\n",
       "</style>\n",
       "<table border=\"1\" class=\"dataframe\">\n",
       "  <thead>\n",
       "    <tr style=\"text-align: right;\">\n",
       "      <th></th>\n",
       "      <th>0</th>\n",
       "      <th>1</th>\n",
       "      <th>2</th>\n",
       "      <th>3</th>\n",
       "      <th>4</th>\n",
       "    </tr>\n",
       "  </thead>\n",
       "  <tbody>\n",
       "    <tr>\n",
       "      <th>0</th>\n",
       "      <td>1.0</td>\n",
       "      <td>0.0</td>\n",
       "      <td>0.0</td>\n",
       "      <td>0.0</td>\n",
       "      <td>0.0</td>\n",
       "    </tr>\n",
       "    <tr>\n",
       "      <th>1</th>\n",
       "      <td>0.0</td>\n",
       "      <td>1.0</td>\n",
       "      <td>0.0</td>\n",
       "      <td>0.0</td>\n",
       "      <td>0.0</td>\n",
       "    </tr>\n",
       "    <tr>\n",
       "      <th>2</th>\n",
       "      <td>0.0</td>\n",
       "      <td>0.0</td>\n",
       "      <td>1.0</td>\n",
       "      <td>0.0</td>\n",
       "      <td>0.0</td>\n",
       "    </tr>\n",
       "    <tr>\n",
       "      <th>3</th>\n",
       "      <td>0.0</td>\n",
       "      <td>0.0</td>\n",
       "      <td>0.0</td>\n",
       "      <td>1.0</td>\n",
       "      <td>0.0</td>\n",
       "    </tr>\n",
       "    <tr>\n",
       "      <th>4</th>\n",
       "      <td>0.0</td>\n",
       "      <td>0.0</td>\n",
       "      <td>0.0</td>\n",
       "      <td>0.0</td>\n",
       "      <td>1.0</td>\n",
       "    </tr>\n",
       "  </tbody>\n",
       "</table>\n",
       "</div>"
      ],
      "text/plain": [
       "     0    1    2    3    4\n",
       "0  1.0  0.0  0.0  0.0  0.0\n",
       "1  0.0  1.0  0.0  0.0  0.0\n",
       "2  0.0  0.0  1.0  0.0  0.0\n",
       "3  0.0  0.0  0.0  1.0  0.0\n",
       "4  0.0  0.0  0.0  0.0  1.0"
      ]
     },
     "execution_count": 47,
     "metadata": {},
     "output_type": "execute_result"
    }
   ],
   "source": [
    "import pandas as pd\n",
    "pd.DataFrame(np.eye(5))"
   ]
  },
  {
   "cell_type": "code",
   "execution_count": null,
   "id": "6dbca04d",
   "metadata": {},
   "outputs": [],
   "source": []
  },
  {
   "cell_type": "markdown",
   "id": "d129b335",
   "metadata": {},
   "source": [
    "## Creating Array of random Data"
   ]
  },
  {
   "cell_type": "markdown",
   "id": "6328ec6b",
   "metadata": {},
   "source": [
    "### np.random.rand()\n",
    "creates an array of randon nos."
   ]
  },
  {
   "cell_type": "code",
   "execution_count": 48,
   "id": "ecb9b987",
   "metadata": {},
   "outputs": [
    {
     "data": {
      "text/plain": [
       "array([[0.04311033, 0.43097708, 0.44673672],\n",
       "       [0.18757482, 0.02710257, 0.49221597]])"
      ]
     },
     "execution_count": 48,
     "metadata": {},
     "output_type": "execute_result"
    }
   ],
   "source": [
    "np.random.rand(2,3)"
   ]
  },
  {
   "cell_type": "markdown",
   "id": "be23677f",
   "metadata": {},
   "source": [
    "### np.random.randn()\n",
    "creates a random data on standard normal distribution(i.e mean =0 and std deviation =1)"
   ]
  },
  {
   "cell_type": "code",
   "execution_count": 51,
   "id": "e97e6336",
   "metadata": {},
   "outputs": [
    {
     "data": {
      "text/plain": [
       "array([[-0.3081504 ,  0.69103164,  1.64519748],\n",
       "       [ 0.41057712,  0.1655234 , -1.57572214]])"
      ]
     },
     "execution_count": 51,
     "metadata": {},
     "output_type": "execute_result"
    }
   ],
   "source": [
    "np.random.randn(2,3)"
   ]
  },
  {
   "cell_type": "markdown",
   "id": "421ca3fe",
   "metadata": {},
   "source": [
    "### np.random.randint(start,end,(row,column))\n",
    "creates a random array of integer daat sets"
   ]
  },
  {
   "cell_type": "code",
   "execution_count": 52,
   "id": "d601b05b",
   "metadata": {},
   "outputs": [
    {
     "data": {
      "text/plain": [
       "array([[1, 1, 4, 3],\n",
       "       [4, 1, 1, 2],\n",
       "       [2, 2, 3, 4]])"
      ]
     },
     "execution_count": 52,
     "metadata": {},
     "output_type": "execute_result"
    }
   ],
   "source": [
    "np.random.randint(1,5,(3,4))"
   ]
  },
  {
   "cell_type": "code",
   "execution_count": null,
   "id": "6e2c743d",
   "metadata": {},
   "outputs": [],
   "source": []
  },
  {
   "cell_type": "markdown",
   "id": "1405899e",
   "metadata": {},
   "source": [
    "## Reshaping Dataset/array\n",
    "**Remember**:  the new array after reshaping must contain same no. of element(i.r row*column must be same)"
   ]
  },
  {
   "cell_type": "code",
   "execution_count": 54,
   "id": "3ed9911e",
   "metadata": {},
   "outputs": [
    {
     "data": {
      "text/plain": [
       "(3, 4)"
      ]
     },
     "execution_count": 54,
     "metadata": {},
     "output_type": "execute_result"
    }
   ],
   "source": [
    "arr2 = np.random.randint(1,5,(3,4))\n",
    "arr2.shape"
   ]
  },
  {
   "cell_type": "code",
   "execution_count": 55,
   "id": "08411360",
   "metadata": {},
   "outputs": [
    {
     "data": {
      "text/plain": [
       "array([[4, 3],\n",
       "       [4, 2],\n",
       "       [2, 1],\n",
       "       [1, 4],\n",
       "       [2, 3],\n",
       "       [4, 4]])"
      ]
     },
     "execution_count": 55,
     "metadata": {},
     "output_type": "execute_result"
    }
   ],
   "source": [
    "arr2.reshape(6,2)"
   ]
  },
  {
   "cell_type": "code",
   "execution_count": 56,
   "id": "ca9981b4",
   "metadata": {},
   "outputs": [
    {
     "data": {
      "text/plain": [
       "array([[1., 1., 1., 1., 1., 1., 1., 1., 1., 1., 1., 1.]])"
      ]
     },
     "execution_count": 56,
     "metadata": {},
     "output_type": "execute_result"
    }
   ],
   "source": [
    "arr.reshape(1,12)"
   ]
  },
  {
   "cell_type": "code",
   "execution_count": 59,
   "id": "d8f2251b",
   "metadata": {},
   "outputs": [
    {
     "name": "stdout",
     "output_type": "stream",
     "text": [
      "cannot reshape array of size 12 into shape (5,5)\n"
     ]
    }
   ],
   "source": [
    "try:\n",
    "    arr2.reshape(5,5)\n",
    "except ValueError as e:\n",
    "    print(e)"
   ]
  },
  {
   "cell_type": "code",
   "execution_count": 63,
   "id": "83d09fd8",
   "metadata": {},
   "outputs": [
    {
     "data": {
      "text/plain": [
       "array([[[1., 1.],\n",
       "        [1., 1.],\n",
       "        [1., 1.]],\n",
       "\n",
       "       [[1., 1.],\n",
       "        [1., 1.],\n",
       "        [1., 1.]]])"
      ]
     },
     "execution_count": 63,
     "metadata": {},
     "output_type": "execute_result"
    }
   ],
   "source": [
    "#reshaping from 2d to 3d\n",
    "arr.reshape(2,3,2)"
   ]
  },
  {
   "cell_type": "code",
   "execution_count": 64,
   "id": "aed80f5f",
   "metadata": {},
   "outputs": [
    {
     "data": {
      "text/plain": [
       "array([[[[[1.]],\n",
       "\n",
       "         [[1.]]],\n",
       "\n",
       "\n",
       "        [[[1.]],\n",
       "\n",
       "         [[1.]]],\n",
       "\n",
       "\n",
       "        [[[1.]],\n",
       "\n",
       "         [[1.]]]],\n",
       "\n",
       "\n",
       "\n",
       "       [[[[1.]],\n",
       "\n",
       "         [[1.]]],\n",
       "\n",
       "\n",
       "        [[[1.]],\n",
       "\n",
       "         [[1.]]],\n",
       "\n",
       "\n",
       "        [[[1.]],\n",
       "\n",
       "         [[1.]]]]])"
      ]
     },
     "execution_count": 64,
     "metadata": {},
     "output_type": "execute_result"
    }
   ],
   "source": [
    "#2d to 5d\n",
    "arr.reshape(2,3,2,1,1)"
   ]
  },
  {
   "cell_type": "code",
   "execution_count": null,
   "id": "a3a92fbb",
   "metadata": {},
   "outputs": [],
   "source": []
  },
  {
   "cell_type": "markdown",
   "id": "93569cb5",
   "metadata": {},
   "source": [
    "## Filtering Dataset"
   ]
  },
  {
   "cell_type": "code",
   "execution_count": 74,
   "id": "6871f4ed",
   "metadata": {},
   "outputs": [
    {
     "data": {
      "text/plain": [
       "array([[7, 1, 7, 8, 6, 8],\n",
       "       [9, 8, 1, 2, 7, 6],\n",
       "       [3, 2, 9, 7, 3, 7],\n",
       "       [2, 8, 2, 7, 5, 3],\n",
       "       [5, 3, 9, 1, 8, 5]])"
      ]
     },
     "execution_count": 74,
     "metadata": {},
     "output_type": "execute_result"
    }
   ],
   "source": [
    "arr3 = np.random.randint(1,10,(5,6))\n",
    "arr3"
   ]
  },
  {
   "cell_type": "code",
   "execution_count": 75,
   "id": "fa47ac63",
   "metadata": {},
   "outputs": [
    {
     "data": {
      "text/plain": [
       "array([[False, False, False, False, False, False],\n",
       "       [ True, False, False, False, False, False],\n",
       "       [False, False,  True, False, False, False],\n",
       "       [False, False, False, False, False, False],\n",
       "       [False, False,  True, False, False, False]])"
      ]
     },
     "execution_count": 75,
     "metadata": {},
     "output_type": "execute_result"
    }
   ],
   "source": [
    "arr3>8"
   ]
  },
  {
   "cell_type": "code",
   "execution_count": 76,
   "id": "7a48bde5",
   "metadata": {},
   "outputs": [
    {
     "data": {
      "text/plain": [
       "array([9, 9, 9])"
      ]
     },
     "execution_count": 76,
     "metadata": {},
     "output_type": "execute_result"
    }
   ],
   "source": [
    "arr3[arr3>8]"
   ]
  },
  {
   "cell_type": "markdown",
   "id": "37cae20c",
   "metadata": {},
   "source": [
    "### indexing"
   ]
  },
  {
   "attachments": {
    "Screenshot%202023-05-04%20224723.png": {
     "image/png": "[encoded data removed]"
    }
   },
   "cell_type": "markdown",
   "id": "51237730",
   "metadata": {},
   "source": [
    "![Screenshot%202023-05-04%20224723.png](attachment:Screenshot%202023-05-04%20224723.png)"
   ]
  },
  {
   "cell_type": "code",
   "execution_count": null,
   "id": "f422dda8",
   "metadata": {},
   "outputs": [],
   "source": []
  },
  {
   "attachments": {
    "Screenshot%202023-05-04%20224916.png": {
     "image/png": "[encoded data removed]"
    }
   },
   "cell_type": "markdown",
   "id": "754759b6",
   "metadata": {},
   "source": [
    "### Extracting Following Marked data from arr3\n",
    "![Screenshot%202023-05-04%20224916.png](attachment:Screenshot%202023-05-04%20224916.png)\n",
    "syntax: **array[row start:row end,[colunm1,column2,...,column-n]]**"
   ]
  },
  {
   "cell_type": "code",
   "execution_count": 88,
   "id": "ea1ab880",
   "metadata": {},
   "outputs": [
    {
     "data": {
      "text/plain": [
       "array([7, 1])"
      ]
     },
     "execution_count": 88,
     "metadata": {},
     "output_type": "execute_result"
    }
   ],
   "source": [
    "arr3[0,[0,1]]"
   ]
  },
  {
   "cell_type": "code",
   "execution_count": 90,
   "id": "4bbb8ee6",
   "metadata": {},
   "outputs": [
    {
     "data": {
      "text/plain": [
       "array([[9, 7],\n",
       "       [2, 7]])"
      ]
     },
     "execution_count": 90,
     "metadata": {},
     "output_type": "execute_result"
    }
   ],
   "source": [
    "arr3[2:4,[2,3]]"
   ]
  },
  {
   "cell_type": "code",
   "execution_count": 91,
   "id": "cb952598",
   "metadata": {},
   "outputs": [
    {
     "data": {
      "text/plain": [
       "array([7, 7])"
      ]
     },
     "execution_count": 91,
     "metadata": {},
     "output_type": "execute_result"
    }
   ],
   "source": [
    "arr3[0,[0,2]]"
   ]
  },
  {
   "cell_type": "markdown",
   "id": "c46ab133",
   "metadata": {},
   "source": []
  },
  {
   "cell_type": "markdown",
   "id": "8c616e18",
   "metadata": {},
   "source": [
    "## Index Wise Mathematical Operation"
   ]
  },
  {
   "cell_type": "code",
   "execution_count": 95,
   "id": "88ba13b7",
   "metadata": {},
   "outputs": [
    {
     "name": "stdout",
     "output_type": "stream",
     "text": [
      "[[4 1 4]\n",
      " [2 3 4]\n",
      " [4 4 4]]\n",
      "[[2 3 3]\n",
      " [1 2 2]\n",
      " [2 4 3]]\n"
     ]
    }
   ],
   "source": [
    "a = np.random.randint(1,5,(3,3))\n",
    "b = np.random.randint(1,5,(3,3))\n",
    "print(a)\n",
    "print(b)"
   ]
  },
  {
   "cell_type": "code",
   "execution_count": 96,
   "id": "09dfa1a5",
   "metadata": {},
   "outputs": [
    {
     "data": {
      "text/plain": [
       "array([[6, 4, 7],\n",
       "       [3, 5, 6],\n",
       "       [6, 8, 7]])"
      ]
     },
     "execution_count": 96,
     "metadata": {},
     "output_type": "execute_result"
    }
   ],
   "source": [
    "a+b"
   ]
  },
  {
   "cell_type": "code",
   "execution_count": 97,
   "id": "78e83367",
   "metadata": {},
   "outputs": [
    {
     "data": {
      "text/plain": [
       "array([[ 2, -2,  1],\n",
       "       [ 1,  1,  2],\n",
       "       [ 2,  0,  1]])"
      ]
     },
     "execution_count": 97,
     "metadata": {},
     "output_type": "execute_result"
    }
   ],
   "source": [
    "a-b"
   ]
  },
  {
   "cell_type": "code",
   "execution_count": 98,
   "id": "04e81e69",
   "metadata": {},
   "outputs": [
    {
     "data": {
      "text/plain": [
       "array([[ 8,  3, 12],\n",
       "       [ 2,  6,  8],\n",
       "       [ 8, 16, 12]])"
      ]
     },
     "execution_count": 98,
     "metadata": {},
     "output_type": "execute_result"
    }
   ],
   "source": [
    "a*b"
   ]
  },
  {
   "cell_type": "code",
   "execution_count": 101,
   "id": "e562d2c9",
   "metadata": {},
   "outputs": [
    {
     "data": {
      "text/plain": [
       "array([[2.        , 0.33333333, 1.33333333],\n",
       "       [2.        , 1.5       , 2.        ],\n",
       "       [2.        , 1.        , 1.33333333]])"
      ]
     },
     "execution_count": 101,
     "metadata": {},
     "output_type": "execute_result"
    }
   ],
   "source": [
    "a/b"
   ]
  },
  {
   "cell_type": "code",
   "execution_count": null,
   "id": "e0539024",
   "metadata": {},
   "outputs": [],
   "source": []
  },
  {
   "cell_type": "markdown",
   "id": "168542cd",
   "metadata": {},
   "source": [
    "### Matrix Multiplication\n",
    "#### use '@'"
   ]
  },
  {
   "cell_type": "code",
   "execution_count": 102,
   "id": "638e2b1e",
   "metadata": {},
   "outputs": [
    {
     "data": {
      "text/plain": [
       "array([[17, 30, 26],\n",
       "       [15, 28, 24],\n",
       "       [20, 36, 32]])"
      ]
     },
     "execution_count": 102,
     "metadata": {},
     "output_type": "execute_result"
    }
   ],
   "source": [
    "a@b"
   ]
  },
  {
   "cell_type": "code",
   "execution_count": null,
   "id": "f2223845",
   "metadata": {},
   "outputs": [],
   "source": []
  },
  {
   "cell_type": "code",
   "execution_count": null,
   "id": "4e6237c8",
   "metadata": {},
   "outputs": [],
   "source": []
  },
  {
   "cell_type": "markdown",
   "id": "28ebe795",
   "metadata": {},
   "source": [
    "## Numpy- Broadcasting"
   ]
  },
  {
   "cell_type": "code",
   "execution_count": 105,
   "id": "c617474c",
   "metadata": {},
   "outputs": [
    {
     "data": {
      "text/plain": [
       "array([[0., 0., 0., 0.],\n",
       "       [0., 0., 0., 0.],\n",
       "       [0., 0., 0., 0.]])"
      ]
     },
     "execution_count": 105,
     "metadata": {},
     "output_type": "execute_result"
    }
   ],
   "source": [
    "arr4 = np.zeros((3,4))\n",
    "arr4"
   ]
  },
  {
   "cell_type": "markdown",
   "id": "614434b7",
   "metadata": {},
   "source": [
    "**Index wise Operation**"
   ]
  },
  {
   "cell_type": "code",
   "execution_count": 106,
   "id": "21e96c9f",
   "metadata": {},
   "outputs": [
    {
     "data": {
      "text/plain": [
       "array([[5., 5., 5., 5.],\n",
       "       [5., 5., 5., 5.],\n",
       "       [5., 5., 5., 5.]])"
      ]
     },
     "execution_count": 106,
     "metadata": {},
     "output_type": "execute_result"
    }
   ],
   "source": [
    "arr4+5"
   ]
  },
  {
   "cell_type": "markdown",
   "id": "0be976d7",
   "metadata": {},
   "source": [
    "**Row wise Operation/Broadcasting**"
   ]
  },
  {
   "cell_type": "code",
   "execution_count": 108,
   "id": "241200a6",
   "metadata": {},
   "outputs": [
    {
     "data": {
      "text/plain": [
       "array([[1., 2., 3., 4.],\n",
       "       [1., 2., 3., 4.],\n",
       "       [1., 2., 3., 4.]])"
      ]
     },
     "execution_count": 108,
     "metadata": {},
     "output_type": "execute_result"
    }
   ],
   "source": [
    "a = np.array([1,2,3,4])\n",
    "arr4+a\n",
    "#here the a is add to every row of ARR4"
   ]
  },
  {
   "cell_type": "markdown",
   "id": "6db86ad1",
   "metadata": {},
   "source": [
    "**Column wise Operation/Broadcasting**"
   ]
  },
  {
   "cell_type": "code",
   "execution_count": 145,
   "id": "156dd151",
   "metadata": {},
   "outputs": [
    {
     "name": "stdout",
     "output_type": "stream",
     "text": [
      "operands could not be broadcast together with shapes (3,4) (3,) \n",
      "operands could not be broadcast together with shapes (3,4) (3,)  beacuse b is a 1D array and 1d array can not be rotated. So first convert b to a 2d array.\n",
      "[[1. 1. 1. 1.]\n",
      " [2. 2. 2. 2.]\n",
      " [3. 3. 3. 3.]]\n"
     ]
    }
   ],
   "source": [
    "b = np.array([1,2,3])\n",
    "try: \n",
    "    arr4 + b\n",
    "except ValueError as e:\n",
    "    print(e)\n",
    "try:\n",
    "    arr4 + b.T\n",
    "except ValueError as e:\n",
    "    print(f'{e} beacuse b is a 1D array and 1d array can not be rotated. So first convert b to a 2d array.')\n",
    "finally:\n",
    "    print(arr4 + b.reshape((1,3)).T)"
   ]
  },
  {
   "cell_type": "code",
   "execution_count": null,
   "id": "0dc54812",
   "metadata": {},
   "outputs": [],
   "source": []
  },
  {
   "cell_type": "markdown",
   "id": "1f72a207",
   "metadata": {},
   "source": [
    "## Square Root, Log, Exponent, Max/Min calculation index wise using Numpy"
   ]
  },
  {
   "cell_type": "code",
   "execution_count": 147,
   "id": "0965826d",
   "metadata": {},
   "outputs": [
    {
     "data": {
      "text/plain": [
       "array([[6, 7, 6, 7],\n",
       "       [7, 7, 7, 2],\n",
       "       [5, 4, 8, 3],\n",
       "       [5, 2, 7, 7],\n",
       "       [4, 4, 8, 9]])"
      ]
     },
     "execution_count": 147,
     "metadata": {},
     "output_type": "execute_result"
    }
   ],
   "source": [
    "arr5 = np.random.randint(1,10,(5,4))\n",
    "arr5"
   ]
  },
  {
   "cell_type": "code",
   "execution_count": 148,
   "id": "f8d3d865",
   "metadata": {},
   "outputs": [
    {
     "data": {
      "text/plain": [
       "array([[2.44948974, 2.64575131, 2.44948974, 2.64575131],\n",
       "       [2.64575131, 2.64575131, 2.64575131, 1.41421356],\n",
       "       [2.23606798, 2.        , 2.82842712, 1.73205081],\n",
       "       [2.23606798, 1.41421356, 2.64575131, 2.64575131],\n",
       "       [2.        , 2.        , 2.82842712, 3.        ]])"
      ]
     },
     "execution_count": 148,
     "metadata": {},
     "output_type": "execute_result"
    }
   ],
   "source": [
    "np.sqrt(arr5)"
   ]
  },
  {
   "cell_type": "code",
   "execution_count": 149,
   "id": "9d2a8b47",
   "metadata": {},
   "outputs": [
    {
     "data": {
      "text/plain": [
       "array([[36, 49, 36, 49],\n",
       "       [49, 49, 49,  4],\n",
       "       [25, 16, 64,  9],\n",
       "       [25,  4, 49, 49],\n",
       "       [16, 16, 64, 81]])"
      ]
     },
     "execution_count": 149,
     "metadata": {},
     "output_type": "execute_result"
    }
   ],
   "source": [
    "np.square(arr5)"
   ]
  },
  {
   "cell_type": "code",
   "execution_count": 152,
   "id": "e5f8f6e3",
   "metadata": {},
   "outputs": [
    {
     "data": {
      "text/plain": [
       "array([[0.77815125, 0.84509804, 0.77815125, 0.84509804],\n",
       "       [0.84509804, 0.84509804, 0.84509804, 0.30103   ],\n",
       "       [0.69897   , 0.60205999, 0.90308999, 0.47712125],\n",
       "       [0.69897   , 0.30103   , 0.84509804, 0.84509804],\n",
       "       [0.60205999, 0.60205999, 0.90308999, 0.95424251]])"
      ]
     },
     "execution_count": 152,
     "metadata": {},
     "output_type": "execute_result"
    }
   ],
   "source": [
    "np.log10(arr5)"
   ]
  },
  {
   "cell_type": "code",
   "execution_count": 153,
   "id": "d0a47ec5",
   "metadata": {},
   "outputs": [
    {
     "data": {
      "text/plain": [
       "array([[4.03428793e+02, 1.09663316e+03, 4.03428793e+02, 1.09663316e+03],\n",
       "       [1.09663316e+03, 1.09663316e+03, 1.09663316e+03, 7.38905610e+00],\n",
       "       [1.48413159e+02, 5.45981500e+01, 2.98095799e+03, 2.00855369e+01],\n",
       "       [1.48413159e+02, 7.38905610e+00, 1.09663316e+03, 1.09663316e+03],\n",
       "       [5.45981500e+01, 5.45981500e+01, 2.98095799e+03, 8.10308393e+03]])"
      ]
     },
     "execution_count": 153,
     "metadata": {},
     "output_type": "execute_result"
    }
   ],
   "source": [
    "np.exp(arr5)"
   ]
  },
  {
   "cell_type": "code",
   "execution_count": 154,
   "id": "89a953af",
   "metadata": {},
   "outputs": [
    {
     "data": {
      "text/plain": [
       "9"
      ]
     },
     "execution_count": 154,
     "metadata": {},
     "output_type": "execute_result"
    }
   ],
   "source": [
    "np.max(arr5)"
   ]
  },
  {
   "cell_type": "code",
   "execution_count": 155,
   "id": "7b7c8766",
   "metadata": {},
   "outputs": [
    {
     "data": {
      "text/plain": [
       "2"
      ]
     },
     "execution_count": 155,
     "metadata": {},
     "output_type": "execute_result"
    }
   ],
   "source": [
    "np.min(arr5)"
   ]
  },
  {
   "cell_type": "code",
   "execution_count": null,
   "id": "2bacc95c",
   "metadata": {},
   "outputs": [],
   "source": []
  }
 ],
 "metadata": {
  "kernelspec": {
   "display_name": "Python 3 (ipykernel)",
   "language": "python",
   "name": "python3"
  },
  "language_info": {
   "codemirror_mode": {
    "name": "ipython",
    "version": 3
   },
   "file_extension": ".py",
   "mimetype": "text/x-python",
   "name": "python",
   "nbconvert_exporter": "python",
   "pygments_lexer": "ipython3",
   "version": "3.11.3"
  }
 },
 "nbformat": 4,
 "nbformat_minor": 5
}
