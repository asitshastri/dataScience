{
 "cells": [
  {
   "cell_type": "markdown",
   "id": "9073a1ba",
   "metadata": {},
   "source": [
    "# <a href=\"PDFs/Statistics/7_ march_Statistics_1_Measure_centeral_tendency_230511_155325.pdf\">Measure of Centeral Tendencies\n",
    "</a>"
   ]
  },
  {
   "cell_type": "code",
   "execution_count": 1,
   "id": "45becaed",
   "metadata": {},
   "outputs": [
    {
     "data": {
      "text/html": [
       "<embed src=\"PDFs/Statistics/7_ march_Statistics_1_Measure_centeral_tendency_230511_155325.pdf\" type=\"application/pdf\" width=\"100%\" height=\"600px\" />"
      ],
      "text/plain": [
       "<IPython.core.display.HTML object>"
      ]
     },
     "execution_count": 1,
     "metadata": {},
     "output_type": "execute_result"
    }
   ],
   "source": [
    "from customLib import viewpdf as view\n",
    "view.pdf(\"PDFs/Statistics/7_ march_Statistics_1_Measure_centeral_tendency_230511_155325.pdf\")"
   ]
  },
  {
   "cell_type": "markdown",
   "id": "8266f553",
   "metadata": {},
   "source": [
    "import numpy as np\n",
    "from scipy import stats #becuase numpy doesnot have mode method"
   ]
  },
  {
   "cell_type": "code",
   "execution_count": 4,
   "id": "297feb18",
   "metadata": {},
   "outputs": [
    {
     "name": "stdout",
     "output_type": "stream",
     "text": [
      "Mean: 16.8\n",
      "Median: 14.0\n",
      "module 'numpy' has no attribute 'mode'\n"
     ]
    }
   ],
   "source": [
    "age=[12,13,14,21,24]\n",
    "try:\n",
    "    print(f'Mean: {np.mean(age)}')\n",
    "    print(f'Median: {np.median(age)}')\n",
    "except:\n",
    "    print('Error')\n",
    "try:\n",
    "    print(f'Mode: {np.mode(age)}')\n",
    "except AttributeError as e:\n",
    "    print(e)"
   ]
  },
  {
   "cell_type": "code",
   "execution_count": 8,
   "id": "19bcb62d",
   "metadata": {},
   "outputs": [
    {
     "name": "stdout",
     "output_type": "stream",
     "text": [
      "Mean: 61.44444444444444\n",
      "Median: 55.0\n",
      "Mode: 45\n",
      "Mode Count: 2\n"
     ]
    },
    {
     "name": "stderr",
     "output_type": "stream",
     "text": [
      "C:\\Users\\Euphor\\AppData\\Local\\Temp\\ipykernel_15520\\3635510774.py:6: FutureWarning: Unlike other reduction functions (e.g. `skew`, `kurtosis`), the default behavior of `mode` typically preserves the axis it acts along. In SciPy 1.11.0, this behavior will change: the default value of `keepdims` will become False, the `axis` over which the statistic is taken will be eliminated, and the value None will no longer be accepted. Set `keepdims` to True or False to avoid this warning.\n",
      "  print(f'Mode: {stats.mode(weights)[0][0]}')\n",
      "C:\\Users\\Euphor\\AppData\\Local\\Temp\\ipykernel_15520\\3635510774.py:7: FutureWarning: Unlike other reduction functions (e.g. `skew`, `kurtosis`), the default behavior of `mode` typically preserves the axis it acts along. In SciPy 1.11.0, this behavior will change: the default value of `keepdims` will become False, the `axis` over which the statistic is taken will be eliminated, and the value None will no longer be accepted. Set `keepdims` to True or False to avoid this warning.\n",
      "  print(f'Mode Count: {stats.mode(weights)[1][0]}')\n"
     ]
    }
   ],
   "source": [
    "weights=[45,34,55,76,45,35,89,98,76]\n",
    "\n",
    "try:\n",
    "    print(f'Mean: {np.mean(weights)}')\n",
    "    print(f'Median: {np.median(weights)}')\n",
    "    print(f'Mode: {stats.mode(weights)[0][0]}')\n",
    "    print(f'Mode Count: {stats.mode(weights)[1][0]}')\n",
    "except:\n",
    "    print('Error')"
   ]
  },
  {
   "cell_type": "code",
   "execution_count": null,
   "id": "86540d95",
   "metadata": {},
   "outputs": [],
   "source": []
  }
 ],
 "metadata": {
  "kernelspec": {
   "display_name": "Python 3 (ipykernel)",
   "language": "python",
   "name": "python3"
  },
  "language_info": {
   "codemirror_mode": {
    "name": "ipython",
    "version": 3
   },
   "file_extension": ".py",
   "mimetype": "text/x-python",
   "name": "python",
   "nbconvert_exporter": "python",
   "pygments_lexer": "ipython3",
   "version": "3.11.3"
  }
 },
 "nbformat": 4,
 "nbformat_minor": 5
}
