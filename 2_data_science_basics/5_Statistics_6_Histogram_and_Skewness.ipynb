{
 "cells": [
  {
   "cell_type": "markdown",
   "id": "6efaf42e",
   "metadata": {},
   "source": [
    "# <a href='PDFs/7_ march_Statistics_6_Histogram_and_Skewness.pdf'>Histogram and Skewness</a>"
   ]
  },
  {
   "cell_type": "code",
   "execution_count": 1,
   "id": "d1f50bea",
   "metadata": {},
   "outputs": [
    {
     "data": {
      "text/html": [
       "<embed src=\"PDFs/7_ march_Statistics_6_Histogram_and_Skewness.pdf\" type=\"application/pdf\" width=\"100%\" height=\"600px\" />"
      ],
      "text/plain": [
       "<IPython.core.display.HTML object>"
      ]
     },
     "execution_count": 1,
     "metadata": {},
     "output_type": "execute_result"
    }
   ],
   "source": [
    "from customLib import viewpdf as view\n",
    "view.pdf('PDFs/7_ march_Statistics_6_Histogram_and_Skewness.pdf')"
   ]
  },
  {
   "cell_type": "code",
   "execution_count": null,
   "id": "d83ed05b",
   "metadata": {},
   "outputs": [],
   "source": []
  }
 ],
 "metadata": {
  "kernelspec": {
   "display_name": "Python 3 (ipykernel)",
   "language": "python",
   "name": "python3"
  },
  "language_info": {
   "codemirror_mode": {
    "name": "ipython",
    "version": 3
   },
   "file_extension": ".py",
   "mimetype": "text/x-python",
   "name": "python",
   "nbconvert_exporter": "python",
   "pygments_lexer": "ipython3",
   "version": "3.11.3"
  }
 },
 "nbformat": 4,
 "nbformat_minor": 5
}
